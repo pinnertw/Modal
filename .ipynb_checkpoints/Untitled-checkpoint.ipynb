{
 "cells": [
  {
   "cell_type": "code",
   "execution_count": 62,
   "metadata": {},
   "outputs": [],
   "source": [
    "import numpy as np\n",
    "import matplotlib.pyplot as plt\n",
    "import scipy.stats as sps\n",
    "\n",
    "# Méthode 2 - Mouvement brownien\n",
    "def brownien(N,T,M,lamb,alpha,m):\n",
    "    sigma_inf = lamb\n",
    "    if m==1:\n",
    "        sigma_inf *=(1+alpha)/(1-alpha)\n",
    "    else:\n",
    "        sigma_inf *= (5./9.+25./9.*(1+alpha)/(1-alpha))\n",
    "    mvt_bro = np.random.normal(loc=0,scale=1,size=(M,N))\n",
    "    P_discret = P0+ np.sqrt(sigma_inf*T/N)*np.cumsum(mvt_bro,axis=1)\n",
    "    return np.sum(np.any(P_discret < 0, axis=1))"
   ]
  },
  {
   "cell_type": "code",
   "execution_count": 63,
   "metadata": {},
   "outputs": [
    {
     "data": {
      "application/vnd.jupyter.widget-view+json": {
       "model_id": "0dbed2d26921435a8941ea5be78c687a",
       "version_major": 2,
       "version_minor": 0
      },
      "text/plain": [
       "HBox(children=(FloatProgress(value=0.0, max=10.0), HTML(value='')))"
      ]
     },
     "metadata": {},
     "output_type": "display_data"
    },
    {
     "name": "stdout",
     "output_type": "stream",
     "text": [
      "\n",
      "0.0\n",
      "CPU times: user 22.1 s, sys: 4.56 s, total: 26.7 s\n",
      "Wall time: 37.9 s\n"
     ]
    }
   ],
   "source": [
    "%%time\n",
    "M1 = int(1e5)\n",
    "M2 = int(10)\n",
    "m=3\n",
    "N=int(1000)\n",
    "T = 8*250*60*60\n",
    "lamb = 1/300\n",
    "P0=1000\n",
    "alpha=-0.875\n",
    "\n",
    "proba_negatif = 0\n",
    "from tqdm.notebook import tqdm\n",
    "for i in tqdm(range(M2)):\n",
    "    proba_negatif+=brownien(N,T,M1,lamb,alpha,m)\n",
    "print(proba_negatif / M1 / M2)"
   ]
  },
  {
   "cell_type": "code",
   "execution_count": 3,
   "metadata": {},
   "outputs": [
    {
     "data": {
      "application/vnd.jupyter.widget-view+json": {
       "model_id": "7b260da408b74febadc89f7403e9f37c",
       "version_major": 2,
       "version_minor": 0
      },
      "text/plain": [
       "HBox(children=(FloatProgress(value=0.0, max=1000.0), HTML(value='')))"
      ]
     },
     "metadata": {},
     "output_type": "display_data"
    },
    {
     "name": "stdout",
     "output_type": "stream",
     "text": [
      "\n",
      "12.1351308\n",
      "CPU times: user 6h 30min 48s, sys: 45min 13s, total: 7h 16min 2s\n",
      "Wall time: 8h 10min 43s\n"
     ]
    }
   ],
   "source": [
    "%%time\n",
    "M = int(1e6)\n",
    "m=3\n",
    "N=int(1000)\n",
    "T = 8*250*24*60*60\n",
    "lamb = 1/300\n",
    "P0=1000\n",
    "alpha=-0.875\n",
    "\n",
    "proba_negatif = 0\n",
    "from tqdm.notebook import tqdm\n",
    "for i in tqdm(range(1000)):\n",
    "    proba_negatif+=brownien(N,T,M,lamb,alpha,m)\n",
    "print(proba_negatif / int(1e7))"
   ]
  }
 ],
 "metadata": {
  "kernelspec": {
   "display_name": "Python 3",
   "language": "python",
   "name": "python3"
  },
  "language_info": {
   "codemirror_mode": {
    "name": "ipython",
    "version": 3
   },
   "file_extension": ".py",
   "mimetype": "text/x-python",
   "name": "python",
   "nbconvert_exporter": "python",
   "pygments_lexer": "ipython3",
   "version": "3.7.6"
  }
 },
 "nbformat": 4,
 "nbformat_minor": 4
}
