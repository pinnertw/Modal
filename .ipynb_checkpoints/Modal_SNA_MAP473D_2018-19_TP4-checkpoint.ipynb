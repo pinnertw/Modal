{
 "cells": [
  {
   "cell_type": "markdown",
   "metadata": {},
   "source": [
    "### Modal SNA MAP473D, Ecole Polytechnique, 2018-19"
   ]
  },
  {
   "cell_type": "markdown",
   "metadata": {},
   "source": [
    "***\n",
    "**Soumission du TP pour évaluation :** \n",
    "- Remplir ce notebook et déposer sur le moodle le fichier notebook \".ipynb\" ainsi qu'une sauvegarde (export) au format \".html\".\n",
    "- Les réponses aux questions théoriques peuvent être saisies (en latex) dans le notebook ou bien être rendues sur feuille libre avant 17h45 aux enseignants. \n",
    "- Les dépots sur le moodle doivent se faire le vendredi 5 avril avant 20h. \n",
    "***"
   ]
  },
  {
   "cell_type": "markdown",
   "metadata": {},
   "source": [
    "**Noms du binôme :** _A REMPLIR_"
   ]
  },
  {
   "cell_type": "markdown",
   "metadata": {},
   "source": [
    "# TP4 - Processus de Poisson composés, transformation de Esscher, splitting et MCMC"
   ]
  },
  {
   "cell_type": "markdown",
   "metadata": {},
   "source": [
    "Quelques rappels en python :\n",
    "\n",
    "- `random.exponential` du module `numpy`. Pour la simulation de v.a. exponentielles. Attention à la convention sur les paramètres.\n",
    "- `random.poisson` du module `numpy`. Pour la simulation de v.a. de Poisson.\n",
    "- `random.standard_cauchy` du module `numpy`. Pour la simulation de v.a. de Cauchy standard.\n",
    "- `cumsum` du module `numpy`.  Pour le calcul de la somme cumulée des éléments d'un tableau.\n",
    "- `sort` du module `numpy`. Pour ordonner les éléments d'un tableau.\n",
    "- `stem` du module `matplotlib.pyplot`. Pour tracer des barres verticales.\n",
    "- `boxplot` du module `matplotlib.pyplot`. Pour tracer des boîtes à moustache (boxplot).\n",
    "\n",
    "Représentation d'un array `numpy` par un boxplot :  affichage d'une boîte rectangulaire délimitée par les premiers et derniers quartiles ; la\n",
    "  barre (rouge) du milieu donne la médiane ; les \"moustaches\" vont jusqu'à la\n",
    "  valeur la plus extrême dans la limite de 1.5 fois la hauteur de la boîte ;\n",
    "  les points de l'échantillon au-delà des moustaches sont représentés par des \"+\".\n",
    "\n",
    "\n",
    "\n",
    "\n",
    "## 1. Processus  de Poisson homogènes et composés"
   ]
  },
  {
   "cell_type": "markdown",
   "metadata": {},
   "source": [
    "### 1.1. Rappels : Processus de Poisson\n",
    "\n",
    "\n",
    "Soit $\\lambda >0$.\n",
    "Un processus de Poisson homogène de paramètre $\\lambda$ est un processus\n",
    "$(N_t)_{t\\geq 0}$ issu de $0$, à accroissement indépendants, tel que pour tout\n",
    "$0 \\leq s < t$, $N_t-N_s$ suit une loi de Poisson de paramètre $\\lambda(t-s)$.\n",
    "\n",
    "Ce processus peut être obtenu en posant\n",
    "$$N_t = \\textrm{Card}\\{k\\geq 1~: T_k\\leq t\\} = \\sum_{k \\geq 1} \\mathbf{1}_{T_k \\leq t}$$\n",
    "où $T_k = T_{k-1} + E_k = E_1 + \\cdots + E_k$,  pour des v.a. $(E_i)_{i \\geq 1}$ i.i.d. de loi exponentielle de paramètre $\\lambda$, et par convention $T_0 =0$.\n",
    "\n",
    "Soit $\\lambda >0$ et $\\nu$ une loi de probabilité sur $\\mathbb{R}$. Un processus\n",
    "  de Poisson composé de paramètres $(\\lambda, \\nu)$ est un processus $(X_t)_{t\\geq\n",
    "  0}$ défini par\n",
    "$$X_t = \\sum_{k=1}^{N_t} Y_k,$$\n",
    "où les sauts $(Y_k)_{k \\geq 1}$ sont des v.a. réelles i.i.d. de loi $\\nu$\n",
    "indépendantes de $(N_t)_{t \\geq 0}$, processus de Poisson homogène de paramètre\n",
    "$\\lambda$.\n"
   ]
  },
  {
   "cell_type": "markdown",
   "metadata": {},
   "source": [
    "#### 1.2. Simulations d'un processus  de Poisson homogène\n",
    "\n",
    "##### Simulation d'une trajectoire sur $[0,T_n]$, $n$ fixé \n",
    "Utiliser le fait que \n",
    "$$N_t = \\begin{cases}0&\\textrm{pour $t\\in [0, T_1[$,}\\\\\n",
    "  1&\\textrm{pour $t\\in [T_1, T_2[$,}\\\\\n",
    "  2&\\textrm{pour $t\\in [T_2, T_3[$,}\\\\\n",
    "  \\vdots &\\quad\\vdots\\end{cases}$$\n",
    "et que les instants de sauts $(T_k)_{1\n",
    "  \\leq k \\leq n}$ s'expriment à l'aide de tirages de la loi exponentielle. "
   ]
  },
  {
   "cell_type": "markdown",
   "metadata": {},
   "source": [
    "#####  Simulation d'une trajectoire sur $[0,T]$, $T$ fixé \n",
    "Utiliser la loi de $N_T$ puis le fait que, conditionnellement à l'événement $\\{N_T = k \\}$, la loi des instants de sauts $(T_1, \\cdots, T_k)$ est la loi de $k$ v.a. uniformes sur $[0,T]$ réordonnées (cf. cours). Pour l'affichage d'une fonction en escalier, on pourra utiliser la fonction `step` de `matplotlib.pyplot` (nous vous conseillons de consulter la documentation de cette fonction, notamment pour comprendre le rôle de son argument \"`where`\").  \n",
    "\n",
    "##### Question 1\n",
    "En utilisant ces deux approches, simuler et tracer une trajectoire d'un processus de Poisson homogène jusqu'à l'instant $T_n$ (pour $n\\ge 1$ fixé) puis jusqu'à l'instant $T$ (pour $T>0$ fixé). "
   ]
  },
  {
   "cell_type": "code",
   "execution_count": 1,
   "metadata": {},
   "outputs": [],
   "source": [
    "import numpy as np\n",
    "import scipy.stats as stats\n",
    "import matplotlib.pyplot as plt\n",
    "%matplotlib inline"
   ]
  },
  {
   "cell_type": "code",
   "execution_count": 8,
   "metadata": {},
   "outputs": [
    {
     "name": "stdout",
     "output_type": "stream",
     "text": [
      "Trajectoire jusqu'à l'instant T_n, n fixé : \n"
     ]
    },
    {
     "data": {
      "image/png": "[encoded data removed]",
      "text/plain": [
       "<Figure size 432x288 with 1 Axes>"
      ]
     },
     "metadata": {
      "needs_background": "light"
     },
     "output_type": "display_data"
    },
    {
     "name": "stdout",
     "output_type": "stream",
     "text": [
      "Trajectoire jusqu'à l'instant T, T fixé :\n"
     ]
    },
    {
     "data": {
      "image/png": "[encoded data removed]",
      "text/plain": [
       "<Figure size 432x288 with 1 Axes>"
      ]
     },
     "metadata": {
      "needs_background": "light"
     },
     "output_type": "display_data"
    }
   ],
   "source": [
    "print(\"Trajectoire jusqu'à l'instant T_n, n fixé : \")\n",
    "\n",
    "n = 15\n",
    "lbda = 1.\n",
    "\n",
    "liste_T = np.zeros(n+1)\n",
    "\n",
    "for i in range(1,n+1):\n",
    "    liste_T[i] = liste_T[i-1] + np.random.exponential(1/lbda)\n",
    "\n",
    "\n",
    "plt.step(liste_T,np.arange(n+1),where = 'post')\n",
    "plt.show()\n",
    "\n",
    "\n",
    "print(\"Trajectoire jusqu'à l'instant T, T fixé :\")\n",
    "\n",
    "T = 15\n",
    "plt.figure()\n",
    "\n",
    "N = np.random.poisson(lbda*T)\n",
    "liste_sauts = np.random.uniform(low = 0, high = T, size = N)\n",
    "\n",
    "liste_sauts_triee = np.sort(liste_sauts)\n",
    "liste_T = np.concatenate((np.array([0]),liste_sauts_triee))\n",
    "plt.step(liste_T,np.arange(N+1),where = 'post')\n",
    "plt.show()\n"
   ]
  },
  {
   "cell_type": "markdown",
   "metadata": {},
   "source": [
    "##### Question 2  \n",
    "Adapter le code précédent pour tracer la trajectoire d'un processus de Poisson composé ; pour la loi des sauts $(Y_k)_{k\\ge 1}$, on envisagera successivement une loi exponentielle, puis la loi de la valeur absolue d'une v.a. de Cauchy.  Quelle différence remarque-t-on dans la régularité de l'amplitude des sauts ? "
   ]
  },
  {
   "cell_type": "code",
   "execution_count": 11,
   "metadata": {},
   "outputs": [
    {
     "name": "stdout",
     "output_type": "stream",
     "text": [
      "***Sauts qui suivent une loi exponentielle***\n",
      "\n",
      "Trajectoire jusqu'à l'instant T_n, n fixé : \n"
     ]
    },
    {
     "data": {
      "image/png": "[encoded data removed]",
      "text/plain": [
       "<Figure size 432x288 with 1 Axes>"
      ]
     },
     "metadata": {
      "needs_background": "light"
     },
     "output_type": "display_data"
    },
    {
     "name": "stdout",
     "output_type": "stream",
     "text": [
      "Trajectoire jusqu'à l'instant T, T fixé :\n"
     ]
    },
    {
     "data": {
      "image/png": "[encoded data removed]",
      "text/plain": [
       "<Figure size 432x288 with 1 Axes>"
      ]
     },
     "metadata": {
      "needs_background": "light"
     },
     "output_type": "display_data"
    },
    {
     "name": "stdout",
     "output_type": "stream",
     "text": [
      "***Sauts dont la valeur absolue suit la loi de Cauchy***\n",
      "\n",
      "Trajectoire jusqu'à l'instant T_n, n fixé : \n"
     ]
    },
    {
     "data": {
      "image/png": "[encoded data removed]",
      "text/plain": [
       "<Figure size 432x288 with 1 Axes>"
      ]
     },
     "metadata": {
      "needs_background": "light"
     },
     "output_type": "display_data"
    },
    {
     "name": "stdout",
     "output_type": "stream",
     "text": [
      "Trajectoire jusqu'à l'instant T, T fixé :\n"
     ]
    },
    {
     "data": {
      "image/png": "[encoded data removed]",
      "text/plain": [
       "<Figure size 432x288 with 1 Axes>"
      ]
     },
     "metadata": {
      "needs_background": "light"
     },
     "output_type": "display_data"
    },
    {
     "name": "stdout",
     "output_type": "stream",
     "text": [
      "L'amplitude des sauts est plus variable avec les variables de Cauchy qu'avec les variables exponentielles\n"
     ]
    }
   ],
   "source": [
    "print(\"***Sauts qui suivent une loi exponentielle***\")\n",
    "print(\"\")\n",
    "print(\"Trajectoire jusqu'à l'instant T_n, n fixé : \")\n",
    "\n",
    "\n",
    "liste_T = np.zeros(n+1)\n",
    "\n",
    "for i in range(1,n+1):\n",
    "    liste_T[i] = liste_T[i-1] + np.random.exponential(1/lbda)\n",
    "\n",
    "liste_Y = np.zeros(n+1)\n",
    "\n",
    "for i in range(1,n+1):\n",
    "    liste_Y[i] = liste_Y[i-1] + np.random.exponential(scale=1) #on choisit une exponentielle de paramètre 1\n",
    "\n",
    "plt.step(liste_T,liste_Y,where = 'post')\n",
    "plt.show()\n",
    "\n",
    "print(\"Trajectoire jusqu'à l'instant T, T fixé :\")\n",
    "\n",
    "plt.figure()\n",
    "\n",
    "N = np.random.poisson(lbda*T)\n",
    "liste_sauts = np.random.uniform(low = 0, high = T, size = N)\n",
    "\n",
    "liste_sauts_triee = np.sort(liste_sauts)\n",
    "liste_T = np.concatenate((np.array([0]),liste_sauts_triee))\n",
    "\n",
    "liste_Y = np.zeros(N+1)\n",
    "\n",
    "for i in range(1,N+1):\n",
    "    liste_Y[i] = liste_Y[i-1] + np.random.exponential(scale=1)\n",
    "\n",
    "\n",
    "plt.step(liste_T,liste_Y,where = 'post')\n",
    "plt.show()\n",
    "\n",
    "\n",
    "print(\"***Sauts dont la valeur absolue suit la loi de Cauchy***\")\n",
    "print(\"\")\n",
    "print(\"Trajectoire jusqu'à l'instant T_n, n fixé : \")\n",
    "\n",
    "\n",
    "liste_T = np.zeros(n+1)\n",
    "\n",
    "for i in range(1,n+1):\n",
    "    liste_T[i] = liste_T[i-1] + np.random.exponential(1/lbda)\n",
    "\n",
    "liste_Y = np.zeros(n+1)\n",
    "\n",
    "for i in range(1,n+1):\n",
    "    liste_Y[i] = liste_Y[i-1] + np.abs(np.random.standard_cauchy())\n",
    "\n",
    "plt.step(liste_T,liste_Y,where = 'post')\n",
    "plt.show()\n",
    "\n",
    "print(\"Trajectoire jusqu'à l'instant T, T fixé :\")\n",
    "\n",
    "plt.figure()\n",
    "\n",
    "N = np.random.poisson(lbda*T)\n",
    "liste_sauts = np.random.uniform(low = 0, high = T, size = N)\n",
    "\n",
    "liste_sauts_triee = np.sort(liste_sauts)\n",
    "liste_T = np.concatenate((np.array([0]),liste_sauts_triee))\n",
    "\n",
    "liste_Y = np.zeros(N+1)\n",
    "\n",
    "for i in range(1,N+1):\n",
    "    liste_Y[i] = liste_Y[i-1] + np.abs(np.random.standard_cauchy())\n",
    "\n",
    "\n",
    "plt.step(liste_T,liste_Y,where = 'post')\n",
    "plt.show()\n",
    "\n",
    "print(\"L'amplitude des sauts est plus variable avec les variables de Cauchy qu'avec les variables exponentielles\")"
   ]
  },
  {
   "cell_type": "markdown",
   "metadata": {},
   "source": [
    "  \n",
    "## 2. Changement de probabilité pour les processus de Poisson  \n",
    "\n",
    "Soient $\\lambda >0$, $\\nu$ une loi de probabilité sur $\\mathbb{R}$, des v.a. réelles\n",
    "  $(Y_k)_{k \\geq 1}$ et un processus $(N_t)_{t \\geq 0}$ définis sur l'espace\n",
    "  probabilisable $(\\Omega, \\mathcal{F})$. On munit cet espace de la probabilité\n",
    "  $\\mathbb{P}$ telle que sous $\\mathbb{P}$, les v.a. $(Y_k)_{k \\geq 1}$ sont i.i.d. de loi\n",
    "  $\\nu$ et indépendantes de $(N_t)_{t \\geq 0}$, processus de Poisson homogène\n",
    "  de paramètre $\\lambda$.  Notons\n",
    " $$X_t = \\sum_{k=1}^{N_t} Y_k.$$\n",
    "  D'après la Section 1, sous $\\mathbb{P}$, $(X_t)_{t \\geq 0}$\n",
    "  est un processus de Poisson composé de paramètres $(\\lambda, \\nu)$. Dans la\n",
    "  suite, $\\mathbb{E}$ et $\\mathbb{V}$ désignent respectivement l'espérance et la variance sous $\\mathbb{P}$.\n",
    "  \n",
    "  \n",
    " ### 2.1. Rappel de cours : la transformation de Esscher\n",
    " À toute fonction mesurable $f: \\mathbb{R} \\to \\mathbb{R}$ telle que $ \\mathbb{E}\\left[ \\exp(f(Y_1)) \\right]< \\infty$, on associe une loi de probabilité $\\mathbb{P}_f$ sur\n",
    "  $(\\Omega, \\mathcal{F})$ définie par\n",
    "$$\\mathbb{P}_f (A)=\\mathbb{E}\\left[ \\mathbf{1}_A \\ \\exp\\left\\{ \\sum_{k=1}^{N_T} f(Y_k) - \\lambda T \\left(  \\mathbb{E}\\left[ \\exp(f(Y_1)) \\right]-1 \\right) \\right\\} \\right] \\qquad\\qquad\\qquad (1)$$\n",
    "pour tout $A \\in \\mathcal{F}_T= \\sigma\\left(X_s, s \\leq T \\right)$.  Sous $\\mathbb{P}_f$, $(X_t)_{t\\geq 0 }$ est encore un processus de Poisson composé, mais de paramètres $(\\lambda^f, \\nu^f)$ donnés par\n",
    "  $$\\lambda^f = \\lambda \\, \\mathbb{E} \\left[ \\exp(f(Y_1))\\right], \\qquad \\nu^f(dy)=\\frac{\\exp(f(y))}{\\mathbb{E}\\left[ \\exp(f(Y_1)) \\right]} \\, \\nu(dy).$$\n",
    "  "
   ]
  },
  {
   "cell_type": "markdown",
   "metadata": {},
   "source": [
    "__Rqp:__ C'est un changement de probabilité avec L qui vaut:\n",
    "\n",
    "$$L_T(X_T) = exp\\Big[X_T(f) - \\int_{\\mathbb{R}} (e^{f(y)}-1) \\, \\lambda T \\nu(dy) \\Big] = exp\\Big[\\sum_{k=1}^{N_T} f(Y_k) - \\lambda T \\, (\\mathbb{E}[e^{f(Y)}]-1) \\Big]$$"
   ]
  },
  {
   "cell_type": "markdown",
   "metadata": {},
   "source": [
    "  \n",
    "\n",
    "  \n",
    "  ### 2.2. Cas de sauts constants\n",
    "  Dans cette section, on s'intéresse au calcul de $\\mathbb{P}(X_T >x)$ pour des grandes valeurs $x$ dans le cas où $\\nu$ est la mesure de Dirac en $\\alpha$, $\\alpha \\in \\mathbb{R}$ : $\\mathbb{P}(Y_1 =\\alpha) =1$. On a donc $X_t = \\alpha \\,  N_t$ pour tout $t\\geq 0$. Dans toute la suite, pour $\\theta \\in \\mathbb{R}$, on notera respectivement  $\\mathbb{P}_\\theta,\n",
    " \\nu^\\theta, \\lambda^\\theta$ les quantités $\\mathbb{P}_f, \\nu^f, \\lambda^f$\n",
    " introduites en Section 2.1 lorsque $f: y \\mapsto \\theta y$. Enfin,\n",
    " $\\mathbb{E}_\\theta$ est l'espérance sous $\\mathbb{P}_\\theta$.\n",
    "\n",
    "##### Question 3 \n",
    "Pour $\\theta \\in \\mathbb{R}$, calculer la fonction log-laplace $\\Gamma_T(\\theta)$\n",
    "    associée à $X_T$, définie par \n",
    "$$\\Gamma_T(\\theta)=\\log\\mathbb{E}[\\exp({\\theta X_T})].$$ \n",
    "En déduire l'espérance et la variance de $X_T$ sous $\\mathbb{P}$."
   ]
  },
  {
   "cell_type": "markdown",
   "metadata": {},
   "source": [
    "##### _Réponse :_"
   ]
  },
  {
   "cell_type": "markdown",
   "metadata": {},
   "source": [
    "$$\\Gamma_T(\\theta) = log \\, \\mathbb{E} [exp(\\theta X_T)] = log \\, \\Big[ \\sum_{k=0}^{+\\infty}  exp(\\theta \\alpha k) \\, e^{-\\lambda T} \\dfrac{(\\lambda T)^k}{k!} \\Big]\n",
    "= log \\, \\Big[e^{-\\lambda T} \\, \\sum_{k=0}^{+\\infty}   \\dfrac{(\\lambda T \\, exp(\\theta \\alpha))^k}{k!} \\Big]$$\n",
    "\n",
    "$$ = log \\Big[ exp(\\lambda t \\times (exp(\\theta \\alpha) - 1))\\Big] \n",
    "= \\lambda t (e^{\\theta \\alpha} -1)$$"
   ]
  },
  {
   "cell_type": "markdown",
   "metadata": {},
   "source": [
    "Or $\\mathbb{E}[X_T] = \\Gamma_T'(0)$ donc $\\mathbb{E}[X_T] = \\lambda T \\alpha$\n",
    "\n",
    "D'autre part, $Var[X_T] = \\Gamma_T''(0)$ donc $Var[X_T] = \\lambda T \\alpha^2$"
   ]
  },
  {
   "cell_type": "markdown",
   "metadata": {},
   "source": [
    "##### Question 4  \n",
    "Exprimer le changement de loi (1) à l'aide de $X_T, \\theta$ et $\\Gamma_T(\\theta)$. Quelle est la loi de $(X_t)_{t \\geq 0}$ sous $\\mathbb{P}_\\theta$, pour $\\theta \\in \\mathbb{R}$ ? "
   ]
  },
  {
   "cell_type": "markdown",
   "metadata": {},
   "source": [
    "##### _Réponse :_"
   ]
  },
  {
   "cell_type": "markdown",
   "metadata": {},
   "source": [
    "La loi $\\mathbb{P}_\\theta$ a pour densité $L_\\theta(X_T)$ par rapport à $\\mathbb{P}$, où :\n",
    "\n",
    "$$L_\\theta(X_T) = exp\\Big[X_T(f) - \\int_{\\mathbb{R}} (e^{f(y)}-1) \\, \\lambda T \\nu(dy) \\Big] = exp\\Big[\\sum_{k=1}^{N_T} f(Y_k) - \\lambda T \\, (\\mathbb{E}[e^{f(Y)}]-1) \\Big]$$"
   ]
  },
  {
   "cell_type": "markdown",
   "metadata": {},
   "source": [
    "$$= exp \\Big[ \\alpha \\theta N_T - \\lambda T \\, (e^{\\theta \\alpha}-1)\\Big]$$\n",
    "\n",
    "(car $f(y) = \\theta y$)\n",
    "\n",
    "$$= exp \\Big[ \\theta X_T - \\Gamma_T(\\theta) \\Big]$$"
   ]
  },
  {
   "cell_type": "markdown",
   "metadata": {},
   "source": [
    "$X_t$ sous $P_\\theta$ est encore un processus de Poisson composé, de paramètres $(\\lambda^\\theta, \\nu^\\theta)$ donnés par\n",
    "  $$\\lambda^\\theta = \\lambda \\, \\mathbb{E} \\left[ \\exp(\\theta Y_1)\\right] , \\qquad \\nu^\\theta(dy)=\\frac{\\exp(\\theta y)}{\\mathbb{E}\\left[ \\exp(\\theta Y_1) \\right]} \\, \\nu(dy).$$\n",
    "  \n",
    "\n",
    "Donc $\\lambda^\\theta = \\lambda \\, e^{\\theta \\alpha}$ et $\\nu_\\theta = \\nu = \\delta_\\alpha$"
   ]
  },
  {
   "cell_type": "markdown",
   "metadata": {},
   "source": [
    "##### Question 5 \n",
    "Soit $\\theta \\in \\mathbb{R}, T >0$. En déduire l'expression d'une v.a.\n",
    "  $L_{\\theta,T}$ telle que pour toute fonction mesurable positive $g :\\mathbb{R} \\rightarrow \\mathbb{R}_{+}$ on a\n",
    "$$\\mathbb{E}\\left[ g(X_T) \\right] = \\mathbb{E}_\\theta \\left[ g(X_T) \\frac{1}{L_{\\theta,T}}\\right] \\qquad\\qquad\\qquad (2)$$"
   ]
  },
  {
   "cell_type": "markdown",
   "metadata": {},
   "source": [
    "##### _Réponse :_"
   ]
  },
  {
   "cell_type": "markdown",
   "metadata": {},
   "source": [
    "$$L_{\\theta,T} = exp \\, ( \\theta X_T - \\Gamma_T(\\theta))$$\n",
    "\n",
    "où $\\Gamma_T(\\theta) = \\lambda T \\, (e^{\\theta \\alpha}-1)$"
   ]
  },
  {
   "cell_type": "markdown",
   "metadata": {},
   "source": [
    "##### Question 6\n",
    "Les valeurs de $x$ qui rendront l'événement $\\{X_T>x\\}$ rare sous $\\mathbb{P}$\n",
    "  seront de la forme\n",
    "$$x=\\mathbb{E}[X_T]+\\rho\\sqrt{\\mathbb{V}(X_T)}, \\qquad\\qquad\\qquad (3)$$\n",
    "pour $\\rho>0$ grand. Pour $x>\\mathbb{E}[X_T]$, résoudre l'équation $\\Gamma'_T(\\theta)=x$ sur $\\mathbb{R}$. On notera $\\theta_x$ cette solution."
   ]
  },
  {
   "cell_type": "markdown",
   "metadata": {},
   "source": [
    "##### _Réponse :_"
   ]
  },
  {
   "cell_type": "markdown",
   "metadata": {},
   "source": [
    "$$\\Gamma_T'(\\theta) = \\lambda T \\, \\alpha  \\, e^{\\theta \\alpha}$$"
   ]
  },
  {
   "cell_type": "markdown",
   "metadata": {},
   "source": [
    "Donc : $$\\theta_x = \\dfrac{ln(\\dfrac{x}{\\lambda T \\alpha})}{\\alpha}$$"
   ]
  },
  {
   "cell_type": "markdown",
   "metadata": {},
   "source": [
    "  \n",
    "Remarque : tous les calculs précédents montrent que, quitte à changer $\\lambda$ en $\\lambda T$, on peut supposer que $T=1$.\n",
    "  \n",
    "\n",
    "### 2.3. Application\n",
    "Les processus de Poisson composés sont souvent utilisés pour modéliser l'état de la comptabilité des compagnies d'assurance. En effet, si une compagnie d'assurance de capital initial $C$ reçoit à chaque unité de temps des cotisations d'une valeur de $\\Lambda$ et doit\n",
    "effectuer des dédommagements de loi $\\nu$ répartis dans le temps selon un processus de Poisson d'intensité $\\lambda$, alors ses liquidités, à toute date $t$,\n",
    "sont données par $$C+\\Lambda t-X_t,$$\n",
    "où $X_t$ est un processus de Poisson composé d'intensité $\\lambda$ et de sauts de loi $\\nu$. Afin d'éviter le risque de faillite, la compagnie d'assurance est alors amenée à évaluer $\\mathbb{P}(X_T>x)$ pour des valeurs de $x$ élevées."
   ]
  },
  {
   "cell_type": "markdown",
   "metadata": {},
   "source": [
    "##### Question 7  \n",
    "Comparer la méthode de Monte Carlo naïve et la méthode d'échantillonnage d'importance issue de la relation (2) lorsque $\\theta = \\theta_x$ : observer la consistance des estimateurs et donner un intervalle de confiance asymptotique de la quantité $\\mathbb{P}(X_T>x)$. On prendra $T=1$, $\\lambda=1$, $\\nu= \\delta_\\alpha$ pour $\\alpha =0.5$ et $x$ donné par (3) pour $\\rho =1$, $\\rho=5$ puis $\\rho =20$."
   ]
  },
  {
   "cell_type": "code",
   "execution_count": 3,
   "metadata": {},
   "outputs": [
    {
     "name": "stdout",
     "output_type": "stream",
     "text": [
      "***\n",
      "\n",
      "rho =  1\n",
      "Probabilité estimée par la méthode de Monte Carlo naïve : 0.07961 +/- 0.001677744520279056\n",
      "Probabilité estimée par échantillonnage d'importance : 0.0807257764148478 +/- 0.0008166974888728128\n",
      "Probabilité théorique :  0.08030139707139416\n",
      "***\n",
      "\n",
      "rho =  5\n",
      "Probabilité estimée par la méthode de Monte Carlo naïve : 0.00013 +/- 7.066421137747169e-05\n",
      "Probabilité estimée par échantillonnage d'importance : 8.288459587595406e-05 +/- 1.1177304977721422e-06\n",
      "Probabilité théorique :  8.324114928803805e-05\n",
      "***\n",
      "\n",
      "rho =  20\n",
      "Probabilité estimée par la méthode de Monte Carlo naïve : 0.0 +/- 0.0\n",
      "Probabilité estimée par échantillonnage d'importance : 3.4276933562581007e-22 +/- 6.736965488434093e-24\n",
      "Probabilité théorique :  0.0\n"
     ]
    }
   ],
   "source": [
    "T = 1\n",
    "lbda = 1\n",
    "alpha = 0.5\n",
    "esperance_X_T = lbda * T * alpha\n",
    "variance_X_T = lbda * T * alpha**2\n",
    "N = int(1e5)\n",
    "\n",
    "for rho in [1,5,20]:\n",
    "    \n",
    "    print(\"***\")\n",
    "    print(\"\")\n",
    "    print(\"rho = \",rho)\n",
    "    x = esperance_X_T + rho* np.sqrt(variance_X_T)\n",
    "\n",
    "    #MONTE CARLO NAIVE\n",
    "    liste_N_T = np.random.poisson(lbda*T,size = N)\n",
    "\n",
    "    liste_X_T = liste_N_T * alpha\n",
    "\n",
    "    proba_MC = np.mean(liste_X_T> x)\n",
    "    \n",
    "    R_IC_MC = 1.96 * np.sqrt(proba_MC*(1-proba_MC)/N)\n",
    "    print(\"Probabilité estimée par la méthode de Monte Carlo naïve : {} +/- {}\".format(proba_MC,R_IC_MC))\n",
    "\n",
    "\n",
    "    #ECHANTILLONNAGE D'IMPORTANCE\n",
    "\n",
    "    theta_x = np.log(x/(lbda*T*alpha))/alpha\n",
    "    lbda_theta = lbda * np.exp(theta_x*alpha)\n",
    "\n",
    "    liste_N_T = np.random.poisson(lbda_theta*T, size = N) \n",
    "    liste_X_T = alpha* liste_N_T \n",
    "\n",
    "    proba_echant_imp = np.sum(np.exp(lbda*T*(np.exp(theta_x*alpha)-1)- theta_x *liste_X_T)[liste_X_T > x])/N\n",
    "    \n",
    "    variance_empirique =  np.sum(np.exp(2*lbda*T*(np.exp(theta_x*alpha)-1)- 2*theta_x *liste_X_T)[liste_X_T > x])/N - proba_echant_imp**2\n",
    "    R_IC_EI = 1.96 * np.sqrt(variance_empirique/N)\n",
    "    print(\"Probabilité estimée par échantillonnage d'importance : {} +/- {}\".format(proba_echant_imp,R_IC_EI))\n",
    "\n",
    "    proba_th = 1-stats.poisson.cdf(int(x/alpha),mu = lbda*T)\n",
    "    print(\"Probabilité théorique : \", proba_th)"
   ]
  },
  {
   "cell_type": "markdown",
   "metadata": {},
   "source": [
    "## 3. Méthode de splitting et Processus de Poisson\n",
    "\n",
    "### 3.1. Rappels de cours : méthode de splitting via MCMC"
   ]
  },
  {
   "cell_type": "markdown",
   "metadata": {},
   "source": [
    "Soit $\\mathbf{N} = (N_t)_{t \\geq 0}$ un processus de Poisson homogène de paramètre $\\lambda\n",
    "$. Pour calculer la probabilité d'un événement rare de la forme $ \\{ \\Phi(\\mathbf{N})\n",
    "\\leq a \\}$ où $\\Phi(\\mathbf{N})$ désigne une fonctionnelle de la trajectoire du\n",
    "processus de Poisson $(N_t)_{t \\geq 0}$, la méthode de splitting consiste à\n",
    "- choisir $K$ seuils: $a = a_K < \\cdots < a_2 < a_1 < a_0 = +\\infty$ ;\n",
    "- pour tout $k =1, \\cdots, K$, approcher $\\mathbb{P}\\left(\\Phi(\\mathbf{N}) \\leq a_{k}\n",
    "    \\vert \\Phi(\\mathbf{N}) \\leq a_{k-1} \\right)$ par un estimateur $\\hat{\\pi}_k$. \n",
    "- estimer $\\mathbb{P}(\\Phi(\\mathbf{N}) \\leq a)$ par $\\prod_{k=1}^K \\hat{\\pi}_k$.\n",
    "\n",
    "Soit $k \\in \\{2, \\cdots, K \\}$ fixé. L'algorithme *MCMC pour loi conditionnelle* ci-dessous permet de produire une suite de processus de Poisson $\\{\\mathbf{N}^\\ell, \\ell \\geq 0 \\}$, vérifiant une loi forte des grands nombres : pour tout $b \\in \\mathbb{R}$, on a\n",
    "$$\\frac{1}{M} \\sum_{\\ell=1}^M \\mathbf{1}_{\\Phi(\\mathbf{N}^\\ell) \\leq b}\n",
    " \\quad \\mathop{\\longrightarrow}^{\\mathrm{p.s.}}_{M \\rightarrow \\infty} \\quad  \\mathbb{P}\\left(\\Phi(\\mathbf{N}) \\leq b \\ \\vert\\ \\Phi(\\mathbf{N})\n",
    "  \\leq a_{k-1} \\right).$$\n",
    "Plus précisément, cet algorithme construit une chaîne de Markov $\\mathbf{N}^\\ell$ à valeurs dans un espace de processus de Poisson, pour laquelle le théorème ergodique s'applique (pour plus de détails, on pourra consulter l'article [Rare event simulation using reversible shaking transformations](https://hal.archives-ouvertes.fr/hal-01058748/document)). Il peut donc être utilisé pour construire l'estimateur $\\hat{\\pi}_k$. \n",
    "\n",
    "Algorithme MCMC pour loi conditionnelle $\\mathbb{P} (\\cdot\\ \\vert\\ \\Phi(\\mathbf{N})\\leq a_{k-1})$} \n",
    "- Paramètres d'implémentation : $p \\in ]0,1[$, $a_{k-1} \\in \\mathbb{R}$, $M \\in \\mathbb{N}$\n",
    "- Initialisation : $\\mathbf{N}^{0}$ un processus de Poisson homogène de paramètre\n",
    "  $\\lambda$ tel que $\\Phi(\\mathbf{N}^0) \\leq a_{k-1}$.\n",
    "- Pour $\\ell = 0, \\cdots, M-1$ : étant donné $\\mathbf{N}^{\\ell}$,\n",
    "\n",
    "   (a) construire un candidat $\\widetilde{\\mathbf{N}}^{\\ell+1}$ par *coloriage*, c'est-à-dire : garder chaque saut de $\\mathbf{N}^\\ell$ avec probabilité $p$, de manière indépendante : on obtient $\\mathbf{N}^{\\ell,p}$ ; construire un processus de Poisson homogène $\\widetilde{\\mathbf{N}}$ de paramètre $(1-p) \\lambda$, indépendant de $\\mathbf{N}^{\\ell,p}$ ; renvoyer la somme $\\widetilde{\\mathbf{N}}^{\\ell+1} := \\mathbf{N}^{\\ell,p} + \\widetilde{\\mathbf{N}}$.\n",
    "   \n",
    "   (b) Si $\\Phi(\\widetilde{\\mathbf{N}}^{\\ell+1}) \\leq a_{k-1}$, poser $\\mathbf{N}^{\\ell+1} =\n",
    "    \\widetilde{\\mathbf{N}}^{\\ell+1}$. Sinon,  poser $\\mathbf{N}^{\\ell+1} = \\mathbf{N}^{\\ell}$.\n",
    "\n"
   ]
  },
  {
   "cell_type": "markdown",
   "metadata": {},
   "source": [
    "***\n",
    "\n",
    "### 3.2. Application\n",
    "\n",
    "On reprend l'application décrite en Section 2.3, avec $\\nu=\\delta_\\alpha$.\n",
    "\n",
    "#### Question 8\n",
    "Montrer que p.s.\n",
    "$$\\min_{0 \\leq t \\leq T} \\left\\{ C + \\Lambda t - \\alpha N_t \\right\\} = \\min_{n\n",
    "  \\geq 0 \\ \\text{t.q.} \\ T_n \\leq T} \\left\\{ C + \\Lambda T_n - \\alpha n\\right\\}.$$\n"
   ]
  },
  {
   "cell_type": "markdown",
   "metadata": {},
   "source": [
    "##### _Réponse :_"
   ]
  },
  {
   "cell_type": "markdown",
   "metadata": {},
   "source": [
    "$h : t \\rightarrow C + \\lambda t - \\alpha N_t$ est linéaire par morceaux, croissante sur les intervalles de la forme $[T_n ; T_{n+1}[$, et vérifie $h(T_n) = h(T_n^-) - \\alpha$."
   ]
  },
  {
   "cell_type": "markdown",
   "metadata": {},
   "source": [
    "#### Question 9 \n",
    "Implémenter l'algorithme Monte Carlo naïf et l'algorithme de splitting combiné à l'algorithme *MCMC pour loi conditionnelle* pour approcher la probabilité que la ruine de l'assurance survienne avant l'instant $T$ :\n",
    "$$\\mathbb{P}\\left( \\min_{0 \\leq t \\leq T} \\left\\{ C + \\Lambda t - \\alpha N_t \\right\\}\n",
    "    \\leq 0 \\right).$$\n",
    "\n",
    "\n",
    "$\\blacktriangleright$ On prendra $T=1$, $C= 100$, $\\Lambda = 30$, $\\alpha=30$, $a_k = C (1-(k/K)^2)$ et\n",
    "  successivement $(\\lambda,K) =(1,3)$ et $(\\lambda, K) = (0.05, 8)$. On envisagera différentes valeurs de $p$, par exemple $p=0.1$, $p=0.5$ et $p=0.9$.\n",
    "\n",
    "\n",
    "$\\blacktriangleright$ Pour le calcul de $\\hat \\pi_k$ : dans le cas $\\lambda =1$, on pourra prendre $M=1e4$\n",
    "  quelle que soit la valeur de $p$ ; dans le cas $\\lambda = 0.05$, on pourra prendre\n",
    "  $M=8e4$ pour $p =0.5$, et $M=1.5e5$ pour $p=0.1$ et\n",
    "  $p=0.9$. \n",
    "  \n",
    "  \n",
    "$\\triangleright$ Pour la méthode de splitting :\n",
    "\n",
    "(a) Observer la consistance des estimateurs $\\hat \\pi_k$, $k=1, \\cdots, K$ (c'est-à-dire que ces sont des estimateurs convergents lorsque $M$ devient grand).\n",
    "\n",
    "(b) L'algorithme *MCMC pour loi conditionnelle* est un algorithme de rejet : on rejette tous les candidats $\\widetilde{\\mathbf{N}}^{\\ell+1}$ qui ne satisfont pas à la condition $\\Phi(\\widetilde{\\mathbf{N}}^{\\ell+1}) \\leq a_{k-1}$. Pour chacune des $K-1$ chaînes simulées par cet algorithme, il est intéressant d'observer l'évolution du taux d'acceptation le long de la trajectoire\n",
    "$$M \\mapsto \\frac{1}{M} \\sum_{\\ell=1}^M \\mathbf{1}_{\\mathbf{N}^{\\ell} = \\widetilde{\\mathbf{N}^{\\ell}}}.$$\n",
    "Afficher l'évolution du taux d'acceptation.\n",
    "\n",
    "(c) Estimer la variance de l'estimateur de la probabilité de ruine à l'aide de plusieurs réalisations indépendantes de cet estimateur. Calculer l'erreur relative, i.e. le ratio de l'écart-type et de la valeur moyenne de ces réalisations indépendantes.\n",
    "\n",
    "(d) Quel est le meilleur choix de $p$ ? Expliquer ce résultat.\n",
    "\n",
    "\n",
    "$\\triangleright$ Comparer l'efficacité de l'estimateur Monte-Carlo naïf et de l'estimateur par splitting pour le calcul de la probabilité de ruine.\n",
    "  \n",
    "\n"
   ]
  },
  {
   "cell_type": "markdown",
   "metadata": {},
   "source": [
    "__RQP__:\n",
    "$$\\Phi(N) = \\underset{0 \\leq t \\leq T}{min} (C + \\Lambda t - \\alpha N_t) $$"
   ]
  },
  {
   "cell_type": "code",
   "execution_count": 6,
   "metadata": {},
   "outputs": [],
   "source": [
    "#fonction qui renvoie 1 si Phi(N) <= a_k, 0 sinon\n",
    "def Phi(liste_T_n,a_k):\n",
    "    liste_T_n = np.concatenate((np.array([0]),liste_T_n))\n",
    "    mini = np.min(C+ Lbda*liste_T_n-alpha*np.arange(len(liste_T_n)))\n",
    "    if mini <=a_k:\n",
    "        return 1\n",
    "    return 0\n",
    "\n",
    "def liste_temps_sauts(lbda,T):\n",
    "    N = np.random.poisson(lbda*T)\n",
    "    liste_sauts = np.random.uniform(low = 0, high = T, size = N)\n",
    "\n",
    "    liste_sauts_triee = np.sort(liste_sauts)\n",
    "    return liste_sauts_triee"
   ]
  },
  {
   "cell_type": "code",
   "execution_count": 32,
   "metadata": {},
   "outputs": [
    {
     "name": "stdout",
     "output_type": "stream",
     "text": [
      "Probabilité de ruine :  0.007204245311999999\n"
     ]
    }
   ],
   "source": [
    "T=1\n",
    "C=100\n",
    "Lbda = 30\n",
    "alpha=30\n",
    "M = int(1e4)\n",
    "\n",
    "p = 0.1\n",
    "\n",
    "lbda = 1\n",
    "K= 3\n",
    "\n",
    "liste_a = np.array([C*(1-(k/K)**2) for k in range(1,K+1)]) #liste_a[K-1] = a_K = a = 0\n",
    "\n",
    "liste_pi = np.zeros(K)\n",
    "\n",
    "liste_Phi_inf = np.zeros(M) \n",
    "\"\"\"\n",
    "le k-ieme élém. de liste_Phi_inf valent 1 si la ruine de l'assurance est survenue avant l'instant T lors\n",
    "du k-ieme essai, 0 sinon\n",
    "\"\"\"\n",
    "\n",
    "#Initialisation \n",
    "liste_T_n = liste_temps_sauts(lbda,T)\n",
    "\n",
    "\n",
    "for l in range(M):\n",
    "    coloriage = liste_T_n[np.random.binomial(1,p,size = len(liste_T_n)) ==1]\n",
    "    \n",
    "    liste_T_n_tilde = liste_temps_sauts(lbda*(1-p),T)\n",
    "    new_liste_T_n = np.sort(np.concatenate((coloriage,liste_T_n_tilde)))\n",
    "    \n",
    "    liste_T_n = new_liste_T_n\n",
    "    liste_Phi_inf[l] = Phi(liste_T_n,liste_a[0])\n",
    "\n",
    "liste_pi[0] = np.mean(liste_Phi_inf)\n",
    "\n",
    "for k in range(1,K):\n",
    "    liste_Phi_inf = np.zeros(M) \n",
    "    \n",
    "    #Initialisation \n",
    "    liste_T_n = liste_temps_sauts(lbda,T)\n",
    "\n",
    "    while Phi(liste_T_n,liste_a[k-1])==0:\n",
    "        \n",
    "        liste_T_n = liste_temps_sauts(lbda,T)\n",
    "    \n",
    "        \n",
    "    for l in range(M):\n",
    "        coloriage = liste_T_n[np.random.binomial(1,p,size = len(liste_T_n)) ==1]\n",
    "\n",
    "        liste_T_n_tilde = liste_temps_sauts(lbda*(1-p),T)\n",
    "        new_liste_T_n = np.sort(np.concatenate((coloriage,liste_T_n_tilde)))\n",
    "        \n",
    "        \n",
    "        if Phi(new_liste_T_n,liste_a[k-1])==1:\n",
    "            liste_T_n = new_liste_T_n\n",
    "        liste_Phi_inf[l] = Phi(liste_T_n,liste_a[k])\n",
    "            \n",
    "    liste_pi[k] = np.mean(liste_Phi_inf)\n",
    "\n",
    "proba_ruine_T = np.prod(liste_pi)\n",
    "print(\"Probabilité de ruine : \",proba_ruine_T)"
   ]
  },
  {
   "cell_type": "markdown",
   "metadata": {},
   "source": [
    "## 4. Pour aller plus loin : Changement de probabilité pour les processus de Poisson composés (suite)"
   ]
  },
  {
   "cell_type": "markdown",
   "metadata": {},
   "source": [
    "### 4.1. Cas de sauts de loi exponentielle\n",
    "\n",
    "Dans cette section, on s'intéresse au calcul de $\\mathbb{P}(X_T >a)$ pour des grandes valeurs $a$ dans le cas où $\\nu$ est  la loi exponentielle de paramètre $\\mu>0$ :\n",
    "$$d\\nu(y) = \\mu \\exp(-\\mu y) \\mathbf{1}_{\\mathbb{R}^+}(y)\\ dy.$$ \n",
    "\n",
    "#### Question 10\n",
    "Identifier $\\mathcal{D}= \\{\\theta \\in \\mathbb{R} : \\int \\exp(\\theta y) d\\nu(y) < \\infty \\}$. "
   ]
  },
  {
   "cell_type": "markdown",
   "metadata": {},
   "source": [
    "##### _Réponse :_\n"
   ]
  },
  {
   "cell_type": "markdown",
   "metadata": {},
   "source": [
    "#### Question 11  \n",
    "Pour $\\theta \\in \\mathcal{D}$, calculer la fonction log-laplace $\\Gamma_T(\\theta)$\n",
    "  associée à $X_T$, définie par $\\Gamma_T(\\theta)=\\log\\mathbb{E}[\\exp({\\theta X_T})]$. En déduire l'espérance et la variance de $X_T$ sous $\\mathbb{P}$. "
   ]
  },
  {
   "cell_type": "markdown",
   "metadata": {},
   "source": [
    "##### _Réponse :_\n"
   ]
  },
  {
   "cell_type": "markdown",
   "metadata": {},
   "source": [
    "#### Question 12 \n",
    "Exprimer le changement de loi (1) à l'aide de $X_T$, $\\theta$ et $\\Gamma_T(\\theta)$. Quelle est la loi de $(X_t)_{t \\geq 0}$ sous $\\mathbb{P}_\\theta$, pour $\\theta \\in \\mathcal{D}$ ?\n",
    "  "
   ]
  },
  {
   "cell_type": "markdown",
   "metadata": {},
   "source": [
    "##### _Réponse :_\n"
   ]
  },
  {
   "cell_type": "markdown",
   "metadata": {},
   "source": [
    "#### Question 13\n",
    " Les valeurs de $a$ qui rendront l'événement $\\{X_T>a\\}$ rare sous $\\mathbb{P}$\n",
    "  seront de la forme\n",
    "  $$\\mathbb{E}[X_T]+\\rho\\sqrt{\\mathbb{V}(X_T)}, \\qquad\\qquad\\qquad (4)$$\n",
    "  pour $\\rho>0$ grand. Pour $a>\\mathbb{E}[X_T]$, résoudre l'équation $\\Gamma'_T(\\theta)=a$ sur $\\mathcal{D}$. On notera\n",
    "  $\\theta_a$ cette solution.  "
   ]
  },
  {
   "cell_type": "markdown",
   "metadata": {},
   "source": [
    "##### _Réponse :_"
   ]
  },
  {
   "cell_type": "markdown",
   "metadata": {},
   "source": [
    "Remarque : tous les calculs précédents montrent que, quitte à changer $\\lambda$ en $\\lambda T$, on\n",
    "peut supposer que $T=1$."
   ]
  },
  {
   "cell_type": "markdown",
   "metadata": {},
   "source": [
    "### 4.2. Application (suite)\n",
    "\n",
    "#### Question 14 \n",
    "Reprendre la question 7 dans le cas où $\\nu$ est la loi exponentielle de paramètre $\\mu$. On prendra $\\mu = 1$, $T=1$, $\\lambda=1$  et $a$ donné par  (4)  pour $\\rho =1$, $\\rho=5$ puis $\\rho =20$.\n",
    " "
   ]
  },
  {
   "cell_type": "code",
   "execution_count": null,
   "metadata": {},
   "outputs": [],
   "source": []
  }
 ],
 "metadata": {
  "kernelspec": {
   "display_name": "Python 3",
   "language": "python",
   "name": "python3"
  },
  "language_info": {
   "codemirror_mode": {
    "name": "ipython",
    "version": 3
   },
   "file_extension": ".py",
   "mimetype": "text/x-python",
   "name": "python",
   "nbconvert_exporter": "python",
   "pygments_lexer": "ipython3",
   "version": "3.7.6"
  }
 },
 "nbformat": 4,
 "nbformat_minor": 2
}
