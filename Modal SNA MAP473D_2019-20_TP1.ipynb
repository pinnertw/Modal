{
 "cells": [
  {
   "cell_type": "markdown",
   "metadata": {},
   "source": [
    "### Modal SNA MAP473D, Ecole Polytechnique, 2019-20"
   ]
  },
  {
   "cell_type": "markdown",
   "metadata": {},
   "source": [
    "# TP1 - Simulation de variables aléatoires, loi des grands nombres, théorème central limite"
   ]
  },
  {
   "cell_type": "markdown",
   "metadata": {},
   "source": [
    "## Utilisation d'un notebook Jupyter\n"
   ]
  },
  {
   "cell_type": "markdown",
   "metadata": {},
   "source": [
    "IPython définit un certain nombre de [commandes magiques](https://ipython.readthedocs.io/en/stable/interactive/magics.html) utiles. En particulier `%matplotlib inline` pour afficher les graphiques dans le notebook. "
   ]
  },
  {
   "cell_type": "code",
   "execution_count": 1,
   "metadata": {},
   "outputs": [],
   "source": [
    "%matplotlib inline"
   ]
  },
  {
   "cell_type": "markdown",
   "metadata": {},
   "source": [
    "il peut parfois aussi être utile de relancer l'interpreteur python sans quitter le notebook: "
   ]
  },
  {
   "cell_type": "code",
   "execution_count": 2,
   "metadata": {},
   "outputs": [
    {
     "name": "stdout",
     "output_type": "stream",
     "text": [
      "Once deleted, variables cannot be recovered. Proceed (y/[n])? y\n"
     ]
    }
   ],
   "source": [
    "%reset"
   ]
  },
  {
   "cell_type": "markdown",
   "metadata": {},
   "source": [
    "Quelques raccourcis à connaitre pour naviguer dans un notebook: \n",
    "    \n",
    "* `[ENTREE]` entre dans une cellule (passe en mode édition)\n",
    "* `[ESC]` sort d'une cellule (passe en mode commande)\n",
    "* `[MAJ]+ENTREE` execute la cellule et passe à la suivante\n",
    "* `[ALT]+ENTREE` execute la cellule et insère une nouvelle cellule dessous\n",
    "* `[CTRL]+ENTREE` execute les cellules selectionnées\n",
    "\n",
    "\n",
    "* `A` insère une cellule avant\n",
    "* `B` insère une cellule après\n",
    "* `D+D` supprime une cellule\n",
    "* `Z` annule la suppression\n",
    "* `[MAJ]+M` fusionne les cellules selectionnées\n",
    "* `C` `V` `X` copy paste des cellules"
   ]
  },
  {
   "cell_type": "markdown",
   "metadata": {},
   "source": [
    "Pour obtenir de l'aide / de la documentation: \n",
    "\n",
    "* Autocompletion à l'aide de la touche `TAB` : permet de voir les méthodes disponibles. \n",
    "* Affichage de la signature d'une fonction à l'aide de `[MAJ] + [TAB]` \n",
    "* Affichage de la documentation complète (docstring) d'une fonction à l'aide de `[MAJ] + [TAB] + [TAB] + [TAB] + [TAB]` \n",
    "* Alternativement, `?object` ou `object?` affiche aussi la documentation associée à `object`."
   ]
  },
  {
   "cell_type": "markdown",
   "metadata": {},
   "source": [
    "On importe les libraries nécessaires: `numpy` pour les opérations vectorielles. `matplotlib` pour tracer les graphiques. `scipy.stats` pour le module statistiques de scipy (qui contient en particulier les distributions des lois de probabilités usuelles).  "
   ]
  },
  {
   "cell_type": "code",
   "execution_count": 3,
   "metadata": {},
   "outputs": [],
   "source": [
    "import numpy as np\n",
    "import matplotlib.pyplot as plt\n",
    "from scipy import stats"
   ]
  },
  {
   "cell_type": "markdown",
   "metadata": {},
   "source": [
    "### Exercice 1. Simulation et affichage de lois discrètes"
   ]
  },
  {
   "cell_type": "markdown",
   "metadata": {},
   "source": [
    "#### 1.1 Un exemple simple"
   ]
  },
  {
   "cell_type": "markdown",
   "metadata": {},
   "source": [
    "On considère la loi $P$ sur l'ensemble $\\{1,2,3\\}$ définie par $P(\\{1\\})=0.3$, $P(\\{2\\})=0.6$, $P(\\{3\\})=0.1$.\n",
    "Simuler un grand nombre de v.a. i.i.d. de loi $P$, en faire l'histogramme en bâtons.\n",
    "\n",
    "*Indications*: on pourra utiliser les fonctions\n",
    "\n",
    "+ `numpy.random.choice(a, size = N, replace = True, p = [p_1,..., p_n])`, qui génère `N` tirages indépendants (argument `replace = True` activé par défaut) suivant la loi `[p_1,..., p_n]` (argument `p`, par défaut la loi uniforme)) sur l'espace d'états `a = [a_1, ..., a_n]`.\n",
    "Voir la [documentation officielle](https://docs.scipy.org/doc/numpy-1.14.0/reference/generated/numpy.random.choice.html) de la fonction pour plus de détails.\n",
    "\n",
    "\n",
    "+ `matplotlib.pyplot.bar(x,y)` ou `matplotlib.pyplot.stem(x,y)`, qui génèrent un diagramme en bâtons: un graphique contenant des segments verticaux de hauteur`y` placés aux abscisses `x`, sans marqueur (pour\n",
    "`pyplot.bar`) ou avec marqueur (pour `pyplot.stem`) au niveau `y`."
   ]
  },
  {
   "cell_type": "code",
   "execution_count": 4,
   "metadata": {},
   "outputs": [
    {
     "name": "stderr",
     "output_type": "stream",
     "text": [
      "C:\\Users\\Peng-Wei CHEN\\Anaconda3\\lib\\site-packages\\ipykernel_launcher.py:26: UserWarning: In Matplotlib 3.3 individual lines on a stem plot will be added as a LineCollection instead of individual lines. This significantly improves the performance of a stem plot. To remove this warning and switch to the new behaviour, set the \"use_line_collection\" keyword argument to True.\n"
     ]
    },
    {
     "data": {
      "image/png": "[encoded data removed]",
      "text/plain": [
       "<Figure size 432x288 with 1 Axes>"
      ]
     },
     "metadata": {
      "needs_background": "light"
     },
     "output_type": "display_data"
    }
   ],
   "source": [
    "import numpy as np\n",
    "import matplotlib.pyplot as plt\n",
    "\n",
    "N = 50\n",
    "\n",
    "##########################\n",
    "# TO DO: compléter\n",
    "##########################\n",
    "valeurs = np.array([1, 2, 3])\n",
    "probas = [0.3, 0.6, 0.1]\n",
    "\n",
    "X = np.random.choice(valeurs, size = N, p = probas)\n",
    "\n",
    "# La fonction bincount compte le nombre de fois que l'on a 0 dans le vecteur, le nombre de\n",
    "# fois que l'on a 1, le nombre de fois que l'on a 2, etc...\n",
    "# On enleve donc la premiere valeur qui dit que l'on observe 0 fois la valeur 0\n",
    "counts = np.bincount(X)[1:]\n",
    "counts = counts / N\n",
    "\n",
    "#################################################################\n",
    "# TO DO: construire l'histogramme avec la fonction bar de pyplot\n",
    "#################################################################\n",
    "plt.bar(valeurs, counts, width=0.02, label=\"loi empirique\")\n",
    "\n",
    "# On affiche la loi theorique\n",
    "plt.stem(valeurs - 0.1, probas, linefmt=\"r\", markerfmt=\"ro\", basefmt=\"None\", label=\"loi theorique\")\n",
    "\n",
    "# On demande que la legende soit affichee\n",
    "plt.legend(loc='best')\n",
    "\n",
    "# On affiche la figure\n",
    "plt.show()"
   ]
  },
  {
   "cell_type": "markdown",
   "metadata": {},
   "source": [
    "#### 1.2 Des lois discrètes classiques"
   ]
  },
  {
   "cell_type": "markdown",
   "metadata": {},
   "source": [
    "$\\blacktriangleright$ **Loi Binomiale**. \n",
    "On considère $B(n,p)$, la loi binomiale de paramètres $n$ et $p$. Ecrire un code dans lequel on simule un grand nombre de v.a. de loi $B(n,p)$ (en utilisant la fonction `binomial` de `numpy.random`), faire l'histogramme en bâtons de l'échantillon obtenu et comparer avec la représentation, sur le même graphique, de la loi $B(n,p)$ (que l'on peut obtenir à l'aide de la  fonction `binom.pmf` - `pmf` pour probability mass function - de `scipy.stats`)."
   ]
  },
  {
   "cell_type": "code",
   "execution_count": 6,
   "metadata": {},
   "outputs": [
    {
     "name": "stdout",
     "output_type": "stream",
     "text": [
      "Wall time: 7.98 ms\n"
     ]
    }
   ],
   "source": [
    "%%time\n",
    "for i in range(100000):\n",
    "    N = 1000"
   ]
  },
  {
   "cell_type": "code",
   "execution_count": 21,
   "metadata": {
    "scrolled": true
   },
   "outputs": [
    {
     "name": "stderr",
     "output_type": "stream",
     "text": [
      "C:\\Users\\Peng-Wei CHEN\\Anaconda3\\lib\\site-packages\\ipykernel_launcher.py:30: UserWarning: In Matplotlib 3.3 individual lines on a stem plot will be added as a LineCollection instead of individual lines. This significantly improves the performance of a stem plot. To remove this warning and switch to the new behaviour, set the \"use_line_collection\" keyword argument to True.\n"
     ]
    },
    {
     "data": {
      "image/png": "[encoded data removed]",
      "text/plain": [
       "<Figure size 432x288 with 1 Axes>"
      ]
     },
     "metadata": {
      "needs_background": "light"
     },
     "output_type": "display_data"
    }
   ],
   "source": [
    "import scipy.stats as stats\n",
    "\n",
    "n = 20\n",
    "p = 0.3\n",
    "\n",
    "# Nombre de simulations\n",
    "N = int(1e3)\n",
    "\n",
    "###################################\n",
    "# TO DO: compléter avec N tirages\n",
    "# de la loi binomial B(n,p)\n",
    "###################################\n",
    "B = np.random.binomial(n, p, size=N)\n",
    "\n",
    "# Fonction bincount:\n",
    "# on force la longueur du vecteur counts à etre n+1 - meme si toutes\n",
    "# les valeurs entre 0 et n ne sont pas observées dans l'echantillon B\n",
    "counts = np.bincount(B, minlength = n + 1)\n",
    "counts = counts / N\n",
    "\n",
    "#################################################################\n",
    "# TO DO: afficher l'histogramme et la la loi théorique,\n",
    "# que l'on peut evaluer avec la librairie scipy.stats\n",
    "#################################################################\n",
    "\n",
    "plt.bar([i for i in range(n + 1)], counts, width=0.1, label=\"valeurs empiriques\" )\n",
    "\n",
    "x = np.arange(n + 1)\n",
    "f_X = stats.binom(n, p).pmf(x)\n",
    "plt.stem(x - 0.3, f_X,linefmt=\"r\", markerfmt=\"ro\", basefmt=\"None\", label=\"loi theorique\" )\n",
    "\n",
    "plt.title(\"Loi Binomiale B({}, {})\".format(n, p), fontsize=13)\n",
    "plt.legend(loc='best', fontsize=13)\n",
    "plt.show()"
   ]
  },
  {
   "cell_type": "markdown",
   "metadata": {},
   "source": [
    "$\\blacktriangleright$ **Loi de Poisson**. Faire de même avec une loi de Poisson de paramètre $\\mu$. On pourra utiliser la fonction `poisson` de `numpy.random` pour générer les tirages, et la fonction `poisson.pmf` de `scipy.stats` pour le calcul de la loi exacte."
   ]
  },
  {
   "cell_type": "code",
   "execution_count": 24,
   "metadata": {},
   "outputs": [
    {
     "name": "stderr",
     "output_type": "stream",
     "text": [
      "C:\\Users\\Peng-Wei CHEN\\Anaconda3\\lib\\site-packages\\ipykernel_launcher.py:26: UserWarning: In Matplotlib 3.3 individual lines on a stem plot will be added as a LineCollection instead of individual lines. This significantly improves the performance of a stem plot. To remove this warning and switch to the new behaviour, set the \"use_line_collection\" keyword argument to True.\n"
     ]
    },
    {
     "data": {
      "image/png": "[encoded data removed]",
      "text/plain": [
       "<Figure size 432x288 with 1 Axes>"
      ]
     },
     "metadata": {
      "needs_background": "light"
     },
     "output_type": "display_data"
    }
   ],
   "source": [
    "mu = 15\n",
    "N = int(1e3)\n",
    "\n",
    "########################################\n",
    "# TO DO: compléter avec N tirages\n",
    "# de la loi de Poisson de paramètre mu\n",
    "# et leur histogramme \n",
    "########################################\n",
    "X = np.random.poisson(lam=mu, size=N)\n",
    "\n",
    "# Fonction bincount:\n",
    "# on force la longueur du vecteur counts à etre n+1 - meme si toutes\n",
    "# les valeurs entre 0 et n ne sont pas observées dans l'echantillon B\n",
    "counts = np.bincount(X)\n",
    "counts = counts / N\n",
    "\n",
    "#################################################################\n",
    "# TO DO: afficher l'histogramme et la la loi théorique,\n",
    "# que l'on peut evaluer avec la librairie scipy.stats\n",
    "#################################################################\n",
    "\n",
    "plt.bar([i for i in range(len(counts))], counts, width=0.1, label=\"valeurs empiriques\" )\n",
    "\n",
    "x = np.arange(len(counts) + 1)\n",
    "f_X = stats.poisson(mu).pmf(x)\n",
    "plt.stem(x - 0.3, f_X,linefmt=\"r\", markerfmt=\"ro\", basefmt=\"None\", label=\"loi theorique\" )\n",
    "\n",
    "plt.title(\"Loi Poisson({})\".format(mu), fontsize=13)\n",
    "plt.legend(loc='best', fontsize=13)\n",
    "plt.show()\n"
   ]
  },
  {
   "cell_type": "markdown",
   "metadata": {},
   "source": [
    "On peut se passer de la méthode `stats.poisson.pmf` et la coder directement puisque la formule est simple et explicite: \n",
    "$$\n",
    "\\hbox{poisson.pmf}(x) = \\frac{\\mu^x e^{-\\mu}}{\\Gamma(x+1)}.\n",
    "$$\n",
    "Mais il faut être prudent dans la manière de faire... Executer la cellule ci dessous. Recommencer en changeant la valeur mu=10. Que se passe t'il ? Comment corriger l'implementation de la fonction `poisson_pmf` ? "
   ]
  },
  {
   "cell_type": "code",
   "execution_count": 32,
   "metadata": {},
   "outputs": [
    {
     "data": {
      "image/png": "[encoded data removed]",
      "text/plain": [
       "<Figure size 432x288 with 1 Axes>"
      ]
     },
     "metadata": {
      "needs_background": "light"
     },
     "output_type": "display_data"
    }
   ],
   "source": [
    "# pour utiliser les fonctions gamma et gammaln.\n",
    "import scipy.special as sc   \n",
    "\n",
    "# parametre de la Poisson\n",
    "mu = 10\n",
    "\n",
    "# implementation naive\n",
    "def poisson_pmf(x, mu):\n",
    "    return np.exp(-mu + x * np.log(mu) - sc.gammaln(x+1))\n",
    "\n",
    "x = np.arange(20);\n",
    "    \n",
    "# on compare poisson_pmf et avec l'implementation de scipy.stats\n",
    "plt.bar(x, poisson_pmf(x, mu), width=0.3, label=\"poisson_pmf_1\")\n",
    "plt.bar(x + 0.4, stats.poisson.pmf(x, mu), width=0.3, label=\"stats.poisson_pmf\")\n",
    "plt.title(\"mu = {}\".format(mu), fontsize=13)\n",
    "plt.legend(loc=\"best\", fontsize=11)\n",
    "plt.show()"
   ]
  },
  {
   "cell_type": "markdown",
   "metadata": {},
   "source": [
    "$\\blacktriangleright$ Comparaison entre deux lois. Un calcul simple montre que lorsque $n$ tend vers l'infini, la loi\n",
    "\n",
    "$$B(n, \\lambda/n)$$\n",
    "\n",
    "tend vers la loi de Poisson de paramètre $\\lambda$.\n",
    "En pratique, on assimile $B(n, p)$ à la loi de Poisson de paramètre $n \\, p$ dès que $n \\, p^2 < 0.1$. Illustrer cette proximité de lois en affichant, sur le même graphique, leurs histogrammes en bâtons (sans faire de simulation)."
   ]
  },
  {
   "cell_type": "code",
   "execution_count": 34,
   "metadata": {
    "scrolled": true
   },
   "outputs": [
    {
     "name": "stderr",
     "output_type": "stream",
     "text": [
      "C:\\Users\\Peng-Wei CHEN\\Anaconda3\\lib\\site-packages\\ipykernel_launcher.py:13: UserWarning: In Matplotlib 3.3 individual lines on a stem plot will be added as a LineCollection instead of individual lines. This significantly improves the performance of a stem plot. To remove this warning and switch to the new behaviour, set the \"use_line_collection\" keyword argument to True.\n",
      "  del sys.path[0]\n"
     ]
    },
    {
     "data": {
      "image/png": "[encoded data removed]",
      "text/plain": [
       "<Figure size 432x288 with 1 Axes>"
      ]
     },
     "metadata": {
      "needs_background": "light"
     },
     "output_type": "display_data"
    }
   ],
   "source": [
    "n = 100\n",
    "p = 0.05\n",
    "lbda = p * n\n",
    "\n",
    "x = np.arange(0, 5 * lbda)\n",
    "\n",
    "################################################\n",
    "# TO DO: compléter avec le calcul des deux lois\n",
    "# et leur affichage\n",
    "################################################\n",
    "\n",
    "f_X = stats.binom(n, p).pmf(x)\n",
    "plt.stem(x, f_X,linefmt=\"r\", markerfmt=\"ro\", basefmt=\"None\", label=\"loi theorique\" )\n",
    "plt.bar(x + 0.4, stats.poisson.pmf(x, lbda), width=0.3, label=\"stats.poisson_pmf\")\n",
    "\n",
    "plt.title(r\"$n * p^2$ = %1.3f\" %(n * p**2), fontsize=13)\n",
    "plt.legend(loc=\"best\", fontsize=12)\n",
    "plt.show()"
   ]
  },
  {
   "cell_type": "markdown",
   "metadata": {},
   "source": [
    "### Exercice 2. Simulation de variables aléatoires continues (I)"
   ]
  },
  {
   "cell_type": "markdown",
   "metadata": {},
   "source": [
    "Simuler un grand nombre de variables aléatoires gaussiennes standard, représenter leur histogramme et comparer à la densité gaussienne. Faire de même avec des variables aléatoires de loi gamma. On pourra utiliser les fonctions\n",
    "\n",
    "  + `randn` et `gamma` de `numpy.random` pour obtenir des tirages de la loi gaussienne standard et de la loi gamma\n",
    "  \n",
    "  \n",
    "  + les fonctions `hist` et `plot` de `matplotlib.pyplot` pour l'histogramme et la représentation des densités\n",
    "  \n",
    "  \n",
    "  + les fonctions `norm.pdf` et `gamma.pdf` (`pdf` pour probability density function) de la librairie `scipy.stats` pour le calcul des densités.\n",
    "  \n",
    "Pour le nombre de colonnes de l'histogramme, on pourra utiliser $2N^{1/3}$ , où $N$ est la taille de l'échantillon (voir le TP2 pour plus de détails)."
   ]
  },
  {
   "cell_type": "code",
   "execution_count": 44,
   "metadata": {},
   "outputs": [
    {
     "data": {
      "image/png": "[encoded data removed]",
      "text/plain": [
       "<Figure size 432x288 with 1 Axes>"
      ]
     },
     "metadata": {
      "needs_background": "light"
     },
     "output_type": "display_data"
    }
   ],
   "source": [
    "n = int(1e3)\n",
    "m = 0.  # Esperance\n",
    "s = 1.  # Ecart-type\n",
    "\n",
    "###################################################\n",
    "# TO DO: compléter avec n tirages de la loi N(m,s)\n",
    "#\n",
    "# La fonction randn de numpy.random genere des v.a. \n",
    "# gaussiennes centrees reduites\n",
    "###################################################\n",
    "X = np.random.randn(n)\n",
    "\n",
    "\n",
    "n_colonnes = int(2 * n**(1 / 3))\n",
    "\n",
    "plt.hist( X , bins=n_colonnes, density=True, histtype=\"step\", label=\"Histogramme n=%1.0f tirages\" %n)\n",
    "\n",
    "x = np.linspace(np.min(X), np.max(X), 200)\n",
    "\n",
    "###################################################\n",
    "# TO DO: compléter avec l'affichage de la densité\n",
    "###################################################\n",
    "\n",
    "plt.plot(x, stats.norm.pdf(x))\n",
    "\n",
    "plt.legend(fontsize=12, loc=9, bbox_to_anchor=(1.6, 1.0), ncol=1)\n",
    "plt.show()"
   ]
  },
  {
   "cell_type": "code",
   "execution_count": 52,
   "metadata": {},
   "outputs": [
    {
     "data": {
      "image/png": "[encoded data removed]",
      "text/plain": [
       "<Figure size 432x288 with 1 Axes>"
      ]
     },
     "metadata": {
      "needs_background": "light"
     },
     "output_type": "display_data"
    }
   ],
   "source": [
    "#####################################################\n",
    "# TO DO: faire de meme pour des variables aléatoires\n",
    "# de loi gamma\n",
    "#####################################################\n",
    "n = int(1e3)\n",
    "k = 5\n",
    "\n",
    "X = np.random.gamma(shape=k, size=n)\n",
    "\n",
    "n_colonnes = int(2 * n**(1 / 3))\n",
    "\n",
    "plt.hist( X , bins=n_colonnes, density=True, histtype=\"step\", label=\"Histogramme n=%1.0f tirages\" %n)\n",
    "\n",
    "x = np.linspace(np.min(X), np.max(X), 200)\n",
    "\n",
    "###################################################\n",
    "# TO DO: compléter avec l'affichage de la densité\n",
    "###################################################\n",
    "\n",
    "plt.plot(x, stats.gamma.pdf(x, a=k))\n",
    "\n",
    "plt.legend(fontsize=12, loc=9, bbox_to_anchor=(1.6, 1.0), ncol=1)\n",
    "plt.show()"
   ]
  },
  {
   "cell_type": "markdown",
   "metadata": {},
   "source": [
    " #### $\\blacktriangleright$ Absence de mémoire.\n",
    " \n",
    "La code ci-dessous illustre la propriété d'absence de mémoire de la loi exponentielle:\n",
    "si $X$ suit une telle loi, alors pour tout $t > 0$, la loi de $X - t$ sachant $X > t$ est la loi de $X$.\n",
    "\n",
    "\n",
    "Executer la cellule, ensuite faire la même expérience en remplaçant la loi exponentielle par des (autres) lois gamma.\n",
    "A-t-on encore absence de mémoire ?"
   ]
  },
  {
   "cell_type": "code",
   "execution_count": 53,
   "metadata": {},
   "outputs": [
    {
     "data": {
      "image/png": "[encoded data removed]",
      "text/plain": [
       "<Figure size 432x288 with 1 Axes>"
      ]
     },
     "metadata": {
      "needs_background": "light"
     },
     "output_type": "display_data"
    }
   ],
   "source": [
    "t = 3.\n",
    "\n",
    "# Paramètre de la loi exponentielle\n",
    "lbda = 0.25\n",
    "N = int(1.e4)\n",
    "\n",
    "# Attention: la fonction exponential de numpy.random\n",
    "# prend comme argument `scale` la moyenne de la loi\n",
    "# exponentielle, pas son paramètre lambda\n",
    "X = np.random.exponential(scale=1/lbda, size=N)\n",
    "\n",
    "# Simulation par rejet de la loi conditionnelle\n",
    "X_c = X[X > t] - t\n",
    "\n",
    "n_colonnes = 2 * int(len(X_c)** (1./3))\n",
    "plt.hist(X_c, density=True, bins=n_colonnes, color=\"b\", label=\"Histogramme\")\n",
    "\n",
    "# On affiche la densité de la loi exponentielle pour comparaison\n",
    "x = np.linspace(0., np.max(X_c), 200)\n",
    "f_x = lbda * np.exp(-lbda*x)\n",
    "\n",
    "plt.plot(x, f_x, color=\"r\", label=\"densite\", linewidth=2.0)\n",
    "\n",
    "plt.title(\"Loi empirique de (X | X > t) - t pour X de loi exponentielle \"\n",
    "          \"d'intensite %1.2f et t=%1.1f\" %(lbda,t), fontsize=13)\n",
    "plt.legend()\n",
    "plt.show()"
   ]
  },
  {
   "cell_type": "code",
   "execution_count": 56,
   "metadata": {},
   "outputs": [
    {
     "data": {
      "image/png": "[encoded data removed]",
      "text/plain": [
       "<Figure size 432x288 with 1 Axes>"
      ]
     },
     "metadata": {
      "needs_background": "light"
     },
     "output_type": "display_data"
    }
   ],
   "source": [
    "#####################################################\n",
    "# TO DO: faire de meme pour des variables aléatoires\n",
    "# de loi gamma\n",
    "#####################################################\n",
    "t = 3.\n",
    "\n",
    "# Paramètre de la loi gamma\n",
    "k = 5\n",
    "N = int(1.e4)\n",
    "\n",
    "# Attention: la fonction gamma de numpy.random\n",
    "# prend comme argument `scale` la moyenne de la loi\n",
    "# exponentielle, pas son paramètre lambda\n",
    "X = np.random.gamma(shape=5, size=N)\n",
    "\n",
    "# Simulation par rejet de la loi conditionnelle\n",
    "X_c = X[X > t] - t\n",
    "\n",
    "n_colonnes = 2 * int(len(X_c)** (1./3))\n",
    "plt.hist(X_c, density=True, bins=n_colonnes, color=\"b\", label=\"Histogramme\")\n",
    "\n",
    "# On affiche la densité de la loi exponentielle pour comparaison\n",
    "x = np.linspace(0., np.max(X_c), 200)\n",
    "f_x = stats.gamma.pdf(x, a=k)\n",
    "\n",
    "plt.plot(x, f_x, color=\"r\", label=\"densite\", linewidth=2.0)\n",
    "\n",
    "plt.title(\"Loi empirique de (X | X > t) - t pour X de loi exponentielle \"\n",
    "          \"d'intensite %1.2f et t=%1.1f\" %(lbda,t), fontsize=13)\n",
    "plt.legend()\n",
    "plt.show()\n"
   ]
  },
  {
   "cell_type": "markdown",
   "metadata": {},
   "source": [
    "### Exercice 3. Programmation matricielle"
   ]
  },
  {
   "cell_type": "markdown",
   "metadata": {},
   "source": [
    "#### 3.1 Motivation"
   ]
  },
  {
   "cell_type": "markdown",
   "metadata": {},
   "source": [
    "En python, la programmation matricielle proposée par la librairie `numpy` est plus rapide que celle reposant sur des boucles.\n",
    "\n",
    "Le code suivant compare le calcul d'une valeur approchée du nombre\n",
    "\n",
    "$$\n",
    "\\gamma \\approx \\sum_{i=1}^n \\frac 1 i - \\ln(n) \\qquad \\mbox{pour } n \\gg 1\n",
    "$$\n",
    "\n",
    "en programmation matricielle et via une boucle.\n",
    "\n",
    "Faire tourner la cellule, et observer le rapport de temps de calcul entre les deux méthodes."
   ]
  },
  {
   "cell_type": "code",
   "execution_count": 57,
   "metadata": {},
   "outputs": [
    {
     "name": "stdout",
     "output_type": "stream",
     "text": [
      "Methode 1. Boucle for\n",
      "Temps moyen écoulé: 0.0113 secondes par essai  \n",
      "\n",
      "Methode 2. Numpy\n",
      "Temps moyen écoulé: 0.0002 secondes par essai  \n",
      "\n",
      "Facteur de gain: 46.15 \n"
     ]
    }
   ],
   "source": [
    "from timeit import timeit\n",
    "\n",
    "setup = \"\"\"\n",
    "import numpy as np\n",
    "n = int(1e5)\n",
    "\"\"\"\n",
    "\n",
    "# Methode 1. Boucle for\n",
    "print(\"Methode 1. Boucle for\")\n",
    "code_boucle_for = \"\"\"\n",
    "np.sum([1. / i for i in range(1, n)]) - np.log(n)\n",
    "\"\"\"\n",
    "n_tries = 10\n",
    "time_boucle_for = timeit(code_boucle_for, setup=setup, number=n_tries) / n_tries\n",
    "print(\"Temps moyen écoulé: %1.4f secondes par essai  \\n\" %time_boucle_for)\n",
    "\n",
    "# Methode 2. Numpy\n",
    "print(\"Methode 2. Numpy\")\n",
    "code_numpy = \"\"\"\n",
    "np.sum(1. / np.arange(1, n)) - np.log(n)\n",
    "\"\"\"\n",
    "n_tries = 100\n",
    "time_numpy = timeit(code_numpy, setup=setup, number=n_tries) / n_tries\n",
    "print(\"Temps moyen écoulé: %1.4f secondes par essai  \\n\" %time_numpy)\n",
    "\n",
    "print(\"Facteur de gain: %1.2f \" %(time_boucle_for / time_numpy))"
   ]
  },
  {
   "cell_type": "markdown",
   "metadata": {},
   "source": [
    "$\\blacktriangleright$ Dans la cellule ci-dessous: une deuxième manière d'appeler la function `timeit`, en utilisant les commandes spéciales `magics` disponibles dans les notebooks Jupyter.\n",
    "\n",
    "Ces instructions permettent d'appeler des commandes du shell à travers le notebook (comme on le fait ci-dessous). Pour plus de détails, voir la documentation [`magics`](https://ipython.readthedocs.io/en/stable/interactive/magics.html)."
   ]
  },
  {
   "cell_type": "code",
   "execution_count": 58,
   "metadata": {},
   "outputs": [
    {
     "name": "stdout",
     "output_type": "stream",
     "text": [
      "13.1 ms ± 320 µs per loop (mean ± std. dev. of 7 runs, 10 loops each)\n",
      "234 µs ± 2.56 µs per loop (mean ± std. dev. of 7 runs, 100 loops each)\n",
      "\n",
      " Facteur de gain: 55.83\n"
     ]
    }
   ],
   "source": [
    "n = int(1e5)\n",
    "\n",
    "t1 = %timeit -n 10 -o np.sum([1. / i for i in range(1, n)]) - np.log(n)\n",
    "t2 = %timeit -n 100 -o np.sum(1. / np.arange(1, n)) - np.log(n)\n",
    "\n",
    "facteur_gain = t1.average / t2.average\n",
    "\n",
    "print(\"\\n Facteur de gain: %1.2f\" %facteur_gain)"
   ]
  },
  {
   "cell_type": "markdown",
   "metadata": {},
   "source": [
    "$\\blacktriangleright$ Encore plus simple: on peut utiliser la commande magique `%%timeit` pour timer le temps d'exécution de toute une cellule (sauf les instructions sur la même ligne que `%%timeit`). "
   ]
  },
  {
   "cell_type": "code",
   "execution_count": 59,
   "metadata": {},
   "outputs": [
    {
     "name": "stdout",
     "output_type": "stream",
     "text": [
      "10.4 ms ± 607 µs per loop (mean ± std. dev. of 7 runs, 100 loops each)\n"
     ]
    }
   ],
   "source": [
    "%%timeit n = int(1e5)\n",
    "np.sum([1. / i for i in range(1, n)]) - np.log(n)"
   ]
  },
  {
   "cell_type": "code",
   "execution_count": 60,
   "metadata": {},
   "outputs": [
    {
     "name": "stdout",
     "output_type": "stream",
     "text": [
      "236 µs ± 5.05 µs per loop (mean ± std. dev. of 7 runs, 1000 loops each)\n"
     ]
    }
   ],
   "source": [
    "%%timeit\n",
    "np.sum(1. / np.arange(1, n)) - np.log(n)"
   ]
  },
  {
   "cell_type": "markdown",
   "metadata": {},
   "source": [
    "#### 3.2 Exercices"
   ]
  },
  {
   "cell_type": "markdown",
   "metadata": {},
   "source": [
    "Les deux questions suivantes sont des exercices de programmation matricielle avec numpy. Notamment, elle permettent d'explorer l'usage des opérations `numpy` lelong des lignes ou des colonnes d'une matrice. Elles sont donc à traiter sans boucles.\n",
    "\n",
    "On acceptera, exceptionnellement, d'estimer les probabilités demandées sans intervalle de confiance.\n",
    "On essayera de ne pas passer trop de temps sur ces questions (aborder au moins l'une des deux; ensuite, mieux vaudra passer aux exercices suivants - essentiels pour la suite du Modal - que de s'arrêter trop longtemps sur cet exercice).\n",
    "\n",
    "$\\blacktriangleright$ Soit, pour $N=100$, $X_{(1)}< \\cdots< X_{(N)}$ le réordonnement\n",
    "  croissant d'une famille $X_{1}, \\ldots, X_{N}$ de v.a. i.i.d. de loi\n",
    "  gaussienne standard. Estimer à partir de $M$ tirages i.i.d. de $X_{(1)}< \\cdots< X_{(N)}$ la\n",
    "  probabilité que\n",
    "  $$\n",
    "  \\cos(X_{(\\lfloor 0.8 N\\rfloor)}) < 0.6\n",
    "  $$\n",
    "  \n",
    "  On pourra simuler $M \\times N$ v.a. gaussiennes, utiliser la fonction `numpy.sort(., axis=1)`\n",
    "  puis utiliser le fait que si `V` est une matrice, pour tout `j`, `V[:, j]` désigne la `j`-ème\n",
    "  colonne de `V` (la première étant la colonne numéro 0).\n",
    "  \n",
    "  + La fonction partie entière inférieure de `numpy` est `numpy.floor`.\n",
    " \n",
    "  \n",
    "  + La syntaxe `numpy.random.randn(M,N)` permet de générer un array de $M \\times N$ v.a.\n",
    "  gaussiennes standards indépendantes avec un seul appel à la fonction `randn`."
   ]
  },
  {
   "cell_type": "code",
   "execution_count": 125,
   "metadata": {},
   "outputs": [
    {
     "data": {
      "text/plain": [
       "0.3128"
      ]
     },
     "execution_count": 125,
     "metadata": {},
     "output_type": "execute_result"
    }
   ],
   "source": [
    "##############################\n",
    "# TODO\n",
    "##############################\n",
    "M = 10000\n",
    "N = 100\n",
    "\n",
    "# Echantillon\n",
    "X = np.random.randn(M, N)\n",
    "X = np.sort(X, axis=1)\n",
    "(np.cos(X[:, int(np.floor(0.8 * N))]) < 0.6).sum() / M"
   ]
  },
  {
   "cell_type": "markdown",
   "metadata": {},
   "source": [
    "$\\blacktriangleright$ Soient $(X_{i})_{i\\ge 1}$ des v.a. i.i.d. de\n",
    "  loi uniforme sur $[0,1]$. Estimer $n_0$, la plus petite valeur de\n",
    "  l'entier $n$ telle que\n",
    "  \n",
    "  $$\n",
    "    \\mathbb{P}(X_1 + \\cdots + X_n < 5) \\le 0.2\n",
    "  $$\n",
    "  \n",
    "  L'inégalité de Markov nous permet d'affirmer que $n_0 \\le 20$.\n",
    "  \n",
    "  On pourra donc simuler $M \\times 20$ v.a., utiliser les fonctions\n",
    "  `numpy.cumsum(., axis=1)` et `numpy.mean(., axis=0)`, ainsi que la\n",
    "  fonction `numpy.argwhere`."
   ]
  },
  {
   "cell_type": "code",
   "execution_count": 169,
   "metadata": {},
   "outputs": [
    {
     "data": {
      "text/plain": [
       "11"
      ]
     },
     "execution_count": 169,
     "metadata": {},
     "output_type": "execute_result"
    }
   ],
   "source": [
    "##############################\n",
    "# TODO\n",
    "##############################\n",
    "M = 10000\n",
    "X = np.random.uniform(size=(M, 20))\n",
    "X = np.cumsum(X, axis=1)\n",
    "X = np.mean(X < 5, axis=0)\n",
    "np.min(np.argwhere(X <= 0.2))"
   ]
  },
  {
   "cell_type": "markdown",
   "metadata": {},
   "source": [
    "### Exercice 4. Simulation de variables aléatoires continues (II) : inversion de la fonction de répartition"
   ]
  },
  {
   "cell_type": "markdown",
   "metadata": {},
   "source": [
    "La loi de Cauchy de paramètre $a$ est la loi de densité\n",
    "\n",
    "$$\n",
    "f_a(x) = \\frac 1 \\pi \\frac a{x^2+a^2}\n",
    "$$\n",
    "\n",
    "sur $\\mathbb R$. \n",
    "\n",
    "$\\blacktriangleright$ Donner la fonction de répartition de la loi de Cauchy.\n",
    "\n",
    "$\\blacktriangleright$ Simuler un grand nombre de variables aléatoires de loi de Cauchy de paramètre $a$, représenter l'histogramme associé et le comparer à la densité.\n",
    "\n",
    "$Rappel$: on rappelle que si $U$ est une v.a. uniforme sur $(0,1)$ et $F$ la fonction de répartition d'une loi $\\mu$, alors la variable aléatoire $F^{-1}(U)$ est distribuée selon $\\mu$."
   ]
  },
  {
   "cell_type": "code",
   "execution_count": 199,
   "metadata": {},
   "outputs": [
    {
     "data": {
      "text/plain": [
       "[<matplotlib.lines.Line2D at 0x1f1b33929c8>]"
      ]
     },
     "execution_count": 199,
     "metadata": {},
     "output_type": "execute_result"
    },
    {
     "data": {
      "image/png": "[encoded data removed]",
      "text/plain": [
       "<Figure size 432x288 with 1 Axes>"
      ]
     },
     "metadata": {
      "needs_background": "light"
     },
     "output_type": "display_data"
    }
   ],
   "source": [
    "##############################\n",
    "# TODO\n",
    "##############################\n",
    "N = 10000\n",
    "a = 1\n",
    "n_columns = int(2 * N ** (1 / 3))\n",
    "def repartition_cauchy(a, x):\n",
    "    return np.arctan(x / a) / np.pi + 0.5\n",
    "\n",
    "def inverse_repartition_cauchy(a, x):\n",
    "    return a * np.tan(np.pi * x)\n",
    "\n",
    "def proba(a, x):\n",
    "    return a / (x ** 2 + a ** 2) / np.pi\n",
    "\n",
    "X = np.random.uniform(size=N)\n",
    "X = inverse_repartition_cauchy(a, X)\n",
    "plt.hist(X, density=True, bins=n_colonnes, range=(-10, 10), color=\"b\", label=\"Histogramme\")\n",
    "x = np.linspace(-10, 10, num=200)\n",
    "plt.plot(x, proba(a, x))"
   ]
  },
  {
   "cell_type": "markdown",
   "metadata": {},
   "source": [
    "### Exercice 5. Loi des grands nombres"
   ]
  },
  {
   "cell_type": "markdown",
   "metadata": {},
   "source": [
    "On rappelle que si $(X_n)$ est une suite de variables aléatoires indepéndantes identiquement distribuées intégrables et ayant une espérance $m$, alors la suite de variables\n",
    "aléatoires\n",
    "\n",
    "$$\n",
    "\\bar X_n = \\frac 1 n (X_1 + \\cdots + X_n)\n",
    "$$\n",
    "\n",
    "converge presque sûrement vers $m$ lorsque $n$ tend vers\n",
    "l'infini.\n",
    "\n",
    "Simuler un grand nombre $N$ de variables aléatoires de loi uniforme sur $[0,1]$, tracer sur un même graphe la représentation de la suite $n \\mapsto \\bar X_n$ pour $n$ variant de $1$ à $N$ et la courbe\n",
    "d'équation $y=m$, et observer cette convergence.\n",
    "\n",
    "On pourra utiliser la fonction `axhline(y)` de `matplotlib.pyplot` qui trace une droite horizontale à la hauteur `y`, ainsi que la fonction `cumsum` de `numpy`."
   ]
  },
  {
   "cell_type": "code",
   "execution_count": 209,
   "metadata": {},
   "outputs": [
    {
     "data": {
      "image/png": "[encoded data removed]",
      "text/plain": [
       "<Figure size 432x288 with 1 Axes>"
      ]
     },
     "metadata": {
      "needs_background": "light"
     },
     "output_type": "display_data"
    }
   ],
   "source": [
    "n = 1000\n",
    "X = np.random.uniform(size=n)\n",
    "\n",
    "##################################################\n",
    "# Suite des sommes cumulées pour n de 1 à N \n",
    "# divisée par le vecteur d'entiers correspondant.\n",
    "##################################################\n",
    "moyenne_emp = np.cumsum(X) / np.arange(1, n + 1)\n",
    "\n",
    "plt.plot(np.arange(1, n+1), moyenne_emp , label=\"Moyenne empirique\")\n",
    "plt.axhline(0.5, color='red')\n",
    "plt.legend(loc='best')\n",
    "plt.show()\n",
    "#plt.plot(np.arange(1, n+1), np.ones(n) * 0.5, label='0.5')"
   ]
  },
  {
   "cell_type": "markdown",
   "metadata": {},
   "source": [
    "### Exercice 6. Théorème central limite"
   ]
  },
  {
   "cell_type": "markdown",
   "metadata": {},
   "source": [
    "#### 6.1 Le théorème"
   ]
  },
  {
   "cell_type": "markdown",
   "metadata": {},
   "source": [
    "On rappelle que si $(X_n)$ est une suite de variables aléatoires\n",
    "indepéndantes identiquement distribuées et de carré\n",
    "intégrable, d'espérance et écart-type communs notés\n",
    "respectivement $m$ et $s$, alors en définissant\n",
    "\n",
    "$$\\bar X_n = \\frac 1 n (X_1 + \\cdots + X_n)$$\n",
    "\n",
    "la suite\n",
    "\n",
    "$$\\sqrt{n}(\\bar X_n - m) / s$$\n",
    "\n",
    "\n",
    "converge en loi vers la loi gaussienne standard lorsque $n$ tend vers\n",
    "l'infini.\n",
    "\n",
    "1. Lorsque la loi des $X_i$ est la loi uniforme sur $[-\\sqrt{3},\n",
    "  \\sqrt{3}]$, que valent $m$ et $s$?\n",
    "  Visualiser, pour $n \\gg 1$, la proximité de la loi de $\\sqrt{n}(\\bar X_n - m) / s$\n",
    "  avec la loi gaussienne standard (à l'aide d'un histogramme, en simulant un grand\n",
    "  nombre de réalisations indépendantes de $\\sqrt{n}(\\bar X_n - m) /\n",
    "  s$).\n",
    "  \n",
    "  \n",
    "2. Afin d'illustrer la différence de nature profonde entre la\n",
    "  convergence presque sûre et la convergence en loi, tracer la\n",
    "  représentation d'une réalisation de la suite $\\sqrt{n}(\\bar X_n-m)/s$,\n",
    "  pour $n$ variant de $1$ à $N$. Cette suite semble-t-elle converger?"
   ]
  },
  {
   "cell_type": "code",
   "execution_count": 218,
   "metadata": {},
   "outputs": [
    {
     "data": {
      "image/png": "[encoded data removed]",
      "text/plain": [
       "<Figure size 432x288 with 1 Axes>"
      ]
     },
     "metadata": {
      "needs_background": "light"
     },
     "output_type": "display_data"
    },
    {
     "data": {
      "image/png": "[encoded data removed]",
      "text/plain": [
       "<Figure size 432x288 with 1 Axes>"
      ]
     },
     "metadata": {
      "needs_background": "light"
     },
     "output_type": "display_data"
    }
   ],
   "source": [
    "N = int(1.e4)\n",
    "M = int(1.e3)\n",
    "\n",
    "###################\n",
    "# Question 6.1.1\n",
    "###################\n",
    "X = np.random.uniform(-np.sqrt(3), np.sqrt(3), size=(M, N))\n",
    "X = np.mean(X, axis=1)\n",
    "X = np.sqrt(N) * X / 1\n",
    "\n",
    "plt.hist(X, bins=int(2 * M**(1 / 3)), density=True, label='hist')\n",
    "x = np.linspace(-2, 2, 200)\n",
    "plt.plot(x, stats.norm.pdf(x))\n",
    "plt.show()\n",
    "\n",
    "###################\n",
    "# Question 6.1.2\n",
    "###################\n",
    "N = 1000000\n",
    "X = np.random.uniform(-np.sqrt(3), np.sqrt(3), size=N)\n",
    "X = np.cumsum(X) / np.sqrt(np.arange(1, N + 1)) / 1\n",
    "plt.plot(X)\n",
    "plt.show()"
   ]
  },
  {
   "cell_type": "markdown",
   "metadata": {},
   "source": [
    "#### 6.2 Intervalles de confiance asymptotiques\n",
    "\n",
    "Le théorème central limite explique que pour $n$ assez grand,\n",
    "$\\bar X_n - \\mathbb E[X]$ est approximativement distribuée comme une variable\n",
    "aléatoire normale standard multipliée par $\\frac s {\\sqrt{n}}$. Ainsi,\n",
    "puisque pour $G$ une variable aléatoire normale standard, on a\n",
    "\n",
    "$$\n",
    "  \\mathbb P (-1.96 \\leq G \\leq 1.96) \\approx 0.95,\n",
    "$$\n",
    "\n",
    "on sait que pour $n$ assez grand, on a approximativement\n",
    "\n",
    "$$\n",
    "  \\mathbb P \\Big( \\bar X_n - \\frac{1.96 \\, s}{\\sqrt{n}}\n",
    "  \\leq \\mathbb E[X] \\leq\n",
    "  \\bar X_n + \\frac{1.96 \\, s}{\\sqrt{n}} \\Big) \\approx 0.95.\n",
    "$$\n",
    "\n",
    "On dit alors que l'intervalle\n",
    "\n",
    "$$\n",
    "  \\Bigl[ \\bar X_n - \\frac{1.96 \\, s}{\\sqrt{n}}, \\,\n",
    "  \\bar X_n + \\frac{1.96 \\, s}{\\sqrt{n}} \\Bigr]\n",
    "$$\n",
    "\n",
    "est un intervalle de confiance asymptotique au niveau 95% pour $\\mathbb E[X]$: précisément, \n",
    "avec une probabilité asymptotiquement égale à 0.95, le paramètre $\\mathbb E[X]$ sera bien\n",
    "entre les bornes (aléatoires) de cet intervalle.\n",
    "\n",
    "Bien souvent, l'écart-type $s$ n'est pas plus connu que l'espérance $\\mathbb E[X]$.\n",
    "On peut alors le remplacer par un estimateur, comme\n",
    "\n",
    "$$\n",
    "  \\widehat {s} = \\Big( \\frac 1 n \\sum_{i=1}^n (X_i - \\bar X_n)^2\n",
    "  \\Big)^{1/2}. \n",
    "$$\n",
    "\n",
    "On suppose encore que les $X_i$ sont des v.a. i.i.d. de loi uniforme\n",
    "sur $[0,1]$.\n",
    "\n",
    "$\\blacktriangleright$ Donner un intervalle de confiance pour l'estimation de $\\mathbb E[X]$.\n",
    "\n",
    "$\\blacktriangleright$ Afin d'illustrer la notion d'intervalle de confiance à 95%, fixer des valeurs pour $n$ et $ M$, simuler $M$ fois $\\bar X_n$, et vérifier que dans 95% des cas,\n",
    "$\\mathbb E[X]$ se situe bien entre $\\bar X_n - \\frac{1.96 \\, \\hat s}{\\sqrt{n}}$ et\n",
    "$\\bar X_n + \\frac{1.96 \\, \\hat s}{\\sqrt{n}}$."
   ]
  },
  {
   "cell_type": "code",
   "execution_count": 346,
   "metadata": {},
   "outputs": [
    {
     "name": "stdout",
     "output_type": "stream",
     "text": [
      "0.44366092529155904 0.5529955214763902\n",
      "0.9434\n"
     ]
    }
   ],
   "source": [
    "#####################################\n",
    "# Intervalle de confiance pour E[X]\n",
    "#####################################\n",
    "N = 100\n",
    "X = np.random.rand(N)\n",
    "\n",
    "# Niveau de l'intervalle de confiance asymptotique\n",
    "alpha = 0.05\n",
    "\n",
    "# Quantile de la gaussienne standard (approx 1.96 pour alpha = 0.05)\n",
    "q_alpha = stats.norm.ppf(1 - alpha / 2)\n",
    "\n",
    "\n",
    "#####################################################\n",
    "# TO DO: compléter avec le calcul de l'intervalle de \n",
    "# confiance pour E[X]\n",
    "#####################################################\n",
    "s = np.mean((X - X.mean()) ** 2) ** (1 / 2)\n",
    "print(X.mean() - q_alpha * s / np.sqrt(N), X.mean() + q_alpha * s / np.sqrt(N))\n",
    "\n",
    "#####################################\n",
    "# Vérification\n",
    "#####################################\n",
    "M = 5000\n",
    "X = np.random.rand(M, N)\n",
    "\n",
    "# TO DO: compléter\n",
    "s = X.std(axis=1)\n",
    "X = ((X.mean(axis=1) - q_alpha * s / np.sqrt(N)) < 0.5) * ((X.mean(axis=1) + q_alpha * s / np.sqrt(N)) > 0.5)\n",
    "print(X.sum() / M)"
   ]
  },
  {
   "cell_type": "markdown",
   "metadata": {},
   "source": [
    "### Exercice 7. Des approximations utiles pour le calcul de probabilités d’événements rares : approximation gaussienne vs poissonienne"
   ]
  },
  {
   "cell_type": "markdown",
   "metadata": {},
   "source": [
    "Soient $X_1, X_2, \\cdots$ des v.a. i.i.d. de loi de Bernoulli de paramètre $p$ et $S_n=X_1+\\cdots+X_n$. Par ce qui précède, pour de grandes valeurs de $n$, la loi de $S_n$ peut être approchée par une loi de Poisson ou par une loi gaussienne, selon que $p$ soit faible ou pas.\n",
    "\n",
    "Illustrer ces deux paradigmes en affichant, sur une même figure, les histogrammes en bâtons de la loi de $S_n$ et de\n",
    "la loi de Poisson correspondante, ainsi que la densité de la loi gaussienne correspondante."
   ]
  },
  {
   "cell_type": "code",
   "execution_count": 359,
   "metadata": {},
   "outputs": [
    {
     "data": {
      "image/png": "[encoded data removed]",
      "text/plain": [
       "<Figure size 432x288 with 1 Axes>"
      ]
     },
     "metadata": {
      "needs_background": "light"
     },
     "output_type": "display_data"
    }
   ],
   "source": [
    "n = 100\n",
    "\n",
    "p = 0.3    # regime gaussien\n",
    "pg = 0.01  # regime poisson \n",
    "\n",
    "mean_binomial = n * p\n",
    "sd_binomial = np.sqrt(n * p * (1. - p))\n",
    "\n",
    "## TO DO: compléter\n",
    "M = 1000\n",
    "X = np.random.binomial(n, p, size=M)\n",
    "plt.hist(X, bins=int(M ** (1 / 3)), density=True, label='Histogram')\n",
    "x = np.linspace(1, 50, 1000)\n",
    "plt.plot(x, stats.norm.pdf(x, loc= mean_binomial, scale=sd_binomial), label='gaussian')\n",
    "x = np.arange(0, 50)\n",
    "plt.plot(x, stats.poisson.pmf(x, mu = mean_binomial), color='red', label='Poisson')\n",
    "plt.legend(loc=\"best\")\n",
    "plt.show()"
   ]
  },
  {
   "cell_type": "markdown",
   "metadata": {},
   "source": [
    "### Exercice 8. Application de la méthode de Monte-Carlo"
   ]
  },
  {
   "cell_type": "markdown",
   "metadata": {},
   "source": [
    "#### 8.1 Calcul d'intégrales\n",
    "\n",
    "On veut calculer l'intégrale, par rapport à la mesure de Lebesgue sur $[0,1]^{10}$, de la fonction\n",
    "$f(x)=\\pi^2(x_1+\\cdots+x_{10})^2\\sqrt{x_1^2+\\cdots+x_{10}^2}$. Soit $I$ la valeur de cette intégrale.\n",
    "    \n",
    "(a) On remarquera qu'il sera difficile de résoudre ce problème avec des sommes de\n",
    "    Riemann, comme on le fait pour les intégrales de fonctions (suffisamment régulières) sur $\\mathbb R$.\n",
    "    \n",
    "(b) Donner, en utilisant les fonctions `numpy.sum(., axis=...)` (somme des lignes ou des colonnes d'un array),\n",
    "    `numpy.linalg.norm(., axis=...)` (norme euclidienne des\n",
    "    lignes ou des colonnes) et `numpy.std` (ecart-type), des valeurs approchées de\n",
    "    l'espérance et la variance de $f(U)$, avec $U$ variable\n",
    "    aléatoire de loi uniforme sur $[0,1]^{10}$. En déduire un\n",
    "    intervalle de confiance à 95% pour $I$. Donner une estimation\n",
    "    du nombre de simulations nécessaires pour que l'intervalle de\n",
    "    confiance ait une amplitude au plus égale à 2% de $I$."
   ]
  },
  {
   "cell_type": "code",
   "execution_count": 405,
   "metadata": {},
   "outputs": [
    {
     "name": "stdout",
     "output_type": "stream",
     "text": [
      "483.1781405501263 485.6269427227436\n"
     ]
    }
   ],
   "source": [
    "###############\n",
    "# TODO\n",
    "###############\n",
    "M = 1000\n",
    "N = 100\n",
    "X = np.random.rand(N, M, 10)\n",
    "X = np.mean(np.pi ** 2 * np.sum(X, axis=2) ** 2 * np.sqrt(np.sum(X * X, axis=2)), axis=1)\n",
    "\n",
    "s = X.std()\n",
    "print(X.mean() - q_alpha * s / np.sqrt(N), X.mean() + q_alpha * s / np.sqrt(N))"
   ]
  },
  {
   "cell_type": "markdown",
   "metadata": {},
   "source": [
    "#### 8.2 Probabilités multivariés\n",
    "\n",
    "Calculer la probabilité (avec un intervalle de confiance) qu'un vecteur aléatoire gaussien\n",
    "centré de taille $9$ et de matrice de covariance $\\mbox{diag}([1,2,3,4,5,4,3,2,1]) + M$, avec\n",
    "\n",
    "$$M = \\left[\\frac 1{10(i+j)} \\right]_{1\\le i,j\\le 9}$$\n",
    "\n",
    "se trouve dans l'hypercube $[-5,3]^9$. L'amplitude de l'intervalle pourra atteindre 4% de la probabilité estimée. \n",
    "\n",
    "On pourra utiliser la fonction `multivariate_normal` de `numpy.random` pour simuler des vecteurs gaussiens."
   ]
  },
  {
   "cell_type": "code",
   "execution_count": 392,
   "metadata": {},
   "outputs": [
    {
     "data": {
      "text/plain": [
       "0.701"
      ]
     },
     "execution_count": 392,
     "metadata": {},
     "output_type": "execute_result"
    }
   ],
   "source": [
    "###############\n",
    "# TODO\n",
    "###############\n",
    "V = np.diag([1., 2., 3., 4., 5., 4., 3., 2., 1.])\n",
    "M = np.array([[1 / 10 / (i + j) for i in range(1, 10)] for j in range(1, 10)])\n",
    "V += M\n",
    "\n",
    "N = 1000\n",
    "X = np.random.multivariate_normal(mean=np.zeros(9), cov=V, size=N)\n",
    "X = (X > -5) * (X < 3)\n",
    "(X.sum(axis=1) == 9).sum() / N\n"
   ]
  },
  {
   "cell_type": "markdown",
   "metadata": {},
   "source": [
    "#### 8.3  Records pour les composantes d'un vecteur aléatoire\n",
    "\n",
    "Soit $d$ un entier positif (on fixera par exemple $d=10$). Pour $x=(x_1,\\cdots,x_d)$ un vecteur réel, on appelle $record$ de $x$ tout indice $i$ dans ${1,\\cdots,d}$ tel que\n",
    "$x_i=\\max(x_1,\\cdots,x_i)$. On considère ici le cas où $x$ est\n",
    "un vecteur aléatoire à coordonnées indépendantes uniformes sur $[0,1]$.\n",
    "\n",
    "(a) Donner, en appliquant une méthode Monte-Carlo, le\n",
    "    nombre moyen d'indices $i$ dans $\\{2,\\cdots,d\\}$ tels que $i$ et\n",
    "    $i-1$ sont tous les deux des records. \n",
    "    L'amplitude de l'intervalle de confiance pourra atteindre 4% du nombre estimé.\n",
    "    On pourra par exemple utiliser la fonction `numpy.maximum.accumulate(., axis=...)` qui\n",
    "    permet de calculer le maximum cumulé des lignes ou colonnes d'un tableau.\n",
    "    \n",
    "(b) Donner la loi du nombre d'indices $i$ dans $\\{2,\\cdots,d\\}$\n",
    "    tels que $i$ et $i-1$ sont tous les deux des records (en affichant\n",
    "    l'histogramme).\n",
    "\n",
    "(c) Faire la même chose avec un vecteur aléatoire $x$\n",
    "    dont les coordonnées ne sont pas des v.a. i.i.d. (par exemple un\n",
    "    vecteur gaussien d'espérance et de matrice de covariance non\n",
    "    standards)."
   ]
  },
  {
   "cell_type": "code",
   "execution_count": 434,
   "metadata": {},
   "outputs": [
    {
     "name": "stdout",
     "output_type": "stream",
     "text": [
      "0.911\n"
     ]
    },
    {
     "data": {
      "image/png": "[encoded data removed]",
      "text/plain": [
       "<Figure size 432x288 with 1 Axes>"
      ]
     },
     "metadata": {
      "needs_background": "light"
     },
     "output_type": "display_data"
    }
   ],
   "source": [
    "###############\n",
    "# TODO (a) et (b)\n",
    "###############\n",
    "N = 1000\n",
    "d = 10\n",
    "X = np.random.rand(N, d)\n",
    "Y = (np.maximum.accumulate(X, axis=1))\n",
    "X = X == Y\n",
    "X = (X[:, 1:] * X[:, :-1]).sum(axis=1)\n",
    "#(a)\n",
    "print(X.mean())\n",
    "#(b)\n",
    "plt.hist(X, bins=[0, 1, 2, 3, 4, 5, 6, 7, 8, 9])\n",
    "plt.show()"
   ]
  },
  {
   "cell_type": "code",
   "execution_count": null,
   "metadata": {},
   "outputs": [],
   "source": [
    "##################\n",
    "# TODO (c)\n",
    "##################"
   ]
  },
  {
   "cell_type": "markdown",
   "metadata": {},
   "source": [
    "### Exercice 9. Simulation de variables aléatoires continues (III): la méthode de rejet"
   ]
  },
  {
   "cell_type": "markdown",
   "metadata": {},
   "source": [
    "La loi de Wigner est la loi de support $[-2, 2]$ et de densité\n",
    "$\\frac 1{2\\pi} \\sqrt{4 - x^2}$. \n",
    "Simuler un grand nombre de variables aléatoires de loi de Wigner, représenter l'histogramme associé\n",
    "et le comparer à la densité.\n",
    "\n",
    "$Rappel$: Pour simuler une v.a. de densité $f$ de support $[a,b]$\n",
    "et telle que $0\\leq f\\leq M$, on peut utiliser une suite $(U_n, V_n)_{n\\geq 1}$\n",
    "de couples indépendants de variables aléatoires telles que\n",
    "pour tout $n$, $U_n, V_n$ sont indépendantes et de lois uniformes\n",
    "sur respectivement $[a,b]$ et $[0,M]$.\n",
    "On pose\n",
    "\n",
    "$$\\tau= \\min\\{n\\geq 1 : \\, V_n\\leq f(U_n)\\},$$\n",
    "\n",
    "la variable aléatoire $U_{\\tau}$ suit alors la loi de densité $f$. \n",
    "\n",
    "C'est la méthode de simulation par rejet. Notons que plus $M$ est petit, plus cette\n",
    "méthode est rapide: on a donc intér\\^et à choisir $M=\\|f\\|_\\infty$."
   ]
  },
  {
   "cell_type": "code",
   "execution_count": null,
   "metadata": {},
   "outputs": [],
   "source": [
    "###############\n",
    "# TODO\n",
    "###############"
   ]
  }
 ],
 "metadata": {
  "kernelspec": {
   "display_name": "Python 3",
   "language": "python",
   "name": "python3"
  },
  "language_info": {
   "codemirror_mode": {
    "name": "ipython",
    "version": 3
   },
   "file_extension": ".py",
   "mimetype": "text/x-python",
   "name": "python",
   "nbconvert_exporter": "python",
   "pygments_lexer": "ipython3",
   "version": "3.7.4"
  },
  "varInspector": {
   "cols": {
    "lenName": "20",
    "lenType": "20",
    "lenVar": "80"
   },
   "kernels_config": {
    "python": {
     "delete_cmd_postfix": "",
     "delete_cmd_prefix": "del ",
     "library": "var_list.py",
     "varRefreshCmd": "print(var_dic_list())"
    },
    "r": {
     "delete_cmd_postfix": ") ",
     "delete_cmd_prefix": "rm(",
     "library": "var_list.r",
     "varRefreshCmd": "cat(var_dic_list()) "
    }
   },
   "position": {
    "height": "144.35px",
    "left": "1913.25px",
    "right": "20px",
    "top": "128px",
    "width": "350px"
   },
   "types_to_exclude": [
    "module",
    "function",
    "builtin_function_or_method",
    "instance",
    "_Feature"
   ],
   "window_display": true
  }
 },
 "nbformat": 4,
 "nbformat_minor": 2
}
