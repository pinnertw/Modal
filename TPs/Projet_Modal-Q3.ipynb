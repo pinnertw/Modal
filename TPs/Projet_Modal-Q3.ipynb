{
 "cells": [
  {
   "cell_type": "code",
   "execution_count": 1,
   "metadata": {
    "colab": {},
    "colab_type": "code",
    "id": "g1gxAXcgYBTY"
   },
   "outputs": [],
   "source": [
    "import numpy as np\n",
    "import math\n",
    "import matplotlib.pyplot as plt"
   ]
  },
  {
   "cell_type": "code",
   "execution_count": 2,
   "metadata": {
    "colab": {},
    "colab_type": "code",
    "id": "t4VEAteSz9sG"
   },
   "outputs": [],
   "source": [
    "# On identifie le processus par le processus de Poisson composé, qui finit à un temps fixé T\n",
    "# On crée des fonctions pour modéliser le processus.\n",
    "\n",
    "#### On définit nu, la loi des incréments\n",
    "# Ancien : plus lent\n",
    "saut_1_ancien = lambda x: np.random.choice([-1, 1], size=x, replace=True, p=[0.5, 0.5]) #correspond à m=1\n",
    "saut_2_ancien = lambda x: np.random.choice([-3, -2, -1, 1, 2, 3], size=x, replace=True, p=0.5*np.array([1/6, 1/3, 1/2, 1/2, 1/3, 1/6])) #correspond à m=3\n",
    "\n",
    "# Nouveau : beaucoup plus vite\n",
    "value_1 = np.array([-1, 1])\n",
    "value_2 = np.array([-3, -2, -2, -1, -1, -1, 1, 1, 1, 2, 2, 3])\n",
    "saut_1 = lambda x : value_1[np.random.randint(low=2, size=x)]\n",
    "saut_2 = lambda x : value_2[np.random.randint(low=12, size=x)]\n",
    "\n",
    "# Les paramètres\n",
    "P0 = 35\n",
    "T = 4*60*60\n",
    "lamb = 1/300"
   ]
  },
  {
   "cell_type": "code",
   "execution_count": 3,
   "metadata": {
    "colab": {},
    "colab_type": "code",
    "id": "9lum8xK7gq-O"
   },
   "outputs": [],
   "source": [
    "P0 = 35\n",
    "T = 4*60*60\n",
    "lamb = 1/300\n",
    "N=100\n",
    "alpha = -0.875\n",
    "\n",
    "value_2 = np.array([1, 1, 1, 2, 2, 3])\n",
    "saut_1 = lambda x: np.ones(shape=x) #correspond à m=1\n",
    "saut_2 = lambda x: value_2[np.random.randint(low=6, size=x)] #correspond à m=3"
   ]
  },
  {
   "cell_type": "code",
   "execution_count": 4,
   "metadata": {
    "colab": {},
    "colab_type": "code",
    "id": "fGPAnuNOJuZ1"
   },
   "outputs": [],
   "source": [
    "def part_interaction(N,saut,P0,M,alpha,mu):\n",
    "    #mu: paramètre des poids G_p\n",
    "    # Tirages de M x N v.a. suivant la loi \"saut\" et de MxN v.a. delta_n représentant le changement de signe du saut par rapport au signe du saut précédent\n",
    "    # seront utilisees pour construire les chaînes de Markov\n",
    "    xi= saut((M, N))   #N: horizon temporel (nombre de sauts)\n",
    "    delta = -1+2*np.random.binomial(1,(1+alpha)/2,size=(M,N-1))\n",
    "\n",
    "    ###############################################################################\n",
    "    ## En ponderant les trajectoires hautes : Estimation via G(X)=e^{alpha X_p}\n",
    "    ###############################################################################\n",
    "\n",
    "    # P stocke TOUTES LES VALEURS pour chacune des M chaines, dans l'optique du calcul de G_p \n",
    "    # J_hat stocke la dernière valeur du signe de saut (saut vers le bas ou vers le haut) pour chacune des M chaînes\n",
    "    P = np.zeros((M,N))\n",
    "\n",
    "    J_hat = -1+2*np.random.binomial(1,0.5,size=M) #le premier saut est vers le bas ou vers le haut avec la même probabilité\n",
    "\n",
    "    # On initialise avec la valeur du prix après le premier saut\n",
    "    P[:,0] = P0+J_hat*xi[:,0]\n",
    "        \n",
    "    facteurDroite = 1 #produit des moyennes des pondérations à chaque itération\n",
    "\n",
    "    for k in range(N-1):\n",
    "                \n",
    "        weights = np.exp(-mu*P[:,k])\n",
    "        \n",
    "        facteurDroite *= np.mean(weights)\n",
    "        \n",
    "        weights /= np.sum(weights)\n",
    "\n",
    "        I = np.random.choice(np.arange(M),size=M,replace=True,p=weights)\n",
    "        \n",
    "        #sélection\n",
    "        P = P[I,:]\n",
    "        J_hat=J_hat[I]\n",
    "\n",
    "        #mutation\n",
    "\n",
    "        J_hat=J_hat*delta[:,k]\n",
    "        P[:,k+1] = P[:,k] +xi[:,k+1]*J_hat\n",
    "\n",
    "    # pour ajuster mu; il faut que le prix final soit souvent négatif \n",
    "    # mais pas qu'il parte trop loin dans les négatifs\n",
    "    print(\"prix final=\",P[:10,-1])\n",
    "    tabFacteursGauche = np.exp(mu*np.sum(P[:,:-1],axis=1)) #tableau des 1/(\\prod_{k=0}^{N-2} G_k)\n",
    "    proba_negatif = np.sum(tabFacteursGauche[np.min(P,axis=1)<0])/M * facteurDroite\n",
    "    return proba_negatif"
   ]
  },
  {
   "cell_type": "code",
   "execution_count": 14,
   "metadata": {
    "colab": {
     "base_uri": "https://localhost:8080/",
     "height": 51
    },
    "colab_type": "code",
    "id": "aS7A202Xyw1W",
    "outputId": "b315739f-1e8b-4170-aaa9-69a14f20d222"
   },
   "outputs": [
    {
     "name": "stdout",
     "output_type": "stream",
     "text": [
      "prix final= [-19.  12. -14. -26.  -6.  -3.  -9.   9.  -5.  -5.]\n",
      "4.1720376497474846e-05\n",
      "CPU times: user 20min 47s, sys: 2min 34s, total: 23min 21s\n",
      "Wall time: 24min 22s\n"
     ]
    }
   ],
   "source": [
    "%%time\n",
    "M= int(1e7)\n",
    "P0= 35\n",
    "N=100\n",
    "mu = 0.4/P0 #ajusté empiriquement\n",
    "\n",
    "#proba_negatif = Q3_proba_negatif(N,saut_2,P0,M,alpha)\n",
    "proba_negatif = part_interaction(N,saut_2,P0,M,alpha,mu)\n",
    "print(proba_negatif)\n",
    "#Pour P0=10 et m=3 et M=10^5 et N=100, donne 0.2262 avec MC naif\n",
    "#Donne 0.2331 avec méthode particules en interaction (mu=0.03/P0)\n",
    "#pour P0=35, particules en interaction donne 5.027933935719282e-05"
   ]
  },
  {
   "cell_type": "code",
   "execution_count": 14,
   "metadata": {},
   "outputs": [
    {
     "name": "stdout",
     "output_type": "stream",
     "text": [
      "prix final= [33. 21. 29. 29. 33. 33. 37. 33. 25. 33.]\n",
      "0.0\n",
      "CPU times: user 21min, sys: 3min 27s, total: 24min 27s\n",
      "Wall time: 32min 20s\n"
     ]
    }
   ],
   "source": [
    "%%time\n",
    "M= int(1e7)\n",
    "P0= 35\n",
    "N=100\n",
    "mu = 0.4/P0 #ajusté empiriquement\n",
    "proba_negatif = part_interaction(N,saut_1,P0,M,alpha,mu)\n",
    "print(proba_negatif)"
   ]
  },
  {
   "cell_type": "code",
   "execution_count": 5,
   "metadata": {
    "colab": {},
    "colab_type": "code",
    "id": "jmzAzzB5roI-"
   },
   "outputs": [],
   "source": [
    "#Monte-Carlo naïf - Méthode 1\n",
    "\n",
    "def Q3_proba_negatif(N,saut,P0,M,alpha): \n",
    "    # Sauts\n",
    "    increments = saut((M, N))\n",
    "    # Signes\n",
    "    signes = -1 + 2 * np.random.binomial(1, (1 + alpha) / 2, size=(M, N)) # 1 : rester le même signe\n",
    "    signes[:, 0] = -1 + np.random.binomial(1, 0.5, size=M) * 2 # Début : -1 ou 1 de proba 1/2\n",
    "    signes = np.cumprod(signes, axis=1)\n",
    "    # Prix -> P0 + sauts*signes\n",
    "    prix = P0 + np.cumsum(increments * signes, axis=1)\n",
    "    # La probabilité d'avoir un prix < 0\n",
    "    proba_negatif = np.mean(prix.min(axis=1) < 0)\n",
    "    \n",
    "    return proba_negatif, prix[:, -1] # prix[:, -1] : prix final\n"
   ]
  },
  {
   "cell_type": "code",
   "execution_count": 12,
   "metadata": {},
   "outputs": [
    {
     "name": "stdout",
     "output_type": "stream",
     "text": [
      "4.58e-05\n",
      "-2 3 67 72\n",
      "CPU times: user 30.1 s, sys: 8.66 s, total: 38.7 s\n",
      "Wall time: 41.8 s\n"
     ]
    }
   ],
   "source": [
    "%%time\n",
    "M= int(1e7)\n",
    "P0= 35\n",
    "N=100\n",
    "proba_negatif, prix = Q3_proba_negatif(N,saut_2,P0,M,alpha)\n",
    "print(proba_negatif)\n",
    "prix.sort()\n",
    "print(prix[int(M * 1e-5) - 1], prix[int(M * 1e-4) - 1], prix[int(M - M * 1e-4)], prix[int(M - M * 1e-5)])"
   ]
  },
  {
   "cell_type": "code",
   "execution_count": 13,
   "metadata": {},
   "outputs": [
    {
     "name": "stdout",
     "output_type": "stream",
     "text": [
      "0.0\n",
      "23.0 25.0 45.0 47.0\n",
      "CPU times: user 21.8 s, sys: 7.49 s, total: 29.3 s\n",
      "Wall time: 31.5 s\n"
     ]
    }
   ],
   "source": [
    "%%time\n",
    "M= int(1e7)\n",
    "P0= 35\n",
    "N=100\n",
    "proba_negatif, prix = Q3_proba_negatif(N,saut_1,P0,M,alpha)\n",
    "print(proba_negatif)\n",
    "prix.sort()\n",
    "print(prix[int(M * 1e-5) - 1], prix[int(M * 1e-4) - 1], prix[int(M - M * 1e-4)], prix[int(M - M * 1e-5)])"
   ]
  },
  {
   "cell_type": "markdown",
   "metadata": {
    "colab_type": "text",
    "id": "59n-1VM-jxH7"
   },
   "source": [
    "### Estimation de quantiles du prix final après N sauts"
   ]
  },
  {
   "cell_type": "code",
   "execution_count": 0,
   "metadata": {
    "colab": {},
    "colab_type": "code",
    "id": "oGOBHd3zg3bq"
   },
   "outputs": [],
   "source": [
    "#Quantile simple \n",
    "\n",
    "\n",
    "def Quantile_naif_2(seuil,N,saut,P0,M,alpha):\n",
    "\n",
    "    liste_P_t = np.zeros(M)\n",
    "    for i in range(M):\n",
    "        signes = -1+2*np.random.binomial(1,(1+alpha)/2,size=N)\n",
    "        signes[0] = -1+np.random.binomial(1,0.5)*2\n",
    "        signes = np.cumprod(signes)\n",
    "        increments = saut(N)\n",
    "        \n",
    "        liste_P_t[i] = np.sum(increments*signes)+P0 \n",
    "    liste_P_t = np.sort(liste_P_t)\n",
    "    return liste_P_t[int(np.ceil(M*seuil))-1],liste_P_t[int(np.ceil(M*(1-seuil)))-1]"
   ]
  },
  {
   "cell_type": "code",
   "execution_count": 0,
   "metadata": {
    "colab": {
     "base_uri": "https://localhost:8080/",
     "height": 34
    },
    "colab_type": "code",
    "id": "BocEYFqCsnWW",
    "outputId": "d52fd099-8fd3-422a-a274-d064e2fa4294"
   },
   "outputs": [
    {
     "name": "stdout",
     "output_type": "stream",
     "text": [
      "Quantiles de niveau -0.875 : (24.2 +/ 0.9797958971132713, 45.4 +/ 1.2)\n"
     ]
    }
   ],
   "source": [
    "seuil = 1e-4\n",
    "M=int(1e4)\n",
    "nbIter = 10\n",
    "quantiles = np.zeros((nbIter,2))\n",
    "\n",
    "for i in range(nbIter):\n",
    "    quantiles[i][0],quantiles[i][1] = Quantile_naif_2(seuil,N,saut_1,P0,M,alpha)\n",
    "\n",
    "estimateur_quantiles = np.mean(quantiles,axis=0)\n",
    "erreur = np.std(quantiles,axis=0)\n",
    "print(\"Quantiles de niveau {} : ({} +/ {:08.7f}, {} +/ {})\".format(alpha,estimateur_quantiles[0],erreur[0],estimateur_quantiles[1],erreur[1]))"
   ]
  },
  {
   "cell_type": "code",
   "execution_count": 0,
   "metadata": {
    "colab": {
     "base_uri": "https://localhost:8080/",
     "height": 34
    },
    "colab_type": "code",
    "id": "wXRHajmTcG6A",
    "outputId": "3a673ff5-3af3-4959-b93f-35d98cf1ef23"
   },
   "outputs": [
    {
     "name": "stdout",
     "output_type": "stream",
     "text": [
      "Quantiles de niveau -0.875 : (24.2 +/ 0.980, 45.4 +/ 1.2)\n"
     ]
    }
   ],
   "source": [
    "print(\"Quantiles de niveau {} : ({} +/ {:04.3f}, {} +/ {})\".format(alpha,estimateur_quantiles[0],erreur[0],estimateur_quantiles[1],erreur[1]))"
   ]
  },
  {
   "cell_type": "markdown",
   "metadata": {
    "colab_type": "text",
    "id": "GiQmq9gl0gSv"
   },
   "source": [
    "### Limite macroscopique"
   ]
  },
  {
   "cell_type": "code",
   "execution_count": 0,
   "metadata": {
    "colab": {},
    "colab_type": "code",
    "id": "1nNzPWRg0_Xp"
   },
   "outputs": [],
   "source": [
    "#Monte-Carlo \n",
    "\n",
    "def Q3_proba_negatif(lamb,T,saut,P0,M,alpha): \n",
    "    liste_px_inf_0 = np.zeros(M)\n",
    "    for i in range(M):\n",
    "        N = np.random.poisson(lamb*T)\n",
    "        increments = saut(N)\n",
    "        signes = -1+2*np.random.binomial(1,(1+alpha)/2,size=N)\n",
    "        signes[0] = -1+np.random.binomial(1,0.5)*2\n",
    "        signes = np.cumprod(signes)\n",
    "        prix = P0 +np.cumsum(increments*signes)\n",
    "        if np.min(prix)<0:\n",
    "            liste_px_inf_0[i] = 1\n",
    "        liste_px_inf_0[i] = 0\n",
    "    return np.mean(liste_px_inf_0)"
   ]
  },
  {
   "cell_type": "code",
   "execution_count": 0,
   "metadata": {
    "colab": {
     "base_uri": "https://localhost:8080/",
     "height": 34
    },
    "colab_type": "code",
    "id": "kxQmSzyFtE0c",
    "outputId": "b109bb19-b278-4b76-a6d5-cdc492997412"
   },
   "outputs": [
    {
     "name": "stdout",
     "output_type": "stream",
     "text": [
      "0.0\n"
     ]
    }
   ],
   "source": [
    "T = 8*250*24*60*60\n",
    "lamb = 1/300\n",
    "M = int(1e3)\n",
    "P0=1000\n",
    "\n",
    "proba_negatif = Q3_proba_negatif(lamb,T,saut_2,P0,M,alpha)\n",
    "print(proba_negatif)"
   ]
  },
  {
   "cell_type": "code",
   "execution_count": 0,
   "metadata": {
    "colab": {},
    "colab_type": "code",
    "id": "ztdOI3dq2Lwj"
   },
   "outputs": [],
   "source": []
  }
 ],
 "metadata": {
  "colab": {
   "collapsed_sections": [
    "WX6z2Cw9oygh",
    "1EPXucHSxnK0",
    "7MNbYGKyxzsc",
    "1bthr6Ecx-FQ",
    "W44z1y2wFgPO",
    "54ss_U8OztnN",
    "mOgm7vfNzzaB",
    "f6ZpnHtBhElE",
    "ntNKzkWPzUT1",
    "sJt1_9eHz6-J",
    "9h3BmWHs0C4R",
    "fKihS64UzPW5",
    "ZDhCCbs30IxJ",
    "k1Q0VUze0Muj",
    "GoJBPfJ4T0FL",
    "GiQmq9gl0gSv"
   ],
   "machine_shape": "hm",
   "name": "Projet_Modal.ipynb",
   "provenance": []
  },
  "kernelspec": {
   "display_name": "Python 3",
   "language": "python",
   "name": "python3"
  },
  "language_info": {
   "codemirror_mode": {
    "name": "ipython",
    "version": 3
   },
   "file_extension": ".py",
   "mimetype": "text/x-python",
   "name": "python",
   "nbconvert_exporter": "python",
   "pygments_lexer": "ipython3",
   "version": "3.6.10"
  }
 },
 "nbformat": 4,
 "nbformat_minor": 1
}
