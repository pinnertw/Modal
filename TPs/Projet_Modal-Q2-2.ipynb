{
 "cells": [
  {
   "cell_type": "markdown",
   "metadata": {
    "colab_type": "text",
    "id": "fYxLxoxbt1AW"
   },
   "source": [
    "**Tester le code avec des événements plus probable!!!**\n",
    "## To do list:\n",
    "* Q1-1\n",
    "#####* Splitting (Diane) (faudrait jouer avec le nombre de niveaux de splitting, donc avec la valeur de la variable \"seuil\", pour voir ce qui donne la meilleure précision)\n",
    "#####* Echantillonage d'importance (Peng-Wei) (C'est bon!!, à tester différent f)\n",
    "#####* Chaîne de Markov\n",
    "#####* Graphique : Comparaison de différentes méthodes.\n",
    "\n",
    "* Q1-2\n",
    "#####* Quantile processus AR(1) (comme dans calcul liste_a Q1-1) (Diane)\n",
    "#####* Quantile échantillonnage d'importance (Diane)\n",
    "* Q2\n",
    "#####* M-C (Peng-Wei)\n",
    "\n",
    "* Q3\n",
    "# Finished :\n",
    "* Q1\n",
    "#####* Monte-Carlo naïve\n",
    "* Q\n"
   ]
  },
  {
   "cell_type": "code",
   "execution_count": 2,
   "metadata": {
    "colab": {},
    "colab_type": "code",
    "id": "g1gxAXcgYBTY"
   },
   "outputs": [],
   "source": [
    "import numpy as np\n",
    "import math\n",
    "import matplotlib.pyplot as plt"
   ]
  },
  {
   "cell_type": "markdown",
   "metadata": {
    "colab_type": "text",
    "id": "CN5LC1dmz9LE"
   },
   "source": [
    "## Q1"
   ]
  },
  {
   "cell_type": "markdown",
   "metadata": {
    "colab_type": "text",
    "id": "a6x5boyyXei6"
   },
   "source": [
    "Dans cette première modélisation simplifiée, on considère donc que le prix $P_t$ est un processus de Poisson de paramètres $\\lambda, \\nu$ où $\\nu$ est la loi des incréments $J_n$. \n",
    "\n",
    "Pour un temps d'attente moyen entre deux sauts de $300s$, on prend $\\lambda = \\dfrac{1}{300}$\n"
   ]
  },
  {
   "cell_type": "code",
   "execution_count": 3,
   "metadata": {
    "colab": {},
    "colab_type": "code",
    "id": "t4VEAteSz9sG"
   },
   "outputs": [],
   "source": [
    "# On identifie le processus par le processus de Poisson composé, qui finit à un temps fixé T\n",
    "# On crée des fonctions pour modéliser le processus.\n",
    "\n",
    "#### On définit nu, la loi des incréments\n",
    "# Ancien : plus lent\n",
    "saut_1_ancien = lambda x: np.random.choice([-1, 1], size=x, replace=True, p=[0.5, 0.5]) #correspond à m=1\n",
    "saut_2_ancien = lambda x: np.random.choice([-3, -2, -1, 1, 2, 3], size=x, replace=True, p=0.5*np.array([1/6, 1/3, 1/2, 1/2, 1/3, 1/6])) #correspond à m=3\n",
    "\n",
    "# Nouveau : beaucoup plus vite\n",
    "value_1 = np.array([-1, 1])\n",
    "value_2 = np.array([-3, -2, -2, -1, -1, -1, 1, 1, 1, 2, 2, 3])\n",
    "saut_1 = lambda x : value_1[np.random.randint(low=2, size=x)]\n",
    "saut_2 = lambda x : value_2[np.random.randint(low=12, size=x)]\n",
    "\n",
    "# Les paramètres\n",
    "P0 = 35\n",
    "T = 4*60*60\n",
    "lamb = 1/300"
   ]
  },
  {
   "cell_type": "markdown",
   "metadata": {
    "colab_type": "text",
    "id": "fKihS64UzPW5"
   },
   "source": [
    "### Q2-2 Quantile"
   ]
  },
  {
   "cell_type": "markdown",
   "metadata": {
    "colab_type": "text",
    "id": "ZDhCCbs30IxJ"
   },
   "source": [
    "#### MCMC Naif"
   ]
  },
  {
   "cell_type": "code",
   "execution_count": 0,
   "metadata": {
    "colab": {},
    "colab_type": "code",
    "id": "vwtJXbe2bWNB"
   },
   "outputs": [],
   "source": [
    "#Naif - Méthode 1\n",
    "\n",
    "\n",
    "def Quantile_naif_2(seuil,n,lamb1,lamb2,T,P0,saut):\n",
    "\n",
    "    liste_P_t = np.zeros(n)\n",
    "    for i in range(n):\n",
    "        N1 = np.random.poisson(lamb1*T)\n",
    "        N2 = np.random.poisson(lamb2*T)\n",
    "        P2 = 0 \n",
    "        if (N2%2!=0): #si N2 est pair, la contribution du processus 2 vaut 0\n",
    "            P2=-1+2*np.random.binomial(1,0.5)\n",
    "        increments = saut(N1)\n",
    "        \n",
    "        liste_P_t[i] = np.sum(increments)+P0 +P2\n",
    "    liste_P_t = np.sort(liste_P_t)\n",
    "    return liste_P_t[int(np.ceil(n*seuil))-1]"
   ]
  },
  {
   "cell_type": "markdown",
   "metadata": {
    "colab_type": "text",
    "id": "Pn-ClxeH9A-S"
   },
   "source": []
  },
  {
   "cell_type": "markdown",
   "metadata": {
    "colab_type": "text",
    "id": "k1Q0VUze0Muj"
   },
   "source": [
    "#### MCMC numba"
   ]
  },
  {
   "cell_type": "code",
   "execution_count": 4,
   "metadata": {
    "colab": {},
    "colab_type": "code",
    "id": "rElL76uEo8BI"
   },
   "outputs": [],
   "source": [
    "#MC Accéléré - Méthode 2 (pas plus rapide ?)\n",
    "\n",
    "# On identifie le processus par le processus de Poisson composé, qui finit à un temps fixé T\n",
    "# On crée des fonctions pour modéliser le processus.\n",
    "\n",
    "\n",
    "def Q2_2_MC(P0, T, lamb1, lamb2, saut):\n",
    "  # saut : une fonction qui prend la taille de sortie comme entrée pour les sauts.\n",
    "  N1 = np.random.poisson(lam=lamb1 * T)\n",
    "  T1 = np.sort(np.random.uniform(low=0.0, high=T, size=N1))\n",
    "  J1 = saut(N1)\n",
    "\n",
    "  N2 = np.random.poisson(lam=lamb2 * T)\n",
    "  T2 = np.sort(np.random.uniform(low=0.0, high=T, size=N2))\n",
    "\n",
    "  J2_0 = saut_1(1)[0]\n",
    "\n",
    "  somme = P0\n",
    "  index_T2 = 0\n",
    "  for i in range(len(T1)):\n",
    "    while index_T2 < N2 and T2[index_T2] < T1[i]:\n",
    "      somme += J2_0\n",
    "      J2_0 *= -1\n",
    "      index_T2 += 1\n",
    "    somme += J1[i]\n",
    "  return somme                      # 1 échantillon\n",
    "\n",
    "def Q2_2_MC_n(P0, T, lamb1, lamb2, saut, size):\n",
    "  res = []\n",
    "  for i in range(size):\n",
    "    res.append(Q2_2_MC(P0, T, lamb1, lamb2, saut))\n",
    "  return np.array(res)\n",
    "\n",
    "def quantile(echantillion, size, quant):\n",
    "  index_bot = int(math.ceil(size * quant))\n",
    "  index_top = int(math.ceil(size * (1 - quant)))\n",
    "  echantillion.partition((index_bot, index_top))\n",
    "  return echantillion[index_bot], echantillion[index_top]\n",
    "\n",
    "def Question2_2_naif(size, quant, saut, P0, T, lamb1, lamb2):\n",
    "  return quantile(Q2_2_MC_n(P0, T, lamb1, lamb2, saut, size), size, quant)"
   ]
  },
  {
   "cell_type": "code",
   "execution_count": 5,
   "metadata": {
    "colab": {
     "base_uri": "https://localhost:8080/",
     "height": 68
    },
    "colab_type": "code",
    "id": "Wsej5YbG6mrG",
    "outputId": "bf1a9006-6d04-4c36-8a2e-69c27f464f79"
   },
   "outputs": [
    {
     "ename": "KeyboardInterrupt",
     "evalue": "",
     "output_type": "error",
     "traceback": [
      "\u001b[0;31m---------------------------------------------------------------------------\u001b[0m",
      "\u001b[0;31mKeyboardInterrupt\u001b[0m                         Traceback (most recent call last)",
      "\u001b[0;32m<timed exec>\u001b[0m in \u001b[0;36m<module>\u001b[0;34m\u001b[0m\n",
      "\u001b[0;32m<ipython-input-4-38bb954870b5>\u001b[0m in \u001b[0;36mQ2_2_MC_n\u001b[0;34m(P0, T, lamb1, lamb2, saut, size)\u001b[0m\n\u001b[1;32m     29\u001b[0m   \u001b[0mres\u001b[0m \u001b[0;34m=\u001b[0m \u001b[0;34m[\u001b[0m\u001b[0;34m]\u001b[0m\u001b[0;34m\u001b[0m\u001b[0;34m\u001b[0m\u001b[0m\n\u001b[1;32m     30\u001b[0m   \u001b[0;32mfor\u001b[0m \u001b[0mi\u001b[0m \u001b[0;32min\u001b[0m \u001b[0mrange\u001b[0m\u001b[0;34m(\u001b[0m\u001b[0msize\u001b[0m\u001b[0;34m)\u001b[0m\u001b[0;34m:\u001b[0m\u001b[0;34m\u001b[0m\u001b[0;34m\u001b[0m\u001b[0m\n\u001b[0;32m---> 31\u001b[0;31m     \u001b[0mres\u001b[0m\u001b[0;34m.\u001b[0m\u001b[0mappend\u001b[0m\u001b[0;34m(\u001b[0m\u001b[0mQ2_2_MC\u001b[0m\u001b[0;34m(\u001b[0m\u001b[0mP0\u001b[0m\u001b[0;34m,\u001b[0m \u001b[0mT\u001b[0m\u001b[0;34m,\u001b[0m \u001b[0mlamb1\u001b[0m\u001b[0;34m,\u001b[0m \u001b[0mlamb2\u001b[0m\u001b[0;34m,\u001b[0m \u001b[0msaut\u001b[0m\u001b[0;34m)\u001b[0m\u001b[0;34m)\u001b[0m\u001b[0;34m\u001b[0m\u001b[0;34m\u001b[0m\u001b[0m\n\u001b[0m\u001b[1;32m     32\u001b[0m   \u001b[0;32mreturn\u001b[0m \u001b[0mnp\u001b[0m\u001b[0;34m.\u001b[0m\u001b[0marray\u001b[0m\u001b[0;34m(\u001b[0m\u001b[0mres\u001b[0m\u001b[0;34m)\u001b[0m\u001b[0;34m\u001b[0m\u001b[0;34m\u001b[0m\u001b[0m\n\u001b[1;32m     33\u001b[0m \u001b[0;34m\u001b[0m\u001b[0m\n",
      "\u001b[0;32m<ipython-input-4-38bb954870b5>\u001b[0m in \u001b[0;36mQ2_2_MC\u001b[0;34m(P0, T, lamb1, lamb2, saut)\u001b[0m\n\u001b[1;32m     21\u001b[0m     \u001b[0;32mwhile\u001b[0m \u001b[0mindex_T2\u001b[0m \u001b[0;34m<\u001b[0m \u001b[0mN2\u001b[0m \u001b[0;32mand\u001b[0m \u001b[0mT2\u001b[0m\u001b[0;34m[\u001b[0m\u001b[0mindex_T2\u001b[0m\u001b[0;34m]\u001b[0m \u001b[0;34m<\u001b[0m \u001b[0mT1\u001b[0m\u001b[0;34m[\u001b[0m\u001b[0mi\u001b[0m\u001b[0;34m]\u001b[0m\u001b[0;34m:\u001b[0m\u001b[0;34m\u001b[0m\u001b[0;34m\u001b[0m\u001b[0m\n\u001b[1;32m     22\u001b[0m       \u001b[0msomme\u001b[0m \u001b[0;34m+=\u001b[0m \u001b[0mJ2_0\u001b[0m\u001b[0;34m\u001b[0m\u001b[0;34m\u001b[0m\u001b[0m\n\u001b[0;32m---> 23\u001b[0;31m       \u001b[0mJ2_0\u001b[0m \u001b[0;34m*=\u001b[0m \u001b[0;34m-\u001b[0m\u001b[0;36m1\u001b[0m\u001b[0;34m\u001b[0m\u001b[0;34m\u001b[0m\u001b[0m\n\u001b[0m\u001b[1;32m     24\u001b[0m       \u001b[0mindex_T2\u001b[0m \u001b[0;34m+=\u001b[0m \u001b[0;36m1\u001b[0m\u001b[0;34m\u001b[0m\u001b[0;34m\u001b[0m\u001b[0m\n\u001b[1;32m     25\u001b[0m     \u001b[0msomme\u001b[0m \u001b[0;34m+=\u001b[0m \u001b[0mJ1\u001b[0m\u001b[0;34m[\u001b[0m\u001b[0mi\u001b[0m\u001b[0;34m]\u001b[0m\u001b[0;34m\u001b[0m\u001b[0;34m\u001b[0m\u001b[0m\n",
      "\u001b[0;31mKeyboardInterrupt\u001b[0m: "
     ]
    }
   ],
   "source": [
    "%%time \n",
    "P0 = 35\n",
    "T = 4*60*60\n",
    "lamb1 = 1/660\n",
    "lamb2 = 1/110\n",
    "n = int(1e8)\n",
    "quantiles = Q2_2_MC_n(P0, T, lamb1, lamb2, saut_1, n)\n",
    "\n",
    "print(quantiles[99], quantiles[999], quantiles[9999], quantiles[99990000], quantiles[99999000], quantiles[99999900])\n",
    "\n",
    "#(19, 52) pour m=1 seuil 10^-4 n =10^4\n",
    "#(14,56) pour m=1 seuil 10^-5 n =10^5\n",
    "#Donne ... pour n = 10^6 et seuil=1e-6 et m=1\n",
    "#Donne (0, 69) pour n = 10^4 et seuil=1e-4 et m=3\n",
    "#Donne (-2, 71) pour n = 10^5 et seuil=1e-5 et m=3\n",
    "#Donne pour n = 10^5 et seuil=1e-6 et m=3"
   ]
  },
  {
   "cell_type": "code",
   "execution_count": null,
   "metadata": {
    "colab": {
     "base_uri": "https://localhost:8080/",
     "height": 68
    },
    "colab_type": "code",
    "id": "9EcHj44bgLAg",
    "outputId": "86bce2ee-33b9-47e6-cfa6-d5e8729661c1"
   },
   "outputs": [],
   "source": [
    "%%time\n",
    "quantiles = Q2_2_MC_n(P0, T, lamb1, lamb2, saut_2, n)\n",
    "\n",
    "print(quantiles[99], quantiles[999], quantiles[9999], quantiles[99990000], quantiles[99999000], quantiles[99999900])\n",
    "#Donne 17/55 pour n = 10^4 et seuil=1e-4 et m=1\n",
    "#Donne (12.0, 56.0) pour n = 10^5 et seuil=1e-5 et m=1\n",
    "#Donne (11.0, 58.0) pour n = 10^6 et seuil=1e-6 et m=1\n",
    "#Donne (2.0, 65.0) pour n = 10^4 et seuil=1e-4 et m=3\n",
    "#Donne (-4.0, 73.0) pour n = 10^5 et seuil=1e-5 et m=3\n",
    "#Donne (-10.0, 77.0) pour n = 10^6 et seuil=1e-6 et m=3"
   ]
  }
 ],
 "metadata": {
  "colab": {
   "collapsed_sections": [
    "WX6z2Cw9oygh",
    "1EPXucHSxnK0",
    "7MNbYGKyxzsc",
    "1bthr6Ecx-FQ",
    "W44z1y2wFgPO",
    "54ss_U8OztnN",
    "mOgm7vfNzzaB",
    "f6ZpnHtBhElE",
    "ntNKzkWPzUT1",
    "sJt1_9eHz6-J",
    "9h3BmWHs0C4R",
    "fKihS64UzPW5",
    "ZDhCCbs30IxJ",
    "k1Q0VUze0Muj",
    "GoJBPfJ4T0FL",
    "GiQmq9gl0gSv"
   ],
   "machine_shape": "hm",
   "name": "Projet_Modal.ipynb",
   "provenance": []
  },
  "kernelspec": {
   "display_name": "Python 3",
   "language": "python",
   "name": "python3"
  },
  "language_info": {
   "codemirror_mode": {
    "name": "ipython",
    "version": 3
   },
   "file_extension": ".py",
   "mimetype": "text/x-python",
   "name": "python",
   "nbconvert_exporter": "python",
   "pygments_lexer": "ipython3",
   "version": "3.6.10"
  }
 },
 "nbformat": 4,
 "nbformat_minor": 1
}
