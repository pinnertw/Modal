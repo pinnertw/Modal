{
 "cells": [
  {
   "cell_type": "markdown",
   "metadata": {},
   "source": [
    "### Modal SNA MAP473D, Ecole Polytechnique, 2019-20"
   ]
  },
  {
   "cell_type": "markdown",
   "metadata": {},
   "source": [
    "# TP4 - Processus de Poisson composés, transformation de Esscher, splitting et MCMC"
   ]
  },
  {
   "cell_type": "markdown",
   "metadata": {},
   "source": [
    "Quelques rappels en python :\n",
    "\n",
    "- `random.exponential` du module `numpy`. Pour la simulation de v.a. exponentielles. Attention à la convention sur les paramètres.\n",
    "- `random.poisson` du module `numpy`. Pour la simulation de v.a. de Poisson.\n",
    "- `poisson.sf` du module `scipy.stats`. Pour la fonction de survie d'une v.a. de Poisson.\n",
    "- `random.standard_cauchy` du module `numpy`. Pour la simulation de v.a. de Cauchy standards.\n",
    "- `cumsum` du module `numpy`.  Pour le calcul de la somme cumulée des éléments d'un tableau.\n",
    "- `sort` du module `numpy`. Pour ordonner les éléments d'un tableau.\n",
    "- `boxplot` du module `matplotlib.pyplot`. Pour tracer des boîtes à moustaches (boxplots).\n",
    "\n",
    "Représentation d'un array `numpy` par un boxplot :  affichage d'une boîte rectangulaire délimitée par les premier et troisième quartiles ; la\n",
    "  barre inétrieure (rouge) donne la médiane ; la \"moustache\" inférieure (resp. supérieure) va jusqu'à la\n",
    "  valeur la plus petite (resp. grande) située entre le premier (resp. troisième) quartile et 1.5 fois la hauteur de la boîte ; les éventuels points de l'échantillon au-delà des moustaches sont représentés par des \"+\"."
   ]
  },
  {
   "cell_type": "markdown",
   "metadata": {},
   "source": [
    "## 1. Processus  de Poisson homogènes et composés"
   ]
  },
  {
   "cell_type": "markdown",
   "metadata": {},
   "source": [
    "### 1.1. Rappels : Processus de Poisson"
   ]
  },
  {
   "cell_type": "markdown",
   "metadata": {},
   "source": [
    "Soit $\\lambda >0$.\n",
    "Un processus de Poisson homogène de paramètre $\\lambda$ est un processus\n",
    "$(N_t)_{t\\geq 0}$ issu de $0$, à accroissement indépendants, tel que pour tout\n",
    "$0 \\leq s < t$, $N_t-N_s$ suit une loi de Poisson de paramètre $\\lambda(t-s)$.\n",
    "\n",
    "Ce processus peut être obtenu en posant\n",
    "$$N_t = \\textrm{Card}\\{k\\geq 1~: T_k\\leq t\\} = \\sum_{k \\geq 1} \\mathbf{1}_{T_k \\leq t}$$\n",
    "où $T_k = T_{k-1} + E_k = E_1 + \\cdots + E_k$,  pour des v.a. $(E_i)_{i \\geq 1}$ i.i.d. de loi exponentielle de paramètre $\\lambda$, et par convention $T_0 =0$.\n",
    "\n",
    "Soit $\\lambda >0$ et $\\nu$ une loi de probabilité sur $\\mathbb{R}$. Un processus\n",
    "  de Poisson composé de paramètres $(\\lambda, \\nu)$ est un processus $(X_t)_{t\\geq\n",
    "  0}$ défini par\n",
    "$$X_t = \\sum_{k=1}^{N_t} Y_k,$$\n",
    "où les sauts $(Y_k)_{k \\geq 1}$ sont des v.a. réelles i.i.d. de loi $\\nu$\n",
    "indépendantes de $(N_t)_{t \\geq 0}$, processus de Poisson homogène de paramètre\n",
    "$\\lambda$."
   ]
  },
  {
   "cell_type": "markdown",
   "metadata": {},
   "source": [
    "### 1.2. Simulations d'un processus  de Poisson homogène"
   ]
  },
  {
   "cell_type": "markdown",
   "metadata": {},
   "source": [
    "##### Simulation d'une trajectoire sur $[0,T_n]$, $n$ fixé \n",
    "Utiliser le fait que \n",
    "$$N_t = \\begin{cases}0&\\textrm{pour $t\\in [0, T_1[$,}\\\\\n",
    "  1&\\textrm{pour $t\\in [T_1, T_2[$,}\\\\\n",
    "  2&\\textrm{pour $t\\in [T_2, T_3[$,}\\\\\n",
    "  \\vdots &\\quad\\vdots\\end{cases}$$\n",
    "et que les instants de sauts $(T_k)_{1\n",
    "  \\leq k \\leq n}$ s'expriment à l'aide de tirages de la loi exponentielle. "
   ]
  },
  {
   "cell_type": "markdown",
   "metadata": {},
   "source": [
    "#####  Simulation d'une trajectoire sur $[0,T]$, $T$ fixé \n",
    "Utiliser la loi de $N_T$ puis le fait que, conditionnellement à l'événement $\\{N_T = k \\}$, la loi des instants de sauts $(T_1, \\cdots, T_k)$ est la loi de $k$ v.a. uniformes sur $[0,T]$ réordonnées (cf. Amphi 1). Pour l'affichage d'une fonction en escalier, on pourra utiliser la fonction `step` de `matplotlib.pyplot` (nous vous conseillons de consulter la documentation de cette fonction, notamment pour comprendre le rôle de son argument \"`where`\").  "
   ]
  },
  {
   "cell_type": "markdown",
   "metadata": {},
   "source": [
    "##### Question 1\n",
    "En utilisant ces deux approches, simuler et tracer sur une même figure une trajectoire d'un processus de Poisson homogène jusqu'à l'instant $T_n$ d'une part (pour $n\\ge 1$ fixé), et une trajectoire jusqu'à l'instant $T$ d'autre part (pour $T>0$ fixé). On pourra par exemple prendre $n=30$, $\\lambda=3$ et $T=n/\\lambda=10$."
   ]
  },
  {
   "cell_type": "markdown",
   "metadata": {},
   "source": [
    "##### _Réponse :_"
   ]
  },
  {
   "cell_type": "code",
   "execution_count": 16,
   "metadata": {},
   "outputs": [
    {
     "data": {
      "image/png": "[encoded data removed]",
      "text/plain": [
       "<Figure size 432x288 with 1 Axes>"
      ]
     },
     "metadata": {
      "needs_background": "light"
     },
     "output_type": "display_data"
    }
   ],
   "source": [
    "from numpy import zeros, cumsum, arange, append\n",
    "from numpy.random import poisson, rand, exponential\n",
    "from matplotlib.pyplot import figure, step, title, legend\n",
    "###############################################################################\n",
    "## Simulation jusqu'à T_n\n",
    "###############################################################################\n",
    "def homogeneous_poisson_until_Tn(la, n):    \n",
    "    scale = 1. / la\n",
    "    E = exponential(scale, size=n+1)\n",
    "    E[0]=0\n",
    "    events = cumsum(E)\n",
    "    jumps = arange(n+1)\n",
    "    return events, jumps\n",
    "\n",
    "la = 3.\n",
    "n = 30\n",
    "events, jumps = homogeneous_poisson_until_Tn(la, n)\n",
    "step(events, jumps, where=\"post\", label=\"nb de sauts fixe n=%s\"%n, linewidth=2.0)\n",
    "###############################################################################\n",
    "## Simulation jusqu'à T\n",
    "###############################################################################\n",
    "def homogeneous_poisson_until_T(la, T):\n",
    "    N = poisson(T * la)\n",
    "    events = T * rand(N+1)\n",
    "    events[0] = 0\n",
    "    events.sort()\n",
    "    events = append(events,T)\n",
    "    jumps = arange(N+1)\n",
    "    jumps = append(jumps,N)\n",
    "    return events, jumps\n",
    "\n",
    "T=n/la\n",
    "events, jumps = homogeneous_poisson_until_T(la, T)\n",
    "step(events, jumps, where=\"post\", label=\"horizon fixe T=%1.1f\"%T, linewidth=2.0)\n",
    "title(\"Processus de Poisson homogène d'intensité \" + str(la), fontsize=12)\n",
    "legend(loc=\"best\")\n",
    "None"
   ]
  },
  {
   "cell_type": "markdown",
   "metadata": {},
   "source": [
    "##### Question 2  \n",
    "Adapter le code précédent pour tracer deux trajectoires d'un processus de Poisson composé sur $[0,T]$ : pour la loi des sauts $(Y_k)_{k\\ge 1}$, on envisagera successivement une loi exponentielle (par exemple de moyenne 2), puis la loi de la valeur absolue d'une v.a. de Cauchy standard.  Quelle différence remarque-t-on dans la régularité de l'amplitude des sauts ? "
   ]
  },
  {
   "cell_type": "markdown",
   "metadata": {},
   "source": [
    "##### _Réponse :_ \n",
    "L'amplitude des sauts est plus irrégulière pour des sauts de loi la valeur absolue d'une v.a. de Cauchy standard, ceci étant bien sûr dû au fait que $\\mathbb{E}[Y_1]=+\\infty$. Ce phénomène se voit d'autant mieux que l'on choisit $T$ grand dans le code ci-dessous. En effet, dans le cas de sauts exponentiels, en écrivant\n",
    "$$\\frac{X_t}{t}=\\frac{N_t}{t}\\times\\frac{1}{N_t}\\sum_{k=1}^{N_t} Y_k,$$\n",
    "et en appliquant deux fois la loi des grands nombres, on peut montrer que \n",
    "$$\\frac{X_t}{t}\\xrightarrow[t\\to\\infty]{p.s.}\\lambda\\mathbb{E}[Y_1].$$\n",
    "De fait, pour $t$ \"grand\", le processus X_t oscille autour de la droite de pente $\\lambda\\mathbb{E}[Y_1]$. \n",
    "\n",
    "A contrario, pour des sauts de loi la valeur absolue d'une v.a. de Cauchy standard, une généralisation de la loi des grands nombres assure en fait que, dans ce cas, la moyenne empirique des sauts tend p.s. vers l'infini :\n",
    "$$\\frac{1}{n}\\sum_{k=1}^nY_k\\xrightarrow[n\\to\\infty]{p.s.}+\\infty$$\n",
    "et le comportement est fondamentalement différent."
   ]
  },
  {
   "cell_type": "code",
   "execution_count": 19,
   "metadata": {},
   "outputs": [
    {
     "data": {
      "image/png": "[encoded data removed]",
      "text/plain": [
       "<Figure size 432x288 with 1 Axes>"
      ]
     },
     "metadata": {
      "needs_background": "light"
     },
     "output_type": "display_data"
    }
   ],
   "source": [
    "from numpy import zeros, cumsum, append\n",
    "from numpy.random import poisson, rand, exponential, standard_cauchy\n",
    "from matplotlib.pyplot import figure, step, title, legend\n",
    "\n",
    "def compound_poisson_until_T(la, T, jumps_distribution=\"exponential\",\n",
    "                            scale_jumps=2.):\n",
    "    N = poisson(T * la)\n",
    "    events = T * rand(N+1)\n",
    "    events[0] = 0\n",
    "    events.sort()\n",
    "    events = append(events,T)\n",
    "    jumps = zeros(N+1)\n",
    "    if jumps_distribution == \"exponential\":\n",
    "        jumps[1:] = cumsum(exponential(scale_jumps, size=N))\n",
    "    if jumps_distribution == \"cauchy\":\n",
    "        jumps[1:] = cumsum(abs(standard_cauchy(size=N)))\n",
    "    jumps = append(jumps,jumps[-1])\n",
    "    return events, jumps\n",
    "\n",
    "# Sauts exponentiels\n",
    "la = 3. \n",
    "T = 100.\n",
    "events, jumps = compound_poisson_until_T(la, T, \"exponential\")\n",
    "step(events, jumps, where=\"post\", linewidth=2.0)\n",
    "title(\"Poisson composé sur [0,T] d'intensité \" + str(la) + \", T=\" + str(T))\n",
    "\n",
    "# Sauts valeur absolue de Cauchy\n",
    "events, jumps = compound_poisson_until_T(la, T, \"cauchy\")\n",
    "step(events, jumps, where=\"post\", linewidth=2.0)\n",
    "legend(['Exponentiel', 'Cauchy'],loc=\"best\")\n",
    "None"
   ]
  },
  {
   "cell_type": "markdown",
   "metadata": {},
   "source": [
    "## 2. Changement de probabilité pour les processus de Poisson  "
   ]
  },
  {
   "cell_type": "markdown",
   "metadata": {},
   "source": [
    "Soient $\\lambda >0$, $\\nu$ une loi de probabilité sur $\\mathbb{R}$, des v.a. réelles\n",
    "  $(Y_k)_{k \\geq 1}$ et un processus $(N_t)_{t \\geq 0}$ définis sur l'espace\n",
    "  probabilisable $(\\Omega, \\mathcal{F})$. On munit cet espace de la probabilité\n",
    "  $\\mathbb{P}$ telle que, sous $\\mathbb{P}$, les v.a. $(Y_k)_{k \\geq 1}$ sont i.i.d. de loi\n",
    "  $\\nu$ et indépendantes de $(N_t)_{t \\geq 0}$, processus de Poisson homogène\n",
    "  de paramètre $\\lambda$.  Notons\n",
    " $$X_t = \\sum_{k=1}^{N_t} Y_k.$$\n",
    "  D'après la Section 1, sous $\\mathbb{P}$, $(X_t)_{t \\geq 0}$\n",
    "  est un processus de Poisson composé de paramètres $(\\lambda, \\nu)$. Dans la\n",
    "  suite, $\\mathbb{E}$ et $\\mathbb{V}$ désignent respectivement l'espérance et la variance sous $\\mathbb{P}$."
   ]
  },
  {
   "cell_type": "markdown",
   "metadata": {},
   "source": [
    "  \n",
    " ### 2.1. Rappel de cours : la transformation de Esscher\n",
    " À toute fonction mesurable $f: \\mathbb{R} \\to \\mathbb{R}$ telle que $ \\mathbb{E}\\left[ \\exp(f(Y_1)) \\right]< \\infty$, on associe une loi de probabilité $\\mathbb{P}_f$ sur\n",
    "  $(\\Omega, \\mathcal{F})$ définie par\n",
    "$$\\mathbb{P}_f (A)=\\mathbb{E}\\left[ \\mathbf{1}_A \\ \\exp\\left\\{ \\sum_{k=1}^{N_T} f(Y_k) - \\lambda T \\left(  \\mathbb{E}\\left[ \\exp(f(Y_1)) \\right]-1 \\right) \\right\\} \\right] \\qquad\\qquad\\qquad (1)$$\n",
    "pour tout $A \\in \\mathcal{F}_T= \\sigma\\left(X_s, s \\leq T \\right)$.  Sous $\\mathbb{P}_f$, $(X_t)_{t\\geq 0 }$ est encore un processus de Poisson composé, mais de paramètres $(\\lambda^f, \\nu^f)$ donnés par (cf. Amphi 3)\n",
    "  $$\\lambda^f = \\lambda \\, \\mathbb{E} \\left[ \\exp(f(Y_1))\\right], \\qquad \\nu^f(dy)=\\frac{\\exp(f(y))}{\\mathbb{E}\\left[ \\exp(f(Y_1)) \\right]} \\, \\nu(dy).$$"
   ]
  },
  {
   "cell_type": "markdown",
   "metadata": {},
   "source": [
    "### 2.2. Cas de sauts constants\n",
    "  Dans cette section, on s'intéresse au calcul de $\\mathbb{P}(X_T >x)$ pour de grandes valeurs $x$ dans le cas où $\\nu$ est la mesure de Dirac en $\\alpha>0$, c'est-à-dire $\\mathbb{P}(Y_1 =\\alpha) =1$. On a donc tout simplement $X_t = \\alpha \\,  N_t$ pour tout $t\\geq 0$. Dans toute la suite, pour $\\theta \\in \\mathbb{R}$, on notera respectivement  $\\mathbb{P}_\\theta,\n",
    " \\nu^\\theta, \\lambda^\\theta$ les quantités $\\mathbb{P}_f, \\nu^f, \\lambda^f$\n",
    " introduites en Section 2.1 lorsque $f: y \\mapsto \\theta y$. Enfin,\n",
    " $\\mathbb{E}_\\theta$ et $\\mathbb{V}_\\theta$ désignent l'espérance et la variance sous $\\mathbb{P}_\\theta$."
   ]
  },
  {
   "cell_type": "markdown",
   "metadata": {},
   "source": [
    "##### Question 3 \n",
    "Pour $\\theta \\in \\mathbb{R}$, calculer la fonction log-laplace $\\Gamma_T(\\theta)$\n",
    "    associée à $X_T$, définie par \n",
    "$$\\Gamma_T(\\theta)=\\log\\mathbb{E}[\\exp({\\theta X_T})].$$ \n",
    "En déduire l'espérance et la variance de $X_T$ sous $\\mathbb{P}$."
   ]
  },
  {
   "cell_type": "markdown",
   "metadata": {},
   "source": [
    "##### _Réponse :_\n",
    "D'après le cours (ou un calcul direct), on a \n",
    "$$\\Gamma_T(\\theta)=\\lambda T(\\mathbb{E}[\\exp(\\theta Y)]-1),$$\n",
    "ce qui ici donne tout simplement\n",
    "$$\\Gamma_T(\\theta) = \\lambda T \\left( \\exp(\\alpha \\theta) - 1\\right).$$\n",
    "En particulier, on en déduit que\n",
    "$$\\mathbb{E}\\left[X_T \\right] = \\Gamma'_T(0)= \\lambda T \\alpha\\hspace{1cm}\\mathrm{et}\\hspace{1cm}\\mathbb{V}(X_T) = \\Gamma''_T(0) =  \\lambda T \\alpha^2.$$\n",
    "Remarque : on peut noter que $\\mathbb{E}\\left[X_T \\right]=\\mathbb{E}\\left[N_T \\right]\\times\\mathbb{E}\\left[Y \\right]$, qui est un cas particulier de la formule de Wald."
   ]
  },
  {
   "cell_type": "markdown",
   "metadata": {},
   "source": [
    "##### Question 4  \n",
    "Exprimer le changement de loi (1) à l'aide de $X_T, \\theta$ et $\\Gamma_T(\\theta)$. Quelle est la loi de $(X_t)_{t \\geq 0}$ sous $\\mathbb{P}_\\theta$, pour $\\theta \\in \\mathbb{R}$ ? "
   ]
  },
  {
   "cell_type": "markdown",
   "metadata": {},
   "source": [
    "##### _Réponse :_\n",
    "Pour tout $A \\in \\sigma\\left(N_s, s \\leq T\\right)$,\n",
    "$$\\mathbb{P}_\\theta(A) = \\mathbb{E}\\left[ \\mathbf{1}_A \\exp\\left( \\alpha \\theta N_T -\n",
    "        \\Gamma_T(\\theta) \\right) \\right] = \\mathbb{E}\\left[ \\mathbf{1}_A \\exp\\left( \\theta X_T -\n",
    "        \\Gamma_T(\\theta) \\right) \\ \\right],$$\n",
    "et d'après le rappel, sous $\\mathbb{P}_\\theta$, $(X_t)_{t \\geq 0}$ est un processus de Poisson composé de paramètres\n",
    "$$\\lambda^\\theta = \\lambda \\exp(\\alpha \\theta)\\hspace{1cm}\\mathrm{et}\\hspace{1cm} \\nu^\\theta \\equiv\n",
    "      \\nu = \\delta_\\alpha.$$\n",
    "Avec ce changement de loi, on ne change pas la loi des sauts, mais on augmente (resp. diminue) le nombre moyen de sauts en choisissant $\\theta >0$ (resp. $\\theta <0$).\n"
   ]
  },
  {
   "cell_type": "markdown",
   "metadata": {},
   "source": [
    "##### Question 5 \n",
    "Soit $\\theta \\in \\mathbb{R}, T >0$. En déduire l'expression d'une v.a.\n",
    "  $L_{\\theta,T}$ telle que pour toute fonction mesurable positive $g :\\mathbb{R} \\rightarrow \\mathbb{R}_{+}$ on ait\n",
    "$$\\mathbb{E}\\left[ g(X_T) \\right] = \\mathbb{E}_\\theta \\left[ g(X_T) \\frac{1}{L_{\\theta,T}}\\right]. \\qquad\\qquad\\qquad (2)$$\n",
    "En notant $I=\\mathbb{E}\\left[ g(X_T) \\right]$, donner l'expression d'un estimateur par échantillonnage d'importance $\\hat I_M^{IS}$ basé sur $M$ simulations i.i.d. $\\tilde X_T^{(k)}$ sous $\\mathbb{P}_\\theta$. Montrer que $\\hat I_M^{IS}$ est asymptotiquement normal, en explicitant la variance asymptotique $(\\sigma^{IS})^2$. Proposer un estimateur $(\\hat\\sigma^{IS}_M)^2$ de cette variance en fonction des $\\tilde X_T^{(k)}$ et en déduire un intervalle de confiance asymptotique à $95\\%$ de $I$."
   ]
  },
  {
   "cell_type": "markdown",
   "metadata": {},
   "source": [
    "##### _Réponse :_\n",
    "Dans la question précédente, en remplaçant $\\mathbf{1}_A$ par $g(X_T)$, qui est bien $\\mathcal{F}_T$-mesurable, il vient\n",
    "$$\\mathbb{E}_\\theta[g(X_T)] = \\mathbb{E}\\left[ g(X_T) \\exp\\left( \\alpha \\theta N_T -\n",
    "        \\Gamma_T(\\theta) \\right) \\right] = \\mathbb{E}\\left[ g(X_T) \\exp\\left( \\theta X_T -\n",
    "        \\Gamma_T(\\theta) \\right) \\ \\right],$$\n",
    "ce qui équivaut à\n",
    "$$\\mathbb{E}\\left[g(X_T) \\right] = \\mathbb{E}_\\theta \\left[ g(X_T) \\exp(-\\theta X_T +  \\Gamma_T(\\theta)) \\right],$$\n",
    "donc $L_{\\theta,T} = \\exp(\\theta X_T -  \\Gamma_T(\\theta))$.\n",
    "\n",
    "A partir de $M$ simulations i.i.d. $\\tilde X_T^{(k)}$ sous $\\mathbb{P}_\\theta$, l'estimateur Monte-Carlo par échantillonnage d'importance de $I=\\mathbb{E}\\left[ g(X_T) \\right]$ s'écrit \n",
    "$$\\hat I^{IS}_M  = \\frac{1}{M} \\sum_{k=1}^M g(\\tilde X_T^{(k)})\n",
    "        \\exp(-\\theta\\tilde X_T^{(k)} + \\Gamma_T(\\theta)).$$\n",
    "Par le théorème central limite, on a donc\n",
    "$$\\sqrt{M}\\left(\\hat I^{IS}_M-I\\right)\\xrightarrow[M\\to\\infty]{d}\\mathcal{N}(0,(\\sigma^{IS})^2),$$\n",
    "avec\n",
    "$$(\\sigma^{IS})^2=\\mathbb{V}_\\theta\\left(g(\\tilde X_T)\n",
    "        \\exp(-\\theta\\tilde X_T + \\Gamma_T(\\theta))\\right)=\\mathbb{E}_\\theta\\left[g(\\tilde X_T)^2\n",
    "        \\exp(-2\\theta\\tilde X_T + 2\\Gamma_T(\\theta))\\right]-I^2$$\n",
    "que l'on estime par sa variance empirique\n",
    "$$(\\hat \\sigma^{IS}_M)^2=\\frac{1}{M} \\sum_{k=1}^M g(\\tilde X_T^{(k)})^2 \\exp(-2 \\theta\\tilde X_T^{(k)} + 2\n",
    "      \\Gamma_T(\\theta)) - \\left( \\hat I^{IS}_M \\right)^2.$$\n",
    "La loi des grands nombres assure que c'est un estimateur consistant de $(\\sigma^{IS})^2$. Par le lemme de Slutsky, un intervalle de confiance asymptotique à $95 \\%$ de $I$ est donné par  \n",
    "$$\\left[\\hat I^{IS}_M \\pm 1.96 \\frac{\\hat\\sigma_M^{IS}}{\\sqrt{M}}\\right].$$\n",
    "Notons que $\\hat\\sigma_M^{IS}$ est l'écart-type empirique de l'échantillon des $g(\\tilde X_T^{(k)})^2 \\exp(-2 \\theta\\tilde X_T^{(k)} + 2\\Gamma_T(\\theta))$  et qu'il s'obtient donc en une ligne de code."
   ]
  },
  {
   "cell_type": "markdown",
   "metadata": {},
   "source": [
    "##### Question 6\n",
    "Pour $x>\\mathbb{E}[X_T]$, résoudre l'équation $\\Gamma'_T(\\theta)=x$ sur $\\mathbb{R}$. On notera $\\theta_x$ cette solution."
   ]
  },
  {
   "cell_type": "markdown",
   "metadata": {},
   "source": [
    "##### _Réponse :_\n",
    "On trouve $\\theta_x = \\alpha^{-1} \\log(x / (\\lambda T \\alpha))$. Puisque, sous $\\mathbb{P}_\\theta$, $(X_t)_{t \\geq 0}$ est un processus de Poisson composé de paramètres $\\lambda^\\theta = \\lambda \\exp(\\alpha \\theta)$ et $\\nu^\\theta= \\delta_\\alpha$, ceci revient bien à dire que $\\theta_x$ est choisi de sorte qu'on ait exactement $\\mathbb{E}_{\\theta_x}[X_T]=x$. Autrement dit, le nouveau processus de Poisson composé est fait pour atteindre, en moyenne, la valeur $x$ à la date $T$."
   ]
  },
  {
   "cell_type": "markdown",
   "metadata": {},
   "source": [
    "### 2.3. Application\n",
    "Les processus de Poisson composés sont souvent utilisés pour modéliser l'état de la comptabilité des compagnies d'assurance. En effet, si une compagnie d'assurance de capital initial $C$ reçoit à chaque unité de temps des cotisations d'une valeur de $\\Lambda$ et doit\n",
    "effectuer des dédommagements de loi $\\nu$ répartis dans le temps selon un processus de Poisson d'intensité $\\lambda$, alors ses liquidités, à toute date $t$,\n",
    "sont données par $$C+\\Lambda t-X_t,$$\n",
    "où $X_t$ est un processus de Poisson composé d'intensité $\\lambda$ et de sauts de loi $\\nu$. Afin d'éviter le risque de faillite, la compagnie d'assurance est alors amenée à évaluer $\\mathbb{P}(X_T>x)$ pour des valeurs de $x$ élevées."
   ]
  },
  {
   "cell_type": "markdown",
   "metadata": {},
   "source": [
    "##### Question 7  \n",
    "Les valeurs de $x$ qui rendent l'événement $\\{X_T>x\\}$ rare sous $\\mathbb{P}$\n",
    "  seront de la forme\n",
    "$$x=\\mathbb{E}[X_T]+\\rho\\sqrt{\\mathbb{V}(X_T)}, \\qquad\\qquad\\qquad (3)$$\n",
    "pour $\\rho>0$ grand. \n",
    "Comparer la méthode de Monte-Carlo naïve et la méthode d'échantillonnage d'importance issue de la relation (2) lorsque $\\theta = \\theta_x$ de la question 6 : observer la consistance des estimateurs et donner des intervalles de confiance asymptotiques de la quantité $I=\\mathbb{P}(X_T>x)$ pour chaque méthode. On prendra $T=1$, $\\lambda=1$, $\\nu= \\delta_\\alpha$ pour $\\alpha =0.5$ et $x$ donné par (3) pour $\\rho =1$, $\\rho=5$ et $\\rho =20$."
   ]
  },
  {
   "cell_type": "markdown",
   "metadata": {},
   "source": [
    "##### _Réponse :_\n",
    "Commençons par remarquer que, puisque $X_T=\\alpha N_T$ avec $N_T$ suivant une loi de Poisson de paramètre $\\lambda T$, la probabilité $I=\\mathbb{P}(X_T>x)=\\mathbb{P}(N_T>x/\\alpha)$ s'obtient directement en une ligne de code. Le but ici est de comparer les deux méthodes d'estimation.\n",
    "\n",
    "L'estimateur Monte-Carlo naïf s'écrit \n",
    "$$\\hat I^{MC}_M  = \\frac{1}{M} \\sum_{k=1}^M \\mathbf{1}_{N_T^{(k)} > x/\\alpha}$$\n",
    "où les $N_T^{(k)}$ sont des v.a. i.i.d. de Poisson de paramètre $\\lambda T$. Par le théorème central limite, on a donc\n",
    "$$\\sqrt{M}\\left(\\hat I^{MC}_M-I\\right)\\xrightarrow[M\\to\\infty]{d}\\mathcal{N}(0,(\\sigma^{MC})^2),$$\n",
    "avec\n",
    "$$(\\sigma^{MC})^2=\\mathbb{V}(\\mathbf{1}_{N_T > x/\\alpha})=I(1-I),$$\n",
    "que l'on estime par sa variance empirique, qui ici n'est rien d'autre que\n",
    "$$(\\hat \\sigma^{MC}_M)^2=\\hat I^{MC}_M(1-\\hat I^{MC}_M).$$\n",
    "Par le lemme de Slutsky, un intervalle de confiance asymptotique à $95 \\%$ est donc  \n",
    "$$\\left[\\hat I^{MC}_M \\pm 1.96 \\frac{\\hat\\sigma_M^{MC}}{\\sqrt{M}}\\right].$$\n"
   ]
  },
  {
   "cell_type": "code",
   "execution_count": 32,
   "metadata": {},
   "outputs": [
    {
     "name": "stdout",
     "output_type": "stream",
     "text": [
      "Proba théorique = 8.030e-02 \n",
      "\n",
      "M = 1.000e+03 \n",
      "\n",
      "Estimateur MC naïf = 7.700e-02\n",
      "\n",
      "Intervalle de confiance asymptotique à 95% : +/- 1.652e-02\n",
      "\n",
      "Erreur relative*100 = 41.15 \n",
      "\n"
     ]
    },
    {
     "data": {
      "image/png": "[encoded data removed]",
      "text/plain": [
       "<Figure size 432x288 with 1 Axes>"
      ]
     },
     "metadata": {
      "needs_background": "light"
     },
     "output_type": "display_data"
    }
   ],
   "source": [
    "from numpy import sqrt, zeros, cumsum, arange, mean, std\n",
    "from numpy.random import poisson\n",
    "import matplotlib.pyplot as plt\n",
    "import scipy.stats as sps\n",
    "\n",
    "la = 1.0\n",
    "T = 1.0\n",
    "alpha = 0.5\n",
    "esperance = la*T*alpha\n",
    "variance = la*T*alpha**2\n",
    "rho = 1 # 1, 5, 20\n",
    "M=int(1e3)\n",
    "x = esperance + rho*sqrt(variance)\n",
    "seuil = x/alpha\n",
    "valeur_theorique = sps.poisson.sf(seuil,mu=la*T)\n",
    "\n",
    "N_mc = poisson(lam=la*T, size=M)\n",
    "estim_mc = N_mc>seuil\n",
    "estim_mc_cum = cumsum(estim_mc)/arange(1,M+1,dtype=float)\n",
    "p_MC=mean(estim_mc)\n",
    "erreur_MC = 1.96*sqrt(p_MC*(1-p_MC)/M) \n",
    "##############################\n",
    "# Affichage d'une trajectoire\n",
    "##############################\n",
    "plt.plot(estim_mc_cum,'b', linewidth=2.)\n",
    "plt.hlines(valeur_theorique, 0, M, 'g', linewidth=2.)\n",
    "plt.title(\"Valeur de rho : \" + str(rho))\n",
    "plt.legend(['MC naïf'], loc=\"best\")\n",
    "plt.xlabel(\"M\")\n",
    "plt.ylabel(\"Valeur de l'estimateur\")\n",
    "plt.grid()\n",
    "##############################\n",
    "# Affichages numériques\n",
    "##############################\n",
    "print(\"Proba théorique = %1.3e \\n\" %valeur_theorique)\n",
    "print(\"M = %1.3e \\n\" %M)\n",
    "print(\"Estimateur MC naïf = %1.3e\\n\" %p_MC)\n",
    "print(\"Intervalle de confiance asymptotique à 95%% : +/- %1.3e\\n\" %erreur_MC)\n",
    "print(\"Erreur relative*100 = %1.2f \\n\" %(100*2*erreur_MC/valeur_theorique))"
   ]
  },
  {
   "cell_type": "markdown",
   "metadata": {},
   "source": [
    "D'après la question 5, l'estimateur Monte-Carlo par échantillonnage d'importance s'écrit \n",
    "$$\\hat I^{IS}_M  = \\frac{1}{M} \\sum_{k=1}^M \\mathbf{1}_{\\tilde N_T^{(k)} > x/\\alpha}\n",
    "        \\exp(-\\theta_x \\, \\alpha \\tilde N_T^{(k)} + \\Gamma_T(\\theta_x))$$\n",
    "où les $\\tilde N_T^{(k)}$ sont cette fois des v.a. i.i.d. de Poisson de paramètre\n",
    "      $\\lambda T \\exp(\\alpha \\theta_x)$. Par le théorème central limite, on a donc\n",
    "$$\\sqrt{M}\\left(\\hat I^{IS}_M-I\\right)\\xrightarrow[M\\to\\infty]{d}\\mathcal{N}(0,(\\sigma^{IS})^2),$$\n",
    "avec\n",
    "$$(\\sigma^{IS})^2=\\mathbb{V}_{\\theta_x}\\left(\\mathbf{1}_{\\tilde N_T > x/\\alpha}\n",
    "        \\exp(-\\theta_x \\, \\alpha \\tilde N_T + \\Gamma_T(\\theta_x))\\right)=\\mathbb{E}_{\\theta_x}\\left[\\mathbf{1}_{\\tilde N_T > x/\\alpha}\n",
    "        \\exp(-2\\theta_x \\, \\alpha \\tilde N_T + 2\\Gamma_T(\\theta_x))\\right]-I^2$$\n",
    "que l'on estime par sa variance empirique\n",
    "$$(\\hat \\sigma^{IS}_M)^2=\\frac{1}{M} \\sum_{k=1}^M \\mathbf{1}_{\\tilde N_T^{(k)} >\n",
    "        x/\\alpha} \\exp(-2 \\theta_x \\, \\alpha \\tilde N_T^{(k)} + 2\n",
    "      \\Gamma_T(\\theta_x)) - \\left( \\hat I^{IS}_M \\right)^2.$$\n",
    "Toujours par le lemme de Slutsky, un intervalle de confiance asymptotique à $95 \\%$ est donc  \n",
    "$$\\left[\\hat I^{IS}_M \\pm 1.96 \\frac{\\hat\\sigma_M^{IS}}{\\sqrt{M}}\\right].$$\n",
    "Rappelons que l'écart-type empirique $\\hat\\sigma_M^{IS}$ de l'échantillon des $\\mathbf{1}_{\\tilde N_T^{(k)} > x/\\alpha}\\exp(-\\theta_x \\, \\alpha \\tilde N_T^{(k)} + \\Gamma_T(\\theta_x))$ s'obtient simplement par la commande `std` du module `numpy`."
   ]
  },
  {
   "cell_type": "code",
   "execution_count": 35,
   "metadata": {},
   "outputs": [
    {
     "name": "stdout",
     "output_type": "stream",
     "text": [
      "Proba théorique = 3.421e-22 \n",
      "\n",
      "M = 1.000e+03 \n",
      "\n",
      "Estimateur par échantillonnage d'importance = 2.823e-22\n",
      "\n",
      "Intervalle de confiance asymptotique à 95% : +/- 6.108e-23\n",
      "\n",
      "Erreur relative*100 = 35.70 \n",
      "\n"
     ]
    },
    {
     "data": {
      "image/png": "[encoded data removed]",
      "text/plain": [
       "<Figure size 432x288 with 1 Axes>"
      ]
     },
     "metadata": {
      "needs_background": "light"
     },
     "output_type": "display_data"
    }
   ],
   "source": [
    "from numpy import sqrt, log, exp, zeros, cumsum, arange, mean, std\n",
    "import matplotlib.pyplot as plt\n",
    "import scipy.stats as sps\n",
    "from numpy.random import poisson\n",
    "\n",
    "la = 1.0\n",
    "T = 1.0\n",
    "alpha = 0.5\n",
    "esperance = la*T*alpha\n",
    "variance = la*T*alpha**2\n",
    "rho = 20 # 1, 5, 20\n",
    "M=int(1e3)\n",
    "\n",
    "x = esperance + rho*sqrt(variance)\n",
    "seuil = x/alpha\n",
    "valeur_theorique = sps.poisson.sf(seuil,mu=la*T)\n",
    "thetax = log(x/esperance)/alpha\n",
    "GammaT = la*T*(exp(alpha*thetax) - 1)\n",
    "\n",
    "N_is = poisson(lam=la*T*exp(alpha*thetax), size=M)\n",
    "ratio_is = exp(-thetax*alpha*N_is + GammaT)\n",
    "estim_is = ratio_is*(N_is>seuil)\n",
    "estim_is_cum=cumsum(estim_is)/arange(1,M+1,dtype=float)\n",
    "p_IS=mean(estim_is)\n",
    "erreur_IS=1.96*std(estim_is)/sqrt(M)\n",
    "##############################\n",
    "# Affichage d'une trajectoire\n",
    "##############################\n",
    "plt.figure(1)\n",
    "plt.plot(estim_is_cum,'r', linewidth=2.)\n",
    "plt.hlines(valeur_theorique, 0, M, 'g', linewidth=2.)\n",
    "plt.title(\"Valeur de rho : \" + str(rho))\n",
    "plt.legend(['Imp Sampling'], loc=\"best\")\n",
    "plt.xlabel(\"M\")\n",
    "plt.ylabel(\"Valeur de l'estimateur\")\n",
    "plt.grid()\n",
    "##############################\n",
    "# Affichages numériques\n",
    "##############################\n",
    "print(\"Proba théorique = %1.3e \\n\" %valeur_theorique)\n",
    "print(\"M = %1.3e \\n\" %M)\n",
    "print(\"Estimateur par échantillonnage d'importance = %1.3e\\n\" %p_IS)\n",
    "print(\"Intervalle de confiance asymptotique à 95%% : +/- %1.3e\\n\" %erreur_IS)\n",
    "print(\"Erreur relative*100 = %1.2f \\n\" %(100*2*erreur_IS/valeur_theorique))"
   ]
  },
  {
   "cell_type": "markdown",
   "metadata": {},
   "source": [
    "## 3. Méthode de splitting et Processus de Poisson"
   ]
  },
  {
   "cell_type": "markdown",
   "metadata": {},
   "source": [
    "### 3.1. Rappels de cours : méthode de splitting via MCMC"
   ]
  },
  {
   "cell_type": "markdown",
   "metadata": {},
   "source": [
    "Soit $\\mathbf{N} = (N_t)_{t \\geq 0}$ un processus de Poisson homogène de paramètre $\\lambda\n",
    "$. Pour calculer la probabilité d'un événement rare de la forme $ \\{ \\Phi(\\mathbf{N})\n",
    "\\leq a \\}$ où $\\Phi(\\mathbf{N})$ désigne une fonctionnelle de la trajectoire du\n",
    "processus de Poisson $(N_t)_{t \\geq 0}$, la méthode de splitting consiste à\n",
    "- choisir $K$ seuils : $a = a_K < \\cdots < a_2 < a_1 < a_0 = +\\infty$ ;\n",
    "- pour tout $k =1, \\cdots, K$, approcher $\\mathbb{P}\\left(\\Phi(\\mathbf{N}) \\leq a_{k}\n",
    "    \\vert \\Phi(\\mathbf{N}) \\leq a_{k-1} \\right)$ par un estimateur $\\hat{\\pi}_k$. \n",
    "- estimer $\\mathbb{P}(\\Phi(\\mathbf{N}) \\leq a)$ par $\\prod_{k=1}^K \\hat{\\pi}_k$.\n",
    "\n",
    "Soit $k \\in \\{1, \\cdots, K \\}$ fixé. L'algorithme *MCMC pour loi conditionnelle* ci-dessous permet de produire une suite de processus de Poisson $\\{\\mathbf{N}^\\ell, \\ell \\geq 0 \\}$, vérifiant une loi forte des grands nombres : pour tout $b \\in \\mathbb{R}$, on a\n",
    "$$\\frac{1}{M} \\sum_{\\ell=1}^M \\mathbf{1}_{\\Phi(\\mathbf{N}^\\ell) \\leq b}\n",
    " \\quad \\mathop{\\longrightarrow}^{\\mathrm{p.s.}}_{M \\rightarrow \\infty} \\quad  \\mathbb{P}\\left(\\Phi(\\mathbf{N}) \\leq b \\ \\vert\\ \\Phi(\\mathbf{N})\n",
    "  \\leq a_{k-1} \\right).$$\n",
    "Plus précisément, cet algorithme construit une chaîne de Markov $\\mathbf{N}^\\ell$ à valeurs dans un espace de processus de Poisson, pour laquelle le théorème ergodique s'applique (pour plus de détails, on pourra consulter l'article [Rare event simulation using reversible shaking transformations](https://hal.archives-ouvertes.fr/hal-01058748/document)). Il peut donc être utilisé pour construire l'estimateur $\\hat{\\pi}_k$. \n",
    "\n",
    "Algorithme MCMC pour loi conditionnelle $\\mathbb{P} (\\cdot\\ \\vert\\ \\Phi(\\mathbf{N})\\leq a_{k-1})$} \n",
    "- Paramètres d'implémentation : $p \\in ]0,1[$, $a_{k-1} \\in \\mathbb{R}$, $M \\in \\mathbb{N}$\n",
    "- Initialisation : $\\mathbf{N}^{0}$ un processus de Poisson homogène de paramètre\n",
    "  $\\lambda$ tel que $\\Phi(\\mathbf{N}^0) \\leq a_{k-1}$.\n",
    "- Pour $\\ell = 0, \\cdots, M-1$ : étant donné $\\mathbf{N}^{\\ell}$,\n",
    "\n",
    "   (a) construire un candidat $\\widetilde{\\mathbf{N}}^{\\ell+1}$ par *coloriage*, c'est-à-dire : garder chaque saut de $\\mathbf{N}^\\ell$ avec probabilité $p$, de manière indépendante : on obtient $\\mathbf{N}^{\\ell,p}$ ; construire un processus de Poisson homogène $\\widetilde{\\mathbf{N}}$ de paramètre $(1-p) \\lambda$, indépendant de $\\mathbf{N}^{\\ell,p}$ ; renvoyer la somme $\\widetilde{\\mathbf{N}}^{\\ell+1} := \\mathbf{N}^{\\ell,p} + \\widetilde{\\mathbf{N}}$.\n",
    "   \n",
    "   (b) si $\\Phi(\\widetilde{\\mathbf{N}}^{\\ell+1}) \\leq a_{k-1}$, poser $\\mathbf{N}^{\\ell+1} =\n",
    "    \\widetilde{\\mathbf{N}}^{\\ell+1}$. Sinon,  poser $\\mathbf{N}^{\\ell+1} = \\mathbf{N}^{\\ell}$.\n",
    "    \n",
    "Remarque : L'algorithme *MCMC pour loi conditionnelle* est un algorithme de rejet : on rejette tous les candidats $\\widetilde{\\mathbf{N}}^{\\ell+1}$ qui ne satisfont pas la condition $\\Phi(\\widetilde{\\mathbf{N}}^{\\ell+1}) \\leq a_{k-1}$. Pour chacune des $K-1$ chaînes simulées par cet algorithme, il est intéressant d'observer l'évolution du taux d'acceptation le long de la trajectoire\n",
    "$$M \\mapsto \\frac{1}{M} \\sum_{\\ell=1}^M \\mathbf{1}_{\\mathbf{N}^{\\ell} = \\widetilde{\\mathbf{N}^{\\ell}}}.$$\n",
    "Comme nous allons le voir, ce taux d'acceptation dépend du paramètre $p$.    "
   ]
  },
  {
   "cell_type": "markdown",
   "metadata": {},
   "source": [
    "### 3.2. Application\n",
    "\n",
    "On reprend l'application décrite en Section 2.3, avec $\\nu=\\delta_\\alpha$."
   ]
  },
  {
   "cell_type": "markdown",
   "metadata": {},
   "source": [
    "#### Question 8\n",
    "Montrer que p.s.\n",
    "$$\\min_{0 \\leq t \\leq T} \\left\\{ C + \\Lambda t - \\alpha N_t \\right\\} = \\min_{n\n",
    "  \\geq 0 \\ \\text{t.q.} \\ T_n \\leq T} \\left\\{ C + \\Lambda T_n - \\alpha n\\right\\}.$$"
   ]
  },
  {
   "cell_type": "markdown",
   "metadata": {},
   "source": [
    "##### _Réponse :_\n",
    "En notant que, pour tout $t \\in [ T_j, T_{j+1}[$,\n",
    "$$C + \\Lambda t - \\alpha \\, N_{t} = C + \\Lambda t - \\alpha \\, j = \\left( C + \\Lambda T_j -\n",
    "  \\alpha \\, j \\right) + \\Lambda (t -T_j) \\geq C + \\Lambda T_j - \\alpha \\, j,$$\n",
    "on en déduit l'égalité. Par conséquent, pour calculer le minimum des liquidités\n",
    "le long d'une trajectoire sur $[0,T]$, il suffit de regarder les valeurs prises\n",
    "par le processus des liquidités en les instants de sauts sur $[0,T]$."
   ]
  },
  {
   "cell_type": "markdown",
   "metadata": {},
   "source": [
    "#### Question 9 \n",
    "On veut estimer la probabilité de ruine de l'assurance avant l'instant $T$, c'est-à-dire :\n",
    "$$\\mathbb{P}\\left( \\min_{0 \\leq t \\leq T} \\left\\{ C + \\Lambda t - \\alpha N_t \\right\\}\n",
    "    \\leq 0 \\right).$$\n",
    "On prendra $T=1$, $C= 100$, $\\Lambda = 30$, $\\alpha=30$, $a_k = C (1-(k/K)^2)$ et\n",
    "   $(\\lambda,K) =(1,3)$ ou $(\\lambda, K) = (0.05,8)$. On envisagera différentes valeurs de $p\\in\\{0.1,0.2,\\dots,0.9\\}$.\n",
    "\n",
    "(a) Implémenter l'algorithme de splitting combiné à l'algorithme *MCMC pour loi conditionnelle* pour estimer cette probabilité de ruine. Observer la consistance des estimateurs $\\hat \\pi_k$, $k=1, \\cdots, K$, c'est-à-dire que ces sont des estimateurs convergents lorsque $M$ devient grand. Afficher l'évolution du taux d'acceptation. Dans le cas $(\\lambda,K) =(1,3)$, on pourra prendre $M=1e4$ ; dans le cas $(\\lambda, K) = (0.05,8)$, on pourra prendre $M=1e5$. On observera par exemple les différences entre $p=0.1$,  $p=0.5$  et $p=0.9$."
   ]
  },
  {
   "cell_type": "markdown",
   "metadata": {},
   "source": [
    "##### _Réponse :_\n",
    "\n",
    "Sur les figures fournies par le programme suivant, on analyse une trajectoire de l'algorithme de splitting. Sur la première, on trace les estimateurs $\\hat \\pi_k$ en fonction du nombre de points $M$ de la chaîne. Sur la seconde, on trace l'évolution du taux d'acceptation le long de chaque chaîne.  \n",
    "    \n",
    "Lorsque $p=0.9$, les taux d'acceptation sont très élevés, mais le point proposé $\\widetilde{\\mathbf{N}}^{\\ell+1}$ diffère peu du point courant $\\mathbf{N}^{\\ell}$. Par suite, pour chacune des $K-1$ chaînes, les valeurs successives d'une chaîne sont très corrélées. Dans le cas $\\lambda=0.05$, il est flagrant que cette forte corrélation ralentit la convergence de la moyenne empirique $\\hat\\pi_k$. \n",
    "\n",
    "Lorsque $p=0.1$, le taux d'acceptation est assez faible, puisque le candidat $\\widetilde{\\mathbf{N}}^{\\ell+1}$ diffère beaucoup du point courant $\\mathbf{N}^{\\ell}$ : la chaîne reste au même point pendant plusieurs itérations. La corrélation entre valeurs successives est donc là aussi élevée."
   ]
  },
  {
   "cell_type": "code",
   "execution_count": 47,
   "metadata": {},
   "outputs": [
    {
     "name": "stdout",
     "output_type": "stream",
     "text": [
      "Les seuils successifs pour le splitting sont \t\n",
      "[88.88888889 55.55555556  0.        ]\n",
      "\n",
      "\n",
      "Lorsque p = 0.5 et lambda = 1\n",
      "\t Chaîne 1 sur 3\n",
      "\t Pour le niveau 1, la proba estimée est 4.94e-01\n",
      "\t Chaîne 2 sur 3\n",
      "\t Pour le niveau 2, la proba estimée est 2.59e-01\n",
      "\t Chaîne 3 sur 3\n",
      "\t Pour le niveau 3, la proba estimée est 4.82e-02\n"
     ]
    },
    {
     "data": {
      "image/png": "[encoded data removed]",
      "text/plain": [
       "<Figure size 432x288 with 1 Axes>"
      ]
     },
     "metadata": {
      "needs_background": "light"
     },
     "output_type": "display_data"
    },
    {
     "data": {
      "image/png": "[encoded data removed]",
      "text/plain": [
       "<Figure size 432x288 with 1 Axes>"
      ]
     },
     "metadata": {
      "needs_background": "light"
     },
     "output_type": "display_data"
    },
    {
     "name": "stdout",
     "output_type": "stream",
     "text": [
      "\n",
      " La probabilité de ruine estimée est 6.16e-03\n",
      "\n",
      " Durée d'exécution 1.2992069721221924\n"
     ]
    }
   ],
   "source": [
    "from numpy import zeros, cumsum, arange, append, sort, concatenate\n",
    "from numpy.random import poisson, rand\n",
    "import matplotlib.pyplot as plt\n",
    "import time\n",
    "\n",
    "C = 100.0\n",
    "Lambda  = 30.0\n",
    "T = 1.0\n",
    "alpha = 30.0\n",
    "\n",
    "# Premier cas (lambda,K)=(1,3)\n",
    "la,K,M = 1,3,int(1e4)\n",
    "p=0.5\n",
    "\n",
    "# Deuxième cas (lambda,K)=(0.05,8)\n",
    "#la,K,M = 0.05,8,int(1e5)\n",
    "#p=0.5\n",
    "\n",
    "# Calcul des seuils successifs\n",
    "ak = C*(1-((arange(K,dtype=float)+1)**2/K**2))\n",
    "print(\"Les seuils successifs pour le splitting sont \\t\")\n",
    "print(ak); print(\"\\n\")\n",
    "\n",
    "TempsDepart = time.time()\n",
    "\n",
    "print(\"Lorsque p = \"+ str(p) +\" et lambda = \" + str(la))   \n",
    "plt.clf()\n",
    "        \n",
    "##----------\n",
    "# NIVEAU 1\n",
    "##----------\n",
    "\n",
    "NbRuine = zeros(M+1,dtype=float)\n",
    "print(\"\\t Chaîne 1 sur \"+ str(K))\n",
    "# Boucle pour simuler chaque processus\n",
    "for n_chain in arange(M): \n",
    "    NumberJump = poisson(lam=la*T) # Nombre de sauts du processus de Poisson courant\n",
    "    TimeJump = sort(T*rand(NumberJump))\n",
    "    Reserve = C+Lambda*append(0,TimeJump)-alpha*arange(NumberJump+1)\n",
    "    # on met à jour l'estimateur\n",
    "    if min(Reserve)<=ak[0]:\n",
    "        # on augmente le compteur\n",
    "        NbRuine[n_chain+1] = NbRuine[n_chain]+1\n",
    "        # on stocke ce processus comme possible point de départ pour la chaîne suivante\n",
    "        PathPoissonInit = TimeJump\n",
    "    else: \n",
    "        # on ne change pas le compteur\n",
    "        NbRuine[n_chain+1] = NbRuine[n_chain]\n",
    "# Affichage de l'estimateur de la proba pour ce niveau\n",
    "ProbaEnd = NbRuine[-1]/M\n",
    "print (\"\\t Pour le niveau 1, la proba estimée est %1.2e\" %ProbaEnd)\n",
    "# Visualisation de la consistance de l'estimateur\n",
    "plt.figure(1)\n",
    "plt.plot(NbRuine/(arange(M+1)+1), label=\"niveau 1\") \n",
    "\n",
    "##----------\n",
    "## BOUCLE POUR LES AUTRES NIVEAUX\n",
    "##----------\n",
    "\n",
    "for n_level in (1+arange(K-1)):\n",
    "    print(\"\\t Chaîne \"+ str(n_level+1) + \" sur \" +str(K))\n",
    "    NbRuine = zeros(M+1,dtype=float)\n",
    "    RateAccept = zeros(M+1,dtype=float)\n",
    "    PathPoisson = PathPoissonInit\n",
    "    MinPath = zeros(M+1,dtype=float)\n",
    "    MinPath[0] = min(C+Lambda*append(0,PathPoisson)-alpha*arange(len(PathPoisson)+1))\n",
    "    for n_chain in arange(M):\n",
    "        # Nombre de sauts dans le processus courant\n",
    "        J = len(PathPoisson)\n",
    "        # Sauts conservés\n",
    "        JumpConserve = PathPoisson[rand(J)<=p]\n",
    "        # Nombre de sauts ajoutés\n",
    "        NbAjoute = poisson((1-p)*la*T)\n",
    "        # Instants des sauts ajoutés\n",
    "        NewJump = T*rand(NbAjoute)\n",
    "        # Processus candidat à être la nouvelle valeur de la chaîne\n",
    "        NewPathPoisson = sort(concatenate([NewJump,JumpConserve]))\n",
    "        # Acceptation-rejet de ce candidat\n",
    "        NewReserve = C+Lambda*append(0,NewPathPoisson)-alpha*arange(len(NewPathPoisson)+1,dtype=float)\n",
    "        if min(NewReserve)<=ak[n_level-1]:    # on accepte\n",
    "            PathPoisson = NewPathPoisson    # mise à jour de la chaîne\n",
    "            MinPath[n_chain+1] = min(NewReserve)    # stockage valeur minimale\n",
    "            RateAccept[n_chain+1] = RateAccept[n_chain]+1   # update du taux d'acceptation-rejet\n",
    "        else:       # on refuse\n",
    "            MinPath[n_chain+1] = MinPath[n_chain]   #   stockage valeur minimale\n",
    "            RateAccept[n_chain+1] = RateAccept[n_chain] # update du taux d'acceptation-rejet\n",
    "        # Calcul de l'estimateur de la probabilité\n",
    "        if MinPath[n_chain+1]<=ak[n_level]:\n",
    "            NbRuine[n_chain+1] = NbRuine[n_chain]+1\n",
    "            PathPoissonInit = PathPoisson\n",
    "        else:\n",
    "            NbRuine[n_chain+1] = NbRuine[n_chain]\n",
    "    ############\n",
    "    # Affichage\n",
    "    ############\n",
    "    NewProbaEnd = NbRuine[-1]/M\n",
    "    ProbaEnd = ProbaEnd*NewProbaEnd\n",
    "    print (\"\\t Pour le niveau \" + str(n_level+1) +\", la proba estimée est %1.2e\" %NewProbaEnd)    \n",
    "    # Visualisation de la consistance de l'estimateur\n",
    "    plt.figure(1)\n",
    "    plt.plot(NbRuine/(arange(M+1,dtype=float)+1), label=\"niveau %1.0f\" %(n_level+1))  \n",
    "               \n",
    "    # Visualisation de l'évolution du taux d'acceptation-rejet\n",
    "    plt.figure(2)\n",
    "    plt.plot(RateAccept/(arange(M+1,dtype=float)+1), label=\"niveau %1.0f\" %(n_level+1)) \n",
    "    \n",
    "\n",
    "plt.figure(1)\n",
    "plt.title(\"Consistance des estimateurs à chaque niveau pour p = \"+ str(p) +\" et lambda = \" + str(la))\n",
    "plt.legend(loc=\"best\")\n",
    "plt.ylabel(\"Probabilité conditionnelle au niveau k\")\n",
    "plt.grid()\n",
    "\n",
    "plt.figure(2)\n",
    "plt.title(\"Evolution du taux d'acceptation pour p = \"+ str(p) +\" et lambda = \" + str(la))\n",
    "plt.ylabel(\"Taux d'acceptation\")\n",
    "plt.legend(loc=\"best\")\n",
    "plt.grid()\n",
    "\n",
    "plt.show()\n",
    "   \n",
    "# Calcul de l'estimateur \n",
    "print(\"\\n La probabilité de ruine estimée est %1.2e\" %ProbaEnd)\n",
    "\n",
    "TempsFin = time.time()\n",
    "print(\"\\n Durée d'exécution \"+str(TempsFin-TempsDepart))"
   ]
  },
  {
   "cell_type": "markdown",
   "metadata": {},
   "source": [
    "(b) Considérons (𝜆,𝐾)=(1,3), 𝑀=1𝑒3 et 𝑝∈{0.1,0.2,…,0.9}. Pour ces valeurs de 𝑝, illustrer par des boxplots la variabilité de l'estimateur de la probabilité de ruine à l'aide de plusieurs réalisations indépendantes de cet estimateur (par exemple 100). Calculer aussi pour chaque valeur de 𝑝 l'erreur relative, i.e. le ratio de l'écart-type et de la valeur moyenne de ces réalisations indépendantes. Quelles valeurs de 𝑝 préconiseriez-vous ? "
   ]
  },
  {
   "cell_type": "markdown",
   "metadata": {},
   "source": [
    "##### _Réponse :_\n",
    "Pour le programme suivant, sur la première figure, on reporte les boxplots de $100$ réalisations indépendantes de l'estimateur de splitting en fonction de $p$. Sur la seconde figure, on trace l'évolution en fonction de $p$ de l'erreur relative (ratio de l'écart-type sur la moyenne) calculée à partir de $100$ réalisations indépendantes de l'estimateur $\\prod_{k=1}^K \\hat \\pi_k$ de la probabilité de ruine. Il n'existe pas de résultats théoriques indiquant quel est le bon choix de $p$. Cependant, on peut ainsi vérifier que, sur cet exemple, des valeurs trop faibles ou trop élevées de $p$ ne sont pas optimales. "
   ]
  },
  {
   "cell_type": "code",
   "execution_count": 48,
   "metadata": {},
   "outputs": [
    {
     "name": "stdout",
     "output_type": "stream",
     "text": [
      "les seuils successifs pour le splitting sont \t\n",
      "[88.88888889 55.55555556  0.        ]\n",
      "Lorsque p = 0.1 et lambda = 1\n",
      "Lorsque p = 0.2 et lambda = 1\n",
      "Lorsque p = 0.3 et lambda = 1\n",
      "Lorsque p = 0.4 et lambda = 1\n",
      "Lorsque p = 0.5 et lambda = 1\n",
      "Lorsque p = 0.6 et lambda = 1\n",
      "Lorsque p = 0.7 et lambda = 1\n",
      "Lorsque p = 0.8 et lambda = 1\n",
      "Lorsque p = 0.9 et lambda = 1\n"
     ]
    },
    {
     "data": {
      "image/png": "[encoded data removed]",
      "text/plain": [
       "<Figure size 432x288 with 1 Axes>"
      ]
     },
     "metadata": {
      "needs_background": "light"
     },
     "output_type": "display_data"
    },
    {
     "data": {
      "image/png": "[encoded data removed]",
      "text/plain": [
       "<Figure size 432x288 with 1 Axes>"
      ]
     },
     "metadata": {
      "needs_background": "light"
     },
     "output_type": "display_data"
    },
    {
     "name": "stdout",
     "output_type": "stream",
     "text": [
      "Durée d'exécution 58.837507247924805\n"
     ]
    }
   ],
   "source": [
    "from numpy import zeros, cumsum, arange, append, sort, concatenate, transpose, mean, std\n",
    "from numpy.random import poisson, rand\n",
    "import matplotlib.pyplot as plt\n",
    "import time\n",
    "\n",
    "plt.close()\n",
    "\n",
    "C = 100.0\n",
    "Lambda  = 30.0\n",
    "T = 1.0\n",
    "alpha = 30.0\n",
    "\n",
    "\n",
    "la,K=1,3\n",
    "pVecteur = [0.1,0.2,0.3,0.4, 0.5, 0.6,0.7,0.8, 0.9]\n",
    "length_p = len(pVecteur)\n",
    "LengthTrajVecteur=[int(1e3) for i in range(length_p)]\n",
    "\n",
    "# Nombre de réalisations indépendantes de l'estimateur\n",
    "NbAlgo = 100\n",
    "\n",
    "\n",
    "# calcul des seuils successifs\n",
    "ak = C*(1-((arange(K,dtype=float)+1)**2/K**2))\n",
    "print(\"les seuils successifs pour le splitting sont \\t\")\n",
    "print(ak)\n",
    "\n",
    "\n",
    "TempsDepart = time.time()\n",
    "\n",
    "StockProbaEnd = zeros((length_p,NbAlgo))\n",
    "# Boucle sur les valeurs de p\n",
    "for n_p in arange(length_p):\n",
    "     p = pVecteur[n_p]\n",
    "     LengthTraj = LengthTrajVecteur[n_p]\n",
    "     print(\"Lorsque p = \"+ str(p) +\" et lambda = \" + str(la))   \n",
    "     plt.clf()\n",
    "     \n",
    "     # Boucle sur les differents runs independants\n",
    "     for n_algo in arange(NbAlgo):\n",
    "        #print(\"Run \"+ str(n_algo+1)+ \" sur \" + str(NbAlgo))\n",
    "        \n",
    "        ##----------\n",
    "        # NIVEAU 1\n",
    "        ##----------\n",
    "        NbRuine = zeros(LengthTraj+1)\n",
    "        #Boucle pour simuler chaque processus\n",
    "        #print(\"\\t Chaîne 1 sur \" + str(K))\n",
    "        for n_chain in arange(LengthTraj):\n",
    "            # nombre de sauts du processus de Poisson courant\n",
    "            NumberJump = poisson(lam=la*T)\n",
    "            TimeJump = sort(T*rand(NumberJump))\n",
    "            Reserve = C+Lambda*append(0,TimeJump)-alpha*arange(NumberJump+1)\n",
    "            # on met a jour l'estimateur\n",
    "            if min(Reserve)<=ak[0]:\n",
    "               # on augmente le compteur\n",
    "                NbRuine[n_chain+1] = NbRuine[n_chain]+1\n",
    "                # on stocke ce point de la chaîne comme possible point de départ pour la chaîne suivante\n",
    "                PathPoissonInit = TimeJump\n",
    "            else:\n",
    "                # on ne change pas le compteur\n",
    "                NbRuine[n_chain+1] = NbRuine[n_chain]\n",
    "        #Estimateur de la proba pour ce niveau\n",
    "        ProbaEnd = NbRuine[-1]/LengthTraj\n",
    "        \n",
    "            \n",
    "        ## BOUCLE POUR LES AUTRES NIVEAUX\n",
    "        for n_level in (1+arange(K-1)):\n",
    "            #print(\"\\t Chaîne \"+ str(n_level+1)+ \" sur \" + str(K))\n",
    "            NbRuine = zeros(LengthTraj+1)\n",
    "            RateAccept = zeros(LengthTraj+1)\n",
    "            PathPoisson = PathPoissonInit\n",
    "            MinPath = zeros(LengthTraj+1)\n",
    "            MinPath[0] = min(C+Lambda*append(0,PathPoisson)-alpha*arange(len(PathPoisson)+1))\n",
    "            for n_chain in arange(LengthTraj):\n",
    "                # Nombre de sauts dans le processus courant\n",
    "                J = len(PathPoisson)\n",
    "                # Quels sauts sont conservés\n",
    "                JumpConserve = PathPoisson[rand(J)<=p]\n",
    "                # Nombre de sauts ajoutés\n",
    "                NbAjoute = poisson((1-p)*la*T)\n",
    "                # Instants de sauts ajoutés\n",
    "                NewJump = T*rand(NbAjoute)\n",
    "                # Processus candidat à être la nouvelle valeur de la chaîne\n",
    "                NewPathPoisson = sort(concatenate([NewJump,JumpConserve]))\n",
    "                # Acceptation-rejet de ce candidat\n",
    "                NewReserve = C+Lambda*append(0,NewPathPoisson)-alpha*arange(len(NewPathPoisson)+1)\n",
    "                if min(NewReserve)<=ak[n_level-1]:    # on accepte\n",
    "                    PathPoisson = NewPathPoisson    # mise à jour de la chaîne\n",
    "                    MinPath[n_chain+1] = min(NewReserve)    # stockage valeur minimale\n",
    "                    RateAccept[n_chain+1] = RateAccept[n_chain]+1   # mise à jour du taux d'acceptation-rejet\n",
    "                else:       # on refuse\n",
    "                    MinPath[n_chain+1] = MinPath[n_chain]   #   stockage valeur minimale\n",
    "                    RateAccept[n_chain+1] = RateAccept[n_chain] # mise à jour du taux d'acceptation-rejet\n",
    "                # Calcul de l'estimateur de la probabilité\n",
    "                if MinPath[n_chain+1]<=ak[n_level]:\n",
    "                    NbRuine[n_chain+1] = NbRuine[n_chain]+1\n",
    "                    PathPoissonInit = PathPoisson\n",
    "                else:\n",
    "                    NbRuine[n_chain+1] = NbRuine[n_chain]\n",
    "            \n",
    "            NewProbaEnd = NbRuine[-1]/LengthTraj\n",
    "            ProbaEnd = ProbaEnd*NewProbaEnd\n",
    "               \n",
    "            \n",
    " \n",
    "        StockProbaEnd[n_p,n_algo] = ProbaEnd\n",
    "\n",
    "plt.clf()\n",
    "   \n",
    "plt.figure(1)\n",
    "plt.title(\"Boxplot de \" + str(NbAlgo) +\" estimateurs  pour lambda= \" +str(la) + \" et M= \"+str(LengthTrajVecteur[0]))\n",
    "plt.boxplot( transpose(StockProbaEnd), positions= [2*i+1 for i in range(length_p)], labels = [str(x) for x in pVecteur])\n",
    "plt.xlabel(\"valeur de p\")\n",
    "plt.ylabel(\"Valeur de l'estimateur\")\n",
    "\n",
    "\n",
    "plt.figure(2)\n",
    "M =  mean(StockProbaEnd, axis=1)\n",
    "S =  std(StockProbaEnd, axis=1)\n",
    "plt.plot(pVecteur, S/M, 'd-')\n",
    "plt.xlabel(\"valeur de p\")\n",
    "plt.ylabel(\"ratio ecart type/moyenne\")\n",
    "plt.title(\"lambda= \" +str(la)+ \" et M= \"+str(LengthTrajVecteur[0]))\n",
    "plt.grid()\n",
    "\n",
    "plt.show()\n",
    "\n",
    "TempsFin = time.time()\n",
    "print(\"Durée d'exécution \"+str(TempsFin-TempsDepart))"
   ]
  },
  {
   "cell_type": "code",
   "execution_count": null,
   "metadata": {},
   "outputs": [],
   "source": []
  }
 ],
 "metadata": {
  "kernelspec": {
   "display_name": "Python 3",
   "language": "python",
   "name": "python3"
  },
  "language_info": {
   "codemirror_mode": {
    "name": "ipython",
    "version": 3
   },
   "file_extension": ".py",
   "mimetype": "text/x-python",
   "name": "python",
   "nbconvert_exporter": "python",
   "pygments_lexer": "ipython3",
   "version": "3.7.6"
  }
 },
 "nbformat": 4,
 "nbformat_minor": 2
}
