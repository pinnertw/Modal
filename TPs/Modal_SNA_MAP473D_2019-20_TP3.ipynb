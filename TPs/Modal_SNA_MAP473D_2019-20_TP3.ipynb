{
 "cells": [
  {
   "cell_type": "markdown",
   "metadata": {},
   "source": [
    "### Modal SNA MAP473D, Ecole Polytechnique, 2019-20"
   ]
  },
  {
   "cell_type": "markdown",
   "metadata": {},
   "source": [
    "***\n",
    "**Soumission du TP pour évaluation:** \n",
    "- Remplir ce notebook et déposer sur le moodle le fichier notebook \".ipynb\" ainsi qu'une sauvegarde (export) au format \".html\".\n",
    "- Les réponses aux questions théoriques peuvent soit être saisies (en latex) dans le notebook; soit être rendues sur feuille libre avant 17h45 aux enseignants. \n",
    "- Les dépôts sur le moodle doivent être faits avant le vendredi 6 mars, 20h. \n",
    "***"
   ]
  },
  {
   "cell_type": "markdown",
   "metadata": {},
   "source": [
    "**Noms du binôme:** Diane Béranger, Peng-Wei Chen"
   ]
  },
  {
   "cell_type": "markdown",
   "metadata": {},
   "source": [
    "# TP3 - Echantillonnage d’importance, changements de probabilités gaussiens"
   ]
  },
  {
   "cell_type": "markdown",
   "metadata": {},
   "source": [
    "$\\def\\R{\\mathbb{R}}$\n",
    "$\\def\\P{\\mathbb{P}}$\n",
    "$\\def\\mc{\\mathcal}$\n",
    "$\\def\\E{\\mathbb{E}}$\n",
    "\n",
    "## Partie 1. Rappel de cours : changements de probabilités, échantillonnage préférentiel et grandes déviations\n",
    "Soit $X$ une v.a. à valeur dans $\\R^d$, définie sur un espace de probabilité $(\\Omega, \\mc{F}, \\P)$. On notera $\\E$ l'espérance associée à la probabilité $\\P$."
   ]
  },
  {
   "cell_type": "markdown",
   "metadata": {},
   "source": [
    "$\\def\\R{\\mathbb{R}}$\n",
    "$\\def\\P{\\mathbb{P}}$\n",
    "$\\def\\Q{\\mathbb{Q}}$\n",
    "$\\def\\mc{\\mathcal}$\n",
    "$\\def\\E{\\mathbb{E}}$\n",
    "\n",
    "\n",
    "### 1.1 Principe général du changement de probabilité\n",
    "Soit $L:\\R^d \\to \\R^*_+$ une fonction mesurable telle que $$\\E[L(X)]=1.$$\n",
    "\n",
    "Notons $\\Q$ la loi de probabilité sur $(\\Omega, \\mc{F})$, de densité $L(X)$ par rapport à $\\P$, et $\\E_\\Q$ l'espérance associée. Par définition de $\\Q$, pour toute fonction $g: \\R^d \\to \\R$ mesurable bornée, on a\n",
    "<a id='eq:Principe:IS'></a>\n",
    "$$ \\tag{1}\n",
    "    \\E[g(X)]=\\E \\left[ \\frac{g(X)}{L(X)} \\, L(X) \\right]=\\E_{\\mathbb{Q}}\\left[ \\frac{g(X)}{L(X)} \\right].\n",
    "$$"
   ]
  },
  {
   "cell_type": "markdown",
   "metadata": {},
   "source": [
    "$\\newcommand{\\eqdef}{:=}$\n",
    "$\\def\\R{\\mathbb{R}}$\n",
    "$\\def\\P{\\mathbb{P}}$\n",
    "$\\def\\Q{\\mathbb{Q}}$\n",
    "$\\def\\mc{\\mathcal}$\n",
    "$\\def\\E{\\mathbb{E}}$\n",
    "$\\def\\Lth{L_\\theta}$\n",
    "$\\def\\Pth{\\mathbb{P}_\\theta}$\n",
    "$\\def\\Eth{\\mathbb{E}_\\theta}$\n",
    "$\\def\\Vth{\\mathrm{Var}_\\theta}$\n",
    "\n",
    "### 1.2 Changements de probabilité inspirés par les grandes déviations (cas $d=1$)<a id='sec:12'></a>\n",
    "On définit l'ensemble convexe\n",
    "$$ \n",
    "    \\mc{D} \\eqdef \\{ \\theta \\in \\R~:  \\E\\!\\left[e^{\\theta X} \\right]<\\infty \\}\n",
    "$$  \n",
    "et la fonction $\\psi: \\mc{D} \\to \\R$ dite _fonction génératrice des cumulants_ de $X$, par \n",
    "$$\n",
    "    \\psi(\\theta) \\eqdef \\log \\E\\!\\left[ e^{\\theta X} \\right].\n",
    "$$\n",
    "On fait l'hypothèse que la loi de $X$ sous $\\P$ est telle que $\\mc{D}$ est non vide. Pour tout $\\theta \\in \\mc{D}$, on définit la fonction mesurable  sur $\\R$\n",
    "$$\n",
    "    \\Lth(x) \\eqdef \\exp\\left(\\theta x - \\psi(\\theta)\\right), \\qquad x \\in \\R.\n",
    "$$\n",
    "Puisque $\\E[\\Lth(X)] =1$, on peut définir la loi $\\Pth$ de densité $\\Lth(X)$ par rapport à $\\P$, de sorte que la famille de lois $\\{\\Pth, \\theta \\in \\mc{D} \\}$ donne des exemples de changements de probabilité $\\P \\to \\Pth$. Lorsque $\\theta = 0$, $\\P$ et $\\Pth$ coïncident puisque $L_0(x) =1$. Dans la suite, on utilisera les notations $\\Eth$ et $\\Vth$ plutôt que $\\E_{\\Pth}$ et $\\mathrm{Var}_{\\Pth}$ respectivement."
   ]
  },
  {
   "cell_type": "markdown",
   "metadata": {},
   "source": [
    "$\\newcommand{\\eqdef}{:=}$\n",
    "$\\def\\R{\\mathbb{R}}$\n",
    "$\\def\\P{\\mathbb{P}}$\n",
    "$\\def\\Q{\\mathbb{Q}}$\n",
    "$\\def\\mc{\\mathcal}$\n",
    "$\\def\\E{\\mathbb{E}}$\n",
    "$\\def\\Lth{L_\\theta}$\n",
    "$\\def\\Pth{\\mathbb{P}_\\theta}$\n",
    "$\\def\\Eth{\\mathbb{E}_\\theta}$\n",
    "$\\def\\Vth{\\mathrm{Var}_\\theta}$\n",
    "$\\def\\Var{\\mathrm{Var}}$\n",
    "\n",
    "On peut montrer que pour tout $\\theta$ dans l'intérieur de $\\mc{D}$, l'espérance et la variance de $X$ sous $\\Pth$ sont liées aux dérivées successives de $\\psi$ (voir par exemple le Corollaire 7.2  dans __[Information and Exponential Families](https://onlinelibrary.wiley.com/doi/book/10.1002/9781118857281)__) \n",
    "<a id='eq_esp_var2'></a>\n",
    "$$\\tag{2}\n",
    "    \\Eth[X]=\\psi'(\\theta),\\qquad \\qquad \n",
    "    \\Vth(X)=\\psi''(\\theta);\n",
    "$$\n",
    "et en particulier, lorsque $\\theta = 0$ est dans l'intérieur de $\\mc{D}$,\n",
    "$$ \n",
    "    \\E[X]=\\psi'(0),\\qquad \\qquad \n",
    "    \\Var(X)=\\psi''(0).\n",
    "$$\n",
    "\n",
    "Le succès de cette technique de changement de loi dépend de la capacité à identifier la loi de $X$ sous $\\Pth$ et à faire des tirages i.i.d. sous cette loi.  Par exemple, nous montrerons en section 3.1 que si $X\\sim \\mc{N}(0,1)$ sous $\\P$, alors $X\\sim \\mc{N}(\\theta,1)$ sous $\\Pth$. La transformation de Esscher donnera des formules du même type, lorsque sous $\\P$, $X$ est un processus de Poisson composé."
   ]
  },
  {
   "cell_type": "markdown",
   "metadata": {},
   "source": [
    "$\\newcommand{\\eqdef}{:=}$\n",
    "$\\def\\R{\\mathbb{R}}$\n",
    "$\\def\\P{\\mathbb{P}}$\n",
    "$\\def\\Q{\\mathbb{Q}}$\n",
    "$\\def\\mc{\\mathcal}$\n",
    "$\\def\\E{\\mathbb{E}}$\n",
    "$\\def\\Lth{L_\\theta}$\n",
    "$\\def\\Pth{\\mathbb{P}_\\theta}$\n",
    "$\\def\\Eth{\\mathbb{E}_\\theta}$\n",
    "$\\def\\Vth{\\mathrm{Var}_\\theta}$\n",
    "$\\def\\one{1}$\n",
    "\n",
    "### 1.3 Application à l'approximation Monte Carlo de la fonction de survie\n",
    "Supposons que l'objectif soit d'approcher la quantité $\\P[X>a]$ par une méthode de Monte Carlo. La méthode de Monte Carlo naïve consiste en l'approximation\n",
    "<a id='eq:MC:naif'></a>\n",
    "$$ \\tag{3}\n",
    "    \\P(X>a) \\simeq \\frac{1}{n} \\sum_{k=1}^n \\one_{X_k>a} \\quad \n",
    "    \\text{avec $\\{X_k, k \\geq 1 \\}$, indépendantes de même loi que $X$ sous $\\P$.}\n",
    "$$\n",
    "\n",
    "Néanmoins, pour la loi $\\Q$ de densité $L(X)$ par rapport à $\\P$, on a aussi la relation (relire l'équation [(1)](#eq:Principe:IS) avec la fonction $g(x) = \\one_{]a, +\\infty[}(x)$)\n",
    "$$\n",
    "    \\P(X>a) = \\E_\\Q\\left[ L(X)^{-1} \\, \\one_{X>a} \\right].\n",
    "$$ \n",
    "On déduit de cette égalité une autre approximation\n",
    "<a id='eq:MC:loiQ'></a>\n",
    "$$ \\tag{4}\n",
    "    \\P(X>a) \\simeq \\frac{1}{n} \\sum_{k=1}^n \\frac{1}{L(Y_k)}\\one_{Y_k>a} \\quad \n",
    "    \\text{avec $\\{Y_k, k \\geq 1 \\}$, indépendantes de même loi que $X$ sous $\\Q$.}\n",
    "$$\n",
    "\n",
    "\n",
    "Dans le cas particulier où $\\Q$ est de la forme $\\Pth$, l'approximation $(4)$ devient\n",
    "<a id='eq:MC:Ptheta'></a>\n",
    "$$ \\tag{5}\n",
    "    \\P(X>a) \\simeq \\frac{1}{n} \\sum_{k=1}^n \\exp\\left( \\psi(\\theta) - \\theta \\, Y_k \\right) \\, \\one_{Y_k>a}, \\qquad\n",
    "    \\text{$\\{Y_k, k \\geq 1 \\}$ indépendantes de même loi que $X$ sous $\\Pth$;}\n",
    "$$\n",
    "la difficulté pour l'utilisateur est de choisir la valeur $\\theta \\in \\mc{D}$ la plus \"efficace\".  La relation [(2)](#eq_esp_var2) suggère de choisir $\\theta$ égal à la solution de $\\psi'(\\theta) = a$ (valeur que nous noterons $\\theta_a$), puisqu'avec ce choix, sous $\\P_{\\theta_a}$, la loi de $X$ est centrée en $a$. Ce n'est pas nécessairement le choix optimal - selon un critère d'optimalité basé sur la réduction de variance (voir section 3.1) - mais cela donne un échantillonneur Monte Carlo plus efficace que l'échantillonneur Monte Carlo naïf. "
   ]
  },
  {
   "cell_type": "markdown",
   "metadata": {},
   "source": [
    "$\\newcommand{\\eqdef}{:=}$\n",
    "$\\def\\R{\\mathbb{R}}$\n",
    "$\\def\\P{\\mathbb{P}}$\n",
    "$\\def\\Q{\\mathbb{Q}}$\n",
    "$\\def\\mc{\\mathcal}$\n",
    "$\\def\\E{\\mathbb{E}}$\n",
    "$\\def\\Lth{L_\\theta}$\n",
    "$\\def\\Pth{\\mathbb{P}_\\theta}$\n",
    "$\\def\\Eth{\\mathbb{E}_\\theta}$\n",
    "$\\def\\Vth{\\mathrm{Var}_\\theta}$\n",
    "\n",
    "## Partie 2. Echantillonnage d'importance pour des v.a. de Bernoulli\n",
    "Les v.a. sont définies sur $(\\Omega, \\mathcal{A}, \\P)$."
   ]
  },
  {
   "cell_type": "markdown",
   "metadata": {},
   "source": [
    "$\\newcommand{\\eqdef}{:=}$\n",
    "$\\def\\R{\\mathbb{R}}$\n",
    "$\\def\\P{\\mathbb{P}}$\n",
    "$\\def\\Q{\\mathbb{Q}}$\n",
    "$\\def\\mc{\\mathcal}$\n",
    "$\\def\\E{\\mathbb{E}}$\n",
    "$\\def\\Lth{L_\\theta}$\n",
    "$\\def\\Pth{\\mathbb{P}_\\theta}$\n",
    "$\\def\\Eth{\\mathbb{E}_\\theta}$\n",
    "$\\def\\Vth{\\mathrm{Var}_\\theta}$\n",
    "\n",
    "#### Question 1:\n",
    "Soient $X_1, \\cdots, X_n$ des v.a. indépendantes de loi de Bernoulli $B(p_1), \\ldots, B(p_n)$; et $Z_1, \\ldots, Z_n$ des v.a. indépendantes de lois de Bernoulli $B(q_1), \\ldots, B(q_n)$.\n",
    "Montrer que pour toute fonction $g:\\{0,1\\}^n \\to\\mathbb R$ mesurable bornée, on a\n",
    "\\begin{eqnarray*} \n",
    "  \\E \\left[ g(X_1, \\ldots, X_n) \\right] &=& \\E \\left[ g(Z_1, \\ldots, Z_n) \\, \\prod_{i=1}^n \\left(\\one_{Z_i=0}\\frac{1-p_i}{1-q_i}+1_{Z_i=1}\\frac{p_i}{q_i}\\right) \\right]\n",
    "  \\\\\n",
    "                                        &=& \\left( \\prod_{i=1}^n\\frac{1-p_i}{1-q_i} \\right) \\  \\E\\left[ g(Z_1, \\ldots,Z_n) \\ \\prod_{i=1}^n\\left(\\frac{p_i(1-q_i)}{q_i(1-p_i)}\\right)^{Z_i} \\right]\n",
    "\\end{eqnarray*}"
   ]
  },
  {
   "cell_type": "markdown",
   "metadata": {},
   "source": [
    "##### _Réponse:_"
   ]
  },
  {
   "cell_type": "markdown",
   "metadata": {},
   "source": [
    "Les variables $Z_1, ... , Z_n$ suivent la même loi que les variables $X_1, ..., X_n$ qui seraient échantillonés sous une probabilité $\\mathbb{Q}$ de densité $L(X)$ par rapport à  $\\mathbb{P}$ - où $\\mathbb{P}$ est la probabilité sur $\\{0,1\\} $associée à la loi $\\mathcal{B}(p_1) \\times ... \\times \\, \\mathcal{B}(p_n)$\n",
    "\n",
    "Cette probabilité $\\mathbb{Q}$ est la probabilité sur $\\{0,1\\}$ associée à la loi $\\mathcal{B}(q_1) \\, \\times ... \\times \\, \\mathcal{B}(q_n)$\n",
    "\n",
    "D'après le principe général du changement de probabilité énoncé en 1.1, il suffit donc de montrer que $\\mathbb{E} [L(X)] = 1$ càd :\n",
    "\n",
    "$$\\mathbb{E}[ \\prod_{i=1}^n \\mathbb{1}_{X_i = 0} \\dfrac{1-q_i}{1-p_i} + \\mathbb{1}_{X_i = 1} \\dfrac{q_i}{p_i}] = 1$$\n",
    "\n",
    "__Preuve__: \n",
    "\n",
    "$$\\mathbb{E} \\Big[ \\prod_{i=1}^n \\mathbb{1}_{X_i = 0} \\dfrac{1-q_i}{1-p_i} + \\mathbb{1}_{X_i = 1} \\dfrac{q_i}{p_i} \\Big] = \n",
    "\\prod_{i=1}^n \\mathbb{E}[\\mathbb{1}_{X_i = 0} \\dfrac{1-q_i}{1-p_i} + \\mathbb{1}_{X_i = 1} \\dfrac{q_i}{p_i} ]$$\n",
    "\n",
    "(par indépendance sous $\\mathbb{P}$ des variables $X_1, ..., X_n$)\n",
    "\n",
    "$$ = \\prod_{i=1}^n \\Big[ (1-p_i) \\times \\dfrac{1-q_i}{1-p_i} + p_i \\times \\dfrac{q_i}{p_i} \\Big] = 1^n = 1$$"
   ]
  },
  {
   "cell_type": "markdown",
   "metadata": {},
   "source": [
    "$\\newcommand{\\eqdef}{:=}$\n",
    "$\\def\\R{\\mathbb{R}}$\n",
    "$\\def\\P{\\mathbb{P}}$\n",
    "$\\def\\Q{\\mathbb{Q}}$\n",
    "$\\def\\mc{\\mathcal}$\n",
    "$\\def\\E{\\mathbb{E}}$\n",
    "$\\def\\Lth{L_\\theta}$\n",
    "$\\def\\Pth{\\mathbb{P}_\\theta}$\n",
    "$\\def\\Eth{\\mathbb{E}_\\theta}$\n",
    "$\\def\\Vth{\\mathrm{Var}_\\theta}$\n",
    "\n",
    "***\n",
    "#### Question 2:\n",
    "Soit $n\\ge 1$, $p,q\\in ]0,1[$; et $S,S'$ deux v.a. respectivement de loi binomiale $\\operatorname{Binom}(n,p)$ et de loi binomiale $\\operatorname{Binom}(n,q)$. Déduire de la question précédente que pour toute fonction $f:\\{0, \\ldots, n\\} \\to \\R$, on a\n",
    "$$\n",
    "    \\E \\left[ f(S) \\right] \n",
    "    = \\E \\left[ f(S')\\left(\\frac{p}{q}\\right)^{S'}\\left(\\frac{1-p}{1-q}\\right)^{n-S'} \\right] \n",
    "    = \\left(\\frac{1-p}{1-q}\\right)^n \\E\\left[f(S')\\left(\\frac{p(1-q)}{q(1-p)}\\right)^{S'} \\right].\n",
    "$$"
   ]
  },
  {
   "cell_type": "markdown",
   "metadata": {},
   "source": [
    "##### _Réponse:_"
   ]
  },
  {
   "cell_type": "markdown",
   "metadata": {},
   "source": [
    "On sait qu'il existe $X_1, \\cdots, X_n$ des v.a. indépendantes de loi de Bernoulli $B(p_1), \\ldots, B(p_n)$; et $Z_1, \\ldots, Z_n$ des v.a. indépendantes de lois de Bernoulli $B(q_1), \\ldots, B(q_n)$ telles que $S \\sim X_1 + \\cdots + X_n$ et $S' \\sim Z_1 + \\cdots + Z_n$\n",
    "\n",
    "On applique donc la question 1 avec $g(X_1, ..., X_n) = f(X_1 + ... + X_n)$,  $p_1 = ... = p_n = p$  et  $q_1 = ... = q_n = q$. Ceci donne :\n",
    "\n",
    "$$\\mathbb{E}[f(S)] = \\mathbb{E} [f(X_1 + ... + X_n)]\n",
    "= \\mathbb{E} \\Big[ f(Z_1 + ... + Z_n) \\, {\\Big(\\dfrac{1-p}{1-q} \\Big)}^{n- \\sum_{i=1}^n Z_i} {\\Big(\\dfrac{p}{q} \\Big)}^{\\sum_{i=1}^n Z_i}\\Big] $$\n",
    "\n",
    "$$= \\mathbb{E} \\Big[ f(S') \\, {\\Big(\\dfrac{1-p}{1-q}\\Big)}^{n- S'} {(\\dfrac{p}{q})}^{S'}\\Big] $$\n",
    "\n",
    "$$= \\Big(\\dfrac{1-p}{1-q} \\Big)^n \\, \\mathbb{E}\\Big[f(S') \\, \\Big(\\dfrac{p(1-q)}{q(1-p)}\\Big)^{S'} \\Big]$$\n",
    "\n",
    "\n"
   ]
  },
  {
   "cell_type": "markdown",
   "metadata": {},
   "source": [
    "$\\newcommand{\\eqdef}{:=}$\n",
    "$\\def\\R{\\mathbb{R}}$\n",
    "$\\def\\P{\\mathbb{P}}$\n",
    "$\\def\\Q{\\mathbb{Q}}$\n",
    "$\\def\\mc{\\mathcal}$\n",
    "$\\def\\E{\\mathbb{E}}$\n",
    "$\\def\\Lth{L_\\theta}$\n",
    "$\\def\\Pth{\\mathbb{P}_\\theta}$\n",
    "$\\def\\Eth{\\mathbb{E}_\\theta}$\n",
    "$\\def\\Vth{\\mathrm{Var}_\\theta}$\n",
    "\n",
    "***\n",
    "#### Question 3:\n",
    "Pour $S$ de loi binomiale $\\operatorname{Binom}(n,p)$ et $x \\in ]0,p[$, estimer $\\P(S \\le nx)$ des trois façons suivantes:\n",
    "- en utilisant la fonction de calcul exact de cette probabilité `scipy.stats.binom.cdf`,\n",
    "- par un Monte Carlo standard en simulant $N$ copies de $S$ avec la fonction `np.random.binomial` ou `scipy.stats.binom.rvs`,\n",
    "- en utilisant la question 2 et en simulant $N$ copies de $S'$.\n",
    "\n",
    "Dans les deux derniers cas, on donnera un intervalle de confiance asymptotique de probabilité de couverture $0.95$.\n",
    "\n",
    "On pourra choisir par exemple $n=300$, $p=0.25$, $x=0.005$, $q=x$ et $N=10^6$. "
   ]
  },
  {
   "cell_type": "code",
   "execution_count": 1,
   "metadata": {},
   "outputs": [],
   "source": [
    "import numpy as np\n",
    "import matplotlib.pyplot as plt\n",
    "import scipy.stats as stats"
   ]
  },
  {
   "cell_type": "code",
   "execution_count": 2,
   "metadata": {},
   "outputs": [
    {
     "name": "stdout",
     "output_type": "stream",
     "text": [
      "Probabilité exacte : 3.2989749474660756e-38\n",
      "Probabilité estimée avec une méthode de Monte Carlo standard : 0.0 +/- 0.0\n",
      "Probabilité estimée avec l'échantillonnage d'importance : 3.2922495377742263e-38 +/- 3.832878126497832e-41\n"
     ]
    }
   ],
   "source": [
    "n = 300\n",
    "p=0.25\n",
    "x = 1e-3\n",
    "q = x\n",
    "N = int(1e6)\n",
    "\n",
    "#Probabilité exacte\n",
    "proba_exacte = stats.binom.cdf(n*x,n,p)\n",
    "print(\"Probabilité exacte : {}\".format(proba_exacte))\n",
    "\n",
    "#Méthode de Monte Carlo standard\n",
    "\n",
    "X = np.random.binomial(n,p, size = N)\n",
    "proba_MC = np.mean(X <= n*x)\n",
    "\n",
    "R_IC_1 = 1.96* np.sqrt(proba_MC*(1-proba_MC)/N) #rayon de l'intervalle de confiance\n",
    "print(\"Probabilité estimée avec une méthode de Monte Carlo standard : {} +/- {}\".format(proba_MC,R_IC_1))\n",
    "\n",
    "\n",
    "#Méthode échantillonnage d'importance\n",
    "Y = np.random.binomial(n,q, size = N)\n",
    "proba_echant_imp = ((1-p)/(1-q))**n* np.sum(((p/q*(1-q)/(1-p))**Y)[Y <= n*x])/N\n",
    "sigma_carre = ((1-p)/(1-q))**(2*n)* np.sum(((p/q*(1-q)/(1-p))**(2*Y))[Y <= n*x])/N - proba_echant_imp**2\n",
    "\n",
    "R_IC_2 = 1.96 * np.sqrt(sigma_carre/N)\n",
    "\n",
    "\n",
    "print(\"Probabilité estimée avec l'échantillonnage d'importance : {} +/- {}\".format(proba_echant_imp,R_IC_2))\n",
    "#rq: la probabilité exacte est bien dans l'intervalle de confiance"
   ]
  },
  {
   "cell_type": "markdown",
   "metadata": {},
   "source": [
    "### Preuve des intervalles de confiance :\n",
    "\n"
   ]
  },
  {
   "cell_type": "markdown",
   "metadata": {},
   "source": [
    "- __Intervalle de confiance pour la méthode de Monte Carlo classique__\n",
    "\n"
   ]
  },
  {
   "cell_type": "markdown",
   "metadata": {},
   "source": [
    "On note $\\hat{P} = \\dfrac{1}{N} \\, \\sum_{i=1}^N \\mathbb{1}_{(X_i \\leq nx)} $\n",
    "\n",
    "D'après le théorème central limite et le lemme de Slutsky, $\\sqrt{\\dfrac{N}{\\hat{P} \\, (1- \\hat{P})}} \\, \\Big(\\hat{P} - \\mathbb{P}(X \\leq nx) \\Big) \\Rightarrow \\mathcal{N}(0,1)$\n",
    "\n",
    "(en utilisant le fait que la variance d'une Bernoulli de paramètre $p$ vaut $p(1-p)$)\n",
    "\n",
    "Donc un intervalle de confiance asymptotique pour $\\mathbb{P}(X \\leq nx)$ de taux de couverture 0.95 est : \n",
    "\n",
    "$$\\Bigg[ \\hat{P} - 1.96 \\, \\sqrt{\\dfrac{\\hat{P}(1-\\hat{P})}{N}} ; \\hat{P} + 1.96 \\, \\, \\sqrt{\\dfrac{\\hat{P}(1-\\hat{P})}{N}} \\Bigg]$$"
   ]
  },
  {
   "cell_type": "markdown",
   "metadata": {},
   "source": [
    "- __Intervalle de confiance pour la méthode par échantillonnage d'importance:__\n",
    "\n"
   ]
  },
  {
   "cell_type": "markdown",
   "metadata": {},
   "source": [
    "On note $\\tilde{P} = \\dfrac{1}{N} \\times \\Big(\\dfrac{1-p}{1-q} \\Big)^n \\times \\sum_{i=1}^N \\mathbb{1}_{(S'_i \\leq nx)} \\, \\Big( \\dfrac{p(1-q)}{q(1-p)}\\Big)^{S'_i}$\n",
    "\n",
    "D'après le théorème central limite et le lemme de Slutsky:\n",
    "\n",
    "$$\\sqrt{\\dfrac{N}{\\tilde{\\sigma^2}}} \\, \\Big(\\tilde{P} - \\mathbb{P}(X \\leq nx) \\Big) \\Rightarrow \\mathcal{N}(0,1)$$"
   ]
  },
  {
   "cell_type": "markdown",
   "metadata": {},
   "source": [
    "avec $\\tilde{\\sigma^2} =  \\dfrac{1}{N} \\times \\Big(\\dfrac{1-p}{1-q} \\Big)^{2n} \\times \\sum_{i=1}^N \\mathbb{1}_{(S'_i \\leq nx)} \\, \\Big( \\dfrac{p(1-q)}{q(1-p)}\\Big)^{2 S'_i} - \\tilde{P}^2$"
   ]
  },
  {
   "cell_type": "markdown",
   "metadata": {},
   "source": [
    "Un intervalle de confiance asymptotique pour $\\mathbb{P}(X \\leq nx)$ de taux de couverture 0.95 est donné par : \n",
    "\n",
    "$$\\Bigg[ \\tilde{P} - 1.96 \\, \\sqrt{\\dfrac{\\tilde{\\sigma^2}}{N}} ; \\tilde{P} + 1.96 \\, \\, \\sqrt{\\dfrac{\\tilde{\\sigma^2}}{N}} \\Bigg]$$"
   ]
  },
  {
   "cell_type": "markdown",
   "metadata": {},
   "source": [
    "$\\newcommand{\\eqdef}{:=}$\n",
    "$\\def\\R{\\mathbb{R}}$\n",
    "$\\def\\P{\\mathbb{P}}$\n",
    "$\\def\\Q{\\mathbb{Q}}$\n",
    "$\\def\\mc{\\mathcal}$\n",
    "$\\def\\E{\\mathbb{E}}$\n",
    "$\\def\\Lth{L_\\theta}$\n",
    "$\\def\\Pth{\\mathbb{P}_\\theta}$\n",
    "$\\def\\Eth{\\mathbb{E}_\\theta}$\n",
    "$\\def\\Vth{\\mathrm{Var}_\\theta}$\n",
    "\n",
    "## Partie 3. Changement de probabilité dans un modèle gaussien\n",
    "Dans cette section, $X \\sim \\mathcal{N}(0,1)$ sous $\\P$.  Nous cherchons à calculer $\\P(X>a)$ puis $\\P(|X|>a)$ pour des valeurs assez élevées de $a$ de sorte que l'événement puisse être qualifié de rare (bien entendu, ces deux probabilités sont liées par la relation $\\P(|X|>a)=2\\P(X>a)$). Nous avons la relation, pour tout $a>0$,\n",
    "$$\n",
    "    \\frac{1}{a+1/a} \\frac{1}{\\sqrt{2\\pi}} e^{-\\frac{a^2}{2}} \n",
    "    \\le \\P(X>a) \\le \n",
    "    \\frac{1}{a} \\frac{1}{\\sqrt{2\\pi}} e^{-\\frac{a^2}{2}},\n",
    "$$\n",
    "ce qui entraine quand $a \\to +\\infty$,\n",
    "$$ \n",
    "    \\P(X>a) \\simeq \\frac{1}{a }\\frac{1}{\\sqrt{2\\pi}} e^{-\\frac{a^2}{2}}.\n",
    "$$\n",
    "Ainsi, comme $e^{\\frac{2.15^2}{2}} \\simeq 10$, $\\P(X>a)$ et$\\P(|X|>a)$ sont de l'ordre de $10^{-\\left(\\frac{a}{2.15}\\right)^2}$: des valeurs de $a$ comprises dans l'intervalle $[5,8]$ correspondent à notre champ d'investigation. Nous considérons deux changements de probabilité pour améliorer le comportement de l'échantillonneur de Monte Carlo naïf\n",
    "$$\n",
    "    \\P(X>a) \\simeq \\frac{1}{n} \\sum_{k=1}^n \\one_{X_k > a} \\qquad \\text{où $\\{X_k, k \\geq 1 \\}$ i.i.d. $\\mathcal{N}(0,1)$.}\n",
    "$$\n",
    "\n"
   ]
  },
  {
   "cell_type": "markdown",
   "metadata": {},
   "source": [
    "$\\newcommand{\\eqdef}{:=}$\n",
    "$\\def\\R{\\mathbb{R}}$\n",
    "$\\def\\P{\\mathbb{P}}$\n",
    "$\\def\\Q{\\mathbb{Q}}$\n",
    "$\\def\\mc{\\mathcal}$\n",
    "$\\def\\E{\\mathbb{E}}$\n",
    "$\\def\\Lth{L_\\theta}$\n",
    "$\\def\\Pth{\\mathbb{P}_\\theta}$\n",
    "$\\def\\Eth{\\mathbb{E}_\\theta}$\n",
    "$\\def\\Vth{\\mathrm{Var}_\\theta}$\n",
    "$\\def\\d{\\mathrm{d}}$\n",
    "\n",
    "### 3.1 Changement de probabilité par décentrage\n",
    "Ce changement de probabilité repose sur le changement de loi $\\P \\to \\Pth$ décrit en [section 1.2](#sec:12).  \n",
    "\n",
    "La fonction génératrice des cumulants de $X$ est définie sur $\\mc{D} = \\R$ et vaut $\\psi(\\theta) =\\theta^2/2$. Identifions la loi $\\Pth$: la relation [(1)](#eq:Principe:IS) appliquée avec $\\Q = \\Pth$, montre que pour toute fonction $f:\\R \\to \\R_+$ mesurable\n",
    "\\begin{align*}\n",
    "  \\Eth \\left[ f(X) \\right] = \\E \\left[ f(X) L_\\theta(X) \\right] \n",
    "  &= \\frac{1}{\\sqrt{2\\pi}} \\int_\\R f(x) \\exp \\left(\\theta x - \\theta^2/2 \\right) \\exp(-x^2/2) \\d x  \\\\\n",
    "  &= \\frac{1}{\\sqrt{2\\pi}} \\int_\\R f(x) \\exp \\left(-(x-\\theta)^2/2 \\right) \\d x\n",
    "\\end{align*}\n",
    "on en déduit que sous $\\Pth$, $X \\sim \\mathcal{N}(\\theta,1)$."
   ]
  },
  {
   "cell_type": "markdown",
   "metadata": {},
   "source": [
    "$\\newcommand{\\eqdef}{:=}$\n",
    "$\\def\\R{\\mathbb{R}}$\n",
    "$\\def\\P{\\mathbb{P}}$\n",
    "$\\def\\Q{\\mathbb{Q}}$\n",
    "$\\def\\mc{\\mathcal}$\n",
    "$\\def\\E{\\mathbb{E}}$\n",
    "$\\def\\Lth{L_\\theta}$\n",
    "$\\def\\Pth{\\mathbb{P}_\\theta}$\n",
    "$\\def\\Eth{\\mathbb{E}_\\theta}$\n",
    "$\\def\\Vth{\\mathrm{Var}_\\theta}$\n",
    "\n",
    "#### Question 4.\n",
    "Simuler $n \\gg 1$ gaussiennes indépendantes de loi $\\mc{N}(0,1)$ avec lesquelles on estimera $\\P(X>a)$ d'abord par l'estimateur naïf [(3)](#eq:MC:naif), puis par l'estimateur [(5)](#eq:MC:Ptheta) appliqué avec $\\theta = \\theta_a$ où \n",
    "$$ \\theta_a: \\text{solution de} \\qquad \\psi'(\\theta) = a. $$  Pour chacun des estimateurs, utiliser le TCL pour construire un intervalle de confiance asymptotique de probabilité de couverture $95 \\%$. Comparer à la valeur exacte de $\\P(X>a)$.\n",
    "\n",
    "Lorsque cela s'y prête, regarder la qualité de l'estimation par exemple en calculant l'erreur relative (taille de l'intervalle de confiance divisée par l'estimation ponctuelle)."
   ]
  },
  {
   "cell_type": "markdown",
   "metadata": {},
   "source": [
    "__Réponse__: $\\psi(\\theta) = \\theta^2/2$, donc $\\psi'(\\theta) = \\theta$. On choisit donc $\\theta_a = a$"
   ]
  },
  {
   "cell_type": "code",
   "execution_count": 3,
   "metadata": {},
   "outputs": [
    {
     "name": "stdout",
     "output_type": "stream",
     "text": [
      "Vraie valeur de la probabilité : 2.866515719235352e-07\n",
      "Estimateur naïf : 0.0 +/- 0.0\n",
      "Estimateur par décentrage : 2.864971569588541e-07 +- 1.3394680918080635e-09\n"
     ]
    }
   ],
   "source": [
    "n = int(1e6)\n",
    "a = 5\n",
    "\n",
    "val_exacte = 1- stats.norm.cdf(a,loc = 0, scale = 1)\n",
    "\n",
    "print(\"Vraie valeur de la probabilité :\",val_exacte)\n",
    "\n",
    "X = np.random.randn(n)\n",
    "\n",
    "est_naif = np.mean(X > a)\n",
    "R_IC_1 = 1.96 * np.sqrt(est_naif*(1-est_naif)/n)\n",
    "\n",
    "print(\"Estimateur naïf : {} +/- {}\".format(est_naif,R_IC_1))\n",
    "\n",
    "Y = X + a #suit la loi N(theta,1)\n",
    "\n",
    "Z = np.exp(a*(a/2 - Y))[Y > a]\n",
    "\n",
    "est_decentre = np.sum(Z)/n\n",
    "\n",
    "sigma_carre = np.sum(np.exp(a*(a - 2*Y))[Y > a])/n - est_decentre**2\n",
    "\n",
    "R_IC_2 = 1.96 * np.sqrt(sigma_carre/N)\n",
    "\n",
    "\n",
    "print(\"Estimateur par décentrage : {} +- {}\".format(est_decentre, R_IC_2))"
   ]
  },
  {
   "cell_type": "markdown",
   "metadata": {},
   "source": [
    "### Preuve des intervalles de confiance :\n",
    "\n"
   ]
  },
  {
   "cell_type": "markdown",
   "metadata": {},
   "source": [
    "- __Intervalle de confiance pour l'estimateur naïf__\n",
    "\n",
    "\n",
    "\n",
    "On note $\\hat{P} = \\dfrac{1}{n} \\, \\sum_{i=1}^n \\mathbb{1}_{(X_i > a)} $\n",
    "\n",
    "D'après le théorème central limite et le lemme de Slutsky, $\\sqrt{\\dfrac{n}{\\hat{P} \\, (1- \\hat{P})}} \\, \\Big(\\hat{P} - \\mathbb{P}(X >a) \\Big) \\Rightarrow \\mathcal{N}(0,1)$\n",
    "\n",
    "(en utilisant le fait que la variance d'une Bernoulli de paramètre $p$ vaut $p(1-p)$)\n",
    "\n",
    "Donc un intervalle de confiance asymptotique pour $\\mathbb{P}(X \\leq nx)$ de taux de couverture 0.95 est : \n",
    "\n",
    "$$\\Bigg[ \\hat{P} - 1.96 \\, \\sqrt{\\dfrac{\\hat{P}(1-\\hat{P})}{n}} ; \\hat{P} + 1.96 \\, \\, \\sqrt{\\dfrac{\\hat{P}(1-\\hat{P})}{n}} \\Bigg]$$\n",
    "\n",
    "- __Intervalle de confiance pour la méthode par échantillonnage d'importance:__\n",
    "\n",
    "\n",
    "\n",
    "Similaire à l'intervalle ci-dessus, en remplaçant $\\hat{P}(1-\\hat{P})$ par la variance empirique (comme pour l'échantillonnage d'importance dans la question 2)"
   ]
  },
  {
   "cell_type": "markdown",
   "metadata": {},
   "source": [
    "$\\newcommand{\\eqdef}{:=}$\n",
    "$\\def\\R{\\mathbb{R}}$\n",
    "$\\def\\P{\\mathbb{P}}$\n",
    "$\\def\\Q{\\mathbb{Q}}$\n",
    "$\\def\\mc{\\mathcal}$\n",
    "$\\def\\E{\\mathbb{E}}$\n",
    "$\\def\\Lth{L_\\theta}$\n",
    "$\\def\\Pth{\\mathbb{P}_\\theta}$\n",
    "$\\def\\Eth{\\mathbb{E}_\\theta}$\n",
    "$\\def\\Vth{\\mathrm{Var}_\\theta}$\n",
    "***\n",
    "#### Question 5.\n",
    "La longueur de l'intervalle de confiance est une fonction croissante de la variance de l'estimateur : on veut donc choisir $\\theta$ qui minimise cette variance.  Nous allons montrer que le choix de $\\theta$ fait dans la question précédente pourrait être amélioré si le critère d'optimalité souhaité est de minimiser la variance du nouvel estimateur.\n",
    "\n",
    "a) Montrer que choisir $\\theta$ qui minimise la variance de l'estimateur donné par [(5)](#eq:MC:Ptheta), revient à choisir $\\theta$ qui minimise\n",
    "$$\n",
    "    \\theta \\mapsto \\E\\left[ \\one_{X > a} \\exp\\left(\\frac{\\theta^2}{2} - \\theta X \\right) \\right].\n",
    "$$\n",
    "\n",
    "b) Montrer que cette fonction est convexe et qu'elle possède un unique minimum atteint en $\\theta_\\star$ solution de\n",
    "$$\n",
    "    \\E\\left[ \\one_{X > a} (\\theta - X) \\exp\\left(- \\theta X \\right) \\right] = 0,\n",
    "$$\n",
    "(on admettra que l'on peut permuter dérivée et intégration).\n",
    "\n",
    "c) En déduire que prendre $\\theta = \\theta_a$ est meilleur que prendre $\\theta = 0$; et que l'on a $\\theta_\\star > \\theta_a$.\n"
   ]
  },
  {
   "cell_type": "markdown",
   "metadata": {},
   "source": [
    "##### _Réponse:_"
   ]
  },
  {
   "cell_type": "markdown",
   "metadata": {},
   "source": [
    "__Réponses__:\n",
    "\n",
    "a) On veut minimiser $Var_\\theta [\\dfrac{g(X)}{L_\\theta(X)} ]  = Var_\\theta [\\mathbb{1}_{(X>a)} exp(\\theta^2/2 -  \\theta X) ]\n",
    "= \\mathbb{E}_\\theta [ \\mathbb{1}_{(X>a)} exp(\\theta^2 - 2 \\theta X)] -\\mathbb{E}_\\theta \\Big[\\mathbb{1}_{(X>a)} exp(\\theta^2/2 -  \\theta X) \\Big]^2$\n",
    "\n",
    "$$= \\mathbb{E}_\\theta [ \\mathbb{1}_{(X>a)} exp(\\theta^2 - 2 \\theta X)] - (P(X>a))^2$$\n",
    "\n",
    "ie minimiser $ \\mathbb{E}_\\theta [ \\mathbb{1}_{(X>a)} exp(\\theta^2 - 2 \\theta X)] = \\mathbb{E}_\\theta [ \\mathbb{1}_{(X>a)} / L(X)^2] = \\mathbb{E} [\\mathbb{1}_{(X>a)} / L(X)] = \\mathbb{E} [\\mathbb{1}_{(X>a)} exp(\\theta^2/2 - \\theta X)] $\n",
    "\n",
    "<br>\n",
    "\n",
    "\n",
    "b) On note $f(\\theta)$ la fonction à minimiser.\n",
    "\n",
    "$$f'(\\theta) = \\mathbb{E}[\\mathbb{1}_{(X>a)} (\\theta - X) exp(\\theta^2/2 - \\theta X)] = \\mathbb{E}[\\mathbb{1}_{(X>a)} (\\theta - X) exp( - \\theta X)] * exp (\\theta^2/2)$$\n",
    "\n",
    "$$f''(\\theta) = exp(\\theta^2 /2) \\times \\Big[\\theta \\ \\mathbb{E}[\\mathbb{1}_{(X>a)} (\\theta - X) \\, exp( - \\theta X)] \n",
    "+  \\mathbb{E}[\\mathbb{1}_{(X>a)} (1 - \\theta X + X^2) \\, exp( - \\theta X)] \\Big]$$\n",
    "\n",
    "$$= exp(\\theta^2/2) \\times \\mathbb{E} \\Big[ \\mathbb{1}_{(X>a)} (\\theta^2 - \\theta X + 1 - \\theta X + X^2) \\ exp(-\\theta X) \\Big]$$\n",
    "\n",
    "$$= exp(\\theta^2/2) \\times \\mathbb{E} \\Big[ \\mathbb{1}_{(X>a)} ( \\, (\\theta - X)^2 + 1 ) \\ exp(-\\theta X) \\Big] \\geq 0 $$\n",
    "\n",
    "Donc f est convexe et admet un unique minimum donné par la solution de :\n",
    "\n",
    "$$ f'(\\theta)/exp(\\theta^2/2) = 0 = \\mathbb{E}[\\mathbb{1}_{(X>a)} (\\theta - X) \\ exp( - \\theta X)]$$\n",
    "\n",
    "<br>\n",
    "\n",
    "\n",
    "c) \n",
    "$$f'(\\theta_a) = f'(a) = \\mathbb{E}[\\mathbb{1}_{(X>a)} (a - X) exp( - a X)] * exp (\\theta^2/2) < 0$$ car $a-X < 0$ pour $X>a$\n",
    "\n",
    "Donc la valeur de $\\theta$ la plus efficace, $ \\theta^*$, est plus grande que $\\theta_a$. \n",
    "\n",
    "Or $0 < \\theta_a < \\theta^*$ , donc par décroissance stricte de la fonction $\\theta \\rightarrow Var_\\theta [\\dfrac{g(X)}{L_\\theta(X)} ]$ sur $[0, \\theta^*]$, on a :\n",
    "\n",
    "$$Var[1_{(X>a)}] > Var_{\\theta_a}[\\dfrac{1_{(X>a)}}{L_{\\theta_a}(X)} ] \\ > Var_{\\theta^*}[\\dfrac{1_{(X>a)}}{L_{\\theta^*}(X)} ]$$"
   ]
  },
  {
   "cell_type": "markdown",
   "metadata": {},
   "source": [
    "$\\newcommand{\\eqdef}{:=}$\n",
    "$\\def\\R{\\mathbb{R}}$\n",
    "$\\def\\P{\\mathbb{P}}$\n",
    "$\\def\\Q{\\mathbb{Q}}$\n",
    "$\\def\\mc{\\mathcal}$\n",
    "$\\def\\E{\\mathbb{E}}$\n",
    "$\\def\\Lth{L_\\theta}$\n",
    "$\\def\\Pth{\\mathbb{P}_\\theta}$\n",
    "$\\def\\Eth{\\mathbb{E}_\\theta}$\n",
    "$\\def\\Vth{\\mathrm{Var}_\\theta}$\n",
    "\n",
    "### 3.2 Changement de probabilité par modification de la variance\n",
    "Le changement de probabilité par modification de la variance repose sur l'observation suivante : pour toute fonction $f: \\R \\to \\R$ mesurable bornée, on a\n",
    "$$\n",
    "    \\E[f(X)] = \\E \\left[\\sigma f(\\sigma X)e^{-\\frac{(\\sigma^2-1)}{2} X^2} \\right] \n",
    "    = \\E_{\\P_\\sigma}\\left[ \\sigma f(X) \\, e^{-\\frac{(\\sigma^2-1)}{2 \\sigma^2}X^2} \\right]\n",
    "$$\n",
    "où sous $\\P_\\sigma$, $X \\sim \\mc{N}(0, \\sigma^2)$. On peut donc estimer $\\E[f(X)]$ en appliquant la méthode de Monte Carlo naïve, ou en utilisant l'estimateur\n",
    "<a id='eq:MC:Psi'></a>\n",
    "$$ \\tag{6}\n",
    "    \\E[f(X)] \\simeq \\frac{\\sigma}{n} \\sum_{k=1}^n \\, f(Y_k) \\, e^{-\\frac{(\\sigma^2-1)}{2 \\sigma^2} Y_k^2} , \\qquad\n",
    "  \\text{$\\{Y_k, k \\geq 1 \\}$ i.i.d.  de loi $\\mc{N}(0,\\sigma^2)$.}\n",
    "$$\n",
    "Là encore, le choix de $\\sigma$ n'est pas anodin sur la qualité de l'estimateur, et selon un critère de réduction de variance, on choisira $\\sigma = \\sigma_\\star$ où $\\sigma_\\star$ est solution de\n",
    "$$\n",
    "    \\operatorname{argmin}_{\\sigma > 0} \\sigma^2 \\E \\left[ f^2(\\sigma X) e^{-(\\sigma^2-1)X^2} \\right].\n",
    "$$\n",
    "Bien souvent, on n'a pas d'expression explicite de cette valeur optimale, et la détermination de $\\sigma_\\star$ est une des principales difficultés de l'implémentation de cette méthode. Dans l'application numérique suivante, nous utiliserons une technique rudimentaire."
   ]
  },
  {
   "cell_type": "markdown",
   "metadata": {},
   "source": [
    "$\\newcommand{\\eqdef}{:=}$\n",
    "$\\def\\R{\\mathbb{R}}$\n",
    "$\\def\\P{\\mathbb{P}}$\n",
    "$\\def\\Q{\\mathbb{Q}}$\n",
    "$\\def\\mc{\\mathcal}$\n",
    "$\\def\\E{\\mathbb{E}}$\n",
    "$\\def\\Lth{L_\\theta}$\n",
    "$\\def\\Pth{\\mathbb{P}_\\theta}$\n",
    "$\\def\\Eth{\\mathbb{E}_\\theta}$\n",
    "$\\def\\Vth{\\mathrm{Var}_\\theta}$\n",
    "\n",
    "***\n",
    "#### Question 6.\n",
    "Se donner $\\mc{S}$, une version discrétisée de l'intervalle $\\left[\\frac{a}{2}, 3a \\right]$.  Simuler $n_1$ gaussiennes centrées réduites, et avec ce même jeu de simulations, pour chaque valeur $\\sigma \\in \\mc{S}$, calculer une approximation Monte Carlo de la quantité \n",
    "$$\n",
    "    \\sigma^2 \\E \\left[ \\one_{|\\sigma X| >a} e^{-(\\sigma^2-1)X^2} \\right].\n",
    "$$\n",
    "En déduire une approximation $\\hat{\\sigma}_\\star$ de $\\sigma_\\star$.\n",
    "\n",
    "*Indication : on pourra considérer une version discrétisée de l'intervalle en $300$ points équidistants. Puis on pourra relancer la recherche sur un intervalle plus réduit. Ne pas hésiter à prendre $𝑛_1$ de l'ordre de $1𝑒6$ et même plus grand, pour avoir une courbe relativement lisse.*"
   ]
  },
  {
   "cell_type": "code",
   "execution_count": 4,
   "metadata": {},
   "outputs": [
    {
     "name": "stdout",
     "output_type": "stream",
     "text": [
      "Première pproximation de sigma optimal :  5.1755852842809364\n",
      "Deuxième approximation de sigma optimal :  4.603678929765886\n"
     ]
    }
   ],
   "source": [
    "a=5.\n",
    "\n",
    "S = np.linspace(a/2, 3*a,300)\n",
    "n1 = int(1e6)\n",
    "\n",
    "X = np.random.randn(n1)\n",
    "\n",
    "listeVar = np.zeros(len(S))\n",
    "\n",
    "for i in range(len(S)):\n",
    "    Y = np.exp(-(S[i]**2-1)*X**2)[np.abs(S[i]*X) > a]\n",
    "    listeVar[i] = S[i]**2 * np.sum(Y)/n1\n",
    "    \n",
    "sigma_opt = S[np.argmin(listeVar)]\n",
    "\n",
    "print(\"Première pproximation de sigma optimal : \",sigma_opt)\n",
    "\n",
    "S2 = np.linspace(sigma_opt-1, sigma_opt+1,300)\n",
    "\n",
    "for i in range(len(S)):\n",
    "    Y = np.exp(-(S[i]**2-1)*X**2)[np.abs(S[i]*X) > a]\n",
    "    listeVar[i] = S[i]**2 * np.sum(Y)/n1\n",
    "    \n",
    "sigma_opt = S2[np.argmin(listeVar)]\n",
    "\n",
    "\n",
    "print(\"Deuxième approximation de sigma optimal : \",sigma_opt)\n"
   ]
  },
  {
   "cell_type": "markdown",
   "metadata": {},
   "source": [
    "$\\newcommand{\\eqdef}{:=}$\n",
    "$\\def\\R{\\mathbb{R}}$\n",
    "$\\def\\P{\\mathbb{P}}$\n",
    "$\\def\\Q{\\mathbb{Q}}$\n",
    "$\\def\\mc{\\mathcal}$\n",
    "$\\def\\E{\\mathbb{E}}$\n",
    "$\\def\\Lth{L_\\theta}$\n",
    "$\\def\\Pth{\\mathbb{P}_\\theta}$\n",
    "$\\def\\Eth{\\mathbb{E}_\\theta}$\n",
    "$\\def\\Vth{\\mathrm{Var}_\\theta}$\n",
    "***\n",
    "#### Question 7.\n",
    "Simuler $n_2$ autres gaussiennes centrées réduites $X_1, \\dots, X_{n_2}$ ($n_2 \\gg n_1$). Avec ce nouveau jeu de simulations, proposer une estimation de $\\P(|X| >a)$ via la méthode de Monte Carlo naïve, et une estimation via la formule\n",
    "$$\n",
    "    \\P(|X|>a) \\simeq \\frac{\\sigma}{n_2} \\sum_{k=1}^{n_2} \\one_{|\\sigma X_k| > a} e^{-\\frac{(\\sigma^2-1)}{2} X_k^2}\n",
    "$$\n",
    "tout d'abord pour $\\sigma = \\hat{\\sigma}_\\star$ puis pour $\\sigma = a$.\n",
    "\n",
    "Pour chacun des trois cas, utiliser le TCL pour construire un intervalle de confiance asymptotique de probabilité de couverture $95\\%$. \n",
    "\n",
    "Comparer ces stratégies, par exemple en regardant l'erreur relative lorsqu'elle est bien définie."
   ]
  },
  {
   "cell_type": "code",
   "execution_count": 5,
   "metadata": {},
   "outputs": [
    {
     "name": "stdout",
     "output_type": "stream",
     "text": [
      "Estimateur naïf : 4e-07 +/- 3.9199992159999213e-07\n",
      "Probabilité approximée par modification de la variance avec sigma = sigma_opt: 5.730852861289836e-07 +/- 1.8841249210465753e-09\n",
      "Probabilité approximée par modification de la variance avec sigma = a: 5.737180966639254e-07 +/- 1.8736917257025585e-09\n",
      "Probabilité exacte :  5.733031438470704e-07\n"
     ]
    }
   ],
   "source": [
    "n2 = int(1e7)\n",
    "\n",
    "X = np.random.randn(n2)\n",
    "\n",
    "#Naive - Monte Carlo simple\n",
    "\n",
    "proba_MC = np.mean(np.abs(X)>a)\n",
    "\n",
    "R_IC_1 = 1.96 * np.sqrt(proba_MC*(1-proba_MC)/n2)\n",
    "\n",
    "print(\"Estimateur naïf : {} +/- {}\".format(proba_MC,R_IC_1))\n",
    "\n",
    "#Modification de la variance avec sigma = sigma_opt\n",
    "\n",
    "Y = np.exp(- (sigma_opt**2 - 1)* X**2/2)[np.abs(X)*sigma_opt >a]\n",
    "\n",
    "p_var_opt = sigma_opt * np.sum(Y)/n2\n",
    "\n",
    "var_emp_2 = sigma_opt**2 * np.sum( np.exp(- (sigma_opt**2 - 1)* X**2) [np.abs(X) *sigma_opt>a]) /n2\n",
    "\n",
    "R_IC_2 = 1.96 * np.sqrt(var_emp_2/n2)\n",
    "\n",
    "print(\"Probabilité approximée par modification de la variance avec sigma = sigma_opt: {} +/- {}\".format(p_var_opt,R_IC_2))\n",
    "\n",
    "p_exacte = 2*(1- stats.norm.cdf(a))\n",
    "\n",
    "#Modification de la variance avec sigma = a\n",
    "\n",
    "Y = np.exp(- (a**2 - 1)* X**2/2)[np.abs(X) >1]\n",
    "\n",
    "p_var_a = a * np.sum(Y)/n2\n",
    "\n",
    "var_emp_3 = a**2 * np.sum( np.exp(- (a**2 - 1)* X**2) [np.abs(X) >1]) /n2\n",
    "\n",
    "R_IC_3 = 1.96 * np.sqrt(var_emp_3/n2)\n",
    "\n",
    "print(\"Probabilité approximée par modification de la variance avec sigma = a: {} +/- {}\".format(p_var_a,R_IC_3))\n",
    "\n",
    "p_exacte = 2*(1- stats.norm.cdf(a))\n",
    "\n",
    "print(\"Probabilité exacte : \", p_exacte)"
   ]
  },
  {
   "cell_type": "markdown",
   "metadata": {},
   "source": [
    "$\\newcommand{\\eqdef}{:=}$\n",
    "$\\def\\R{\\mathbb{R}}$\n",
    "$\\def\\P{\\mathbb{P}}$\n",
    "$\\def\\Q{\\mathbb{Q}}$\n",
    "$\\def\\mc{\\mathcal}$\n",
    "$\\def\\E{\\mathbb{E}}$\n",
    "$\\def\\Lth{L_\\theta}$\n",
    "$\\def\\Pth{\\mathbb{P}_\\theta}$\n",
    "$\\def\\Eth{\\mathbb{E}_\\theta}$\n",
    "$\\def\\Vth{\\mathrm{Var}_\\theta}$\n",
    "$\\newcommand{\\pscal}[2]{\\left\\langle#1,#2\\right\\rangle}$\n",
    "\n",
    "## Partie 4. Algorithme adaptatif de moyenne optimale dans le cas gaussien multidimensionnel\n",
    "\n",
    "Dans cette section, sous $\\P$, $X$ est un vecteur gaussien standard de $\\R^d$, $X \\sim \\mc{N}(0,I_d)$ où $I_d$ désigne la matrice identité de taille $d \\times d$. On note $\\pscal{a}{b}$ le produit scalaire usuel sur $\\R^d$ et $\\|\\cdot \\|$ la norme euclidienne associée. Pour un vecteur $a$, $a'$ est la transposée. Par convention, les vecteurs sont des vecteurs colonnes.\n",
    "\n",
    "On cherche à calculer $\\E[f(X)]$ pour une fonction $f: \\R^d \\to \\R$ mesurable telle que pour tout $\\theta\\in \\R^d$,\n",
    "$$\n",
    "    0<\\E \\left[f^2(X) \\ e^{-\\pscal{\\theta}{X}}\\right]<\\infty.\n",
    "$$\n",
    "Pour ce faire, on peut implémenter un estimateur de Monte Carlo naïf ou exploiter la relation\n",
    "<a id='eq:IS:multidim'></a>\n",
    "$$ \\tag{7}\n",
    "  \\E[h(X)]=\\E \\left[h(X + \\theta) \\, e^{-\\pscal{\\theta}{X}-\\|\\theta\\|^2/2} \\right],\n",
    "$$ \n",
    "valable pour tout $\\theta \\in \\R^d$, et toute fonction $h: \\R^d \\to \\R_+$ mesurable. L'objectif de cette section est d'apprendre, par une procédure adaptative, la valeur optimale du paramètre $\\theta$."
   ]
  },
  {
   "cell_type": "markdown",
   "metadata": {},
   "source": [
    "$\\newcommand{\\eqdef}{:=}$\n",
    "$\\def\\R{\\mathbb{R}}$\n",
    "$\\def\\P{\\mathbb{P}}$\n",
    "$\\def\\Q{\\mathbb{Q}}$\n",
    "$\\def\\mc{\\mathcal}$\n",
    "$\\def\\E{\\mathbb{E}}$\n",
    "$\\def\\Lth{L_\\theta}$\n",
    "$\\def\\Pth{\\mathbb{P}_\\theta}$\n",
    "$\\def\\Eth{\\mathbb{E}_\\theta}$\n",
    "$\\def\\Vth{\\mathrm{Var}_\\theta}$\n",
    "$\\newcommand{\\pscal}[2]{\\left\\langle#1,#2\\right\\rangle}$\n",
    "$\\def\\Var{\\mathrm{Var}}$\n",
    "\n",
    "#### Algorithme de Lelong et Jourdain\n",
    "D'après l'article [Robust adaptive importance sampling for normal random vectors](https://projecteuclid.org/euclid.aoap/1255699541). On déduit de [(7)](#eq:IS:multidim) que pour tout $\\theta \\in \\R^d$,\n",
    "- (i) la v.a.\n",
    "<a id='eq:IS:JL'></a>\n",
    "$$ \\tag{8}\n",
    "    M_n(\\theta) \\eqdef \\frac{1}{n} \\sum_{k=1}^n f(X_k + \\theta) \\ e^{-\\pscal{\\theta}{X_k}-\\|\\theta\\|^2/2}, \n",
    "    \\qquad \\text{$\\{X_k, k \\geq 0\\}$ v.a. i.i.d. de loi $\\mc{N}(0,1)$}\n",
    "$$\n",
    "est un estimateur sans biais de l'objectif $\\E\\left[f(X)\\right]$,\n",
    "- (ii) sa variance est égale à $n^{-1} \\left( \\mc{V}(\\theta)- \\left(\\E[f(X)] \\right)^2 \\right)$, où\n",
    "$$\n",
    "    \\mc{V}(\\theta) \\eqdef \\E \\left[f^2(X) e^{- \\pscal{\\theta}{X}+\\|\\theta\\|^2/2} \\right].\n",
    "$$\n",
    "\n",
    "On souhaite donc appliquer l'estimateur [(8)](#eq:IS:JL) avec $\\theta=\\theta_\\star$ où $\\theta_\\star$ minimise $\\mc{V}(\\theta)$. Cependant, en général, lorsque $\\E[f(X)]$ est inconnu, il en est de même pour $\\mc{V}(\\theta)$ et donc $\\theta_\\star$ est défini comme un minimiseur d'une fonction incalculable. Or, sous des conditions d'intégrabilité sur $f$, la fonction $\\mc{V}$ est de classe $C^2$, strictement convexe et possédant un unique minimum $\\theta_\\star$; son gradient $G$ et son Hessien $H$ sont donnés par\n",
    "\\begin{align*}\n",
    "  G(\\theta) & \\eqdef  \\E \\left[ f^2(X) \\left( \\theta -X \\right) e^{- \\pscal{\\theta}{X}+\\|\\theta\\|^2/2} \\right]  \\in \\R^{d \\times 1}, \\\\\n",
    "  H(\\theta) & \\eqdef \\E \\left[ f^2(X) \\left( I_d + (\\theta-X) (\\theta-X)' \\right) e^{- \\pscal{\\theta}{X}+\\|\\theta\\|^2/2} \\right]  \\in \\R^{d \\times d}.\n",
    "\\end{align*}\n",
    "\n",
    "\n",
    "Afin d'approcher $\\theta_\\star$, on va utiliser une version bruitée de la *méthode de Newton* : pour $n$ fixé, $\\theta_\\star$ sera approché par $\\theta_n$ défini comme la limite lorsque $k$ tend vers l'infini, de la suite $\\{t_k, k\\ge 0\\}$ satisfaisant à\n",
    "<a id='eq:Newton'></a>\n",
    "$$ \\tag{9}\n",
    "    t_{k+1} = t_k - \\left(H_n(t_k)\\right)^{-1} \\, G_n(t_k)\n",
    "$$\n",
    "où $H_n(t), G_n(t)$ sont les approximations Monte Carlo de $H(t)$ et $G(t)$ calculées à partir des mêmes $n$ réalisations indépendantes $X_1, \\cdots, X_n$ de v.a. $\\mc{N}_d(0,I_d)$:\n",
    "\\begin{align*}\n",
    "    G_n(\\theta) & \\eqdef \\frac{1}{n}\\sum_{k=1}^n f^2(X_k) (\\theta-X_k)e^{-\\pscal{\\theta}{X_k}+\\|\\theta\\|^2/2}, \\\\\n",
    "    H_n(\\theta) & \\eqdef \\frac{1}{n}\\sum_{k=1}^n f^2(X_k) \\left(I_d + (\\theta-X_k)(\\theta-X_k)'\\right) e^{-\\pscal{\\theta}{X_k}+\\|\\theta\\|^2/2}.\n",
    "\\end{align*}\n",
    "En pratique, on se fixe un seuil $\\varepsilon > 0$ et on itère la relation [(9)](#eq:Newton) tant que $\\|G_n(t_k)\\|>\\varepsilon$. On obtient alors $\\theta_n$; on prendra pour estimateur de $\\E[f(X)]$ la quantité $M_n(\\theta_n)$ calculée à partir des mêmes tirages $X_1, \\cdots, X_n$ que ceux utilisés pour le calcul de $G_n$ et $H_n$.\n",
    "\n",
    "Les résultats suivants, qui peuvent être démontrés sous hypothèses d'intégrabilité sur la fonction $f$, assurent que la méthode fonctionne (voir l'article [Robust adaptive importance sampling for normal random vectors](https://projecteuclid.org/euclid.aoap/1255699541)): \n",
    "- (i) $M_n(\\theta_n)$ tend presque sûrement vers $\\E[f(X)]$ lorsque $n \\to \\infty$, \n",
    "- (ii) si $\\Var(f(X))>0$, la suite de v.a.\n",
    "$$\n",
    "    \\sqrt{\\frac{n}{\\mc{V}(\\theta_n)-M_n(\\theta_n)^2}}(M_n(\\theta_n)-\\E[f(X)])\n",
    "$$\n",
    "converge en loi vers une loi gaussienne standard,\n",
    "- (iii) $\\sqrt{n}(\\theta_n-\\theta_\\star)$ est asymptotiquement gaussienne centrée (sa variance peut être exprimée, de façon relativement complexe, en fonction des quantités caractérisant le problème). "
   ]
  },
  {
   "cell_type": "markdown",
   "metadata": {},
   "source": [
    "$\\newcommand{\\eqdef}{:=}$\n",
    "$\\def\\R{\\mathbb{R}}$\n",
    "$\\def\\P{\\mathbb{P}}$\n",
    "$\\def\\Q{\\mathbb{Q}}$\n",
    "$\\def\\mc{\\mathcal}$\n",
    "$\\def\\E{\\mathbb{E}}$\n",
    "$\\def\\Lth{L_\\theta}$\n",
    "$\\def\\Pth{\\mathbb{P}_\\theta}$\n",
    "$\\def\\Eth{\\mathbb{E}_\\theta}$\n",
    "$\\def\\Vth{\\mathrm{Var}_\\theta}$\n",
    "$\\newcommand{\\pscal}[2]{\\left\\langle#1,#2\\right\\rangle}$\n",
    "***\n",
    "#### Question 8.\n",
    "On se limitera dans cette question au cas $d=1$.  On s'intéresse au cas particulier $f:x \\mapsto \\left(e^{x} - K\\right)^+$, qui correspond au calcul du prix d'une option call en finance (pour $y\\in{\\mathbb R}$, on note $y^+:=\\max(y,0)$). \n",
    "Il s'agit d'un exemple jouet puisque $\\E[f(X)]$ a une expression explicite donnée par \n",
    "<a id='eq:BS'></a>\n",
    "$$ \\tag{10}\n",
    "    \\E[f(X)] = e^{\\frac{1}{2}} \\, \\Phi(1-\\ln(K))-K \\, \\Phi(-\\ln(K)), \\qquad \\text{avec} \\quad \\Phi(x):=\\P(X\\le x).\n",
    "$$\n",
    "(cette formule n'est plus valable en dimension $d$ supérieure à $1$).\n",
    "\n",
    "Fixer $n_\\mathrm{max} = 10^6$ et simuler $X_1, \\cdots, X_{n_\\mathrm{max}}$ v.a.  i.i.d. $\\mc{N}(0,1)$.\n",
    "\n",
    "**8.a)** Pour différentes valeurs de $n \\leq n_\\mathrm{max}$, représenter la fonction\n",
    "$$\n",
    "    \\mc{V}_n: \\theta \\mapsto \\frac{1}{n} \\sum_{k=1}^n f^2(X_k) \\exp\\left( - \\pscal{\\theta}{X_k} + \\|\\theta\\|^2/2 \\right).\n",
    "$$\n",
    "  \n",
    "  Tracer aussi la suite $\\{t_k, 1\\leq k \\leq \\min\\{\\tau_\\varepsilon, 100\\}\\}$, où $\\tau_\\varepsilon$ est le premier $k$ tel que $\\|G_n(t_k)\\|\\le \\varepsilon$.  Comment cette suite converge-t-elle ?\n",
    "  \n",
    "On pourra prendre $K=1$, se limiter à tracer $\\mc{V}_n$ sur l'intervalle $[0,3]$ et prendre $\\varepsilon = 0.001$.  <!--\n",
    "Noter que lorsque $d=1$,\n",
    "$$\n",
    "    \\theta-\\frac{G_n(\\theta)}{H_n(\\theta)} = \n",
    "    \\frac{\\sum_{k=1}^n f^2(X_k) \\left(\\theta^3+(1-2\\theta^2)X_k+\\theta X_k^2 \\right) e^{-\\theta X_k}}\n",
    "    {\\sum_{k=1}^n f^2(X_k) \\left( 1+(\\theta-X_k)^2 \\right) e^{-\\theta X_k}}.\n",
    "$$ -->"
   ]
  },
  {
   "cell_type": "code",
   "execution_count": 6,
   "metadata": {},
   "outputs": [
    {
     "name": "stdout",
     "output_type": "stream",
     "text": [
      "Question 8.a: les différentes représentations de Vn.\n"
     ]
    },
    {
     "data": {
      "image/png": "[encoded data removed]",
      "text/plain": [
       "<Figure size 432x288 with 1 Axes>"
      ]
     },
     "metadata": {
      "needs_background": "light"
     },
     "output_type": "display_data"
    },
    {
     "name": "stdout",
     "output_type": "stream",
     "text": [
      "Question 8.a: Evaluation de tk\n",
      "La procédure s'est arrêtée a k = 12 avec t0 = 5\n",
      "La valeur obtenue = 1.495160441193643\n",
      "\n",
      "La convergence est linéaire : l'écart est proportionnel au temps.\n"
     ]
    },
    {
     "data": {
      "image/png": "[encoded data removed]",
      "text/plain": [
       "<Figure size 432x288 with 1 Axes>"
      ]
     },
     "metadata": {
      "needs_background": "light"
     },
     "output_type": "display_data"
    }
   ],
   "source": [
    "#Fonctions qui calculent f(x) et Vn(x)\n",
    "def f_1d(x, K):\n",
    "    res = np.exp(x) - K\n",
    "    res *= (res > 0)                  # On conserve les valeurs > 0 et on renvoie 0 pour les autres\n",
    "    return res\n",
    "\n",
    "def v_1d(x, theta, K):\n",
    "    return (f_1d(x, K) ** 2 * np.exp(-theta * x + theta ** 2 / 2)).mean()\n",
    "\n",
    "print(\"Question 8.a: les différentes représentations de Vn.\")\n",
    "\n",
    "# Paramètre\n",
    "nmax = int(1e6)\n",
    "K = 1\n",
    "x = np.linspace(0, 3, 40)    # l'axe zéro pour tracer le graphe\n",
    "\n",
    "# Echantillonnage pour n = 10e1 - 10e6\n",
    "for n in [int(1e1), int(1e2), int(1e3), int(1e4), int(1e5), int(1e6)]:\n",
    "    X = np.random.randn(n)\n",
    "    v_de_theta = [v_1d(X, theta, K) for theta in x]\n",
    "    plt.plot(x, v_de_theta, label=\"n={}\".format(n))\n",
    "plt.legend(loc=\"best\")\n",
    "plt.xlabel(\"theta\")\n",
    "plt.ylabel(\"Vn(theta)\")\n",
    "plt.show()\n",
    "\n",
    "print(\"Question 8.a: Evaluation de tk\")\n",
    "# Fonctions pour calculer grad et hess de la fonction V\n",
    "def g_1d(X, t):\n",
    "    return (f_1d(X, K) ** 2 * (t - X) * np.exp(-t * X + t ** 2 / 2)).mean()\n",
    "\n",
    "def h_1d(X, t):\n",
    "    return (f_1d(X, K) ** 2 * (1 + (t - X) ** 2) * np.exp(-t * X + t ** 2 / 2)).mean()\n",
    "\n",
    "epsilon = 0.001\n",
    "tks = []\n",
    "t_initial = 5\n",
    "tn = t_initial\n",
    "\n",
    "# echantillon\n",
    "X = np.random.randn(nmax)\n",
    "# Condition initiale\n",
    "gn = g_1d(X, tn)\n",
    "\n",
    "while gn > epsilon and len(tks) < 101:\n",
    "    tn = tn - gn / h_1d(X, tn)    # itération\n",
    "    gn = g_1d(X, tn)\n",
    "    tks.append(tn)\n",
    "\n",
    "if len(tks) < 101:\n",
    "    print(\"La procédure s'est arrêtée a k = {} avec t0 = {}\".format(len(tks) - 1, t_initial))\n",
    "    print(\"La valeur obtenue = {}\".format(tks[-1]))\n",
    "\n",
    "print(\"\\nLa convergence est linéaire : l'écart est proportionnel au temps.\")\n",
    "plt.plot(tks)\n",
    "plt.show()"
   ]
  },
  {
   "cell_type": "markdown",
   "metadata": {},
   "source": [
    "$\\newcommand{\\eqdef}{:=}$\n",
    "$\\def\\R{\\mathbb{R}}$\n",
    "$\\def\\P{\\mathbb{P}}$\n",
    "$\\def\\Q{\\mathbb{Q}}$\n",
    "$\\def\\mc{\\mathcal}$\n",
    "$\\def\\E{\\mathbb{E}}$\n",
    "$\\def\\Lth{L_\\theta}$\n",
    "$\\def\\Pth{\\mathbb{P}_\\theta}$\n",
    "$\\def\\Eth{\\mathbb{E}_\\theta}$\n",
    "$\\def\\Vth{\\mathrm{Var}_\\theta}$\n",
    "$\\newcommand{\\pscal}[2]{\\left\\langle#1,#2\\right\\rangle}$\n",
    "\n",
    "**8.b)** Tracer sur un même graphique les suites $\\{M_n(0), n \\geq 0\\}$ et $\\{M_n(\\theta_n), n \\geq 0\\}$ pour $n$ variant de $100$ à $n_{\\mathrm{max}}/10$ par sauts de $1000$ (de façon à accélérer l'algorithme). \n",
    "\n",
    "Pour comparaison, tracer aussi la droite horizontale $y=\\E[f(X)]$ où cette constante est calculée avec la formule [(10)](#eq:BS)."
   ]
  },
  {
   "cell_type": "code",
   "execution_count": 7,
   "metadata": {},
   "outputs": [
    {
     "data": {
      "image/png": "[encoded data removed]",
      "text/plain": [
       "<Figure size 432x288 with 1 Axes>"
      ]
     },
     "metadata": {
      "needs_background": "light"
     },
     "output_type": "display_data"
    }
   ],
   "source": [
    "# La valeur theorique caculee avec la formule (10)\n",
    "def val_theorique(K):\n",
    "    return np.exp(1/2) * stats.norm.cdf(1 - np.log(K)) - K * stats.norm.cdf(-np.log(K))\n",
    "\n",
    "# La fonction qui permet de calculer Mn(theta)\n",
    "def M_1d(X, theta):\n",
    "    return ((f_1d(X + theta, K)) * np.exp(-theta * X - theta ** 2 / 2)).mean()\n",
    "\n",
    "\n",
    "# Les listes qui stockes les valeurs obtenues.\n",
    "Mn_0 = []\n",
    "Mn_theta_n = []\n",
    "\n",
    "nmax = int(1e6)\n",
    "saut = 1000\n",
    "\n",
    "# X: echantillonage\n",
    "X = np.random.randn(nmax)\n",
    "\n",
    "tn = 5\n",
    "epsilon = 0.1\n",
    "\n",
    "for n in range(100, int(nmax/10), saut):\n",
    "    tn = 5\n",
    "    gn = g_1d(X[:n], tn)\n",
    "    count = 0\n",
    "    while gn > epsilon and count < n:\n",
    "        tn = tn - gn / h_1d(X[:n], tn)\n",
    "        gn = g_1d(X[:n], tn)\n",
    "        count += 1\n",
    "    Mn_0.append(M_1d(X[:n], 0))\n",
    "    Mn_theta_n.append(M_1d(X[:n], tn))\n",
    "\n",
    "plt.plot([i for i in range(100, int(nmax/10), saut)], Mn_0, label=\"Mn(0)\")\n",
    "plt.plot([i for i in range(100, int(nmax/10), saut)], Mn_theta_n, label=\"Mn(theta_n)\")\n",
    "plt.axhline(val_theorique(1), color='yellow')\n",
    "plt.legend(loc=\"best\")\n",
    "plt.xlabel(\"n\")\n",
    "plt.ylabel(\"Esperance\")\n",
    "plt.ylim(0.85, 0.95)\n",
    "plt.show()"
   ]
  },
  {
   "cell_type": "markdown",
   "metadata": {},
   "source": [
    "$\\newcommand{\\eqdef}{:=}$\n",
    "$\\def\\R{\\mathbb{R}}$\n",
    "$\\def\\P{\\mathbb{P}}$\n",
    "$\\def\\Q{\\mathbb{Q}}$\n",
    "$\\def\\mc{\\mathcal}$\n",
    "$\\def\\E{\\mathbb{E}}$\n",
    "$\\def\\Lth{L_\\theta}$\n",
    "$\\def\\Pth{\\mathbb{P}_\\theta}$\n",
    "$\\def\\Eth{\\mathbb{E}_\\theta}$\n",
    "$\\def\\Vth{\\mathrm{Var}_\\theta}$\n",
    "$\\def\\d{\\mathrm{d}}$\n",
    "$\\newcommand{\\pscal}[2]{\\left\\langle#1,#2\\right\\rangle}$\n",
    "\n",
    "**8.c)** Pour différentes valeurs de $n$, simuler un grand nombre de réalisations de $M_n(0)$ et de $M_n(\\theta_n)$, estimer les variances de ces deux v.a., et tracer l'histogramme de ces réalisations, ainsi que la droite verticale $x=\\E[f(X)]$. Que nous disent ces histogrammes sur l'efficacité des deux méthodes ?"
   ]
  },
  {
   "cell_type": "code",
   "execution_count": 8,
   "metadata": {},
   "outputs": [
    {
     "name": "stdout",
     "output_type": "stream",
     "text": [
      "\n",
      "***\n",
      "\n",
      "n = 100\n"
     ]
    },
    {
     "data": {
      "image/png": "[encoded data removed]",
      "text/plain": [
       "<Figure size 432x288 with 2 Axes>"
      ]
     },
     "metadata": {
      "needs_background": "light"
     },
     "output_type": "display_data"
    },
    {
     "name": "stdout",
     "output_type": "stream",
     "text": [
      "La variance de Mn_0 = 0.042875, celle de Mn(theta_n) = 0.001113)\n",
      "\n",
      "***\n",
      "\n",
      "n = 1000\n"
     ]
    },
    {
     "data": {
      "image/png": "[encoded data removed]",
      "text/plain": [
       "<Figure size 432x288 with 2 Axes>"
      ]
     },
     "metadata": {
      "needs_background": "light"
     },
     "output_type": "display_data"
    },
    {
     "name": "stdout",
     "output_type": "stream",
     "text": [
      "La variance de Mn_0 = 0.003785, celle de Mn(theta_n) = 0.000106)\n",
      "\n",
      "***\n",
      "\n",
      "n = 10000\n"
     ]
    },
    {
     "data": {
      "image/png": "[encoded data removed]",
      "text/plain": [
       "<Figure size 432x288 with 2 Axes>"
      ]
     },
     "metadata": {
      "needs_background": "light"
     },
     "output_type": "display_data"
    },
    {
     "name": "stdout",
     "output_type": "stream",
     "text": [
      "La variance de Mn_0 = 0.000431, celle de Mn(theta_n) = 0.000011)\n",
      "\n",
      "La variance de methode Mn(theta_n) admet une variance plus petite: on a plus de precision avec l'agorithme adaptatif.\n"
     ]
    }
   ],
   "source": [
    "M = 1000  # nb d'echantillon pour chaque n\n",
    "\n",
    "tn = 5   # theta_0\n",
    "epsilon = 0.1   # epsilon\n",
    "\n",
    "for n in [int(1e2), int(1e3), int(1e4)]:\n",
    "    \n",
    "    print(\"\")\n",
    "    print(\"***\")\n",
    "    print(\"\")\n",
    "    print(\"n = {}\".format(n))\n",
    "    X = np.random.randn(M, n)\n",
    "    Mn_0 = []\n",
    "    Mn_theta_n = []\n",
    "    for i in range(M):\n",
    "        tn = 5\n",
    "        gn = g_1d(X[i], tn)\n",
    "        count = 0\n",
    "        while gn > epsilon and count < n:\n",
    "            tn = tn - gn / h_1d(X[i], tn)\n",
    "            gn = g_1d(X[i], tn)\n",
    "            count += 1\n",
    "        Mn_0.append(M_1d(X[i], 0))\n",
    "        Mn_theta_n.append(M_1d(X[i], tn))\n",
    "\n",
    "    # plot\n",
    "    plt.subplot(121)\n",
    "    plt.hist(Mn_0, int(M ** 1/2 *2), density=True, label=\"Mn(0)\")\n",
    "    plt.axvline(val_theorique(1), color='yellow')\n",
    "    plt.xlim(0.5, 1.5)\n",
    "    plt.legend(loc=\"best\")\n",
    "    plt.subplot(122)\n",
    "    plt.hist(Mn_theta_n, int(M ** 1/2 *2), density=True, label=\"Mn(theta_n)\")\n",
    "    plt.axvline(val_theorique(1), color='yellow')\n",
    "    plt.xlim(0.5, 1.5)\n",
    "    plt.legend(loc=\"best\")\n",
    "    plt.show()\n",
    "    # Afficher les variances des deux methodes.\n",
    "    print(\"La variance de Mn_0 = %8f, celle de Mn(theta_n) = %8f)\" %(np.array(Mn_0).var(), np.array(Mn_theta_n).var()))\n",
    "print(\"\\nLa variance de methode Mn(theta_n) admet une variance plus petite: on a plus de precision avec l'agorithme adaptatif.\")"
   ]
  },
  {
   "cell_type": "markdown",
   "metadata": {},
   "source": [
    "***\n",
    "#### Question 9.\n",
    "\n",
    "Reprendre la question précédente en dimension $d$ supérieure, pour la fonction \n",
    "$$\n",
    "    f: x =(x_1,\\dots,x_d)\\mapsto \\left(\\frac{1}{d}\\sum_{i=1}^d e^{x_i}-K\\right)^+,\n",
    "$$ \n",
    "qui correspond au calcul du prix d'un call sur moyenne.  On affichera le tracé des suites $\\{M_n(\\theta_n), n \\geq 0\\}$ et $\\{M_n(0), n \\geq 0\\}$ ainsi que les histogrammes.\n",
    "\n",
    "Vous pourrez utiliser les fonctions d'algèbre linéaire `numpy.dot`, `numpy.inner`, `np.eye`, `np.outer`, aisi que `numpy.linalg.inv` et `numpy.linalg.norm`."
   ]
  },
  {
   "cell_type": "code",
   "execution_count": 9,
   "metadata": {},
   "outputs": [],
   "source": [
    "# Les fonctions f, g, h et M en dimension d\n",
    "def f_d(X, K):\n",
    "    res = np.exp(X).mean(axis=-1) - K\n",
    "    res *= res > 0\n",
    "    return res\n",
    "\n",
    "def g_d(X, theta):\n",
    "    return np.mean([(f_d(X, 1) ** 2 * np.exp(-np.inner(theta, X)))[i] * (theta - X[i]) for i in range(n)], axis=0)* np.exp(np.inner(theta, theta) / 2)\n",
    "\n",
    "def h_d(X, theta):\n",
    "    return np.mean([(np.outer(theta - X[i], theta - X[i]) + np.eye(d)) * (f_d(X, 1) ** 2)[i] * np.exp(-np.inner(theta, X[i]) + np.inner(theta, theta) / 2)for i in range(n)], axis=0)\n",
    "\n",
    "# On n'a pas réussi à accelerer ces deux fonctions avec une méthode de Broadcasting\n",
    "\n",
    "# La fonction qui permet de calculer Mn(theta)\n",
    "def M_d(X, theta):\n",
    "    return (f_d(X + theta, K) * np.exp(-np.inner(theta, X) - np.inner(theta, theta) / 2)).mean()"
   ]
  },
  {
   "cell_type": "code",
   "execution_count": 10,
   "metadata": {},
   "outputs": [
    {
     "data": {
      "image/png": "[encoded data removed]",
      "text/plain": [
       "<Figure size 432x288 with 1 Axes>"
      ]
     },
     "metadata": {
      "needs_background": "light"
     },
     "output_type": "display_data"
    }
   ],
   "source": [
    "d = 3 # Dimension = 3\n",
    "\n",
    "epsilon = 0.1   # epsilon\n",
    "\n",
    "# Les listes qui stockes les valeurs obtenues.\n",
    "Mn_0 = []\n",
    "Mn_theta_n = []\n",
    "\n",
    "nmax = 200\n",
    "saut = 10\n",
    "\n",
    "# X: echantillonage\n",
    "X = np.random.randn(nmax, d)\n",
    "\n",
    "# Mn(tn) pour différent n\n",
    "for n in range(10, nmax, saut):\n",
    "    tn = np.array([1] * d)\n",
    "    gn = g_d(X, tn)\n",
    "    count = 0\n",
    "    while np.linalg.norm(gn) > epsilon and count < n:\n",
    "        tn = tn - np.linalg.inv(h_d(X, tn)) @ gn\n",
    "        gn = g_d(X, tn)\n",
    "        count += 1\n",
    "    Mn_0.append(M_1d(X[:n], 0))\n",
    "    Mn_theta_n.append(M_1d(X[:n], tn))\n",
    "\n",
    "plt.plot([i for i in range(10, nmax, saut)], Mn_0, label=\"Mn(0)\")\n",
    "plt.plot([i for i in range(10, nmax, saut)], Mn_theta_n, label=\"Mn(theta_n)\")\n",
    "plt.legend(loc=\"best\")\n",
    "plt.xlabel(\"n\")\n",
    "plt.ylabel(\"Esperance\")\n",
    "plt.show()"
   ]
  },
  {
   "cell_type": "code",
   "execution_count": 12,
   "metadata": {},
   "outputs": [
    {
     "name": "stdout",
     "output_type": "stream",
     "text": [
      "n = 100\n"
     ]
    },
    {
     "data": {
      "image/png": "[encoded data removed]",
      "text/plain": [
       "<Figure size 432x288 with 2 Axes>"
      ]
     },
     "metadata": {
      "needs_background": "light"
     },
     "output_type": "display_data"
    },
    {
     "name": "stdout",
     "output_type": "stream",
     "text": [
      "La variance de Mn_0 = 0.014526, celle de Mn(theta_n) = 0.004149)\n",
      "n = 300\n"
     ]
    },
    {
     "data": {
      "image/png": "[encoded data removed]",
      "text/plain": [
       "<Figure size 432x288 with 2 Axes>"
      ]
     },
     "metadata": {
      "needs_background": "light"
     },
     "output_type": "display_data"
    },
    {
     "name": "stdout",
     "output_type": "stream",
     "text": [
      "La variance de Mn_0 = 0.004301, celle de Mn(theta_n) = 0.001251)\n",
      "\n",
      "La variance de methode Mn(theta_n) admet une variance plus petite: on a plus de precision avec l'agorithme adaptatif.\n"
     ]
    }
   ],
   "source": [
    "M = 1000  # nb d'echantillon pour chaque n\n",
    "\n",
    "# Histogramme\n",
    "for n in [int(1e2), int(3e2)]:\n",
    "    print(\"n = {}\".format(n))\n",
    "    X = np.random.randn(M, n, d)\n",
    "    Mn_0 = []\n",
    "    Mn_theta_n = []\n",
    "    for i in range(M):\n",
    "        tn = np.array([1] * d)\n",
    "        gn = g_d(X[i], tn)\n",
    "        count = 0\n",
    "        while np.linalg.norm(gn) > epsilon and count < n:\n",
    "            tn = tn - np.linalg.inv(h_d(X[i], tn)) @ gn\n",
    "            gn = g_d(X[i], tn)\n",
    "            count += 1\n",
    "        Mn_0.append(M_d(X[i], [0] * d))\n",
    "        Mn_theta_n.append(M_d(X[i], tn))\n",
    "\n",
    "    # plot\n",
    "    plt.subplot(121)\n",
    "    plt.hist(Mn_0, int(M ** 1/2 *2), density=True, label=\"Mn(0)\")\n",
    "    plt.legend(loc=\"best\")\n",
    "    plt.xlim(0.5, 0.8)\n",
    "    plt.subplot(122)\n",
    "    plt.hist(Mn_theta_n, int(M ** 1/2 *2), density=True, label=\"Mn(theta_n)\")\n",
    "    plt.legend(loc=\"best\")\n",
    "    plt.xlim(0.5, 0.8)\n",
    "    plt.show()\n",
    "    # Afficher les variances des deux methodes.\n",
    "    print(\"La variance de Mn_0 = %8f, celle de Mn(theta_n) = %8f)\" %(np.array(Mn_0).var(), np.array(Mn_theta_n).var()))\n",
    "print(\"\\nLa variance de methode Mn(theta_n) admet une variance plus petite: on a plus de precision avec l'agorithme adaptatif.\")"
   ]
  }
 ],
 "metadata": {
  "kernelspec": {
   "display_name": "Python 3",
   "language": "python",
   "name": "python3"
  },
  "language_info": {
   "codemirror_mode": {
    "name": "ipython",
    "version": 3
   },
   "file_extension": ".py",
   "mimetype": "text/x-python",
   "name": "python",
   "nbconvert_exporter": "python",
   "pygments_lexer": "ipython3",
   "version": "3.7.6"
  }
 },
 "nbformat": 4,
 "nbformat_minor": 2
}
