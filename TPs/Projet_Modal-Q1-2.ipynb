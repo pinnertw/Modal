{
 "cells": [
  {
   "cell_type": "markdown",
   "metadata": {
    "colab_type": "text",
    "id": "gU6XxZjm7yyh"
   },
   "source": [
    "Questions :\n",
    "* On doit toujours considérer la ruine?\n",
    "* Possibilité de coder en C++ ?\n",
    "* Pour la question 3, c'est quoi la loi de $\\xi_n$?"
   ]
  },
  {
   "cell_type": "markdown",
   "metadata": {
    "colab_type": "text",
    "id": "fYxLxoxbt1AW"
   },
   "source": [
    "**Tester le code avec des événements plus probable!!!**\n",
    "## To do list:\n",
    "* Q1-1\n",
    "#####* Splitting (Diane) (faudrait jouer avec le nombre de niveaux de splitting, donc avec la valeur de la variable \"seuil\", pour voir ce qui donne la meilleure précision)\n",
    "#####* Echantillonage d'importance (Peng-Wei)\n",
    "#####* Chaîne de Markov -> Regarder l'article FodraPhamMicrostructure2015\n",
    "#####* Intervalle de confiance pour la Monte-Carlo simple (et pour les autres ?)\n",
    "\n",
    "* Q1-2\n",
    "#####* Quantile processus AR(1) (comme dans calcul liste_a Q1-1) (Diane)\n",
    "#####* Quantile échantillonnage d'importance (Diane)\n",
    "* Q2\n",
    "#####* La même chose mais il faut prendre en compte les différents instants de saut. Donc ça change tout.\n",
    "#####* M-C (Peng-Wei\n",
    "\n",
    "* Q\n",
    "* Q3\n",
    "# Finished :\n",
    "* Q1\n",
    "#####* Monte-Carlo naïve\n"
   ]
  },
  {
   "cell_type": "code",
   "execution_count": 1,
   "metadata": {
    "colab": {},
    "colab_type": "code",
    "id": "g1gxAXcgYBTY"
   },
   "outputs": [],
   "source": [
    "import numpy as np\n",
    "import math\n",
    "import matplotlib.pyplot"
   ]
  },
  {
   "cell_type": "markdown",
   "metadata": {
    "colab_type": "text",
    "id": "CN5LC1dmz9LE"
   },
   "source": [
    "## Q1"
   ]
  },
  {
   "cell_type": "markdown",
   "metadata": {
    "colab_type": "text",
    "id": "a6x5boyyXei6"
   },
   "source": [
    "Dans cette première modélisation simplifiée, on considère donc que le prix $P_t$ est un processus de Poisson de paramètres $\\lambda, \\nu$ où $\\nu$ est la loi des incréments $J_n$. \n",
    "\n",
    "Pour un temps d'attente moyen entre deux sauts de $300s$, on prend $\\lambda = \\dfrac{1}{300}$\n"
   ]
  },
  {
   "cell_type": "code",
   "execution_count": 2,
   "metadata": {
    "colab": {},
    "colab_type": "code",
    "id": "t4VEAteSz9sG"
   },
   "outputs": [],
   "source": [
    "# On identifie le processus par le processus de Poisson composé, qui finit à un temps fixé T\n",
    "# On crée des fonctions pour modéliser le processus.\n",
    "\n",
    "#### On définit nu, la loi des incréments\n",
    "# Ancien : plus lent\n",
    "saut_1_ancien = lambda x: np.random.choice([-1, 1], size=x, replace=True, p=[0.5, 0.5]) #correspond à m=1\n",
    "saut_2_ancien = lambda x: np.random.choice([-3, -2, -1, 1, 2, 3], size=x, replace=True, p=0.5*np.array([1/6, 1/3, 1/2, 1/2, 1/3, 1/6])) #correspond à m=3\n",
    "\n",
    "# Nouveau : beaucoup plus vite\n",
    "value_1 = np.array([-1, 1])\n",
    "value_2 = np.array([-3, -2, -2, -1, -1, -1, 1, 1, 1, 2, 2, 3])\n",
    "saut_1 = lambda x : value_1[np.random.randint(low=2, size=x)]\n",
    "saut_2 = lambda x : value_2[np.random.randint(low=12, size=x)]\n",
    "\n",
    "# Les paramètres\n",
    "P0 = 35\n",
    "T = 4*60*60\n",
    "lamb = 1/300"
   ]
  },
  {
   "cell_type": "markdown",
   "metadata": {
    "colab_type": "text",
    "id": "cCgK9NrFzQfO"
   },
   "source": [
    "###  Q1 - 2 Quantile\n"
   ]
  },
  {
   "cell_type": "markdown",
   "metadata": {
    "colab_type": "text",
    "id": "jYMiLJF3RkpV"
   },
   "source": [
    "Pour les intervalles de confiance des quantiles, voir cours 2 p.3 (y a un TCL pour le quantile)\n",
    "\n",
    "__Aussi, parle des approximations gaussiennes des poissons composés p6__\n",
    "\n",
    "D'après le cours:\n",
    "\n",
    "Si la loi des sauts est centrée et de variance $\\sigma^2$\n",
    "Si on note $N_T$ le nombre de sauts dans $[0,T]$,\n",
    "\n",
    "$$N \\sim \\mathcal{P}(\\lambda T)$$\n",
    "Alors le prix à $T$, $X_T$,  converge en loi vers $\\mathcal{N}(P_0,\\lambda T \\sigma^2)$ quand $\\lambda T \\rightarrow + \\infty$\n",
    "\n",
    "Ici on a $\\lambda T = 48$\n",
    "\n",
    "Ca serait intéressant de comparer les quantiles obtenus en Q1.2 avec les quantiles de la loi normale $\\mathcal{N}(P_0,\\lambda T \\sigma^2)$, où $\\sigma^2=1$ si $m=1$ et $\\sigma^2 = ...$ si $m=3$ (normalement, devraient être proches)"
   ]
  },
  {
   "cell_type": "code",
   "execution_count": 3,
   "metadata": {
    "colab": {},
    "colab_type": "code",
    "id": "u2XIYknCZpWw"
   },
   "outputs": [],
   "source": [
    "#Monte-Carlo accéléré - Méthode 2\n",
    "\n",
    "# Poisson composé naïf\n",
    "def Poisson_compose(P0, T, lamb, saut, size):\n",
    "  # saut : une fonction qui prend la taille de sortie comme entrée pour les sauts.\n",
    "  N = np.random.poisson(lam=lamb * T, size=size + 1)\n",
    "  N[0] = 0\n",
    "  N = np.cumsum(N)                  # La valeur N[i] - N[i - 1] est égale à N pour le i-ième échantillon\n",
    "                                    # Donc la somme des sauts entre indice N[i] + 1 et N[i + 1] suit la loi voulue\n",
    "  J = saut(N[-1] + 1)               # Sauts\n",
    "  J = np.cumsum(J)\n",
    "  M = J[N[1:]] - J[N[:-1]]          # On veut la somme entre l'indice N[i] + 1 et N[i + 1]\n",
    "  return P0 + M # échantillon de taille (size)\n",
    "\n",
    "def quantile(echantillion, size, quant):\n",
    "  index_bot = int(math.ceil(size * quant))\n",
    "  index_top = int(math.ceil(size * (1 - quant)))\n",
    "  echantillion.partition((index_bot, index_top))\n",
    "  return echantillion[index_bot], echantillion[index_top]\n",
    "\n",
    "def Question1_2_naive(size, quant, saut, P0, T, lamb):\n",
    "  return quantile(Poisson_compose(P0, T, lamb, saut, size), size, quant)"
   ]
  },
  {
   "cell_type": "code",
   "execution_count": 4,
   "metadata": {
    "colab": {
     "base_uri": "https://localhost:8080/",
     "height": 68
    },
    "colab_type": "code",
    "id": "tc9j6LwpcvS_",
    "outputId": "4350e209-2e4c-428a-9c15-438885def2da"
   },
   "outputs": [
    {
     "name": "stdout",
     "output_type": "stream",
     "text": [
      "(9, 61)\n",
      "CPU times: user 3.56 s, sys: 1.14 s, total: 4.7 s\n",
      "Wall time: 4.71 s\n"
     ]
    }
   ],
   "source": [
    "%%time\n",
    "size = int(1e7)\n",
    "quant = 1e-4\n",
    "print(Question1_2_naive(size, quant, saut_1, P0, T, lamb))\n",
    "\n",
    "#Donne 9 et 61 pour P0 = 35 et m=1 et niveau = 10^-4 \n",
    "#Donne 5 et 65 pour P0 = 35 et m=1 et niveau = 10^-5 \n",
    "#Donne 3 et 68 pour P0 = 35 et m=1 et niveau = 10^-6\n",
    "#Donne -13 et 83 pour P0 = 35 et m=2 et niveau = 10^-4 \n",
    "#Donne -21 et 92 pour P0 = 35 et m=2 et niveau = 10^-5\n",
    "#Donne -25 et 94 pour P0 = 35 et m=2 et niveau = 10^-6"
   ]
  },
  {
   "cell_type": "code",
   "execution_count": 0,
   "metadata": {
    "colab": {},
    "colab_type": "code",
    "id": "b7uFf__VdhIw"
   },
   "outputs": [],
   "source": [
    "#MCMC (chaînes de Markov) - Méthode 3\n",
    "\n",
    "def Quantile_ergodique(seuil,n,lamb,T,p,P0,saut): #renvoie le quantile de niveau \"seuil\" du processus de poisson composé\n",
    "\n",
    "    liste_prix_final = np.zeros(n)\n",
    "\n",
    "    liste_sauts = liste_sts(lamb,T,saut) \n",
    "\n",
    "    for l in range(n):\n",
    "        coloriage = liste_sauts[:,np.random.binomial(1,p,size = len(liste_sauts[0])) ==1]\n",
    "\n",
    "        liste_sauts_tilde = liste_sts((1-p)*lamb,T,saut)\n",
    "        new_liste_sauts = np.concatenate((coloriage,liste_sauts_tilde),axis=1)\n",
    "        liste_sauts = tri_temps(new_liste_sauts)\n",
    "\n",
    "        liste_prix_final[l] = np.cumsum(liste_sauts[1,:])[-1] +P0\n",
    "\n",
    "    liste_prix_final.sort()\n",
    "  \n",
    "    quantile = liste_prix_final[int(np.ceil(seuil*n))-1]    \n",
    "\n",
    "  \n",
    "    return quantile"
   ]
  },
  {
   "cell_type": "code",
   "execution_count": 0,
   "metadata": {
    "colab": {},
    "colab_type": "code",
    "id": "D-Cz1Njqw-Wh"
   },
   "outputs": [],
   "source": [
    "4.310−3\n",
    "\n",
    "def Quantile_naif(seuil,n,lamb,T,P0,saut):\n",
    "\n",
    "    liste_P_t = np.zeros(n)\n",
    "    for i in range(n):\n",
    "        N = np.random.poisson(lamb*T)\n",
    "        increments = saut(N)\n",
    "        \n",
    "        liste_P_t[i] = np.sum(increments)+P0\n",
    "    liste_P_t = np.sort(liste_P_t)\n",
    "    return liste_P_t[int(np.ceil(n*seuil))-1]"
   ]
  },
  {
   "cell_type": "code",
   "execution_count": 0,
   "metadata": {
    "colab": {
     "base_uri": "https://localhost:8080/",
     "height": 51
    },
    "colab_type": "code",
    "id": "nlfAOhFsZKKd",
    "outputId": "b8064ceb-b5ae-4e4f-96db-34fb2ab13c53"
   },
   "outputs": [
    {
     "name": "stdout",
     "output_type": "stream",
     "text": [
      "Quantile de niveau 1e-05 : -20.0\n",
      "Quantile de niveau 0.99999 : 89.0\n"
     ]
    }
   ],
   "source": [
    "P0 = 35\n",
    "T = 4*60*60 #conversion en secondes\n",
    "lamb =  1/300 \n",
    "n = int(1e6) \n",
    "\n",
    "niveau = 1e-5\n",
    "p=0.5\n",
    "\n",
    "quantileGauche = Quantile_naif(niveau,n,lamb,T,P0,saut_2) #mettre Quantile_ergodique(niveau,n,lamb,T,p,P0,saut) ou Quantile_naif(niveau,n,lamb,T,P0,saut)\n",
    "quantileDroit = Quantile_naif(1-niveau,n,lamb,T,P0,saut_2)\n",
    "print(\"Quantile de niveau {} : {}\".format(niveau,quantileGauche))\n",
    "print(\"Quantile de niveau {} : {}\".format(1-niveau,quantileDroit))\n",
    "\n",
    "#Résultats pour Quantile_ergodique:\n",
    "#Donne 9 et 61 pour P0 = 35 et k=0 et niveau = 10^-4 (c'est à peu près sym/P0 ce qui est rassurant)\n",
    "#Donne 5 et 66 pour P0 = 35 et k=0 et niveau = 10^-5\n",
    "#Donne 5 et 63 pour P0 = 35 et k=0 et niveau = 10^-6 (problème... faut augmenter n?) n : 10^5 -> 10^6 : on trouve 2 et 68 ; OK :D\n",
    "\n",
    "#-15 et 83 pour P0=35 et k=1 et niveau = 10^-4 (sauts plus grands dc on va plus loin, logique; sym/0, logique)\n",
    "#-16 et 90 pour P0=35 et k=1 et niveau = 10^-5\n",
    "#Donne -25 et 97 pour P0 = 35 et k=1 et niveau = 10^-6 (en augmentant n de 10^5 à 10^6)\n",
    "\n",
    "#Résultats Quantile_naïf (plus lent) (n=10^5):\n",
    "#9 et 62\n",
    "#5 et 66\n",
    "#3 et 67\n",
    "#-13 et 84\n",
    "#-22 et 87 si on garde n=10^5, -20 et 89 si on passe à n=10^6\n",
    "# -22 et 97(on passe à n=10^6)"
   ]
  },
  {
   "cell_type": "code",
   "execution_count": 0,
   "metadata": {
    "colab": {},
    "colab_type": "code",
    "id": "ky9oTvowbPDM"
   },
   "outputs": [],
   "source": [
    "#Calcul quantile par échantillonnage d'importance\n",
    "#Voir slides amphi 2 p.12 pour calcul quantile avec changement de probabilité\n",
    "#Ensuite voir amphi 3 pour changements de proba Poisson composés\n",
    "#Différence importance sampling/échantillonage d'importance et changement de probabilité ?\n",
    "#Transfo d'Esscher"
   ]
  }
 ],
 "metadata": {
  "colab": {
   "collapsed_sections": [
    "XO0iJelvzaxI",
    "cCgK9NrFzQfO",
    "f6ZpnHtBhElE",
    "ntNKzkWPzUT1",
    "fKihS64UzPW5",
    "GoJBPfJ4T0FL",
    "GiQmq9gl0gSv"
   ],
   "machine_shape": "hm",
   "name": "Projet_Modal.ipynb",
   "provenance": []
  },
  "kernelspec": {
   "display_name": "Python 3",
   "language": "python",
   "name": "python3"
  },
  "language_info": {
   "codemirror_mode": {
    "name": "ipython",
    "version": 3
   },
   "file_extension": ".py",
   "mimetype": "text/x-python",
   "name": "python",
   "nbconvert_exporter": "python",
   "pygments_lexer": "ipython3",
   "version": "3.8.2"
  }
 },
 "nbformat": 4,
 "nbformat_minor": 1
}
