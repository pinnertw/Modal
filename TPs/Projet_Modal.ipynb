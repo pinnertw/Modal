{
  "nbformat": 4,
  "nbformat_minor": 0,
  "metadata": {
    "colab": {
      "name": "Projet_Modal.ipynb",
      "provenance": [],
      "collapsed_sections": [
        "WX6z2Cw9oygh",
        "1EPXucHSxnK0",
        "7MNbYGKyxzsc",
        "1bthr6Ecx-FQ",
        "W44z1y2wFgPO",
        "54ss_U8OztnN",
        "mOgm7vfNzzaB",
        "f6ZpnHtBhElE",
        "ntNKzkWPzUT1",
        "sJt1_9eHz6-J",
        "9h3BmWHs0C4R",
        "fKihS64UzPW5",
        "ZDhCCbs30IxJ",
        "k1Q0VUze0Muj",
        "GoJBPfJ4T0FL",
        "GiQmq9gl0gSv"
      ],
      "machine_shape": "hm"
    },
    "kernelspec": {
      "name": "python3",
      "display_name": "Python 3"
    }
  },
  "cells": [
    {
      "cell_type": "markdown",
      "metadata": {
        "id": "fYxLxoxbt1AW",
        "colab_type": "text"
      },
      "source": [
        "**Tester le code avec des événements plus probable!!!**\n",
        "## To do list:\n",
        "* Q1-1\n",
        "#####* Splitting (Diane) (faudrait jouer avec le nombre de niveaux de splitting, donc avec la valeur de la variable \"seuil\", pour voir ce qui donne la meilleure précision)\n",
        "#####* Echantillonage d'importance (Peng-Wei) (C'est bon!!, à tester différent f)\n",
        "#####* Chaîne de Markov\n",
        "#####* Graphique : Comparaison de différentes méthodes.\n",
        "\n",
        "* Q1-2\n",
        "#####* Quantile processus AR(1) (comme dans calcul liste_a Q1-1) (Diane)\n",
        "#####* Quantile échantillonnage d'importance (Diane)\n",
        "* Q2\n",
        "#####* M-C (Peng-Wei)\n",
        "\n",
        "* Q3\n",
        "# Finished :\n",
        "* Q1\n",
        "#####* Monte-Carlo naïve\n",
        "* Q\n"
      ]
    },
    {
      "cell_type": "code",
      "metadata": {
        "id": "g1gxAXcgYBTY",
        "colab_type": "code",
        "colab": {}
      },
      "source": [
        "import numpy as np\n",
        "import math\n",
        "import matplotlib.pyplot as plt"
      ],
      "execution_count": 0,
      "outputs": []
    },
    {
      "cell_type": "markdown",
      "metadata": {
        "id": "CN5LC1dmz9LE",
        "colab_type": "text"
      },
      "source": [
        "## Q1"
      ]
    },
    {
      "cell_type": "markdown",
      "metadata": {
        "id": "a6x5boyyXei6",
        "colab_type": "text"
      },
      "source": [
        "Dans cette première modélisation simplifiée, on considère donc que le prix $P_t$ est un processus de Poisson de paramètres $\\lambda, \\nu$ où $\\nu$ est la loi des incréments $J_n$. \n",
        "\n",
        "Pour un temps d'attente moyen entre deux sauts de $300s$, on prend $\\lambda = \\dfrac{1}{300}$\n"
      ]
    },
    {
      "cell_type": "code",
      "metadata": {
        "id": "t4VEAteSz9sG",
        "colab_type": "code",
        "colab": {}
      },
      "source": [
        "# On identifie le processus par le processus de Poisson composé, qui finit à un temps fixé T\n",
        "# On crée des fonctions pour modéliser le processus.\n",
        "\n",
        "#### On définit nu, la loi des incréments\n",
        "# Ancien : plus lent\n",
        "saut_1_ancien = lambda x: np.random.choice([-1, 1], size=x, replace=True, p=[0.5, 0.5]) #correspond à m=1\n",
        "saut_2_ancien = lambda x: np.random.choice([-3, -2, -1, 1, 2, 3], size=x, replace=True, p=0.5*np.array([1/6, 1/3, 1/2, 1/2, 1/3, 1/6])) #correspond à m=3\n",
        "\n",
        "# Nouveau : beaucoup plus vite\n",
        "value_1 = np.array([-1, 1])\n",
        "value_2 = np.array([-3, -2, -2, -1, -1, -1, 1, 1, 1, 2, 2, 3])\n",
        "saut_1 = lambda x : value_1[np.random.randint(low=2, size=x)]\n",
        "saut_2 = lambda x : value_2[np.random.randint(low=12, size=x)]\n",
        "\n",
        "# Les paramètres\n",
        "P0 = 35\n",
        "T = 4*60*60\n",
        "lamb = 1/300"
      ],
      "execution_count": 0,
      "outputs": []
    },
    {
      "cell_type": "markdown",
      "metadata": {
        "id": "WX6z2Cw9oygh",
        "colab_type": "text"
      },
      "source": [
        "###Q1-0 Simulation de trajectoire"
      ]
    },
    {
      "cell_type": "code",
      "metadata": {
        "id": "5nNnYpHloxVL",
        "colab_type": "code",
        "outputId": "12cc7fc5-2c9c-402d-94d6-b3480b9cc7ed",
        "colab": {
          "base_uri": "https://localhost:8080/",
          "height": 298
        }
      },
      "source": [
        "#Simulation des temps entre les sauts plutôt que directement N puis uniforme (évite d'avoir à trier en NlogN les temps des sauts)\n",
        "\n",
        "def liste_sauts(lamb,T,P0,saut):\n",
        "    t=np.random.exponential(lamb)\n",
        "    liste_t= np.array([0,np.random.exponential(1/lamb)])\n",
        "    liste_increments= np.array([0])\n",
        "    while liste_t[-1]<T:\n",
        "        liste_increments = np.append(liste_increments,saut(1))\n",
        "        liste_t=np.append(liste_t,liste_t[-1]+np.random.exponential(1/lamb))\n",
        "    liste_t[-1]= T\n",
        "    liste_increments=np.append(liste_increments,0)\n",
        "    liste_prix = P0 + np.cumsum(liste_increments)\n",
        "\n",
        "    return liste_t,liste_prix\n",
        "\n",
        "\n",
        "liste_t_1, liste_prix_1 = liste_sauts(lamb,T,P0,saut_1)\n",
        "plt.step(liste_t_1, liste_prix_1, where=\"post\", label=\"m=1\", linewidth=2.0)\n",
        "\n",
        "liste_t_2, liste_prix_2 = liste_sauts(lamb,T,P0,saut_2)\n",
        "plt.step(liste_t_2, liste_prix_2, where=\"post\", label=\"m=3\", linewidth=2.0)\n",
        "plt.title(\"Processus de Poisson composé d'intensité {:04.5f} à horizon fixe T={} s\".format(lamb,T), fontsize=12)\n",
        "plt.legend(loc=\"best\")\n"
      ],
      "execution_count": 0,
      "outputs": [
        {
          "output_type": "execute_result",
          "data": {
            "text/plain": [
              "<matplotlib.legend.Legend at 0x7f68f8848710>"
            ]
          },
          "metadata": {
            "tags": []
          },
          "execution_count": 15
        },
        {
          "output_type": "display_data",
          "data": {
            "image/png": "[encoded data removed]",
            "text/plain": [
              "<Figure size 432x288 with 1 Axes>"
            ]
          },
          "metadata": {
            "tags": [],
            "needs_background": "light"
          }
        }
      ]
    },
    {
      "cell_type": "markdown",
      "metadata": {
        "id": "XO0iJelvzaxI",
        "colab_type": "text"
      },
      "source": [
        "### Q1 -1 Probabilité de ruine\n"
      ]
    },
    {
      "cell_type": "markdown",
      "metadata": {
        "id": "1EPXucHSxnK0",
        "colab_type": "text"
      },
      "source": [
        "#### Monte-Carlo Naif"
      ]
    },
    {
      "cell_type": "code",
      "metadata": {
        "id": "6HvpiRMkaRUv",
        "colab_type": "code",
        "colab": {}
      },
      "source": [
        "## Monte-Carlo Naif\n",
        "\n",
        "def liste_prix_sauts(lamb,T,P0,saut):\n",
        "    N = np.random.poisson(lamb*T) #le nombre de sauts suit une loi de Poisson de paramètre lambda*T\n",
        "    liste_increments = saut(N)\n",
        "    liste_prix = P0 + np.cumsum(liste_increments)\n",
        "\n",
        "    return liste_prix\n",
        "\n",
        "\n",
        "def MC_naif(M,lamb,T,P0,saut): \n",
        "    liste_bool_inf_0 = np.zeros(M) \n",
        "\n",
        "    for l in range(M):\n",
        "        liste_prix = liste_prix_sauts(lamb,T,P0,saut) #prix juste après les sauts\n",
        "        if np.min(liste_prix) <0:\n",
        "            liste_bool_inf_0[l] = 1\n",
        "\n",
        "    p_r = np.mean(liste_bool_inf_0)\n",
        "    return p_r\n",
        "\n"
      ],
      "execution_count": 0,
      "outputs": []
    },
    {
      "cell_type": "code",
      "metadata": {
        "id": "mk7dcnIgD4eU",
        "colab_type": "code",
        "outputId": "4337fe1b-4f1f-43a4-a097-a39564341b95",
        "colab": {
          "base_uri": "https://localhost:8080/",
          "height": 85
        }
      },
      "source": [
        "%%time\n",
        "\n",
        "P0 = 35 #35 en théorie mais on commence par tester avec plus bas\n",
        "T = 4*60*60 #conversion en secondes\n",
        "lamb = 1/300\n",
        "M = int(1e6)\n",
        "\n",
        "p_r = MC_naif(M,lamb,T,P0,saut_2)\n",
        "\n",
        "R_IC = 1.96*np.sqrt(p_r*(1-p_r))/np.sqrt(M) #rayon de l'intervalle de confiancee\n",
        "print(p_r)\n",
        "print(R_IC)\n",
        "\n",
        "#donne 0.00254 pour P0=20 et M=10^5 et m=1(total time 5.02 s)\n",
        "#m=3 P0=35 M=10^6: proba = 0.004341"
      ],
      "execution_count": 0,
      "outputs": [
        {
          "output_type": "stream",
          "text": [
            "0.004402\n",
            "0.00012975470009396036\n",
            "CPU times: user 58 s, sys: 11.9 ms, total: 58 s\n",
            "Wall time: 58 s\n"
          ],
          "name": "stdout"
        }
      ]
    },
    {
      "cell_type": "markdown",
      "metadata": {
        "id": "7MNbYGKyxzsc",
        "colab_type": "text"
      },
      "source": [
        "#### Monte-Carlo Naif - numba"
      ]
    },
    {
      "cell_type": "code",
      "metadata": {
        "id": "4Ljp4VlmzfJ4",
        "colab_type": "code",
        "colab": {}
      },
      "source": [
        "## Monte-Carlo Naif avec numba\n",
        "from numba import jit\n",
        "\n",
        "@jit(nopython=True)\n",
        "def inf_echantillon(N, J, P0): # Function is compiled to machine code when called the first time\n",
        "  ruines = 0\n",
        "  for i in range(len(N) - 1):\n",
        "    somme = P0\n",
        "    ruine = 0\n",
        "    for j in range(N[i], N[i + 1]):\n",
        "      somme += J[j]\n",
        "      if somme < 0:\n",
        "        ruine = 1\n",
        "        break\n",
        "    ruines += ruine\n",
        "  return ruines\n",
        "\n",
        "def trajectoire(P0, T, lamb, saut, size):\n",
        "  if size > int(1e7):\n",
        "    sizes = size\n",
        "    size = int(1e7)\n",
        "    proba = 0\n",
        "    for i in range(sizes // size):\n",
        "      N = np.random.poisson(lam=lamb * T, size=size + 1)\n",
        "      N[0] = 0\n",
        "      N = N.cumsum()                    # La valeur N[i] - N[i - 1] est égale à Ni pour le i-ième échantillon\n",
        "                                        # Donc la somme des sauts entre indice N[i] et N[i + 1] - 1 suit la loi voulue\n",
        "      J = saut(N[-1] + 1)\n",
        "      res = inf_echantillon(N, J, P0)\n",
        "      proba += res\n",
        "    proba /= sizes\n",
        "    return proba\n",
        "  else:\n",
        "    N = np.random.poisson(lam=lamb * T, size=size + 1)\n",
        "    N[0] = 0\n",
        "    N = N.cumsum()                    # La valeur N[i] - N[i - 1] est égale à Ni pour le i-ième échantillon\n",
        "                                      # Donc la somme des sauts entre indice N[i] et N[i + 1] - 1 suit la loi voulue\n",
        "    J = saut(N[-1] + 1)\n",
        "    res = inf_echantillon(N, J, P0)\n",
        "    proba = res / size\n",
        "    return proba"
      ],
      "execution_count": 0,
      "outputs": []
    },
    {
      "cell_type": "code",
      "metadata": {
        "id": "gL8w_R_83lQb",
        "colab_type": "code",
        "outputId": "55141f67-89a6-4f6b-f575-1c19bd4b8cdb",
        "colab": {
          "base_uri": "https://localhost:8080/",
          "height": 91
        }
      },
      "source": [
        "%%time\n",
        "size = int(1e9)\n",
        "p_r = trajectoire(P0, T, lamb, saut_1, size=size)\n",
        "\n",
        "R_IC = 1.96*np.sqrt(p_r*(1-p_r))/np.sqrt(size) #rayon de l'intervalle de confiance\n",
        "\n",
        "print(p_r)\n",
        "print(R_IC)\n",
        "\n",
        "#print(trajectoire(P0, T, lamb, saut_1, size=int(1e7)))\n",
        "\n",
        "#m=1\n",
        "#0.00279 pour P0 = 20 M = 10^5 (total time 161 ms)\n",
        "#5e-07 pour P0=35 et M=10^7 total time : 16.1 s\n",
        "#quand on fait la moyenne sur 10 essais à M=10^7, on trouve proba_emp = 2.009975 e-7 et sigma_emp = 3.6 e-7 (tout ça pour m=1)\n",
        "\n",
        "#m=3\n",
        "#proba_emp=0.0043245, sigma_emp = 7.1273066441679e-05"
      ],
      "execution_count": 0,
      "outputs": [
        {
          "output_type": "stream",
          "text": [
            "3.53e-07\n",
            "3.6825050187366557e-08\n",
            "CPU times: user 8min 1s, sys: 2.09 s, total: 8min 3s\n",
            "Wall time: 8min 3s\n"
          ],
          "name": "stdout"
        }
      ]
    },
    {
      "cell_type": "markdown",
      "metadata": {
        "id": "QuvaJfnMx4oC",
        "colab_type": "text"
      },
      "source": [
        "#### Splitting et MCMC"
      ]
    },
    {
      "cell_type": "code",
      "metadata": {
        "id": "FjLnMW0wMaE3",
        "colab_type": "code",
        "colab": {}
      },
      "source": [
        "#Archive ancienne version non optimisée par super peng-wei\n",
        "\n",
        "def NiveauxSplitting(a,seuil,n,lamb,T,p,P0,saut):\n",
        "\n",
        "    \"\"\"\n",
        "    Fonction qui renvoie une estimation des niveaux\n",
        "    de splitting a_1, a_2, ..., a_k tels que P(Phi_T <= a_k | Phi_T <= a_{k-1}) = 0.1 = seuil\n",
        "    (où Phi_T : inf de P_t pour t dans [0;T])\n",
        "    Ces niveaux sont des quantiles d'une loi conditionnelle.\n",
        "    On utilise l'inversion de la fonction de repartition empirique de \n",
        "    cette loi afin d'estimer un quantile par\n",
        "    le quantile empirique.\n",
        "    On a a = a_k < a_{k-1} < ... < a_0= + infini (dans notre problème, a = 0)\n",
        "    La fonction renvoie quantiles = [a_1, ..., a_k]\n",
        "    \"\"\"\n",
        "    ## Estimation du premier niveau a_1: c'est le \n",
        "    ## quantile d'une loi non conditionnelle.\n",
        "    ## On l'estime ici par la methode ergodique\n",
        "\n",
        "    liste_Phi = np.zeros(n)\n",
        "\n",
        "    liste_sauts = liste_sts(lamb,T,saut)\n",
        "\n",
        "    for l in range(n):\n",
        "        coloriage = liste_sauts[:,np.random.binomial(1,p,size = len(liste_sauts[0])) ==1]\n",
        "\n",
        "        liste_sauts_tilde = liste_sts((1-p)*lamb,T,saut)\n",
        "        new_liste_sauts = np.concatenate((coloriage,liste_sauts_tilde),axis=1)\n",
        "        new_liste_sauts = tri_temps(new_liste_sauts)\n",
        "\n",
        "        liste_sauts = new_liste_sauts\n",
        "        liste_Phi[l] = Phi(liste_sauts,P0)\n",
        "\n",
        "    liste_Phi.sort()\n",
        "\n",
        "    quantiles = np.array([liste_Phi[int(np.ceil(seuil*n))-1]])    \n",
        "\n",
        "    while quantiles[-1] > a:\n",
        "        print(\"Inside while\")\n",
        "        liste_Phi = np.zeros(n)\n",
        "\n",
        "        \n",
        "        while Phi(liste_sauts,P0)>=quantiles[-1]:\n",
        "            liste_sauts = liste_sts(lamb,T,saut)\n",
        "        ## Simulation du processus AR(1) conditionnel\n",
        "    \n",
        "        for l in range(n):\n",
        "            coloriage = liste_sauts[:,np.random.binomial(1,p,size = len(liste_sauts[0])) ==1]\n",
        "\n",
        "            liste_sauts_tilde = liste_sts((1-p)*lamb,T,saut)\n",
        "            new_liste_sauts = np.concatenate((coloriage,liste_sauts_tilde),axis=1)\n",
        "            new_liste_sauts = tri_temps(new_liste_sauts)\n",
        "\n",
        "            if Phi(new_liste_sauts,P0)<quantiles[-1]:\n",
        "                liste_sauts = new_liste_sauts\n",
        "\n",
        "            liste_Phi[l] = Phi(liste_sauts,P0)\n",
        "    \n",
        "        liste_Phi.sort()\n",
        "        quantiles = np.append(quantiles, liste_Phi[int(np.ceil(seuil*n))-1] )\n",
        "\n",
        "    \n",
        "    ## On selectionne les niveaux a_{k-1},..., a_1 strictement au dessus de a\n",
        "    quantiles = quantiles[:-1]\n",
        "    ## On rajoute a\n",
        "    quantiles = np.append(quantiles,a)\n",
        "\n",
        "    return quantiles\n",
        "\n",
        "\n",
        "def Phi(liste_sauts,P0):#fonction qui renvoie l'inf des valeurs de X aux instants de saut\n",
        "    #ie l'inf de P0+cumsum(incréments) \n",
        "    if len(liste_sauts[0]) == 0:\n",
        "        return P0\n",
        "    liste_prix = P0+np.cumsum(liste_sauts[1,:])\n",
        "    prix_min = np.min(liste_prix)\n",
        "    return prix_min\n",
        "\n",
        "def liste_sts(lbda,T,saut):\n",
        "    \n",
        "    N = np.random.poisson(lbda*T)\n",
        "    liste_temps_sauts = np.random.uniform(low = 0, high = T, size = N)\n",
        "    liste_temps_sauts_triee = [np.sort(liste_temps_sauts)]\n",
        "    liste_increments = [saut(N)]\n",
        "    #renvoie un array de N colonnes et 2 lignes: 1ere ligne pour les temps des sauts (T_n), deuxième ligne pour leurs amplitudes (J_n)\n",
        "    return np.concatenate((liste_temps_sauts_triee,liste_increments),axis=0)\n",
        "\n",
        "def tri_temps(new_liste_sauts):\n",
        "    ordre = [new_liste_sauts[0,:].argsort()]\n",
        "    liste_sauts_triee = np.take_along_axis(new_liste_sauts, np.concatenate((ordre,ordre),axis=0), axis=1) \n",
        "    return liste_sauts_triee\n",
        "\n",
        "\n",
        "def MCMC(M,p,lamb,liste_a,P0,saut): \n",
        "\n",
        "    liste_pi = np.zeros(len(liste_a)) #estimateurs des probabilités conditionnelles\n",
        "\n",
        "    liste_indicatrices = np.zeros(M,dtype=bool) \n",
        "    \"\"\"\n",
        "    le k-ieme élém. de liste_indicatrices vaut True si le prix devient négatif avant l'instant T lors du k-ieme essai; False sinon\n",
        "    \"\"\"\n",
        "\n",
        "    #Loi non conditionnelle\n",
        "    \n",
        "    liste_sauts = liste_sts(lamb,T,saut) \n",
        "\n",
        "\n",
        "    for l in range(M):\n",
        "        coloriage = liste_sauts[:,np.random.binomial(1,p,size = len(liste_sauts[0])) ==1]\n",
        "\n",
        "        liste_sauts_tilde = liste_sts((1-p)*lamb,T,saut)\n",
        "        new_liste_sauts = np.concatenate((coloriage,liste_sauts_tilde),axis=1)\n",
        "        new_liste_sauts = tri_temps(new_liste_sauts)\n",
        "\n",
        "        liste_sauts = new_liste_sauts\n",
        "        liste_indicatrices[l] = (Phi(liste_sauts,P0)<liste_a[0])\n",
        "\n",
        "    liste_pi[0] = np.mean(liste_indicatrices)\n",
        "    \n",
        "        \n",
        "\n",
        "\n",
        "    for k in range(1,len(liste_a)):\n",
        "        liste_indicatrices = np.zeros(M,dtype=bool)  \n",
        "\n",
        "        #Initialisation \n",
        "\n",
        "        while Phi(liste_sauts,P0)>=liste_a[k-1]:\n",
        "          \n",
        "            liste_sauts = liste_sts(lamb,T,saut)\n",
        "\n",
        "      \n",
        "        for l in range(M):\n",
        "            coloriage = liste_sauts[:,np.random.binomial(1,p,size = len(liste_sauts[0])) ==1]\n",
        "\n",
        "            liste_sauts_tilde = liste_sts((1-p)*lamb,T,saut)\n",
        "            new_liste_sauts = np.concatenate((coloriage,liste_sauts_tilde),axis=1)\n",
        "            new_liste_sauts = tri_temps(new_liste_sauts)\n",
        "\n",
        "            if Phi(new_liste_sauts,P0)< liste_a[k-1]:\n",
        "                liste_sauts = new_liste_sauts\n",
        "            liste_indicatrices[l] = (Phi(liste_sauts,P0) < liste_a[k])\n",
        "\n",
        "\n",
        "        liste_pi[k] = np.mean(liste_indicatrices)\n",
        "    \n",
        "\n",
        "    proba_prix_negatif = np.prod(liste_pi)\n",
        "        \n",
        "    return proba_prix_negatif"
      ],
      "execution_count": 0,
      "outputs": []
    },
    {
      "cell_type": "code",
      "metadata": {
        "id": "xEpbJndTyvwM",
        "colab_type": "code",
        "colab": {}
      },
      "source": [
        "## Splitting et MCMC - Méthode 3 (optimisé)\n",
        "def NiveauxSplitting(a,seuil,M1,lamb,T,p,P0,saut):\n",
        "\n",
        "    \"\"\"\n",
        "    Fonction qui renvoie une estimation des niveaux\n",
        "    de splitting a_1, a_2, ..., a_k tels que P(Phi_T <= a_k | Phi_T <= a_{k-1}) = 0.1 = seuil\n",
        "    (où Phi_T : inf de P_t pour t dans [0;T])\n",
        "    Ces niveaux sont des quantiles d'une loi conditionnelle.\n",
        "    On utilise l'inversion de la fonction de repartition empirique de \n",
        "    cette loi afin d'estimer un quantile par\n",
        "    le quantile empirique.\n",
        "    On a a = a_k < a_{k-1} < ... < a_0= + infini (dans notre problème, a = 0)\n",
        "    La fonction renvoie quantiles = [a_1, ..., a_k]\n",
        "    \"\"\"\n",
        "    ## Estimation du premier niveau a_1: c'est le \n",
        "    ## quantile d'une loi non conditionnelle.\n",
        "    ## On l'estime ici par la methode ergodique\n",
        "\n",
        "    liste_Phi = np.zeros(M1)\n",
        "\n",
        "    liste_sauts = liste_sts(lamb,T,saut)\n",
        "    liste_sauts_min = None\n",
        "    Phi_min = 100000\n",
        "    \n",
        "    for l in range(M1):\n",
        "        coloriage = liste_sauts[:,np.random.binomial(1,p,size = len(liste_sauts[0])) ==1]\n",
        "\n",
        "        liste_sauts_tilde = liste_sts((1-p)*lamb,T,saut)\n",
        "        nc = coloriage.shape[1]\n",
        "        nt = liste_sauts_tilde.shape[1]\n",
        "        new_liste_sauts = np.zeros((2, nc + nt))\n",
        "        new_liste_sts(coloriage, liste_sauts_tilde, new_liste_sauts, nc, nt)\n",
        "        #new_liste_sauts = np.concatenate((coloriage,liste_sauts_tilde),axis=1)\n",
        "        #new_liste_sauts = tri_temps(new_liste_sauts)\n",
        "\n",
        "        liste_sauts = new_liste_sauts\n",
        "        liste_Phi[l] = Phi(liste_sauts,P0)\n",
        "        if liste_Phi[l] < Phi_min:\n",
        "            liste_sauts_min = np.copy(liste_sauts)\n",
        "            Phi_min = liste_Phi[l]\n",
        "\n",
        "    liste_Phi.sort()\n",
        "    \n",
        "    quantiles = np.array([liste_Phi[int(np.ceil(seuil*M1))-1]])    \n",
        "\n",
        "    while quantiles[-1] > a:\n",
        "        #print(\"Inside while\", quantiles[-1], Phi(liste_sauts_min, P0))\n",
        "        if quantiles[-1] <= a + 1:\n",
        "            quantiles = np.append(quantiles, a)\n",
        "            break\n",
        "        \n",
        "        liste_Phi = np.zeros(M1)\n",
        "        \n",
        "        liste_sauts = np.copy(liste_sauts_min)\n",
        "        phi_actual = Phi(liste_sauts, P0)\n",
        "        Phi_min = 100000\n",
        "\n",
        "        ## Simulation du processus AR(1) conditionnel\n",
        "    \n",
        "        for l in range(M1):\n",
        "            coloriage = liste_sauts[:,np.random.binomial(1,p,size = len(liste_sauts[0])) ==1]\n",
        "            liste_sauts_tilde = liste_sts((1-p)*lamb,T,saut)\n",
        "            \n",
        "            nc = coloriage.shape[1]\n",
        "            nt = liste_sauts_tilde.shape[1]\n",
        "            new_liste_sauts = np.zeros((2, nc + nt))\n",
        "            new_liste_sts(coloriage, liste_sauts_tilde, new_liste_sauts, nc, nt)\n",
        "            #new_liste_sauts = np.concatenate((coloriage,liste_sauts_tilde),axis=1)\n",
        "            #new_liste_sauts = tri_temps(new_liste_sauts)\n",
        "            \n",
        "            phi_local = Phi(new_liste_sauts,P0)\n",
        "            \n",
        "            if phi_local<quantiles[-1]:\n",
        "                liste_sauts = new_liste_sauts\n",
        "                phi_actual = phi_local\n",
        "\n",
        "            liste_Phi[l] = phi_actual\n",
        "            if liste_Phi[l] < Phi_min:\n",
        "                liste_sauts_min = np.copy(liste_sauts)\n",
        "                Phi_min = liste_Phi[l]\n",
        "\n",
        "        liste_Phi.sort()\n",
        "        quantile = liste_Phi[int(np.ceil(seuil*M1)) - 1]\n",
        "        if quantile >= quantiles[-1]:\n",
        "            quantiles = np.append(quantiles, quantiles[-1] - 1)\n",
        "        else:\n",
        "            quantiles = np.append(quantiles, quantile)\n",
        "\n",
        "\n",
        "    ## On selectionne les niveaux a_{k-1},..., a_1 strictement au dessus de a\n",
        "    quantiles = quantiles[:-1]\n",
        "    ## On rajoute a\n",
        "    quantiles = np.append(quantiles,a)\n",
        "\n",
        "    return quantiles\n",
        "\n",
        "\n",
        "from numba import jit\n",
        "\n",
        "@jit(nopython=True)\n",
        "def Phi(liste_sauts, P0): # Function is compiled to machine code when called the first time\n",
        "    prix_min = P0\n",
        "    if len(liste_sauts[0]) == 0:\n",
        "        return P0\n",
        "    for i in liste_sauts[1, :]:\n",
        "        P0 += i\n",
        "        if P0 < prix_min:\n",
        "            prix_min = P0\n",
        "    return prix_min\n",
        "\n",
        "'''def Phi(liste_sauts,P0):#fonction qui renvoie l'inf des valeurs de X aux instants de saut\n",
        "    #ie l'inf de P0+cumsum(incréments) \n",
        "    if len(liste_sauts[0]) == 0:\n",
        "        return P0\n",
        "    liste_prix = P0+np.cumsum(liste_sauts[1,:])\n",
        "    prix_min = np.min(liste_prix)\n",
        "    return prix_min'''\n",
        "\n",
        "def liste_sts(lbda, T, saut):\n",
        "    N = np.random.poisson(lbda*T)\n",
        "    liste_sauts = np.zeros((2, N))\n",
        "    liste_sauts[0, :] = np.sort(np.random.uniform(low=0, high=T, size=N))\n",
        "    liste_sauts[1, :] = saut(N)\n",
        "    #renvoie un array de N colonnes et 2 lignes: 1ere ligne pour les temps des sauts (T_n), deuxième ligne pour leurs amplitudes (J_n)\n",
        "    return liste_sauts\n",
        "    #liste_temps_sauts = np.random.uniform(low = 0, high = T, size = N)\n",
        "    #liste_temps_sauts_triee = [np.sort(liste_temps_sauts)]\n",
        "    #liste_increments = [saut(N)]\n",
        "    #return np.concatenate((liste_temps_sauts_triee,liste_increments),axis=0)\n",
        "\n",
        "@jit(nopython=True)\n",
        "def new_liste_sts(coloriage, liste_sauts_tilde, new_liste_sauts, nc, nt):\n",
        "    i = 0\n",
        "    j = 0\n",
        "    k = 0\n",
        "    # Merge two listes triées\n",
        "    while i < nc:\n",
        "        T1 = coloriage[0, i]\n",
        "        while j < nt and liste_sauts_tilde[0, j] < T1:\n",
        "            new_liste_sauts[:, k] = liste_sauts_tilde[:, j]\n",
        "            j += 1\n",
        "            k += 1\n",
        "        new_liste_sauts[:, k] = coloriage[:, i]\n",
        "        i += 1\n",
        "        k += 1\n",
        "    while j < nt:\n",
        "        new_liste_sauts[:, k] = liste_sauts_tilde[:, j]\n",
        "        j += 1\n",
        "        k += 1\n",
        "    return new_liste_sauts\n",
        "\n",
        "def tri_temps(new_liste_sauts):\n",
        "    ordre = [new_liste_sauts[0,:].argsort()]\n",
        "    liste_sauts_triee = np.take_along_axis(new_liste_sauts, np.concatenate((ordre,ordre),axis=0), axis=1) \n",
        "    return liste_sauts_triee\n",
        "\n",
        "\n",
        "def MCMC(M2,p,lamb,liste_a,P0,saut):\n",
        "\n",
        "    liste_pi = np.zeros(len(liste_a)) #estimateurs des probabilités conditionnelles\n",
        "\n",
        "    liste_indicatrices = np.zeros(M2,dtype=bool) \n",
        "    \"\"\"\n",
        "    le k-ieme élém. de liste_indicatrices vaut True si le prix devient négatif avant l'instant T lors du k-ieme essai; False sinon\n",
        "    \"\"\"\n",
        "\n",
        "    #Loi non conditionnelle\n",
        "    \n",
        "    liste_sauts = liste_sts(lamb,T,saut)\n",
        "    liste_sauts_min = None\n",
        "    Found = False\n",
        "\n",
        "    for l in range(M2):\n",
        "        coloriage = liste_sauts[:,np.random.binomial(1,p,size = len(liste_sauts[0])) ==1]\n",
        "        liste_sauts_tilde = liste_sts((1-p)*lamb,T,saut)\n",
        "        \n",
        "        nc = coloriage.shape[1]\n",
        "        nt = liste_sauts_tilde.shape[1]\n",
        "        new_liste_sauts = np.zeros((2, nc + nt))\n",
        "        new_liste_sts(coloriage, liste_sauts_tilde, new_liste_sauts, nc, nt)\n",
        "        #new_liste_sauts = np.concatenate((coloriage,liste_sauts_tilde),axis=1)\n",
        "        #new_liste_sauts = tri_temps(new_liste_sauts)\n",
        "\n",
        "        liste_sauts = new_liste_sauts\n",
        "        if Phi(liste_sauts, P0) < liste_a[0]:\n",
        "            liste_indicatrices[l] = True\n",
        "            if not Found:\n",
        "                liste_sauts_min = np.copy(liste_sauts)\n",
        "                Found = True\n",
        "\n",
        "    liste_pi[0] = np.mean(liste_indicatrices)\n",
        "    \n",
        "    for k in range(1,len(liste_a)):\n",
        "        liste_indicatrices = np.zeros(M2,dtype=bool)  \n",
        "\n",
        "        #Initialisation \n",
        "        liste_sauts = np.copy(liste_sauts_min)\n",
        "        phi_actual = Phi(liste_sauts, P0)\n",
        "        \n",
        "        Found = False\n",
        "\n",
        "        for l in range(M2):\n",
        "            coloriage = liste_sauts[:,np.random.binomial(1,p,size = len(liste_sauts[0])) ==1]\n",
        "\n",
        "            liste_sauts_tilde = liste_sts((1-p)*lamb,T,saut)\n",
        "\n",
        "            nc = coloriage.shape[1]\n",
        "            nt = liste_sauts_tilde.shape[1]\n",
        "            new_liste_sauts = np.zeros((2, nc + nt))\n",
        "            new_liste_sts(coloriage, liste_sauts_tilde, new_liste_sauts, nc, nt)\n",
        "            #new_liste_sauts = np.concatenate((coloriage,liste_sauts_tilde),axis=1)\n",
        "            #new_liste_sauts = tri_temps(new_liste_sauts)\n",
        "\n",
        "            phi_local = Phi(new_liste_sauts, P0)\n",
        "            \n",
        "            if phi_local < liste_a[k-1]:\n",
        "                liste_sauts = new_liste_sauts\n",
        "                phi_actual = phi_local\n",
        "\n",
        "            if phi_actual < liste_a[k]:\n",
        "                liste_indicatrices[l] = True\n",
        "                if not Found:\n",
        "                    liste_sauts_min = np.copy(liste_sauts)\n",
        "\n",
        "        liste_pi[k] = np.mean(liste_indicatrices)\n",
        "    \n",
        "    proba_prix_negatif = np.prod(liste_pi)\n",
        "    return proba_prix_negatif"
      ],
      "execution_count": 0,
      "outputs": []
    },
    {
      "cell_type": "code",
      "metadata": {
        "id": "orAG0rAPKwfO",
        "colab_type": "code",
        "outputId": "69b0c814-b583-4f30-c534-1f41c745d1ca",
        "colab": {
          "base_uri": "https://localhost:8080/",
          "height": 68
        }
      },
      "source": [
        "%%time\n",
        "\n",
        "M = int(1e4) \n",
        "a=0\n",
        "\n",
        "#Choix des paramètres pour les niveaux de splitting et la simulation par chaîne de Markov\n",
        "seuil = 0.03\n",
        "p=0.5\n",
        "\n",
        "liste_a = NiveauxSplitting(a,seuil,M,lamb,T,p,P0,saut_1) #exemple: [21. 12.  6.  0.] pour M = 10^4, seuil=0.03 et p=0.5\n",
        "\n",
        "n=10\n",
        "probas = np.zeros(n)\n",
        "M = int(1e4)\n",
        "\n",
        "for i in range(n):\n",
        "    probas[i] = MCMC(M, p,lamb,liste_a,P0,saut_1)\n",
        "\n",
        "p_r = np.mean(probas)\n",
        "sigma_emp = np.std(probas)/np.sqrt(n) #écart-type empirique de la moyenne des n estimateurs\n",
        "print(\"Estimation de la probabilité de ruine pour m=1 par méthode de Splitting/MCMC: {:09.8f}+/-{:09.8f}\".format(p_r,sigma_emp))"
      ],
      "execution_count": 0,
      "outputs": [
        {
          "output_type": "stream",
          "text": [
            "Estimation de la probabilité de ruine pour m=1 par méthode de Splitting/MCMC: 0.00000046+/-0.00000006\n",
            "CPU times: user 24.4 s, sys: 23.3 ms, total: 24.4 s\n",
            "Wall time: 24.4 s\n"
          ],
          "name": "stdout"
        }
      ]
    },
    {
      "cell_type": "code",
      "metadata": {
        "id": "NbRoSLDPkPMB",
        "colab_type": "code",
        "colab": {}
      },
      "source": [
        "P0 = 35 \n",
        "T = 4*60*60 #conversion en secondes\n",
        "lamb =  1/300 \n",
        "M1 = int(1e3) \n",
        "M2 = int(1e4)\n",
        "n = 10\n",
        "a=0\n",
        "#Choix des paramètres pour les niveaux de splitting et la simulation par chaîne de Markov\n",
        "seuil = 0.03\n",
        "p=0.5\n",
        "\n",
        "def Splitting_Q1_1(a, seuil, M1, M2, n, lamb, T, p, P0, saut):\n",
        "    liste_a = NiveauxSplitting(a,seuil,M1,lamb,T,p,P0,saut)\n",
        "    #print(liste_a)\n",
        "    probas = np.zeros(n)\n",
        "    from tqdm.notebook import tqdm\n",
        "    for i in tqdm(range(n)):\n",
        "        probas[i] = MCMC(M2, p, lamb, liste_a, P0, saut)\n",
        "    #proba_emp = np.mean(probas)\n",
        "    #sigma_emp = np.std(probas) / np.sqrt(n) #écart-type empirique de la moyenne des n estimateurs\n",
        "    #print(proba_emp)\n",
        "    #print(sigma_emp)\n",
        "    #print(\"Estimation de la probabilité de ruine pour m=1 par méthode de Splitting/MCMC: {:09.8f}+/-{:09.8f}\".format(proba_emp,sigma_emp))\n",
        "    return probas"
      ],
      "execution_count": 0,
      "outputs": []
    },
    {
      "cell_type": "code",
      "metadata": {
        "id": "dKnmd80stXp4",
        "colab_type": "code",
        "colab": {}
      },
      "source": [
        "%%time\n",
        "Splitting_Q1_1(a, seuil, M1, M2, n, lamb, T, p, P0, saut_1)\n",
        "#Réponse pour m=1 ie k=0 et P0=35 : proba = 3.333674930684664e-07, variance = 5 10^-8\n",
        "#m=3 et P0=35: proba = 0.004309577501008395, variance = 0.00010259619121779947\n",
        "#m=1 liste_a = [24. 17. 12.  7.  3.  0.] seuil =0.1 M=10^4 n=10 proba_emp=4.619226215866903e-07 sigma_emp= 9.561801048257746e-08\n",
        "#m=1 liste_a= [20. 12.  5.  0.] seuil = 0.03 P0=35 M=10^4 n=10 proba_emp = 3.6218700696e-07 sigma_emp = 7.599237232859178e-08 \n",
        "#same avec M=10^5 proba_emp = 3.4354401671979703e-07. sigma_emp= 1.3033966706232877e-08 LE MEILLEUR QU ON AIT"
      ],
      "execution_count": 0,
      "outputs": []
    },
    {
      "cell_type": "code",
      "metadata": {
        "id": "fjZfwy_oYORG",
        "colab_type": "code",
        "colab": {}
      },
      "source": [
        "import matplotlib.pyplot as plt\n",
        "def xtick(seuils, ps):\n",
        "    lis = []\n",
        "    for i in range(len(seuils)):\n",
        "        for j in range(len(ps)):\n",
        "            if i == 0 and j == 0:\n",
        "                lis.append(\"Seuil \\n p\")\n",
        "            elif j == len(ps) // 2:\n",
        "                lis.append(str(seuils[i]) + \"\\n\" + str(ps[j]))\n",
        "            else:\n",
        "                lis.append(\" \\n\" + str(ps[j]))\n",
        "    return lis\n",
        "\n",
        "def analyse(filename, seuils, ps):\n",
        "    ls = len(seuils)\n",
        "    lp = len(ps)\n",
        "    x_name = xtick(seuils, ps)\n",
        "    seuils.reverse()\n",
        "    proba = np.load(filename)\n",
        "    \n",
        "    # Plot écart-type\n",
        "    plt.imshow(proba.std(axis=2), cmap=plt.cm.Blues)\n",
        "    plt.xticks([i for i in range(lp)], ps)\n",
        "    plt.xlabel(\"p\")\n",
        "    plt.yticks([i for i in range(ls)], seuils)\n",
        "    plt.ylabel(\"Seuils\")\n",
        "    plt.colorbar()\n",
        "    plt.title(\"Variance\")\n",
        "\n",
        "    # Save fig\n",
        "    outputname = filename.replace(\"probas\", \"var-heatmap\").replace(\"npy\", \"png\")\n",
        "    plt.savefig(outputname)\n",
        "    plt.show()\n",
        "    \n",
        "    \n",
        "    # Boxplot\n",
        "    plt.figure(figsize=(ls * lp * 0.4, 5))\n",
        "    plt.boxplot([proba[i][j] for i in range(ls) for j in range(lp)])\n",
        "    plt.xticks([i+1 for i in range(ls * lp)], x_name)\n",
        "    outputname = filename.replace(\"probas\", \"result\").replace(\"npy\", \"png\")\n",
        "    plt.savefig(outputname)\n",
        "    plt.show()\n",
        "\n",
        "def Heatmap(outputname, seuils, ps, n, saut):\n",
        "    proba = np.zeros((len(seuils), len(ps), n))\n",
        "    for i in range(len(seuils)):\n",
        "      seuil = seuils[i]\n",
        "      for j in range(len(ps)):\n",
        "        p = ps[j]\n",
        "        print(\"Processing with seuil = {}, p = {}\".format(seuil, p))\n",
        "        proba[i][j] = Splitting_Q1_1(a, seuil, M1, M2, n, lamb, T, p, P0, saut)\n",
        "    np.save(outputname, proba)"
      ],
      "execution_count": 0,
      "outputs": []
    },
    {
      "cell_type": "code",
      "metadata": {
        "id": "NqHeoQOHgMIm",
        "colab_type": "code",
        "colab": {}
      },
      "source": [
        "%%time\n",
        "n=100\n",
        "seuils = [0.01, 0.05, 0.1, 0.15]\n",
        "ps = [0.4, 0.45, 0.5, 0.55, 0.6, 0.65, 0.7, 0.75, 0.8, 0.85, 0.9]\n",
        "analyse(\"probas.npy\", seuils, ps)"
      ],
      "execution_count": 0,
      "outputs": []
    },
    {
      "cell_type": "markdown",
      "metadata": {
        "id": "1bthr6Ecx-FQ",
        "colab_type": "text"
      },
      "source": [
        "#### Echantillionage d'importance"
      ]
    },
    {
      "cell_type": "markdown",
      "metadata": {
        "id": "W9unhgab9bzT",
        "colab_type": "text"
      },
      "source": [
        "Les fonctions constantes / exp ne marchent pas trop."
      ]
    },
    {
      "cell_type": "code",
      "metadata": {
        "id": "wM6x12uJyCVF",
        "colab_type": "code",
        "colab": {}
      },
      "source": [
        "## Echantillionage d'importance\n",
        "\n",
        "from numba import jit\n",
        "\n",
        "@jit(nopython=True)# Function is compiled to machine code when called the first time\n",
        "def inf_echantillon_importance(N, J, P0, lambT, s, f_dic): \n",
        "  ruines = 0.\n",
        "  ruines_carre = 0.\n",
        "  for i in range(len(N) - 1):\n",
        "    somme = P0\n",
        "    ruine = 0.\n",
        "    ruine_carre = 0.\n",
        "    for j in range(N[i], N[i + 1]):\n",
        "      somme += J[j]\n",
        "      if somme < 0:\n",
        "        # Calculer L_T\n",
        "        X_T_f = np.sum(f_dic[ J[N[i]:N[i+1]] ])\n",
        "        L_T = np.exp(X_T_f - (s - 1) * lambT)\n",
        "        ruine = 1 / L_T\n",
        "        ruine_carre = 1 / L_T / L_T\n",
        "        break\n",
        "    ruines += ruine\n",
        "    ruines_carre += ruine_carre\n",
        "  return ruines, ruines_carre\n",
        "\n",
        "def trajectoire_importance(P0, T, lamb, m, size, f):\n",
        "  if m == 1:\n",
        "    value = np.array([-1, 1])\n",
        "    p = np.array([1/2, 1/2])\n",
        "  else:\n",
        "    value = np.array([-3, -2, -1, 1, 2, 3])\n",
        "    p = np.array([1 / 12, 1 / 6, 1 / 4, 1 / 4, 1 / 6, 1 / 12])\n",
        "    \n",
        "  # Nouvelle loi\n",
        "  s = np.sum(np.exp(f[value]) * p)\n",
        "  new_lamb = lamb * s\n",
        "  new_p = np.exp(f[value]) * p / s\n",
        "\n",
        "  N = np.random.poisson(lam=new_lamb * T, size=size + 1)\n",
        "  N[0] = 0\n",
        "  N = N.cumsum()                    # La valeur N[i] - N[i - 1] est égale à Ni pour le i-ième échantillon\n",
        "                                    # Donc la somme des sauts entre indice N[i] et N[i + 1] - 1 suit la loi voulue\n",
        "  \n",
        "  J = np.random.choice(value, size=N[-1] + 1, p=new_p)\n",
        "  ruines, ruines_carre = inf_echantillon_importance(N, J, P0, lamb * T, s, f)\n",
        "  proba = ruines / size\n",
        "  R_IC = 1.96 * (ruines_carre / size - proba * proba) / np.sqrt(size)\n",
        "  return proba, R_IC\n",
        "\n",
        "def meilleur_coeff(m, func, l_ = -100, r_ = 100):\n",
        "    \n",
        "    # f_dic : un map de p à f[p]. La forme étant [f[0], f[1], f[2], f[3], f[-3], f[-2], f[-1]] ou [f[0], f[1], f[-1]]\n",
        "    if m == 3:\n",
        "      value = np.array([-3, -2, -1, 1, 2, 3])\n",
        "      p = np.array([1 / 12, 1 / 6, 1 / 4, 1 / 4, 1 / 6, 1 / 12])\n",
        "      f_dic = np.array([0, 1, 2, 3, -3, -2, -1])\n",
        "    else:\n",
        "      value = np.array([-1, 1])\n",
        "      p = np.array([0.5, 0.5])\n",
        "      f_dic = np.array([0, 1, -1])\n",
        "\n",
        "    l = l_\n",
        "    f = func(f_dic, l)\n",
        "    print(\"l =\", l, \"\\tEspérance =\", P0 / (lamb * T) + np.sum(value * np.exp(f[value]) * p))\n",
        "    r = r_\n",
        "    f = func(f_dic, r)\n",
        "    print(\"r =\", r, \"\\tEspérance =\", P0 / (lamb * T) + np.sum(value * np.exp(f[value]) * p))\n",
        "    r_sign = np.sign(P0 / (lamb * T) + np.sum(value * np.exp(f[value]) * p))\n",
        "    while r - l > 1e-8:\n",
        "      c = (r + l) / 2\n",
        "      f = func(f_dic, c)\n",
        "      if np.sign(P0 / (lamb * T) + np.sum(value * np.exp(f[value]) * p)) == r_sign:\n",
        "        r = c\n",
        "      else:\n",
        "        l = c\n",
        "    print(\"c =\", c, \"Espérance =\", P0 / (lamb * T) + np.sum(value * np.exp(f[value]) * p))\n",
        "\n",
        "    p_r, R_IC = trajectoire_importance(P0, T, lamb, m, M, f)\n",
        "\n",
        "    print(\"Probabilité :\", p_r)\n",
        "    print(\"Rayon de l'intervalle de confiance :\", R_IC)\n",
        "    print(\"Intervalle de confiance : [{}, {}]\".format(p_r - R_IC, p_r + R_IC))"
      ],
      "execution_count": 0,
      "outputs": []
    },
    {
      "cell_type": "code",
      "metadata": {
        "id": "baXOxPw0yIZB",
        "colab_type": "code",
        "outputId": "b80a2f1e-0bb7-4b8c-f9fa-7bcb61caede4",
        "colab": {
          "base_uri": "https://localhost:8080/",
          "height": 165
        }
      },
      "source": [
        "%%time\n",
        "# Les paramètres\n",
        "P0 = 35\n",
        "T = 4*60*60\n",
        "lamb = 1/300\n",
        "m = 3\n",
        "M = int(1e6)\n",
        "\n",
        "################### f(x) = c *  x #######################\n",
        "meilleur_coeff(m, lambda x, c: x * c)"
      ],
      "execution_count": 0,
      "outputs": [
        {
          "output_type": "stream",
          "text": [
            "l = -100 \tEspérance = -4.8560659881031396e+129\n",
            "r = 100 \tEspérance = 4.8560659881031396e+129\n",
            "c = -0.2096913754940033 Espérance = -2.6540470312585995e-06\n",
            "Probabilité : 0.004317885341822488\n",
            "Rayon de l'intervalle de confiance : 2.4099435937280787e-07\n",
            "Intervalle de confiance : [0.004317644347463115, 0.004318126336181861]\n",
            "CPU times: user 2.33 s, sys: 10.7 ms, total: 2.34 s\n",
            "Wall time: 2.34 s\n"
          ],
          "name": "stdout"
        }
      ]
    },
    {
      "cell_type": "code",
      "metadata": {
        "id": "ehOurPTX2SNW",
        "colab_type": "code",
        "outputId": "a9d8b280-92e2-46b6-abf0-2152f48bff73",
        "colab": {
          "base_uri": "https://localhost:8080/",
          "height": 165
        }
      },
      "source": [
        "%%time\n",
        "################### f(x) = c * x ** 3 #######################\n",
        "meilleur_coeff(m, lambda x, c: c * x ** 3, -10, 10)"
      ],
      "execution_count": 0,
      "outputs": [
        {
          "output_type": "stream",
          "text": [
            "l = -10 \tEspérance = -4.544123462847749e+116\n",
            "r = 10 \tEspérance = 4.544123462847749e+116\n",
            "c = -0.03409087657928467 Espérance = 1.4896594524471674e-05\n",
            "Probabilité : 0.004294747734475258\n",
            "Rayon de l'intervalle de confiance : 1.9546138403467733e-06\n",
            "Intervalle de confiance : [0.004292793120634911, 0.004296702348315605]\n",
            "CPU times: user 1.87 s, sys: 4.77 ms, total: 1.87 s\n",
            "Wall time: 1.87 s\n"
          ],
          "name": "stdout"
        }
      ]
    },
    {
      "cell_type": "markdown",
      "metadata": {
        "id": "cCgK9NrFzQfO",
        "colab_type": "text"
      },
      "source": [
        "###  Q1 - 2 Quantile\n"
      ]
    },
    {
      "cell_type": "markdown",
      "metadata": {
        "id": "jYMiLJF3RkpV",
        "colab_type": "text"
      },
      "source": [
        "Pour les intervalles de confiance des quantiles, voir cours 2 p.3 (y a un TCL pour le quantile)\n",
        "\n",
        "__Aussi, parle des approximations gaussiennes des poissons composés p6__\n",
        "\n",
        "D'après le cours:\n",
        "\n",
        "Si la loi des sauts est centrée et de variance $\\sigma^2$\n",
        "Si on note $N_T$ le nombre de sauts dans $[0,T]$,\n",
        "\n",
        "$$N \\sim \\mathcal{P}(\\lambda T)$$\n",
        "Alors le prix à $T$, $X_T$,  converge en loi vers $\\mathcal{N}(P_0,\\lambda T \\sigma^2)$ quand $\\lambda T \\rightarrow + \\infty$\n",
        "\n",
        "Ici on a $\\lambda T = 48$\n",
        "\n",
        "Ca serait intéressant de comparer les quantiles obtenus en Q1.2 avec les quantiles de la loi normale $\\mathcal{N}(P_0,\\lambda T \\sigma^2)$, où $\\sigma^2=1$ si $m=1$ et $\\sigma^2 = \\frac{10}{3} $ si $m=3$ (normalement, devraient être proches) (Oui très proche!)"
      ]
    },
    {
      "cell_type": "markdown",
      "metadata": {
        "id": "W44z1y2wFgPO",
        "colab_type": "text"
      },
      "source": [
        "#### Loi normale"
      ]
    },
    {
      "cell_type": "code",
      "metadata": {
        "id": "NRH6RxgpFc38",
        "colab_type": "code",
        "outputId": "73bc53f0-d460-4d30-d1ca-f16fa113498c",
        "colab": {
          "base_uri": "https://localhost:8080/",
          "height": 242
        }
      },
      "source": [
        "from scipy.stats import norm\n",
        "quantiles = [1e-4, 1 - 1e-4, 1e-5, 1 - 1e-5, 1e-6, 1 - 1e-6]\n",
        "P0 = 35\n",
        "lamb = 1 / 300\n",
        "T = 4 * 60 * 60\n",
        "ms = [1, 3]\n",
        "for m in ms:\n",
        "  for quantile in quantiles:\n",
        "    if m == 1:\n",
        "      sigma_carre = 1\n",
        "    elif m == 3:\n",
        "      sigma_carre = 10 / 3\n",
        "    print(\"quantile {} for m = {} : {}\".format(quantile, m, norm.ppf(quantile, loc=35, scale=np.sqrt(lamb * T * sigma_carre))))"
      ],
      "execution_count": 0,
      "outputs": [
        {
          "output_type": "stream",
          "text": [
            "quantile 0.0001 for m = 1 : 9.233897972018084\n",
            "quantile 0.9999 for m = 1 : 60.766102027982114\n",
            "quantile 1e-05 for m = 1 : 5.451969824771606\n",
            "quantile 0.99999 for m = 1 : 64.54803017523543\n",
            "quantile 1e-06 for m = 1 : 2.0673103487430637\n",
            "quantile 0.999999 for m = 1 : 67.93268965121666\n",
            "quantile 0.0001 for m = 3 : -12.042250999017675\n",
            "quantile 0.9999 for m = 3 : 82.04225099901804\n",
            "quantile 1e-05 for m = 3 : -18.94707552271973\n",
            "quantile 0.99999 for m = 3 : 88.94707552273258\n",
            "quantile 1e-06 for m = 3 : -25.12659000436789\n",
            "quantile 0.999999 for m = 3 : 95.12659000429439\n"
          ],
          "name": "stdout"
        }
      ]
    },
    {
      "cell_type": "markdown",
      "metadata": {
        "id": "54ss_U8OztnN",
        "colab_type": "text"
      },
      "source": [
        "#### Monte-Carlo"
      ]
    },
    {
      "cell_type": "code",
      "metadata": {
        "id": "u2XIYknCZpWw",
        "colab_type": "code",
        "colab": {}
      },
      "source": [
        "#Monte-Carlo accéléré - Méthode 2\n",
        "\n",
        "# Poisson composé naïf\n",
        "def Poisson_compose(P0, T, lamb, saut, size):\n",
        "  # saut : une fonction qui prend la taille de sortie comme entrée pour les sauts.\n",
        "  N = np.random.poisson(lam=lamb * T, size=size + 1)\n",
        "  N[0] = 0\n",
        "  N = np.cumsum(N)                  # La valeur N[i] - N[i - 1] est égale à N pour le i-ième échantillon\n",
        "                                    # Donc la somme des sauts entre indice N[i] + 1 et N[i + 1] suit la loi voulue\n",
        "  J = saut(N[-1] + 1)               # Sauts\n",
        "  J = np.cumsum(J)\n",
        "  M = J[N[1:]] - J[N[:-1]]          # On veut la somme entre l'indice N[i] + 1 et N[i + 1]\n",
        "  return P0 + M # échantillon de taille (size)\n",
        "\n",
        "def quantile(echantillion, size, quant):\n",
        "  index_bot = int(math.ceil(size * quant))\n",
        "  index_top = int(math.ceil(size * (1 - quant)))\n",
        "  echantillion.partition((index_bot, index_top))\n",
        "  return echantillion[index_bot], echantillion[index_top]\n",
        "\n",
        "def Question1_2_naive(size, quant, saut, P0, T, lamb):\n",
        "  return quantile(Poisson_compose(P0, T, lamb, saut, size), size, quant)"
      ],
      "execution_count": 0,
      "outputs": []
    },
    {
      "cell_type": "code",
      "metadata": {
        "id": "tc9j6LwpcvS_",
        "colab_type": "code",
        "outputId": "4350e209-2e4c-428a-9c15-438885def2da",
        "colab": {
          "base_uri": "https://localhost:8080/",
          "height": 68
        }
      },
      "source": [
        "%%time\n",
        "size = int(1e6)\n",
        "quant = 1e-4\n",
        "print(Question1_2_naive(size, quant, saut_1, P0, T, lamb))\n",
        "\n",
        "#Donne 9 et 61 pour P0 = 35 et m=tre emploi du temps SynapseS, les créneaux Café Corps sous l'étiquette GEN411, dont les liens seront disponibles demain en fin de matinée sur MOODLE\n",
        "\n",
        " 1 et niveau = 10^-4 \n",
        "#Donne 5 et 65 pour P0 = 35 et m=1 et niveau = 10^-5 \n",
        "#Donne 3 et 68 pour P0 = 35 et m=1 et niveau = 10^-6\n",
        "#Donne -13 et 83 pour P0 = 35 et m=2 et niveau = 10^-4 \n",
        "#Donne -21 et 92 pour P0 = 35 et m=2 et niveau = 10^-5\n",
        "#Donne -25 et 94 pour P0 = 35 et m=2 et niveau = 10^-6"
      ],
      "execution_count": 0,
      "outputs": [
        {
          "output_type": "stream",
          "text": [
            "(-6, 46)\n",
            "CPU times: user 1.41 s, sys: 4 ms, total: 1.41 s\n",
            "Wall time: 1.42 s\n"
          ],
          "name": "stdout"
        }
      ]
    },
    {
      "cell_type": "markdown",
      "metadata": {
        "id": "mOgm7vfNzzaB",
        "colab_type": "text"
      },
      "source": [
        "#### MCMC avec chaînes de Markov"
      ]
    },
    {
      "cell_type": "code",
      "metadata": {
        "id": "b7uFf__VdhIw",
        "colab_type": "code",
        "colab": {}
      },
      "source": [
        "#MCMC (chaînes de Markov) - Méthode 3\n",
        "\n",
        "def Quantile_ergodique(seuil,n,lamb,T,p,P0,saut): #renvoie le quantile de niveau \"seuil\" du processus de poisson composé\n",
        "\n",
        "    liste_prix_final = np.zeros(n)\n",
        "\n",
        "    liste_sauts = liste_sts(lamb,T,saut) \n",
        "\n",
        "    for l in range(n):\n",
        "        coloriage = liste_sauts[:,np.random.binomial(1,p,size = len(liste_sauts[0])) ==1]\n",
        "\n",
        "        liste_sauts_tilde = liste_sts((1-p)*lamb,T,saut)\n",
        "        new_liste_sauts = np.concatenate((coloriage,liste_sauts_tilde),axis=1)\n",
        "        liste_sauts = tri_temps(new_liste_sauts)\n",
        "\n",
        "        liste_prix_final[l] = np.cumsum(liste_sauts[1,:])[-1] +P0\n",
        "\n",
        "    liste_prix_final.sort()\n",
        "  \n",
        "    quantile = liste_prix_final[int(np.ceil(seuil*n))-1]    \n",
        "\n",
        "  \n",
        "    return quantile"
      ],
      "execution_count": 0,
      "outputs": []
    },
    {
      "cell_type": "code",
      "metadata": {
        "colab_type": "code",
        "id": "D-Cz1Njqw-Wh",
        "colab": {}
      },
      "source": [
        "4.310−3\n",
        "\n",
        "def Quantile_naif(seuil,n,lamb,T,P0,saut):\n",
        "\n",
        "    liste_P_t = np.zeros(n)\n",
        "    for i in range(n):\n",
        "        N = np.random.poisson(lamb*T)\n",
        "        increments = saut(N)\n",
        "        \n",
        "        liste_P_t[i] = np.sum(increments)+P0\n",
        "    liste_P_t = np.sort(liste_P_t)\n",
        "    return liste_P_t[int(np.ceil(n*seuil))-1]"
      ],
      "execution_count": 0,
      "outputs": []
    },
    {
      "cell_type": "code",
      "metadata": {
        "id": "nlfAOhFsZKKd",
        "colab_type": "code",
        "outputId": "b8064ceb-b5ae-4e4f-96db-34fb2ab13c53",
        "colab": {
          "base_uri": "https://localhost:8080/",
          "height": 51
        }
      },
      "source": [
        "P0 = 35\n",
        "T = 4*60*60 #conversion en secondes\n",
        "lamb =  1/300 \n",
        "n = int(1e6) \n",
        "\n",
        "niveau = 1e-5\n",
        "p=0.5\n",
        "\n",
        "quantileGauche = Quantile_naif(niveau,n,lamb,T,P0,saut_2) #mettre Quantile_ergodique(niveau,n,lamb,T,p,P0,saut) ou Quantile_naif(niveau,n,lamb,T,P0,saut)\n",
        "quantileDroit = Quantile_naif(1-niveau,n,lamb,T,P0,saut_2)\n",
        "print(\"Quantile de niveau {} : {}\".format(niveau,quantileGauche))\n",
        "print(\"Quantile de niveau {} : {}\".format(1-niveau,quantileDroit))\n",
        "\n",
        "#Résultats pour Quantile_ergodique:\n",
        "#Donne 9 et 61 pour P0 = 35 et k=0 et niveau = 10^-4 (c'est à peu près sym/P0 ce qui est rassurant)\n",
        "#Donne 5 et 66 pour P0 = 35 et k=0 et niveau = 10^-5\n",
        "#Donne 5 et 63 pour P0 = 35 et k=0 et niveau = 10^-6 (problème... faut augmenter n?) n : 10^5 -> 10^6 : on trouve 2 et 68 ; OK :D\n",
        "\n",
        "#-15 et 83 pour P0=35 et k=1 et niveau = 10^-4 (sauts plus grands dc on va plus loin, logique; sym/0, logique)\n",
        "#-16 et 90 pour P0=35 et k=1 et niveau = 10^-5\n",
        "#Donne -25 et 97 pour P0 = 35 et k=1 et niveau = 10^-6 (en augmentant n de 10^5 à 10^6)\n",
        "\n",
        "#Résultats Quantile_naïf (plus lent) (n=10^5):\n",
        "#9 et 62\n",
        "#5 et 66\n",
        "#3 et 67\n",
        "#-13 et 84\n",
        "#-22 et 87 si on garde n=10^5, -20 et 89 si on passe à n=10^6\n",
        "# -22 et 97(on passe à n=10^6)"
      ],
      "execution_count": 0,
      "outputs": [
        {
          "output_type": "stream",
          "text": [
            "Quantile de niveau 1e-05 : -20.0\n",
            "Quantile de niveau 0.99999 : 89.0\n"
          ],
          "name": "stdout"
        }
      ]
    },
    {
      "cell_type": "code",
      "metadata": {
        "id": "ky9oTvowbPDM",
        "colab_type": "code",
        "colab": {}
      },
      "source": [
        "#Calcul quantile par échantillonnage d'importance\n",
        "#Voir slides amphi 2 p.12 pour calcul quantile avec changement de probabilité\n",
        "#Ensuite voir amphi 3 pour changements de proba Poisson composés\n",
        "#Différence importance sampling/échantillonage d'importance et changement de probabilité ?\n",
        "#Transfo d'Esscher"
      ],
      "execution_count": 0,
      "outputs": []
    },
    {
      "cell_type": "markdown",
      "metadata": {
        "id": "f6ZpnHtBhElE",
        "colab_type": "text"
      },
      "source": [
        "##  Q2\n",
        "\n",
        "\n"
      ]
    },
    {
      "cell_type": "markdown",
      "metadata": {
        "id": "ntNKzkWPzUT1",
        "colab_type": "text"
      },
      "source": [
        "### Q2-1 Probabilité de ruine"
      ]
    },
    {
      "cell_type": "markdown",
      "metadata": {
        "id": "sJt1_9eHz6-J",
        "colab_type": "text"
      },
      "source": [
        "#### MC Naif"
      ]
    },
    {
      "cell_type": "code",
      "metadata": {
        "id": "T-ehjru0mzXu",
        "colab_type": "code",
        "colab": {}
      },
      "source": [
        "#MC Naif - Méthode 1\n",
        "\n",
        "def ruine(lamb1,lamb2,T,P0,saut):\n",
        "    N1 = np.random.poisson(lamb1*T)\n",
        "    N2 = np.random.poisson(lamb2*T)\n",
        "    ind_2 = np.sort(np.random.choice(np.arange(N1+N2),replace=False,size=N2)) #indices des sauts du processus 2\n",
        "    one_first = np.random.binomial(1,0.5) #pour savoir si le premier incrément du processus 2 vaut 1 ou -1\n",
        "\n",
        "    increments=saut(N1+N2)\n",
        "\n",
        "    for i in range(N2):\n",
        "        increments[ind_2[i]] = -1+ 2*((i+one_first)%2)\n",
        "    liste_prix = P0 + np.cumsum(increments)\n",
        "\n",
        "    inf_P = np.min(liste_prix)\n",
        "    if inf_P<0:\n",
        "        return 1\n",
        "    return 0\n",
        "\n",
        "\n",
        "def MC_naif(M,lamb1,lamb2,T,P0,saut): \n",
        "    liste_ruine = np.zeros(M) \n",
        "\n",
        "    for l in range(M):\n",
        "        liste_ruine[l] = ruine(lamb1,lamb2,T,P0,saut) \n",
        "\n",
        "\n",
        "    proba_prix_negatif = np.mean(liste_ruine)\n",
        "    return proba_prix_negatif\n"
      ],
      "execution_count": 0,
      "outputs": []
    },
    {
      "cell_type": "code",
      "metadata": {
        "id": "JbmkD-aIEpOl",
        "colab_type": "code",
        "outputId": "354b006d-99b5-48a6-97e4-c0a77b93fbb1",
        "colab": {
          "base_uri": "https://localhost:8080/",
          "height": 85
        }
      },
      "source": [
        "%%time\n",
        "P0=35\n",
        "lamb1 = 1/660\n",
        "lamb2 = 1/110\n",
        "T = 4*3600\n",
        "M=int(1e6)\n",
        "\n",
        "p_r = MC_naif(M,lamb1,lamb2,T,P0,saut_2)\n",
        "R_IC = 1.96*np.sqrt(p_r*(1-p_r)/M)\n",
        "print(p_r)\n",
        "print(R_IC)\n",
        "\n",
        "#pour m=3 M=10^5 P0=35: (7e-05, 5.1854910679703226e-05) = (p_r, ecart type empirique). \n",
        "#C'est bcp plus faible qu'avant (10^-3). Logique vu que tendance à revenir vers l'équilibre\n",
        "#pour P0=5 ça donne bien la même chose que MC Naif Numba de PWC\n",
        "#m=3 P0=35 M=10^6 : p_r = 5.9e-05, R_IC=1.505460153542431e-05"
      ],
      "execution_count": 0,
      "outputs": [
        {
          "output_type": "stream",
          "text": [
            "5.9e-05\n",
            "1.505460153542431e-05\n",
            "CPU times: user 2min 33s, sys: 25.4 ms, total: 2min 33s\n",
            "Wall time: 2min 33s\n"
          ],
          "name": "stdout"
        }
      ]
    },
    {
      "cell_type": "markdown",
      "metadata": {
        "id": "9h3BmWHs0C4R",
        "colab_type": "text"
      },
      "source": [
        "#### MC numba"
      ]
    },
    {
      "cell_type": "code",
      "metadata": {
        "id": "-gWx6eAMzNhE",
        "colab_type": "code",
        "colab": {}
      },
      "source": [
        "#Monte-Carlo accéléré - Méthode 2\n",
        "from numba import jit\n",
        "from numpy.random import exponential\n",
        "\n",
        "@jit(nopython=True)\n",
        "def Q2_1_MC(P0, T, m):\n",
        "  if m == 1:\n",
        "    value = np.array([-1, 1])\n",
        "    low = 2\n",
        "  else:\n",
        "    value = np.array([-3, -2, -2, -1, -1, -1, 1, 1, 1, 2, 2, 3])\n",
        "    low = 12\n",
        "  J2_0 = np.array([-1, 1])[np.random.randint(low=2)]\n",
        "\n",
        "  somme = P0\n",
        "  T1 = exponential(660)\n",
        "  T2 = exponential(110)\n",
        "  while T1 < T:\n",
        "    while T2 < T1:\n",
        "      somme += J2_0\n",
        "      if somme < 0:\n",
        "        return 1\n",
        "      J2_0 *= -1\n",
        "      T2 += exponential(110)\n",
        "    somme += value[np.random.randint(low=low)]\n",
        "    if somme < 0:\n",
        "      return 1\n",
        "    T1 += exponential(660)\n",
        "  return 0\n",
        "\n",
        "def Q2_1_MC_n(P0, T, m, size):\n",
        "  somme = 0\n",
        "  for i in range(size):\n",
        "    somme += Q2_1_MC(P0, T, m)\n",
        "  return somme / size"
      ],
      "execution_count": 0,
      "outputs": []
    },
    {
      "cell_type": "code",
      "metadata": {
        "id": "0x8PpMxd0ryo",
        "colab_type": "code",
        "outputId": "11ee8f9b-b51c-4907-a668-0420a0743d14",
        "colab": {
          "base_uri": "https://localhost:8080/",
          "height": 74
        }
      },
      "source": [
        "%%time\n",
        "P0=35\n",
        "T = 4*3600\n",
        "M=int(1e6)\n",
        "m = 3\n",
        "\n",
        "p_r = Q2_1_MC_n(P0, T, m, M)\n",
        "\n",
        "R_IC = 1.96*np.sqrt(p_r*(1-p_r))/np.sqrt(M) #rayon de l'intervalle de confiance\n",
        "\n",
        "print(\"Estimation de la probabilité de ruine pour m=3 par méthode de Monte-Carlo accélérée: {:09.8f}+/-{:09.8f}\".format(p_r,R_IC))\n",
        "\n",
        "#P0=35, M=10^5, m=3: p_r = 3 10^-5 et R_IC = 3.4 10^-5 => faut augmenter M\n",
        "#Estimation de la probabilité de ruine pour m=3 par méthode de Monte-Carlo accélérée: 0.00005200+/-0.00001413"
      ],
      "execution_count": 0,
      "outputs": [
        {
          "output_type": "stream",
          "text": [
            "Estimation de la probabilité de ruine pour m=3 par méthode de Monte-Carlo accélérée: 0.00004300+/-0.00001285\n",
            "CPU times: user 12.4 s, sys: 2.89 ms, total: 12.4 s\n",
            "Wall time: 12.4 s\n"
          ],
          "name": "stdout"
        }
      ]
    },
    {
      "cell_type": "markdown",
      "metadata": {
        "id": "fKihS64UzPW5",
        "colab_type": "text"
      },
      "source": [
        "### Q2-2 Quantile"
      ]
    },
    {
      "cell_type": "markdown",
      "metadata": {
        "id": "ZDhCCbs30IxJ",
        "colab_type": "text"
      },
      "source": [
        "#### MCMC Naif"
      ]
    },
    {
      "cell_type": "code",
      "metadata": {
        "id": "vwtJXbe2bWNB",
        "colab_type": "code",
        "colab": {}
      },
      "source": [
        "#Naif - Méthode 1\n",
        "\n",
        "\n",
        "def Quantile_naif_2(seuil,n,lamb1,lamb2,T,P0,saut):\n",
        "\n",
        "    liste_P_t = np.zeros(n)\n",
        "    for i in range(n):\n",
        "        N1 = np.random.poisson(lamb1*T)\n",
        "        N2 = np.random.poisson(lamb2*T)\n",
        "        P2 = 0 \n",
        "        if (N2%2!=0): #si N2 est pair, la contribution du processus 2 vaut 0\n",
        "            P2=-1+2*np.random.binomial(1,0.5)\n",
        "        increments = saut(N1)\n",
        "        \n",
        "        liste_P_t[i] = np.sum(increments)+P0 +P2\n",
        "    liste_P_t = np.sort(liste_P_t)\n",
        "    return liste_P_t[int(np.ceil(n*seuil))-1]"
      ],
      "execution_count": 0,
      "outputs": []
    },
    {
      "cell_type": "markdown",
      "metadata": {
        "id": "Pn-ClxeH9A-S",
        "colab_type": "text"
      },
      "source": [
        ""
      ]
    },
    {
      "cell_type": "markdown",
      "metadata": {
        "id": "k1Q0VUze0Muj",
        "colab_type": "text"
      },
      "source": [
        "#### MCMC numba"
      ]
    },
    {
      "cell_type": "code",
      "metadata": {
        "id": "rElL76uEo8BI",
        "colab_type": "code",
        "colab": {}
      },
      "source": [
        "#MC Accéléré - Méthode 2 (pas plus rapide ?)\n",
        "\n",
        "# On identifie le processus par le processus de Poisson composé, qui finit à un temps fixé T\n",
        "# On crée des fonctions pour modéliser le processus.\n",
        "\n",
        "\n",
        "def Q2_2_MC(P0, T, lamb1, lamb2, saut):\n",
        "  # saut : une fonction qui prend la taille de sortie comme entrée pour les sauts.\n",
        "  N1 = np.random.poisson(lam=lamb1 * T)\n",
        "  T1 = np.sort(np.random.uniform(low=0.0, high=T, size=N1))\n",
        "  J1 = saut(N1)\n",
        "\n",
        "  N2 = np.random.poisson(lam=lamb2 * T)\n",
        "  T2 = np.sort(np.random.uniform(low=0.0, high=T, size=N2))\n",
        "\n",
        "  J2_0 = saut_1(1)[0]\n",
        "\n",
        "  somme = P0\n",
        "  index_T2 = 0\n",
        "  for i in range(len(T1)):\n",
        "    while index_T2 < N2 and T2[index_T2] < T1[i]:\n",
        "      somme += J2_0\n",
        "      J2_0 *= -1\n",
        "      index_T2 += 1\n",
        "    somme += J1[i]\n",
        "  return somme                      # 1 échantillon\n",
        "\n",
        "def Q2_2_MC_n(P0, T, lamb1, lamb2, saut, size):\n",
        "  res = []\n",
        "  for i in range(size):\n",
        "    res.append(Q2_2_MC(P0, T, lamb1, lamb2, saut))\n",
        "  return np.array(res)\n",
        "\n",
        "def quantile(echantillion, size, quant):\n",
        "  index_bot = int(math.ceil(size * quant))\n",
        "  index_top = int(math.ceil(size * (1 - quant)))\n",
        "  echantillion.partition((index_bot, index_top))\n",
        "  return echantillion[index_bot], echantillion[index_top]\n",
        "\n",
        "def Question2_2_naif(size, quant, saut, P0, T, lamb1, lamb2):\n",
        "  return quantile(Q2_2_MC_n(P0, T, lamb1, lamb2, saut, size), size, quant)"
      ],
      "execution_count": 0,
      "outputs": []
    },
    {
      "cell_type": "code",
      "metadata": {
        "id": "Wsej5YbG6mrG",
        "colab_type": "code",
        "outputId": "bf1a9006-6d04-4c36-8a2e-69c27f464f79",
        "colab": {
          "base_uri": "https://localhost:8080/",
          "height": 68
        }
      },
      "source": [
        "%%time \n",
        "\n",
        "P0 = 35\n",
        "\n",
        "seuil = 1e-6\n",
        "n = int(1e6)\n",
        "print(Question2_2_naif(n, seuil, saut_2, P0, T, lamb1, lamb2))\n",
        "\n",
        "#(19, 52) pour m=1 seuil 10^-4 n =10^4\n",
        "#(14,56) pour m=1 seuil 10^-5 n =10^5\n",
        "#Donne ... pour n = 10^6 et seuil=1e-6 et m=1\n",
        "#Donne (0, 69) pour n = 10^4 et seuil=1e-4 et m=3\n",
        "#Donne (-2, 71) pour n = 10^5 et seuil=1e-5 et m=3\n",
        "#Donne pour n = 10^5 et seuil=1e-6 et m=3"
      ],
      "execution_count": 0,
      "outputs": [
        {
          "output_type": "stream",
          "text": [
            "(-5, 81)\n",
            "CPU times: user 3min 51s, sys: 203 ms, total: 3min 52s\n",
            "Wall time: 3min 52s\n"
          ],
          "name": "stdout"
        }
      ]
    },
    {
      "cell_type": "code",
      "metadata": {
        "id": "9EcHj44bgLAg",
        "colab_type": "code",
        "outputId": "86bce2ee-33b9-47e6-cfa6-d5e8729661c1",
        "colab": {
          "base_uri": "https://localhost:8080/",
          "height": 68
        }
      },
      "source": [
        "%%time\n",
        "\n",
        "P0 = 35\n",
        "\n",
        "seuil = 1e-6\n",
        "n=int(1e6)\n",
        "\n",
        "quantiles = Quantile_naif_2(seuil,n,lamb1,lamb2,T,P0,saut_1),Quantile_naif_2(1-seuil,n,lamb1,lamb2,T,P0,saut_1)\n",
        "print(quantiles)\n",
        "#Donne 17/55 pour n = 10^4 et seuil=1e-4 et m=1\n",
        "#Donne (12.0, 56.0) pour n = 10^5 et seuil=1e-5 et m=1\n",
        "#Donne (11.0, 58.0) pour n = 10^6 et seuil=1e-6 et m=1\n",
        "#Donne (2.0, 65.0) pour n = 10^4 et seuil=1e-4 et m=3\n",
        "#Donne (-4.0, 73.0) pour n = 10^5 et seuil=1e-5 et m=3\n",
        "#Donne (-10.0, 77.0) pour n = 10^6 et seuil=1e-6 et m=3"
      ],
      "execution_count": 0,
      "outputs": [
        {
          "output_type": "stream",
          "text": [
            "(11.0, 58.0)\n",
            "CPU times: user 1min 35s, sys: 16.9 ms, total: 1min 35s\n",
            "Wall time: 1min 35s\n"
          ],
          "name": "stdout"
        }
      ]
    },
    {
      "cell_type": "markdown",
      "metadata": {
        "id": "GoJBPfJ4T0FL",
        "colab_type": "text"
      },
      "source": [
        "## Q"
      ]
    },
    {
      "cell_type": "markdown",
      "metadata": {
        "id": "voWPaQaKUEDQ",
        "colab_type": "text"
      },
      "source": [
        "Afin de modéliser le phénomène de retour vers la moyenne, on veut que le signe de $\\hat{J_n}$ soit différent que celui de $\\hat{J_{n - 1}}$. Mathématiquement, ça s'écrit :\n",
        "$$\\mathbb{P}(\\hat{J_{n - 1}} = 1, \\hat{J_{n}} = 1) < \\mathbb{P}(\\hat{J_{n - 1}} = 1, \\hat{J_{n}} = -1)$$\n",
        "et \n",
        "$$\\mathbb{P}(\\hat{J_{n - 1}} = -1, \\hat{J_{n}} = -1) < \\mathbb{P}(\\hat{J_{n - 1}} = -1, \\hat{J_{n}} = 1)$$\n",
        "En identifiant avec la matrice de transition $\\hat{Q}$, on obtient :\n",
        "$$\\frac{1 - \\alpha_+}{2} > \\frac{1 + \\alpha_+}{2}, \\frac{1 - \\alpha_-}{2} > \\frac{1 + \\alpha_-}{2}$$\n",
        "Ainsi, $\\alpha_+ < 0$ et $\\alpha_- < 0$."
      ]
    },
    {
      "cell_type": "markdown",
      "metadata": {
        "id": "n__Lr1hJWi7n",
        "colab_type": "text"
      },
      "source": [
        "## Q3"
      ]
    },
    {
      "cell_type": "markdown",
      "metadata": {
        "id": "EMctkSE1bqcs",
        "colab_type": "text"
      },
      "source": [
        "### Estimation de la probabilité d'un prix négatif"
      ]
    },
    {
      "cell_type": "markdown",
      "metadata": {
        "id": "tqsj3sbdxmxO",
        "colab_type": "text"
      },
      "source": [
        "On implémentera deux méthodes pour cette question :\n",
        "\n",
        "* Monte-Carlo naïf\n",
        "* méthodes des particules en interaction\n",
        "\n",
        "__Méthode des particules en interaction appliquée au problème__\n",
        "\n",
        "Avec cette nouvelle modélisation des sauts et pour un nombre de sauts N fixé, on peut simuler les trajectoires du prix comme des chaînes de Markov, grâce à la méthode des particules en interaction. \n",
        "\n",
        "En effet, on cherche à calculer $\\mathbb{E}[f(P_0, \\cdots, P_N)]$, où $f(p_0,\\cdots, p_N) = \\mathbb{1}_{min(p_0,\\cdots,x_N)<0}$\n",
        "\n",
        "La suite des couples (prix, signe du saut) $(P_n,\\hat{J_n})_{n \\in \\mathbb{N}}$ est définie par :\n",
        "\n",
        "* $\\hat{J_1}\\sim -1 + 2 \\mathcal{B}(1/2)$ \n",
        "* $P_1 = 35+ \\hat{J_1}$\n",
        "* $\\forall n \\geq 1, \\hat{J}_{n+1} = \\hat{J_n} \\times \\delta_n$ , où les $\\delta_n$ sont iid suivant $-1+2 \\mathcal{B} \\Big(\\dfrac{1+\\alpha}{2}\\Big) $ (valent 1 avec probabilité $\\dfrac{1+\\alpha}{2} $, -1 sinon)\n",
        "* $X_{n+1} = X_{n} + \\xi_n \\times \\hat{J}_{n+1} $\n",
        "\n",
        "Les amplitudes de saut $\\xi_n$ sont bien indépendantes identiquement distribuées, et indépendante de $(P_0, \\hat{J}_0)$. On a bien une récurrence aléatoire, donc $(P_n,\\hat{J_n})_{n \\in \\mathbb{N}}$ est une chaîne de Markov.\n",
        "\n",
        "La probabilité d'avoir un prix négatif dans les $N$ premiers sauts est donnée par : \n",
        "\n",
        "$p_N= \\mathbb{E}\\Big[f(\\,(P_0,\\hat{J}_0), \\cdots, (P_N,\\hat{J}_N)\\,)\\Big]$ où $f((p_0,\\hat{j_0},\\cdots, (p_N,\\hat{j_N})) = \\mathbb{1}_{min(p_0,\\cdots,x_N)<0}$\n",
        "\n",
        "On simule donc une trajectoire de la chaîne de Markov $(P_n,\\hat{J_n})_{n \\in \\mathbb{N}}$ jusqu'à n = N.\n",
        "\n",
        "On choisit comme fonction de poids $G$ une fonction qui favorise les trajectoires où le prix $P_n$ est bas : $G_k(P_{0:k}) = exp(-\\mu P_k)$. Il va falloir ajuster le paramètre $\\mu \\in \\mathbb{R}^+$.\n",
        "\n",
        "Une autre possibilité aurait été de choisir une fonction $G$ qui favorise les trajectoires croissantes, de la forme $G_k(P_{0:k}) = exp(-\\mu (P_k-P_{k-1})$. Dans notre cas c'est une très mauvaise idée, car une trajectoire qui vient de descendre aura tendance à remonter ensuite. On sélectionnerait donc les trajectoires qui ont le plus de chance de monter au prochain saut, ce qui ne nous aiderait pas du tout à atteindre un prix négatif."
      ]
    },
    {
      "cell_type": "code",
      "metadata": {
        "id": "9lum8xK7gq-O",
        "colab_type": "code",
        "colab": {}
      },
      "source": [
        "P0 = 35\n",
        "T = 4*60*60\n",
        "lamb = 1/300\n",
        "N=100\n",
        "alpha = -0.875\n",
        "\n",
        "saut_1 = lambda x: np.ones(shape=x) #correspond à m=1\n",
        "saut_2 = lambda x: np.random.choice([1, 2, 3], size=x, replace=True, p=np.array([1/2, 1/3, 1/6])) #correspond à m=3\n",
        "saut_1_vect = lambda x,y : np.ones(shape=(x,y))\n",
        "saut_2_vect = lambda x,y: np.random.choice([1, 2, 3], size=(x,y), replace=True, p=np.array([1/2, 1/3, 1/6])) "
      ],
      "execution_count": 0,
      "outputs": []
    },
    {
      "cell_type": "code",
      "metadata": {
        "id": "fGPAnuNOJuZ1",
        "colab_type": "code",
        "colab": {}
      },
      "source": [
        "def part_interaction(N,saut,P0,M,alpha,mu):\n",
        "    #mu: paramètre des poids G_p\n",
        "    # Tirages de M x N v.a. suivant la loi \"saut\" et de MxN v.a. delta_n représentant le changement de signe du saut par rapport au signe du saut précédent\n",
        "    # seront utilisees pour construire les chaînes de Markov\n",
        "    xi= saut(M, N)   #N: horizon temporel (nombre de sauts)\n",
        "    delta = -1+2*np.random.binomial(1,(1+alpha)/2,size=(M,N-1))\n",
        "\n",
        "    ###############################################################################\n",
        "    ## En ponderant les trajectoires hautes : Estimation via G(X)=e^{alpha X_p}\n",
        "    ###############################################################################\n",
        "\n",
        "    # P stocke TOUTES LES VALEURS pour chacune des M chaines, dans l'optique du calcul de G_p \n",
        "    # J_hat stocke la dernière valeur du signe de saut (saut vers le bas ou vers le haut) pour chacune des M chaînes\n",
        "    P = np.zeros((M,N))\n",
        "\n",
        "    J_hat = -1+2*np.random.binomial(1,0.5,size=M) #le premier saut est vers le bas ou vers le haut avec la même probabilité\n",
        "\n",
        "    # On initialise avec la valeur du prix après le premier saut\n",
        "    P[:,0] = P0+J_hat*xi[:,0]\n",
        "        \n",
        "    facteurDroite = 1 #produit des moyennes des pondérations à chaque itération\n",
        "\n",
        "    for k in range(N-1):\n",
        "                \n",
        "        weights = np.exp(-mu*P[:,k])\n",
        "        \n",
        "        facteurDroite *= np.mean(weights)\n",
        "        \n",
        "        weights = weights/np.sum(weights)\n",
        "\n",
        "        I = np.random.choice(np.arange(M),size=M,replace=True,p=weights)\n",
        "        \n",
        "        #sélection\n",
        "        P = P[I,:]\n",
        "        J_hat=J_hat[I]\n",
        "\n",
        "        #mutation\n",
        "\n",
        "        J_hat=J_hat*delta[:,k]\n",
        "        P[:,k+1] = P[:,k] +xi[:,k+1]*J_hat\n",
        "\n",
        "    print(\"prix final=\",P[:10,-1]) #pour ajuster mu; il faut que le prix final soit souvent négatif mais pas qu'il parte trop loin dans les négatifs\n",
        "    tabFacteursGauche = np.exp(mu*np.sum(P[:,:-1],axis=1)) #tableau des 1/(\\prod_{k=0}^{N-2} G_k)\n",
        "    proba_negatif = np.sum(tabFacteursGauche[np.min(P,axis=1)<0])/M * facteurDroite\n",
        "    return proba_negatif"
      ],
      "execution_count": 0,
      "outputs": []
    },
    {
      "cell_type": "code",
      "metadata": {
        "id": "jmzAzzB5roI-",
        "colab_type": "code",
        "colab": {}
      },
      "source": [
        "#Monte-Carlo naïf - Méthode 1\n",
        "\n",
        "def Q3_proba_negatif(N,saut,P0,M,alpha): \n",
        "    liste_px_inf_0 = np.zeros(M)\n",
        "    for i in range(M):\n",
        "        increments = saut(N)\n",
        "        signes = -1+2*np.random.binomial(1,(1+alpha)/2,size=N)\n",
        "\n",
        "        signes[0] = -1+np.random.binomial(1,0.5)*2\n",
        "\n",
        "        signes = np.cumprod(signes)\n",
        "        prix = P0 +np.cumsum(increments*signes)\n",
        "\n",
        "        if np.min(prix)<0:\n",
        "            liste_px_inf_0[i] = 1\n",
        "        else:\n",
        "            liste_px_inf_0[i] = 0\n",
        "    return np.mean(liste_px_inf_0)\n"
      ],
      "execution_count": 0,
      "outputs": []
    },
    {
      "cell_type": "code",
      "metadata": {
        "id": "aS7A202Xyw1W",
        "colab_type": "code",
        "outputId": "b315739f-1e8b-4170-aaa9-69a14f20d222",
        "colab": {
          "base_uri": "https://localhost:8080/",
          "height": 51
        }
      },
      "source": [
        "M= int(1e5)\n",
        "P0= 35\n",
        "N=100\n",
        "mu = 0.4/P0 #ajusté empiriquement\n",
        "\n",
        "#proba_negatif = Q3_proba_negatif(N,saut_2,P0,M,alpha)\n",
        "proba_negatif = part_interaction(N,saut_2_vect,P0,M,alpha,mu)\n",
        "print(proba_negatif)\n",
        "#Pour P0=10 et m=3 et M=10^5 et N=100, donne 0.2262 avec MC naif\n",
        "#Donne 0.2331 avec méthode particules en interaction (mu=0.03/P0)\n",
        "#pour P0=35, particules en interaction donne 5.027933935719282e-05"
      ],
      "execution_count": 0,
      "outputs": [
        {
          "output_type": "stream",
          "text": [
            "prix final= [-10.  15.  -3.  -3.   6.  -4.  -2.  -7.   0.  -5.]\n",
            "2.8925384894140467e-05\n"
          ],
          "name": "stdout"
        }
      ]
    },
    {
      "cell_type": "markdown",
      "metadata": {
        "id": "59n-1VM-jxH7",
        "colab_type": "text"
      },
      "source": [
        "### Estimation de quantiles du prix final après N sauts"
      ]
    },
    {
      "cell_type": "code",
      "metadata": {
        "id": "oGOBHd3zg3bq",
        "colab_type": "code",
        "colab": {}
      },
      "source": [
        "#Quantile simple \n",
        "\n",
        "\n",
        "def Quantile_naif_2(seuil,N,saut,P0,M,alpha):\n",
        "\n",
        "    liste_P_t = np.zeros(M)\n",
        "    for i in range(M):\n",
        "        signes = -1+2*np.random.binomial(1,(1+alpha)/2,size=N)\n",
        "        signes[0] = -1+np.random.binomial(1,0.5)*2\n",
        "        signes = np.cumprod(signes)\n",
        "        increments = saut(N)\n",
        "        \n",
        "        liste_P_t[i] = np.sum(increments*signes)+P0 \n",
        "    liste_P_t = np.sort(liste_P_t)\n",
        "    return liste_P_t[int(np.ceil(M*seuil))-1],liste_P_t[int(np.ceil(M*(1-seuil)))-1]"
      ],
      "execution_count": 0,
      "outputs": []
    },
    {
      "cell_type": "code",
      "metadata": {
        "id": "BocEYFqCsnWW",
        "colab_type": "code",
        "outputId": "d52fd099-8fd3-422a-a274-d064e2fa4294",
        "colab": {
          "base_uri": "https://localhost:8080/",
          "height": 34
        }
      },
      "source": [
        "seuil = 1e-4\n",
        "M=int(1e4)\n",
        "nbIter = 10\n",
        "quantiles = np.zeros((nbIter,2))\n",
        "\n",
        "for i in range(nbIter):\n",
        "    quantiles[i][0],quantiles[i][1] = Quantile_naif_2(seuil,N,saut_1,P0,M,alpha)\n",
        "\n",
        "estimateur_quantiles = np.mean(quantiles,axis=0)\n",
        "erreur = np.std(quantiles,axis=0)\n",
        "print(\"Quantiles de niveau {} : ({} +/ {:08.7f}, {} +/ {})\".format(alpha,estimateur_quantiles[0],erreur[0],estimateur_quantiles[1],erreur[1]))"
      ],
      "execution_count": 0,
      "outputs": [
        {
          "output_type": "stream",
          "text": [
            "Quantiles de niveau -0.875 : (24.2 +/ 0.9797958971132713, 45.4 +/ 1.2)\n"
          ],
          "name": "stdout"
        }
      ]
    },
    {
      "cell_type": "code",
      "metadata": {
        "id": "wXRHajmTcG6A",
        "colab_type": "code",
        "outputId": "3a673ff5-3af3-4959-b93f-35d98cf1ef23",
        "colab": {
          "base_uri": "https://localhost:8080/",
          "height": 34
        }
      },
      "source": [
        "print(\"Quantiles de niveau {} : ({} +/ {:04.3f}, {} +/ {})\".format(alpha,estimateur_quantiles[0],erreur[0],estimateur_quantiles[1],erreur[1]))"
      ],
      "execution_count": 0,
      "outputs": [
        {
          "output_type": "stream",
          "text": [
            "Quantiles de niveau -0.875 : (24.2 +/ 0.980, 45.4 +/ 1.2)\n"
          ],
          "name": "stdout"
        }
      ]
    },
    {
      "cell_type": "markdown",
      "metadata": {
        "id": "GiQmq9gl0gSv",
        "colab_type": "text"
      },
      "source": [
        "### Limite macroscopique"
      ]
    },
    {
      "cell_type": "code",
      "metadata": {
        "id": "1nNzPWRg0_Xp",
        "colab_type": "code",
        "colab": {}
      },
      "source": [
        "#Monte-Carlo \n",
        "\n",
        "def Q3_proba_negatif(lamb,T,saut,P0,M,alpha): \n",
        "    liste_px_inf_0 = np.zeros(M)\n",
        "    for i in range(M):\n",
        "        N = np.random.poisson(lamb*T)\n",
        "        increments = saut(N)\n",
        "        signes = -1+2*np.random.binomial(1,(1+alpha)/2,size=N)\n",
        "        signes[0] = -1+np.random.binomial(1,0.5)*2\n",
        "        signes = np.cumprod(signes)\n",
        "        prix = P0 +np.cumsum(increments*signes)\n",
        "        if np.min(prix)<0:\n",
        "            liste_px_inf_0[i] = 1\n",
        "        liste_px_inf_0[i] = 0\n",
        "    return np.mean(liste_px_inf_0)"
      ],
      "execution_count": 0,
      "outputs": []
    },
    {
      "cell_type": "code",
      "metadata": {
        "id": "kxQmSzyFtE0c",
        "colab_type": "code",
        "outputId": "b109bb19-b278-4b76-a6d5-cdc492997412",
        "colab": {
          "base_uri": "https://localhost:8080/",
          "height": 34
        }
      },
      "source": [
        "T = 8*250*24*60*60\n",
        "lamb = 1/300\n",
        "M = int(1e3)\n",
        "P0=1000\n",
        "\n",
        "proba_negatif = Q3_proba_negatif(lamb,T,saut_2,P0,M,alpha)\n",
        "print(proba_negatif)"
      ],
      "execution_count": 0,
      "outputs": [
        {
          "output_type": "stream",
          "text": [
            "0.0\n"
          ],
          "name": "stdout"
        }
      ]
    },
    {
      "cell_type": "code",
      "metadata": {
        "id": "ztdOI3dq2Lwj",
        "colab_type": "code",
        "colab": {}
      },
      "source": [
        ""
      ],
      "execution_count": 0,
      "outputs": []
    }
  ]
}