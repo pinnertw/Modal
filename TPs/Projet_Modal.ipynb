{
 "cells": [
  {
   "cell_type": "markdown",
   "metadata": {
    "colab_type": "text",
    "id": "fYxLxoxbt1AW"
   },
   "source": [
    "**Tester le code avec des événements plus probable!!!**\n",
    "# To do list:\n",
    "* Q1-1\n",
    "#####* Valeurs théoriques? (Peng-Wei)\n",
    "#####* Splitting (Diane)\n",
    "#####* Echantillonage d'importance (Peng-Wei)\n",
    "#####* Chaîne de Markov -> Regarder l'article FodraPhamMicrostructure2015\n",
    "\n",
    "* Q1-2\n",
    "#####* Quantile processus AR(1) (comme dans calcul liste_a Q1-1) (Diane)\n",
    "#####* Quantile échantillonnage d'importance (Diane)\n",
    "* Q2\n",
    "#####* La même chose mais il faut prendre en compte les différents instants de saut. Donc ça change tout.\n",
    "#####* M-C (Peng-Wei\n",
    "\n",
    "* Q\n",
    "* Q3\n",
    "# Finished:\n",
    "* Q1\n",
    "#####* Monte-Carlo naïve\n"
   ]
  },
  {
   "cell_type": "code",
   "execution_count": 1,
   "metadata": {
    "colab": {},
    "colab_type": "code",
    "id": "g1gxAXcgYBTY"
   },
   "outputs": [],
   "source": [
    "import numpy as np\n",
    "import math\n",
    "import matplotlib.pyplot"
   ]
  },
  {
   "cell_type": "markdown",
   "metadata": {
    "colab_type": "text",
    "id": "CN5LC1dmz9LE"
   },
   "source": [
    "## Q1"
   ]
  },
  {
   "cell_type": "markdown",
   "metadata": {
    "colab_type": "text",
    "id": "a6x5boyyXei6"
   },
   "source": [
    "Dans cette première modélisation simplifiée, on considère donc que le prix $P_t$ est un processus de Poisson de paramètres $\\lambda, \\nu$ où $\\nu$ est la loi des incréments $J_n$. \n",
    "\n",
    "Pour un temps d'attente moyen entre deux sauts de $300s$, on prend $\\lambda = \\dfrac{1}{300}$\n"
   ]
  },
  {
   "cell_type": "code",
   "execution_count": 0,
   "metadata": {
    "colab": {
     "base_uri": "https://localhost:8080/",
     "height": 136
    },
    "colab_type": "code",
    "id": "H2sCzewwf9nK",
    "outputId": "a2e1a124-82b8-43f0-8d98-ab17a9eb7b2c"
   },
   "outputs": [
    {
     "name": "stdout",
     "output_type": "stream",
     "text": [
      "Test : Quelle est la méthode la plus éfficace pour créer des v.a. prenant valeurs dans {-1, 1} de proba 0.5 pour chaque\n",
      "Binomial\n",
      "5 loops, best of 3: 2.9 ms per loop\n",
      "Uniform\n",
      "5 loops, best of 3: 2.54 ms per loop\n",
      "Random choice(numpy)\n",
      "5 loops, best of 3: 2.38 ms per loop\n"
     ]
    }
   ],
   "source": [
    "print(\"Test : Quelle est la méthode la plus éfficace pour créer des v.a. prenant valeurs dans {-1, 1} de proba 0.5 pour chaque\")\n",
    "print(\"Binomial\")\n",
    "%timeit -n 5 np.random.binomial(n = 1, p = 0.5, size = int(1e5)) * 2 - 1\n",
    "\n",
    "print(\"Uniform\")\n",
    "def propre_binomial(size):\n",
    "  x = np.random.uniform(size=size)\n",
    "  x[x <= 0.5] = -1\n",
    "  x[x > 0.5] = 1\n",
    "  return x\n",
    "%timeit -n 5 propre_binomial(int(1e5))\n",
    "\n",
    "print(\"Random choice(numpy)\")\n",
    "%timeit -n 5 np.random.choice([-1, 1], size=int(1e5), p=[1/2, 1/2])"
   ]
  },
  {
   "cell_type": "code",
   "execution_count": 0,
   "metadata": {
    "colab": {},
    "colab_type": "code",
    "id": "t4VEAteSz9sG"
   },
   "outputs": [],
   "source": [
    "# On identifie le processus par le processus de Poisson composé, qui finit à un temps fixé T\n",
    "# On crée des fonctions pour modéliser le processus.\n",
    "\n",
    "saut_1 = lambda x: np.random.choice([-1, 1], size=x, p=[0.5, 0.5])\n",
    "saut_2 = lambda x: np.random.choice([-3, -2, -1, 1, 2, 3], size=x, p=0.5*np.array([1/6, 1/3, 1/2, 1/2, 1/3, 1/6]))\n",
    "P0 = 35\n",
    "T = 4*60*60\n",
    "lamb = 1/300"
   ]
  },
  {
   "cell_type": "markdown",
   "metadata": {
    "colab_type": "text",
    "id": "XO0iJelvzaxI"
   },
   "source": [
    "### Q1 -1 Trajectoire"
   ]
  },
  {
   "cell_type": "code",
   "execution_count": 0,
   "metadata": {
    "colab": {
     "base_uri": "https://localhost:8080/",
     "height": 68
    },
    "colab_type": "code",
    "id": "6HvpiRMkaRUv",
    "outputId": "a5965310-9f93-45cc-d0d0-c2222fcd5949"
   },
   "outputs": [
    {
     "name": "stdout",
     "output_type": "stream",
     "text": [
      "0.02106\n",
      "CPU times: user 5.12 s, sys: 1.01 ms, total: 5.12 s\n",
      "Wall time: 5.13 s\n"
     ]
    }
   ],
   "source": [
    "## Version Diane Naif\n",
    "%%time\n",
    "\n",
    "P0 = 15 #35 en théorie mais on commence par tester avec plus bas\n",
    "T = 4*60*60 #conversion en secondes\n",
    "lamb = 1/300\n",
    "M = int(1e5)\n",
    "\n",
    "#On définit nu\n",
    "\n",
    "a = [np.array([-1,1]),np.array([-3,-2,-1,1,2,3])]\n",
    "pr = [np.array([0.5,0.5]),0.5*np.array([1./6.,1./3,1./2.,1./2.,1./3.,1./6.])]\n",
    "\n",
    "#Choix de m=1 ou m=2\n",
    "k=0\n",
    "\n",
    "def liste_prix_sauts(lamb,T,k,P0):\n",
    "    N = np.random.poisson(lamb*T) #le nombre de sauts suit une loi de Poisson de paramètre lambda*T\n",
    "    liste_increments = np.random.choice(a[k],size=N,replace=True,p=pr[k])\n",
    "    liste_prix = P0 + np.cumsum(liste_increments)\n",
    "\n",
    "    return liste_prix\n",
    "\n",
    "\n",
    "def MC_naif(M,lamb,T,k,P0): #k=0 si m=1, k=1 si m=2\n",
    "    liste_bool_inf_0 = np.zeros(M) \n",
    "\n",
    "    for l in range(M):\n",
    "        liste_prix = liste_prix_sauts(lamb,T,k,P0) #prix juste après les sauts\n",
    "        if np.min(liste_prix) <0:\n",
    "            liste_bool_inf_0[l] = 1\n",
    "\n",
    "    proba_prix_negatif = np.mean(liste_bool_inf_0)\n",
    "    return proba_prix_negatif\n",
    "\n",
    "proba_prix_negatif = MC_naif(M,lamb,T,k,P0)\n",
    "print(proba_prix_negatif)\n"
   ]
  },
  {
   "cell_type": "code",
   "execution_count": 0,
   "metadata": {
    "colab": {},
    "colab_type": "code",
    "id": "4Ljp4VlmzfJ4"
   },
   "outputs": [],
   "source": [
    "###Version Peng-Wei naif avec astuce\n",
    "\n",
    "from numba import jit\n",
    "\n",
    "@jit(nopython=True)\n",
    "def inf_echantillon(N, J, res, P0): # Function is compiled to machine code when called the first time\n",
    "  for i in range(len(N) - 1):\n",
    "    somme = P0\n",
    "  \n",
    "    for j in range(N[i], N[i + 1]):\n",
    "      somme += J[j]\n",
    "      if somme < 0:\n",
    "        res[i] = True\n",
    "        break\n",
    "  return res\n",
    "\n",
    "def trajectoire(P0, T, lamb, saut, size):\n",
    "  N = np.random.poisson(lam=lamb * T, size=size + 1)\n",
    "  N[0] = 0\n",
    "  N = N.cumsum()                    # La valeur N[i] - N[i - 1] est égale à Ni pour le i-ième échantillon\n",
    "                                    # Donc la somme des sauts entre indice N[i] et N[i + 1] - 1 suit la loi voulue\n",
    "  J = saut(N[-1] + 1)\n",
    "  res = np.zeros(size, dtype=bool)\n",
    "  res = inf_echantillon(N, J, res, P0)\n",
    "  proba = np.mean(res)\n",
    "  return proba"
   ]
  },
  {
   "cell_type": "code",
   "execution_count": 0,
   "metadata": {
    "colab": {
     "base_uri": "https://localhost:8080/",
     "height": 68
    },
    "colab_type": "code",
    "id": "gL8w_R_83lQb",
    "outputId": "fa8fad53-5c78-4ec8-9cc5-1638bba4dd47"
   },
   "outputs": [
    {
     "name": "stdout",
     "output_type": "stream",
     "text": [
      "0.0214391\n",
      "CPU times: user 16.6 s, sys: 296 ms, total: 16.9 s\n",
      "Wall time: 17 s\n"
     ]
    }
   ],
   "source": [
    "%%time\n",
    "print(trajectoire(P0, T, lamb, saut_1, size=int(1e7)))\n",
    "\n",
    "#Donne 0.0214804 pour P0=15"
   ]
  },
  {
   "cell_type": "code",
   "execution_count": 0,
   "metadata": {
    "colab": {},
    "colab_type": "code",
    "id": "xEpbJndTyvwM"
   },
   "outputs": [],
   "source": [
    "## Splitting et MCMC (Diane)\n",
    "\n",
    "#On note Phi_T l'inf des prix entre 0 et T\n",
    "\n",
    "def NiveauxSplitting(a,seuil,n,lamb,T,p,P0,k,J,pr):\n",
    "\n",
    "    \"\"\"\n",
    "    Fonction qui renvoie une estimation des niveaux\n",
    "    de splitting a_1, a_2, ..., a_k tels que P(Phi_T <= a_k | Phi_T <= a_{k-1}) = 0.1 = seuil\n",
    "    Ces niveaux sont des quantiles d'une loi conditionnelle.\n",
    "    On utilise l'inversion de la fonction de repartition empirique de \n",
    "    cette loi afin d'estimer un quantile par\n",
    "    le quantile empirique.\n",
    "    On a a = a_k < a_{k-1} < ... < a_0= + infini (dans notre problème, a = 0)\n",
    "    La fonction renvoie quantiles = [a_1, ..., a_k]\n",
    "    \"\"\"\n",
    "    ## Estimation du premier niveau a_1: c'est le \n",
    "    ## quantile d'une loi non conditionnelle.\n",
    "    ## On l'estime ici par la methode ergodique\n",
    "\n",
    "    liste_Phi = np.zeros(n)\n",
    "\n",
    "    liste_sauts = liste_sts(lamb,T,J,pr)\n",
    "\n",
    "    for l in range(n):\n",
    "        coloriage = liste_sauts[:,np.random.binomial(1,p,size = len(liste_sauts[0])) ==1]\n",
    "\n",
    "        liste_sauts_tilde = liste_sts((1-p)*lamb,T,J,pr)\n",
    "        new_liste_sauts = np.concatenate((coloriage,liste_sauts_tilde),axis=1)\n",
    "        new_liste_sauts = tri_temps(new_liste_sauts)\n",
    "\n",
    "        liste_sauts = new_liste_sauts\n",
    "        liste_Phi[l] = Phi(liste_sauts,P0)\n",
    "\n",
    "    liste_Phi.sort()\n",
    "\n",
    "    quantiles = np.array([liste_Phi[int(np.ceil(seuil*n))-1]])    \n",
    "\n",
    "    while quantiles[-1] > a:\n",
    "        print(\"Inside while\")\n",
    "        liste_Phi = np.zeros(n)\n",
    "\n",
    "        \n",
    "        while Phi(liste_sauts,P0)>=quantiles[-1]:\n",
    "            liste_sauts = liste_sts(lamb,T,J,pr)\n",
    "        ## Simulation du processus AR(1) conditionnel\n",
    "    \n",
    "        for l in range(n):\n",
    "            coloriage = liste_sauts[:,np.random.binomial(1,p,size = len(liste_sauts[0])) ==1]\n",
    "\n",
    "            liste_sauts_tilde = liste_sts((1-p)*lamb,T,J,pr)\n",
    "            new_liste_sauts = np.concatenate((coloriage,liste_sauts_tilde),axis=1)\n",
    "            new_liste_sauts = tri_temps(new_liste_sauts)\n",
    "\n",
    "            if Phi(new_liste_sauts,P0)<quantiles[-1]:\n",
    "                liste_sauts = new_liste_sauts\n",
    "\n",
    "            liste_Phi[l] = Phi(liste_sauts,P0)\n",
    "    \n",
    "        liste_Phi.sort()\n",
    "        quantiles = np.append(quantiles, liste_Phi[int(np.ceil(seuil*n))-1] )\n",
    "\n",
    "    \n",
    "    ## On selectionne les niveaux a_{k-1},..., a_1 strictement au dessus de a\n",
    "    quantiles = quantiles[:-1]\n",
    "    ## On rajoute a\n",
    "    quantiles = np.append(quantiles,a)\n",
    "\n",
    "    return quantiles\n",
    "\n",
    "\n",
    "def Phi(liste_sauts,P0):#fonction qui renvoie l'inf des valeurs de X aux instants de saut\n",
    "    #ie l'inf de P0+cumsum(incréments) \n",
    "    if len(liste_sauts[0]) == 0:\n",
    "        return P0\n",
    "    liste_prix = P0+np.cumsum(liste_sauts[1,:])\n",
    "    prix_min = np.min(liste_prix)\n",
    "    return prix_min\n",
    "\n",
    "def liste_sts(lbda,T,J,pr):\n",
    "    \n",
    "    N = np.random.poisson(lbda*T)\n",
    "    liste_temps_sauts = np.random.uniform(low = 0, high = T, size = N)\n",
    "    liste_temps_sauts_triee = [np.sort(liste_temps_sauts)]\n",
    "    liste_increments = [np.random.choice(J[k],size=N,replace=True,p=pr[k])]\n",
    "    #renvoie un array de N colonnes et 2 lignes: 1ere ligne pour les temps des sauts (T_n), deuxième ligne pour leurs amplitudes (J_n)\n",
    "    return np.concatenate((liste_temps_sauts_triee,liste_increments),axis=0)\n",
    "\n",
    "def tri_temps(new_liste_sauts):\n",
    "    ordre = [new_liste_sauts[0,:].argsort()]\n",
    "    liste_sauts_triee = np.take_along_axis(new_liste_sauts, np.concatenate((ordre,ordre),axis=0), axis=1) \n",
    "    return liste_sauts_triee\n",
    "\n",
    "\n",
    "def MCMC(M,p,lamb,liste_a,P0,k): \n",
    "\n",
    "    liste_pi = np.zeros(len(liste_a)) #estimateurs des probabilités conditionnelles\n",
    "\n",
    "    liste_indicatrices = np.zeros(M,dtype=bool) \n",
    "    \"\"\"\n",
    "    le k-ieme élém. de liste_indicatrices vaut True si le prix devient négatif avant l'instant T lors du k-ieme essai; False sinon\n",
    "    \"\"\"\n",
    "\n",
    "    #Loi non conditionnelle\n",
    "    \n",
    "    liste_sauts = liste_sts(lamb,T,J,pr) \n",
    "\n",
    "\n",
    "    for l in range(M):\n",
    "        coloriage = liste_sauts[:,np.random.binomial(1,p,size = len(liste_sauts[0])) ==1]\n",
    "\n",
    "        liste_sauts_tilde = liste_sts((1-p)*lamb,T,J,pr)\n",
    "        new_liste_sauts = np.concatenate((coloriage,liste_sauts_tilde),axis=1)\n",
    "        new_liste_sauts = tri_temps(new_liste_sauts)\n",
    "\n",
    "        liste_sauts = new_liste_sauts\n",
    "        liste_indicatrices[l] = (Phi(liste_sauts,P0)<liste_a[0])\n",
    "\n",
    "    liste_pi[0] = np.mean(liste_indicatrices)\n",
    "    \n",
    "        \n",
    "\n",
    "\n",
    "    for k in range(1,len(liste_a)):\n",
    "        liste_indicatrices = np.zeros(M,dtype=bool)  \n",
    "\n",
    "        #Initialisation \n",
    "\n",
    "        while Phi(liste_sauts,P0)>=liste_a[k-1]:\n",
    "          \n",
    "            liste_sauts = liste_sts(lamb,T,J,pr)\n",
    "\n",
    "      \n",
    "        for l in range(M):\n",
    "            coloriage = liste_sauts[:,np.random.binomial(1,p,size = len(liste_sauts[0])) ==1]\n",
    "\n",
    "            liste_sauts_tilde = liste_sts((1-p)*lamb,T,J,pr)\n",
    "            new_liste_sauts = np.concatenate((coloriage,liste_sauts_tilde),axis=1)\n",
    "            new_liste_sauts = tri_temps(new_liste_sauts)\n",
    "\n",
    "            if Phi(new_liste_sauts,P0)< liste_a[k-1]:\n",
    "                liste_sauts = new_liste_sauts\n",
    "            liste_indicatrices[l] = (Phi(liste_sauts,P0) < liste_a[k])\n",
    "\n",
    "\n",
    "        liste_pi[k] = np.mean(liste_indicatrices)\n",
    "    \n",
    "    print(liste_pi)#debug\n",
    "\n",
    "    proba_prix_negatif = np.prod(liste_pi)\n",
    "        \n",
    "    return proba_prix_negatif"
   ]
  },
  {
   "cell_type": "code",
   "execution_count": 0,
   "metadata": {
    "colab": {
     "base_uri": "https://localhost:8080/",
     "height": 51
    },
    "colab_type": "code",
    "id": "NbRoSLDPkPMB",
    "outputId": "a1d4a42d-d5a5-4d05-dec4-84afcb79028e"
   },
   "outputs": [
    {
     "name": "stdout",
     "output_type": "stream",
     "text": [
      "Inside while\n",
      "[11.  0.]\n"
     ]
    }
   ],
   "source": [
    "P0 = 35 \n",
    "T = 4*60*60 #conversion en secondes\n",
    "lamb =  1/300 \n",
    "n = int(1e4) \n",
    "\n",
    "#On définit nu\n",
    "\n",
    "J = [np.array([-1,1]),np.array([-3,-2,-1,1,2,3])]\n",
    "pr = [np.array([0.5,0.5]),0.5*np.array([1./6.,1./3,1./2.,1./2.,1./3.,1./6.])]\n",
    "a=0\n",
    "\n",
    "#Choix de m=1 ou m=2\n",
    "k=1\n",
    "\n",
    "#Choix des paramètres pour les niveaux de splitting et la simulation par chaîne de Markov\n",
    "seuil = 0.05\n",
    "p=0.5\n",
    "\n",
    "liste_a = NiveauxSplitting(a,seuil,n,lamb,T,p,P0,k,J,pr)\n",
    "print(liste_a)\n",
    "#Donne [22. 14.  8.  3.  0.]"
   ]
  },
  {
   "cell_type": "code",
   "execution_count": 0,
   "metadata": {
    "colab": {
     "base_uri": "https://localhost:8080/",
     "height": 51
    },
    "colab_type": "code",
    "id": "dKnmd80stXp4",
    "outputId": "eca85272-acc4-4206-b366-7b3c4334a084"
   },
   "outputs": [
    {
     "name": "stdout",
     "output_type": "stream",
     "text": [
      "[0.04585 0.09552]\n",
      "0.004379592\n"
     ]
    }
   ],
   "source": [
    "M = int(1e5)\n",
    "proba_prix_negatif = MCMC(M, p,lamb,liste_a,P0,k)\n",
    "print(proba_prix_negatif)\n",
    "\n",
    "#Réponse pour m=1 ie k=0 et P0=35 : proba = 3.333674930684664e-07"
   ]
  },
  {
   "cell_type": "markdown",
   "metadata": {
    "colab_type": "text",
    "id": "cCgK9NrFzQfO"
   },
   "source": [
    "###  Q1 - 2 Quantile\n"
   ]
  },
  {
   "cell_type": "code",
   "execution_count": 0,
   "metadata": {
    "colab": {},
    "colab_type": "code",
    "id": "u2XIYknCZpWw"
   },
   "outputs": [],
   "source": [
    "#Peng-Wei naïf rapide\n",
    "\n",
    "# Poisson composé naïf\n",
    "def Poisson_compose(P0, T, lamb, saut, size):\n",
    "  # saut : une fonction qui prend la taille de sortie comme entrée pour les sauts.\n",
    "  N = np.random.poisson(lam=lamb * T, size=size + 1)\n",
    "  N[0] = 0\n",
    "  N = np.cumsum(N)                  # La valeur N[i] - N[i - 1] est égale à N pour le i-ième échantillon\n",
    "                                    # Donc la somme des sauts entre indice N[i] + 1 et N[i + 1] suit la loi voulue\n",
    "  J = saut(N[-1] + 1)               # Sauts\n",
    "  J = np.cumsum(J)\n",
    "  M = J[N[1:]] - J[N[:-1]]          # On veut la somme entre l'indice N[i] + 1 et N[i + 1]\n",
    "  return P0 + M # échantillon de taille (size)\n",
    "\n",
    "def quantile(echantillion, size, quant):\n",
    "  index_bot = int(math.ceil(size * quant))\n",
    "  index_top = int(math.ceil(size * (1 - quant)))\n",
    "  echantillion.partition((index_bot, index_top))\n",
    "  return echantillion[index_bot], echantillion[index_top]\n",
    "\n",
    "def Question1_2_naive(size, quant, saut, P0, T, lamb):\n",
    "  return quantile(Poisson_compose(P0, T, lamb, saut, size), size, quant)"
   ]
  },
  {
   "cell_type": "code",
   "execution_count": 0,
   "metadata": {
    "colab": {
     "base_uri": "https://localhost:8080/",
     "height": 68
    },
    "colab_type": "code",
    "id": "tc9j6LwpcvS_",
    "outputId": "4350e209-2e4c-428a-9c15-438885def2da"
   },
   "outputs": [
    {
     "name": "stdout",
     "output_type": "stream",
     "text": [
      "(-6, 46)\n",
      "CPU times: user 1.41 s, sys: 4 ms, total: 1.41 s\n",
      "Wall time: 1.42 s\n"
     ]
    }
   ],
   "source": [
    "%%time\n",
    "size = int(1e6)\n",
    "quant = 1e-4\n",
    "print(Question1_2_naive(size, quant, saut_1, P0, T, lamb))\n",
    "\n",
    "#Donne 9 et 61 pour P0 = 35 et m=1 et niveau = 10^-4 \n",
    "#Donne 5 et 65 pour P0 = 35 et m=1 et niveau = 10^-5 \n",
    "#Donne 3 et 68 pour P0 = 35 et m=1 et niveau = 10^-6\n",
    "#Donne -13 et 83 pour P0 = 35 et m=2 et niveau = 10^-4 \n",
    "#Donne -21 et 92 pour P0 = 35 et m=2 et niveau = 10^-5\n",
    "#Donne -25 et 94 pour P0 = 35 et m=2 et niveau = 10^-6"
   ]
  },
  {
   "cell_type": "code",
   "execution_count": 0,
   "metadata": {
    "colab": {},
    "colab_type": "code",
    "id": "b7uFf__VdhIw"
   },
   "outputs": [],
   "source": [
    "\n",
    "#Diane MCMC/AR(1) (comme pour les calculs de NiveauxSplitting en Q1 -1)\n",
    "\n",
    "def Quantile_ergodique(seuil,n,lamb,T,p,P0,k,J,pr): #renvoie le quantile de niveau \"seuil\" du processus de poisson composé\n",
    "\n",
    "    liste_prix_final = np.zeros(n)\n",
    "\n",
    "    liste_sauts = liste_sts(lamb,T,J,pr) \n",
    "\n",
    "    for l in range(n):\n",
    "        coloriage = liste_sauts[:,np.random.binomial(1,p,size = len(liste_sauts[0])) ==1]\n",
    "\n",
    "        liste_sauts_tilde = liste_sts((1-p)*lamb,T,J,pr)\n",
    "        new_liste_sauts = np.concatenate((coloriage,liste_sauts_tilde),axis=1)\n",
    "        liste_sauts = tri_temps(new_liste_sauts)\n",
    "\n",
    "        liste_prix_final[l] = np.cumsum(liste_sauts[1,:])[-1] +P0\n",
    "\n",
    "    liste_prix_final.sort()\n",
    "  \n",
    "    quantile = liste_prix_final[int(np.ceil(seuil*n))-1]    \n",
    "\n",
    "  \n",
    "    return quantile"
   ]
  },
  {
   "cell_type": "code",
   "execution_count": 0,
   "metadata": {
    "colab": {},
    "colab_type": "code",
    "id": "sbTnHROq57tg"
   },
   "outputs": [],
   "source": [
    "#Diane naïf\n",
    "\n",
    "def Quantile_naif(seuil,n,lamb,T,P0,k,J,pr):\n",
    "\n",
    "    liste_P_t = np.zeros(n)\n",
    "    for i in range(n):\n",
    "        N = np.random.poisson(lamb*T)\n",
    "        increments = np.random.choice(J[k],size=N,replace=True,p=pr[k])\n",
    "        \n",
    "        liste_P_t[i] = np.sum(increments)+P0\n",
    "    liste_P_t = np.sort(liste_P_t)\n",
    "    return liste_P_t[int(np.ceil(n*seuil))-1]"
   ]
  },
  {
   "cell_type": "code",
   "execution_count": 0,
   "metadata": {
    "colab": {
     "base_uri": "https://localhost:8080/",
     "height": 51
    },
    "colab_type": "code",
    "id": "nlfAOhFsZKKd",
    "outputId": "f1f45d8e-85e6-4547-caa7-fb6254c7d2df"
   },
   "outputs": [
    {
     "name": "stdout",
     "output_type": "stream",
     "text": [
      "Quantile de niveau 0.05 : -6.0\n",
      "Quantile de niveau 0.95 : 36.0\n"
     ]
    }
   ],
   "source": [
    "P0 = 15\n",
    "T = 4*60*60 #conversion en secondes\n",
    "lamb =  1/300 \n",
    "n = int(1e5) \n",
    "\n",
    "#On définit nu\n",
    "\n",
    "J = [np.array([-1,1]),np.array([-3,-2,-1,1,2,3])]\n",
    "pr = [np.array([0.5,0.5]),0.5*np.array([1./6.,1./3,1./2.,1./2.,1./3.,1./6.])]\n",
    "a=0\n",
    "\n",
    "#Choix de m=1 (k=0) ou m=2 (k=1)\n",
    "k=1\n",
    "\n",
    "#Choix des paramètres pour les niveaux de splitting et la simulation par chaîne de Markov\n",
    "niveau = 1e-4\n",
    "p=0.5\n",
    "\n",
    "quantileGauche = Quantile_naif(niveau,n,lamb,T,P0,k,J,pr) #mettre Quantile_ergodique(niveau,n,lamb,T,p,P0,k,J,pr) ou Quantile_naif(niveau,n,lamb,T,P0,k,J,pr)\n",
    "quantileDroit = Quantile_naif(1-niveau,n,lamb,T,P0,k,J,pr)\n",
    "print(\"Quantile de niveau {} : {}\".format(niveau,quantileGauche))\n",
    "print(\"Quantile de niveau {} : {}\".format(1-niveau,quantileDroit))\n",
    "\n",
    "#Résultats pour Quantile_ergodique:\n",
    "#Donne 9 et 61 pour P0 = 35 et k=0 et niveau = 10^-4 (c'est à peu près sym/P0 ce qui est rassurant)\n",
    "#Donne 5 et 66 pour P0 = 35 et k=0 et niveau = 10^-5\n",
    "#Donne 5 et 63 pour P0 = 35 et k=0 et niveau = 10^-6 (problème... faut augmenter n?) n : 10^5 -> 10^6 : on trouve 2 et 68 ; OK :D\n",
    "\n",
    "#-15 et 83 pour P0=35 et k=1 et niveau = 10^-4 (sauts plus grands dc on va plus loin, logique; sym/0, logique)\n",
    "#-16 et 90 pour P0=35 et k=1 et niveau = 10^-5\n",
    "#Donne -25 et 97 pour P0 = 35 et k=1 et niveau = 10^-6 (en augmentant n de 10^5 à 10^6)\n",
    "\n",
    "#Résultats Quantile_naïf (plus lent) (n=10^5):\n",
    "#9 et 62\n",
    "#5 et 66\n",
    "#3 et 67\n",
    "#-13 et 84\n",
    "#-22 et 87\n",
    "# -22 et 97(on passe à n=10^6)"
   ]
  },
  {
   "cell_type": "code",
   "execution_count": 0,
   "metadata": {
    "colab": {},
    "colab_type": "code",
    "id": "ky9oTvowbPDM"
   },
   "outputs": [],
   "source": [
    "#Calcul quantile par échantillonnage d'importance\n",
    "#Voir slides amphi 2 p.12 pour calcul quantile avec changement de probabilité\n",
    "#Ensuite voir amphi 3 pour changements de proba Poisson composés\n",
    "#Différence importance sampling/échantillonage d'importance et changement de probabilité ?\n",
    "#Transfo d'Esscher"
   ]
  },
  {
   "cell_type": "markdown",
   "metadata": {
    "colab_type": "text",
    "id": "f6ZpnHtBhElE"
   },
   "source": [
    "###  Q2\n",
    "\n",
    "\n"
   ]
  },
  {
   "cell_type": "code",
   "execution_count": 0,
   "metadata": {
    "colab": {},
    "colab_type": "code",
    "id": "T-ehjru0mzXu"
   },
   "outputs": [],
   "source": [
    "#MC Naif Diane\n",
    "\n",
    "lamb1 = 1/660\n",
    "lamb2 = 1/110\n",
    "\n",
    "def liste_sts2(lbda1,lbda2,T,J,pr):\n",
    "    \n",
    "    N1 = np.random.poisson(lbda1*T)\n",
    "    N2 = np.random.poisson(lbda2*T)\n",
    "    liste_temps_sauts1 = np.random.uniform(low = 0, high = T, size = N1)\n",
    "    liste_temps_sauts2 = np.random.uniform(low = 0, high = T, size = N2)\n",
    "    liste_temps_sauts = [np.concatenate(liste_temps_sauts1,liste_temps_sauts2)]\n",
    "    liste_increments = [np.random.choice(J[k],size=N,replace=True,p=pr[k])]\n",
    "    #renvoie un array de N colonnes et 2 lignes: 1ere ligne pour les temps des sauts (T_n), deuxième ligne pour leurs amplitudes (J_n)\n",
    "    np.concatenate((liste_temps_sauts_triee,liste_increments),axis=0)\n",
    "    return tri_temps()"
   ]
  },
  {
   "cell_type": "code",
   "execution_count": 148,
   "metadata": {
    "colab": {},
    "colab_type": "code",
    "id": "rElL76uEo8BI"
   },
   "outputs": [],
   "source": [
    "#MC Naif PWC\n",
    "\n",
    "def Q2_MC(P0, T, lamb1, lamb2, saut):\n",
    "  # saut : une fonction qui prend la taille de sortie comme entrée pour les sauts.\n",
    "    N1 = np.random.poisson(lam=lamb1 * T)\n",
    "    T1 = np.sort(np.random.uniform(low=0.0, high=T, size=N1))\n",
    "    J1 = saut(N1)\n",
    "\n",
    "    N2 = np.random.poisson(lam=lamb2 * T)\n",
    "    T2 = np.sort(np.random.uniform(low=0.0, high=T, size=N2))\n",
    "\n",
    "    J2_0 = saut_1(1)[0]\n",
    "\n",
    "    somme = P0\n",
    "    index_T2 = 0\n",
    "    for i in range(len(T1)):\n",
    "        while index_T2 < N2 and T2[index_T2] < T1[i]:\n",
    "            somme += J2_0\n",
    "            J2_0 *= -1\n",
    "            index_T2 += 1\n",
    "        somme += J1[i]\n",
    "    return somme                      # 1 échantillon\n",
    "\n",
    "def Q2_MC_n(P0, T, lamb1, lamb2, saut, size):\n",
    "    res = []\n",
    "    for i in range(size):\n",
    "        res.append(Q2_MC(P0, T, lamb1, lamb2, saut))\n",
    "    return np.array(res)"
   ]
  },
  {
   "cell_type": "code",
   "execution_count": 7,
   "metadata": {
    "colab": {},
    "colab_type": "code",
    "id": "Wsej5YbG6mrG"
   },
   "outputs": [],
   "source": [
    "# On identifie le processus par le processus de Poisson composé, qui finit à un temps fixé T\n",
    "# On crée des fonctions pour modéliser le processus.\n",
    "\n",
    "saut_1 = lambda x: np.random.choice([-1, 1], size=x, p=[0.5, 0.5])\n",
    "saut_2 = lambda x: np.random.choice([-3, -2, -1, 1, 2, 3], size=x, p=0.5*np.array([1/6, 1/3, 1/2, 1/2, 1/3, 1/6]))\n",
    "P0 = 35\n",
    "T = 4*60*60\n",
    "lamb1 = 1/660\n",
    "lamb2 = 1/110\n",
    "saut = saut_1"
   ]
  },
  {
   "cell_type": "code",
   "execution_count": 149,
   "metadata": {
    "colab": {},
    "colab_type": "code",
    "id": "Wsej5YbG6mrG"
   },
   "outputs": [
    {
     "data": {
      "text/plain": [
       "array([32, 34, 33, ..., 29, 15, 31])"
      ]
     },
     "execution_count": 149,
     "metadata": {},
     "output_type": "execute_result"
    }
   ],
   "source": [
    "Q2_MC_n(P0, T, lamb1, lamb2, saut_1, int(1e4))"
   ]
  },
  {
   "cell_type": "code",
   "execution_count": 25,
   "metadata": {},
   "outputs": [],
   "source": []
  },
  {
   "cell_type": "code",
   "execution_count": 12,
   "metadata": {},
   "outputs": [
    {
     "data": {
      "text/plain": [
       "array([  490.00205895,   761.00029958,  2397.68248461,  4121.06222689,\n",
       "        4710.62229056,  4736.89308214,  4770.52004289,  5453.48773341,\n",
       "        7890.36592896,  8080.23887538,  8253.25547813,  8325.95039769,\n",
       "        9644.84182391, 10016.40780559, 11609.50886355, 11784.59066359,\n",
       "       12930.21581953])"
      ]
     },
     "execution_count": 12,
     "metadata": {},
     "output_type": "execute_result"
    }
   ],
   "source": [
    "T1"
   ]
  },
  {
   "cell_type": "code",
   "execution_count": 13,
   "metadata": {},
   "outputs": [
    {
     "data": {
      "text/plain": [
       "array([1.38424231e+01, 3.53209736e+02, 4.08300918e+02, 7.02673238e+02,\n",
       "       9.77753586e+02, 1.25364062e+03, 1.38202874e+03, 1.44900166e+03,\n",
       "       1.67489464e+03, 1.91882459e+03, 1.94315634e+03, 2.03995328e+03,\n",
       "       2.50915558e+03, 2.59799469e+03, 2.60505340e+03, 2.62719167e+03,\n",
       "       2.69788007e+03, 3.23581758e+03, 3.39805019e+03, 3.44826411e+03,\n",
       "       3.55314319e+03, 3.62070796e+03, 3.63399441e+03, 3.65257175e+03,\n",
       "       3.66613002e+03, 3.69063062e+03, 3.89497022e+03, 4.00992427e+03,\n",
       "       4.01105917e+03, 4.18006621e+03, 4.18075415e+03, 4.19546304e+03,\n",
       "       4.53486134e+03, 5.03418692e+03, 5.04746705e+03, 5.07864662e+03,\n",
       "       5.15539022e+03, 5.34470524e+03, 5.39521476e+03, 5.43773208e+03,\n",
       "       5.78774684e+03, 5.86522510e+03, 6.13744312e+03, 6.22999100e+03,\n",
       "       6.37182519e+03, 6.43423708e+03, 6.83434100e+03, 6.85522663e+03,\n",
       "       6.90993552e+03, 6.91113006e+03, 6.97817180e+03, 7.05111049e+03,\n",
       "       7.13726377e+03, 7.32918335e+03, 7.44924831e+03, 7.45813661e+03,\n",
       "       7.59204286e+03, 7.74024124e+03, 7.83196659e+03, 8.19684885e+03,\n",
       "       8.19983423e+03, 8.20111637e+03, 8.29124640e+03, 8.37407399e+03,\n",
       "       8.72187318e+03, 8.75257206e+03, 8.78859353e+03, 9.16729852e+03,\n",
       "       9.33587696e+03, 9.34228476e+03, 9.39235497e+03, 1.01636517e+04,\n",
       "       1.03018580e+04, 1.04588428e+04, 1.06798902e+04, 1.08692309e+04,\n",
       "       1.11524022e+04, 1.12161531e+04, 1.13838956e+04, 1.16265752e+04,\n",
       "       1.16453619e+04, 1.16638042e+04, 1.20095454e+04, 1.22001799e+04,\n",
       "       1.22037321e+04, 1.22429500e+04, 1.23561108e+04, 1.25548703e+04,\n",
       "       1.26949638e+04, 1.28734669e+04, 1.30386824e+04, 1.32494757e+04,\n",
       "       1.33242518e+04, 1.37876291e+04, 1.39124033e+04, 1.39597256e+04,\n",
       "       1.41072695e+04, 1.42781486e+04, 1.42954379e+04, 1.42990919e+04,\n",
       "       1.43113080e+04])"
      ]
     },
     "execution_count": 13,
     "metadata": {},
     "output_type": "execute_result"
    }
   ],
   "source": [
    "T2"
   ]
  }
 ],
 "metadata": {
  "colab": {
   "collapsed_sections": [],
   "name": "Projet_Modal.ipynb",
   "provenance": []
  },
  "kernelspec": {
   "display_name": "Python 3",
   "language": "python",
   "name": "python3"
  },
  "language_info": {
   "codemirror_mode": {
    "name": "ipython",
    "version": 3
   },
   "file_extension": ".py",
   "mimetype": "text/x-python",
   "name": "python",
   "nbconvert_exporter": "python",
   "pygments_lexer": "ipython3",
   "version": "3.8.2"
  }
 },
 "nbformat": 4,
 "nbformat_minor": 1
}
