{
 "cells": [
  {
   "cell_type": "code",
   "execution_count": 1,
   "metadata": {},
   "outputs": [],
   "source": [
    "import numpy as np\n",
    "import matplotlib.pyplot as plt\n",
    "import scipy.stats as sps\n",
    "\n",
    "# Méthode 2 - Mouvement brownien\n",
    "\n",
    "def brownien(N,T,M,lamb,alpha,m):\n",
    "    sigma_inf = lamb\n",
    "    if m==1:\n",
    "        sigma_inf *=(1+alpha)/(1-alpha)\n",
    "    else:\n",
    "        sigma_inf *= (5./9.+25./9.*(1+alpha)/(1-alpha))\n",
    "\n",
    "    mvt_bro = np.random.normal(loc=0,scale=1,size=(M,N))\n",
    "\n",
    "    P_discret = P0+ np.sqrt(sigma_inf*T/N)*np.cumsum(mvt_bro,axis=1)\n",
    "    return np.sum(np.any(P_discret < 0, axis=1))"
   ]
  },
  {
   "cell_type": "code",
   "execution_count": 2,
   "metadata": {},
   "outputs": [
    {
     "data": {
      "application/vnd.jupyter.widget-view+json": {
       "model_id": "ffa5560d555e46e29bd5f08a28d977b4",
       "version_major": 2,
       "version_minor": 0
      },
      "text/plain": [
       "HBox(children=(FloatProgress(value=0.0, max=1000.0), HTML(value='')))"
      ]
     },
     "metadata": {},
     "output_type": "display_data"
    },
    {
     "name": "stdout",
     "output_type": "stream",
     "text": [
      "\n",
      "2.81e-05\n",
      "CPU times: user 6h 30min 37s, sys: 45min 35s, total: 7h 16min 12s\n",
      "Wall time: 8h 10min 46s\n"
     ]
    }
   ],
   "source": [
    "%%time\n",
    "M = int(1e6)\n",
    "m=1\n",
    "N=int(1000)\n",
    "T = 8*250*24*60*60\n",
    "lamb = 1/300\n",
    "P0=1000\n",
    "alpha=-0.875\n",
    "\n",
    "proba_negatif = 0\n",
    "from tqdm.notebook import tqdm\n",
    "for i in tqdm(range(1000)):\n",
    "    proba_negatif+=brownien(N,T,M,lamb,alpha,m)\n",
    "print(proba_negatif / int(1e7))"
   ]
  }
 ],
 "metadata": {
  "kernelspec": {
   "display_name": "Python 3",
   "language": "python",
   "name": "python3"
  },
  "language_info": {
   "codemirror_mode": {
    "name": "ipython",
    "version": 3
   },
   "file_extension": ".py",
   "mimetype": "text/x-python",
   "name": "python",
   "nbconvert_exporter": "python",
   "pygments_lexer": "ipython3",
   "version": "3.7.6"
  }
 },
 "nbformat": 4,
 "nbformat_minor": 4
}
