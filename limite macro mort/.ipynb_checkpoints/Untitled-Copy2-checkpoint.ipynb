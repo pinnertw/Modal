{
 "cells": [
  {
   "cell_type": "code",
   "execution_count": 1,
   "metadata": {},
   "outputs": [],
   "source": [
    "from numba import jit\n",
    "import numpy as np\n",
    "import matplotlib.pyplot as plt\n",
    "import scipy.stats as sps\n",
    "def part_interaction(N,saut,P0,M,alpha,mu,m):\n",
    "\n",
    "    sigma_inf_carre = lamb\n",
    "    if m==1:\n",
    "        sigma_inf_carre *=(1+alpha)/(1-alpha)\n",
    "    else:\n",
    "        sigma_inf_carre *= (5./9.+25./9.*(1+alpha)/(1-alpha))\n",
    "    #mu: paramètre des poids G_p\n",
    "    # Tirages de M x N v.a. suivant la loi normale \n",
    "    xi= np.random.normal(0,1,size=(M, N))   #N: horizon temporel (nombre de sauts)\n",
    "\n",
    "    ###############################################################################\n",
    "    ## En ponderant les trajectoires basses : Estimation via G(X)=e^{alpha X_k}\n",
    "    ###############################################################################\n",
    "\n",
    "    # X stocke TOUTES LES VALEURS pour chacune des M chaines, dans l'optique du calcul de G_p \n",
    "    Y = np.zeros((M,N))\n",
    "\n",
    "\n",
    "    # On initialise avec P0*sqrt(N/T/sigma_inf_carre) + premier incrément gaussien\n",
    "    Y[:,0] = P0*np.sqrt(N/T/sigma_inf_carre) + xi[:,0]\n",
    "        \n",
    "    facteurDroite = 1 #produit des moyennes des pondérations à chaque itération\n",
    "\n",
    "    for k in range(N-1):\n",
    "                \n",
    "        weights = np.exp(-mu*Y[:,k])\n",
    "        \n",
    "        facteurDroite *= np.mean(weights)\n",
    "        \n",
    "        \n",
    "        weights = weights/np.sum(weights)\n",
    "\n",
    "        I = np.random.choice(np.arange(M),size=M,replace=True,p=weights)\n",
    "        \n",
    "        #sélection\n",
    "        Y = Y[I,:]\n",
    "\n",
    "        #mutation\n",
    "\n",
    "        Y[:,k+1] = Y[:,k] +xi[:,k+1]\n",
    "    #final_moyen=np.mean(Y[:,-1]) #sert pour ajuster mu en essayant d'obtenir un Y final proche de 0\n",
    "    #print(final_moyen)\n",
    "    tabFacteursGauche = np.exp(mu*np.sum(Y[:,:-1],axis=1)) #tableau des 1/(\\prod_{k=0}^{N-2} G_k)\n",
    "    proba_negatif = np.sum(tabFacteursGauche[np.min(Y,axis=1)<0])/M * facteurDroite\n",
    "    return proba_negatif"
   ]
  },
  {
   "cell_type": "code",
   "execution_count": 2,
   "metadata": {},
   "outputs": [
    {
     "data": {
      "application/vnd.jupyter.widget-view+json": {
       "model_id": "ec487a74a38a4b33b5b8202bb1bb4334",
       "version_major": 2,
       "version_minor": 0
      },
      "text/plain": [
       "HBox(children=(FloatProgress(value=0.0, max=50.0), HTML(value='')))"
      ]
     },
     "metadata": {},
     "output_type": "display_data"
    },
    {
     "name": "stdout",
     "output_type": "stream",
     "text": [
      "\n"
     ]
    },
    {
     "ename": "KeyboardInterrupt",
     "evalue": "",
     "output_type": "error",
     "traceback": [
      "\u001b[0;31m------------------------------------------------------------------------\u001b[0m",
      "\u001b[0;31mKeyboardInterrupt\u001b[0m                      Traceback (most recent call last)",
      "\u001b[0;32m<timed exec>\u001b[0m in \u001b[0;36m<module>\u001b[0;34m\u001b[0m\n",
      "\u001b[0;32m<ipython-input-1-8f79ed728d10>\u001b[0m in \u001b[0;36mpart_interaction\u001b[0;34m(N, saut, P0, M, alpha, mu, m)\u001b[0m\n\u001b[1;32m     36\u001b[0m         \u001b[0mweights\u001b[0m \u001b[0;34m=\u001b[0m \u001b[0mweights\u001b[0m\u001b[0;34m/\u001b[0m\u001b[0mnp\u001b[0m\u001b[0;34m.\u001b[0m\u001b[0msum\u001b[0m\u001b[0;34m(\u001b[0m\u001b[0mweights\u001b[0m\u001b[0;34m)\u001b[0m\u001b[0;34m\u001b[0m\u001b[0;34m\u001b[0m\u001b[0m\n\u001b[1;32m     37\u001b[0m \u001b[0;34m\u001b[0m\u001b[0m\n\u001b[0;32m---> 38\u001b[0;31m         \u001b[0mI\u001b[0m \u001b[0;34m=\u001b[0m \u001b[0mnp\u001b[0m\u001b[0;34m.\u001b[0m\u001b[0mrandom\u001b[0m\u001b[0;34m.\u001b[0m\u001b[0mchoice\u001b[0m\u001b[0;34m(\u001b[0m\u001b[0mnp\u001b[0m\u001b[0;34m.\u001b[0m\u001b[0marange\u001b[0m\u001b[0;34m(\u001b[0m\u001b[0mM\u001b[0m\u001b[0;34m)\u001b[0m\u001b[0;34m,\u001b[0m\u001b[0msize\u001b[0m\u001b[0;34m=\u001b[0m\u001b[0mM\u001b[0m\u001b[0;34m,\u001b[0m\u001b[0mreplace\u001b[0m\u001b[0;34m=\u001b[0m\u001b[0;32mTrue\u001b[0m\u001b[0;34m,\u001b[0m\u001b[0mp\u001b[0m\u001b[0;34m=\u001b[0m\u001b[0mweights\u001b[0m\u001b[0;34m)\u001b[0m\u001b[0;34m\u001b[0m\u001b[0;34m\u001b[0m\u001b[0m\n\u001b[0m\u001b[1;32m     39\u001b[0m \u001b[0;34m\u001b[0m\u001b[0m\n\u001b[1;32m     40\u001b[0m         \u001b[0;31m#sélection\u001b[0m\u001b[0;34m\u001b[0m\u001b[0;34m\u001b[0m\u001b[0;34m\u001b[0m\u001b[0m\n",
      "\u001b[0;31mKeyboardInterrupt\u001b[0m: "
     ]
    }
   ],
   "source": [
    "%%time\n",
    "#m=3\n",
    "from tqdm.notebook import tqdm\n",
    "M= int(1e6)\n",
    "N=100\n",
    "mu = 0.03\n",
    "P0 = 35\n",
    "T = 4*60*60\n",
    "lamb = 1/300\n",
    "N=100\n",
    "alpha = -0.875\n",
    "value_2 = np.array([1, 1, 1, 2, 2, 3])\n",
    "saut_1 = lambda x: np.ones(shape=x) #correspond à m=1\n",
    "saut_2 = lambda x: value_2[np.random.randint(low=6, size=x)] #correspond à m=3\n",
    "#proba_negatif = part_interaction(N,saut_2_vect,P0,M,alpha,mu,3) \n",
    "\n",
    "L= 50\n",
    "probas_negatif = np.zeros(L)\n",
    "for l in tqdm(range(L)):\n",
    "    probas_negatif[l] = part_interaction(N,saut_1, P0,M,alpha,mu,1)\n",
    "R_IC= np.sqrt(np.var(probas_negatif)/L)*sps.t.ppf(0.975,df=L-1) #quantile de la loi de Student \n",
    "print(\"Probabilité que le prix prenne des valeurs négatives au cours des N premiers sauts : {}+/- {}\".format(np.mean(probas_negatif),R_IC))\n",
    "\n",
    "\n",
    "#1e-14 pour M=10^4 mu = 0.03 N=100"
   ]
  },
  {
   "cell_type": "code",
   "execution_count": 2,
   "metadata": {},
   "outputs": [
    {
     "name": "stdout",
     "output_type": "stream",
     "text": [
      "0.00022222222222222223\n",
      "Quantile : 809.863027647084\n"
     ]
    },
    {
     "data": {
      "image/png": "[encoded data removed]",
      "text/plain": [
       "<Figure size 432x288 with 1 Axes>"
      ]
     },
     "metadata": {
      "needs_background": "light"
     },
     "output_type": "display_data"
    },
    {
     "name": "stdout",
     "output_type": "stream",
     "text": [
      "0.0024691358024691358\n",
      "Quantile : 366.21009215694676\n"
     ]
    },
    {
     "data": {
      "image/png": "[encoded data removed]",
      "text/plain": [
       "<Figure size 432x288 with 1 Axes>"
      ]
     },
     "metadata": {
      "needs_background": "light"
     },
     "output_type": "display_data"
    },
    {
     "name": "stdout",
     "output_type": "stream",
     "text": [
      "CPU times: user 1min 26s, sys: 1min 3s, total: 2min 29s\n",
      "Wall time: 8min 23s\n"
     ]
    }
   ],
   "source": [
    "%%time\n",
    "from numba import jit\n",
    "import numpy as np\n",
    "import matplotlib.pyplot as plt\n",
    "\n",
    "@jit(nopython=True, cache=False, parallel=True)\n",
    "def quantiles_macro(N, signes, increments, P0):\n",
    "    quantiles = np.zeros(len(N) - 1)\n",
    "    for i in range(len(N) - 1):\n",
    "        somme = P0\n",
    "        signe = signes[N[i]]\n",
    "        for j in range(N[i], N[i+1]):\n",
    "            somme += signe * increments[j]\n",
    "            signe *= signes[j+1]\n",
    "        quantiles[i] = somme\n",
    "    return quantiles\n",
    "    \n",
    "\n",
    "def Q3_limite_macro_quantile(lamb, T,saut,P0,M,alpha):\n",
    "    # Sauts\n",
    "    N = np.random.poisson(lamb*T, size=M + 1)\n",
    "    N[0] = 0\n",
    "    N = N.cumsum()\n",
    "    \n",
    "    increments = saut(N[-1] + 1)\n",
    "    # Signes\n",
    "    signes = -1 + 2 * np.random.binomial(1, (1 + alpha) / 2, size=N[-1] + 1) # 1 : rester le même signe\n",
    "    signes[N[:-1]] = -1 + np.random.binomial(1, 0.5, size=M) * 2 # Début : -1 ou 1 de proba 1/2\n",
    "    \n",
    "    return quantiles_macro(N, signes, increments, P0)\n",
    "from scipy.stats import norm\n",
    "P0 = 35\n",
    "T = 4*60*60\n",
    "lamb = 1/300\n",
    "N=100\n",
    "alpha = -0.875\n",
    "value_2 = np.array([1, 1, 1, 2, 2, 3])\n",
    "saut_1 = lambda x: np.ones(shape=x) #correspond à m=1\n",
    "saut_2 = lambda x: value_2[np.random.randint(low=6, size=x)] #correspond à m=3\n",
    "\n",
    "for m in [1, 3]:\n",
    "  sigma_inf = lamb\n",
    "  if m==1:\n",
    "      sigma_inf *=(1+alpha)/(1-alpha)\n",
    "      saut = saut_1\n",
    "      ylim = 0.013\n",
    "  else:\n",
    "      sigma_inf *= (5./9.+25./9.*(1+alpha)/(1-alpha))\n",
    "      saut = saut_2\n",
    "      ylim = 0.005\n",
    "  print(sigma_inf)\n",
    "  ans = Q3_limite_macro_quantile(1/300, 8*250*60*60, saut, 1000, int(1e5), -0.875)\n",
    "  n = len(ans)\n",
    "  T = 250 * 8 * 60 * 60\n",
    "\n",
    "  print(\"Quantile : {}\".format(norm.ppf(1e-6, loc=1000, scale=np.sqrt(sigma_inf * T))))\n",
    "\n",
    "  x = np.linspace(ans.min(), ans.max(), 8000)\n",
    "  n_colonnes = 2 * int(n ** (1. / 3.))\n",
    "  plt.hist(ans, bins=n_colonnes, density=True, label=\"Histogramme n=%1.0f tirages avec la méthode de Monte-Carlo\" %n)\n",
    "  plt.plot(x, norm.pdf(x, loc=1000, scale=np.sqrt(sigma_inf * T)), label=\"Distribution gaussienne N(1000, T*sigma_inf^2)\")\n",
    "  plt.ylim(0, ylim)\n",
    "  #plt.title(\"Convergence du prix final avec la loi gaussienne m = {}\".format(m))\n",
    "  plt.legend(loc=\"best\")\n",
    "  plt.savefig(\"limite_macro_m={}.png\".format(m))\n",
    "  plt.show()"
   ]
  },
  {
   "cell_type": "code",
   "execution_count": 3,
   "metadata": {},
   "outputs": [],
   "source": [
    "import numpy as np\n",
    "import math\n",
    "import matplotlib.pyplot as plt\n",
    "## Calcul de IC pour les quantiles\n",
    "from scipy.stats import binom\n",
    "from math import ceil\n",
    "def IC_quantile(quantiles, niveau):\n",
    "    n = len(quantiles)\n",
    "    quantiles = np.sort(quantiles)\n",
    "    index_ = ceil(n * niveau) - 1\n",
    "    niveau_inf = ceil(n * (niveau - 1.96 * np.sqrt(niveau * (1-niveau) / n))) - 1\n",
    "    niveau_sup = ceil(n * (niveau + 1.96 * np.sqrt(niveau * (1-niveau) / n))) - 1\n",
    "    q = quantiles[index_]\n",
    "    print(\"Quantile au niveau {} = {}, avec intervalle de confiance = {}, {}\".format(niveau, \n",
    "                                                                                     q, \n",
    "                                                                                     quantiles[niveau_inf], \n",
    "                                                                                     quantiles[niveau_sup]))"
   ]
  },
  {
   "cell_type": "code",
   "execution_count": 11,
   "metadata": {},
   "outputs": [],
   "source": [
    "ans = []\n",
    "for i in \"abcde\":\n",
    "    ans.append(np.load(\"proba_m=\" + str(m)+ i + \".npy\"))\n",
    "ans = np.array(ans).reshape(-1)\n",
    "ans.shape\n",
    "ans = np.sort(ans)"
   ]
  },
  {
   "cell_type": "code",
   "execution_count": 12,
   "metadata": {},
   "outputs": [
    {
     "name": "stdout",
     "output_type": "stream",
     "text": [
      "Quantile au niveau 0.999999 = 1925.0, avec intervalle de confiance = 1902.0, 1972.0\n",
      "Quantile au niveau 1e-06 = 50.0, avec intervalle de confiance = 25.0, 83.0\n"
     ]
    }
   ],
   "source": [
    "IC_quantile(ans, 1 - 1e-6)\n",
    "IC_quantile(ans, 1e-6)"
   ]
  },
  {
   "cell_type": "code",
   "execution_count": 31,
   "metadata": {},
   "outputs": [],
   "source": [
    "value_2 = np.array([1, 1, 1, 2, 2, 3])\n",
    "saut_1 = lambda x: np.ones(shape=x) #correspond à m=1\n",
    "saut_2 = lambda x: value_2[np.random.randint(low=6, size=x)] #correspond à m=3\n",
    "m = 1\n",
    "if m == 3:\n",
    "    saut = saut_2\n",
    "else:\n",
    "    saut = saut_1\n",
    "ans = Q3_limite_macro_quantile(1/300, 8*250*60*60, saut, 1000, int(1e3), -0.875)"
   ]
  },
  {
   "cell_type": "code",
   "execution_count": 29,
   "metadata": {},
   "outputs": [],
   "source": [
    "from numba import jit\n",
    "\n",
    "@jit(nopython=True)\n",
    "def quantiles_macro(N, signes, increments, P0):\n",
    "    quantiles = np.zeros(len(N) - 1)\n",
    "    for i in range(len(N) - 1):\n",
    "        somme = P0\n",
    "        signe = signes[N[i]]\n",
    "        for j in range(N[i], N[i+1]):\n",
    "            somme += signe * increments[j]\n",
    "            signe *= signes[j+1]\n",
    "        quantiles[i] = somme\n",
    "    return quantiles\n",
    "    \n",
    "\n",
    "def Q3_limite_macro_quantile(lamb, T,saut,P0,M,alpha):\n",
    "    # Sauts\n",
    "    N = np.random.poisson(lamb*T, size=M + 1)\n",
    "    N[0] = 0\n",
    "    N = N.cumsum()\n",
    "    \n",
    "    increments = saut(N[-1] + 1)\n",
    "    # Signes\n",
    "    signes = -1 + 2 * np.random.binomial(1, (1 + alpha) / 2, size=N[-1] + 1) # 1 : rester le même signe\n",
    "    signes[N[:-1]] = -1 + np.random.binomial(1, 0.5, size=M) * 2 # Début : -1 ou 1 de proba 1/2\n",
    "    \n",
    "    return quantiles_macro(N, signes, increments, P0)\n",
    "\n",
    "from scipy.stats import norm\n",
    "sigma_inf = 1/300\n",
    "alpha = -0.875\n",
    "if m==1:\n",
    "    sigma_inf *=(1+alpha)/(1-alpha)\n",
    "else:\n",
    "    sigma_inf *= (5./9.+25./9.*(1+alpha)/(1-alpha))\n",
    "print(sigma_inf)\n",
    "n = len(ans)\n",
    "T = 250 * 8 * 60 * 60\n",
    "\n",
    "print(\"Quantile : {}\".format(norm.ppf(1e-6, loc=1000, scale=np.sqrt(sigma_inf * T))))\n",
    "\n",
    "x = np.linspace(ans.min(), ans.max(), 8000)\n",
    "n_colonnes = 2 * int(n ** (1. / 3.))\n",
    "plt.hist(ans, bins=n_colonnes, density=True, label=\"Histogramme n=%1.0f tirages avec la méthode de Monte-Carlo\" %n)\n",
    "plt.plot(x, norm.pdf(x, loc=1000, scale=np.sqrt(sigma_inf * T)), label=\"Distribution gaussian N(1000, sigma_inf*sqrt(T))\")\n",
    "#plt.ylim(0, 0.0009)\n",
    "plt.title(\"Convergence m = {}\".format(m))\n",
    "plt.legend(loc=\"best\")"
   ]
  }
 ],
 "metadata": {
  "kernelspec": {
   "display_name": "Python 3",
   "language": "python",
   "name": "python3"
  },
  "language_info": {
   "codemirror_mode": {
    "name": "ipython",
    "version": 3
   },
   "file_extension": ".py",
   "mimetype": "text/x-python",
   "name": "python",
   "nbconvert_exporter": "python",
   "pygments_lexer": "ipython3",
   "version": "3.7.6"
  }
 },
 "nbformat": 4,
 "nbformat_minor": 4
}
